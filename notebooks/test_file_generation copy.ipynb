{
 "cells": [
  {
   "cell_type": "code",
   "execution_count": 1,
   "metadata": {},
   "outputs": [],
   "source": [
    "import os\n",
    "\n",
    "os.environ[\"GROQ_API_KEY\"] = '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'"
   ]
  },
  {
   "cell_type": "code",
   "execution_count": 2,
   "metadata": {},
   "outputs": [],
   "source": [
    "import pickle\n",
    "pickle_file = \"/Users/hadiibrahim/Dev/prima-power-hmi-assistant/src/docs.pkl\"\n",
    "with open(pickle_file, \"rb\") as file:\n",
    "    docs = pickle.load(file)"
   ]
  },
  {
   "cell_type": "code",
   "execution_count": 5,
   "metadata": {},
   "outputs": [],
   "source": [
    "import time\n",
    "from langchain_groq import ChatGroq\n",
    "from langchain.callbacks.base import BaseCallbackHandler\n",
    "\n",
    "class RateLimitCallback(BaseCallbackHandler):\n",
    "    def __init__(self, llm_name, limit=29, wait_time=5):\n",
    "        self.llm_name = llm_name\n",
    "        self.request_count = 0\n",
    "        self.limit = limit\n",
    "        self.wait_time = wait_time\n",
    "\n",
    "    def on_llm_end(self, response, **kwargs):\n",
    "        self.request_count += 1\n",
    "        print(f\"LLM: {self.llm_name} | Request Count: {self.request_count}\")\n",
    "        if self.llm_name == 'mixtral-8x7b-32768' and  self.request_count % self.limit == 0 and self.request_count < 3341:\n",
    "            print(f\"Reached {self.limit} requests for {self.llm_name}. Waiting for {self.wait_time} seconds.\")\n",
    "            time.sleep(self.wait_time)\n",
    "        elif self.llm_name == 'mixtral-8x7b-32768' and  self.request_count % 29 == 0 and self.request_count >= 3341:\n",
    "            print(f\"Reached 25 requests for {self.llm_name}. Waiting for 2 seconds.\")\n",
    "            time.sleep(2)\n",
    "        if self.llm_name == 'llama3-70b-819' and  self.request_count % 29 == 0:\n",
    "            print(f\"Reached 25 requests for {self.llm_name}. Waiting for 2 seconds.\")\n",
    "            time.sleep(2)\n",
    "\n",
    "# Create instances of the custom callback with the LLM name\n",
    "rate_limit_callback_mixtral = RateLimitCallback(llm_name=\"mixtral-8x7b-32768\", limit=1, wait_time=30)\n",
    "rate_limit_callback_llama = RateLimitCallback(llm_name=\"llama3-70b-8192\", limit=1, wait_time=30)\n"
   ]
  },
  {
   "cell_type": "code",
   "execution_count": 6,
   "metadata": {},
   "outputs": [],
   "source": [
    "from langchain_groq import ChatGroq\n",
    "\n",
    "generator_llm = ChatGroq(model_name=\"mixtral-8x7b-32768\", \n",
    "                         streaming=False,  # Disable if not necessary\n",
    "                         callbacks=[rate_limit_callback_mixtral]\n",
    "                         )\n",
    "critic_llm = ChatGroq(model_name=\"llama3-70b-8192\", \n",
    "                         streaming=False,  # Disable if not necessary\n",
    "                         callbacks=[rate_limit_callback_llama]\n",
    "                         )\n"
   ]
  },
  {
   "cell_type": "code",
   "execution_count": 7,
   "metadata": {},
   "outputs": [
    {
     "name": "stderr",
     "output_type": "stream",
     "text": [
      "/Users/hadiibrahim/anaconda3/envs/temp-env/lib/python3.11/site-packages/tqdm/auto.py:21: TqdmWarning: IProgress not found. Please update jupyter and ipywidgets. See https://ipywidgets.readthedocs.io/en/stable/user_install.html\n",
      "  from .autonotebook import tqdm as notebook_tqdm\n",
      "/Users/hadiibrahim/anaconda3/envs/temp-env/lib/python3.11/site-packages/threadpoolctl.py:1214: RuntimeWarning: \n",
      "Found Intel OpenMP ('libiomp') and LLVM OpenMP ('libomp') loaded at\n",
      "the same time. Both libraries are known to be incompatible and this\n",
      "can cause random crashes or deadlocks on Linux when loaded in the\n",
      "same Python program.\n",
      "Using threadpoolctl may cause crashes or deadlocks. For more\n",
      "information and possible workarounds, please see\n",
      "    https://github.com/joblib/threadpoolctl/blob/master/multiple_openmp.md\n",
      "\n",
      "  warnings.warn(msg, RuntimeWarning)\n",
      "/Users/hadiibrahim/anaconda3/envs/temp-env/lib/python3.11/site-packages/huggingface_hub/file_download.py:1132: FutureWarning: `resume_download` is deprecated and will be removed in version 1.0.0. Downloads always resume when possible. If you want to force a new download, use `force_download=True`.\n",
      "  warnings.warn(\n"
     ]
    }
   ],
   "source": [
    "from langchain_community.embeddings import HuggingFaceBgeEmbeddings, HuggingFaceEmbeddings\n",
    "\n",
    "embeddings = HuggingFaceBgeEmbeddings(\n",
    "                model_name=\"BAAI/bge-large-en-v1.5\", # or sentence-trainsformers/all-MiniLM-L6-v2\n",
    "                model_kwargs={\"device\":\"cpu\"},\n",
    "                encode_kwargs={\"normalize_embeddings\":True}\n",
    "            )"
   ]
  },
  {
   "cell_type": "code",
   "execution_count": 8,
   "metadata": {},
   "outputs": [
    {
     "name": "stderr",
     "output_type": "stream",
     "text": [
      "embedding nodes:  27%|██▋       | 1777/6648 [44:35<2:44:55,  2.03s/it]"
     ]
    },
    {
     "name": "stdout",
     "output_type": "stream",
     "text": [
      "LLM: mixtral-8x7b-32768 | Request Count: 893\n",
      "Reached 1 requests for mixtral-8x7b-32768. Waiting for 30 seconds.\n"
     ]
    },
    {
     "name": "stderr",
     "output_type": "stream",
     "text": [
      "embedding nodes:  27%|██▋       | 1778/6648 [44:35<2:06:33,  1.56s/it]"
     ]
    },
    {
     "name": "stdout",
     "output_type": "stream",
     "text": [
      "LLM: mixtral-8x7b-32768 | Request Count: 894\n",
      "Reached 1 requests for mixtral-8x7b-32768. Waiting for 30 seconds.\n"
     ]
    },
    {
     "name": "stderr",
     "output_type": "stream",
     "text": [
      "embedding nodes:  27%|██▋       | 1779/6648 [44:37<2:11:41,  1.62s/it]"
     ]
    },
    {
     "name": "stdout",
     "output_type": "stream",
     "text": [
      "LLM: mixtral-8x7b-32768 | Request Count: 895\n",
      "Reached 1 requests for mixtral-8x7b-32768. Waiting for 30 seconds.\n"
     ]
    },
    {
     "name": "stderr",
     "output_type": "stream",
     "text": [
      "embedding nodes:  27%|██▋       | 1783/6648 [44:47<3:11:39,  2.36s/it]"
     ]
    },
    {
     "name": "stdout",
     "output_type": "stream",
     "text": [
      "LLM: mixtral-8x7b-32768 | Request Count: 896\n",
      "Reached 1 requests for mixtral-8x7b-32768. Waiting for 30 seconds.\n"
     ]
    },
    {
     "name": "stderr",
     "output_type": "stream",
     "text": [
      "embedding nodes:  27%|██▋       | 1784/6648 [44:49<2:46:26,  2.05s/it]"
     ]
    },
    {
     "name": "stdout",
     "output_type": "stream",
     "text": [
      "LLM: mixtral-8x7b-32768 | Request Count: 897\n",
      "Reached 1 requests for mixtral-8x7b-32768. Waiting for 30 seconds.\n"
     ]
    },
    {
     "name": "stderr",
     "output_type": "stream",
     "text": [
      "embedding nodes:  27%|██▋       | 1785/6648 [44:52<3:25:07,  2.53s/it]"
     ]
    },
    {
     "name": "stdout",
     "output_type": "stream",
     "text": [
      "LLM: mixtral-8x7b-32768 | Request Count: 898\n",
      "Reached 1 requests for mixtral-8x7b-32768. Waiting for 30 seconds.\n"
     ]
    },
    {
     "name": "stderr",
     "output_type": "stream",
     "text": [
      "embedding nodes:  27%|██▋       | 1793/6648 [45:05<1:47:52,  1.33s/it]"
     ]
    },
    {
     "name": "stdout",
     "output_type": "stream",
     "text": [
      "LLM: mixtral-8x7b-32768 | Request Count: 899\n",
      "Reached 1 requests for mixtral-8x7b-32768. Waiting for 30 seconds.\n",
      "LLM: mixtral-8x7b-32768 | Request Count: 900\n",
      "Reached 1 requests for mixtral-8x7b-32768. Waiting for 30 seconds.\n"
     ]
    },
    {
     "name": "stderr",
     "output_type": "stream",
     "text": [
      "embedding nodes:  27%|██▋       | 1794/6648 [45:07<1:50:49,  1.37s/it]"
     ]
    },
    {
     "name": "stdout",
     "output_type": "stream",
     "text": [
      "LLM: mixtral-8x7b-32768 | Request Count: 901\n",
      "Reached 1 requests for mixtral-8x7b-32768. Waiting for 30 seconds.\n"
     ]
    },
    {
     "name": "stderr",
     "output_type": "stream",
     "text": [
      "embedding nodes:  27%|██▋       | 1795/6648 [45:17<5:19:43,  3.95s/it]"
     ]
    },
    {
     "name": "stdout",
     "output_type": "stream",
     "text": [
      "LLM: mixtral-8x7b-32768 | Request Count: 902\n",
      "Reached 1 requests for mixtral-8x7b-32768. Waiting for 30 seconds.\n"
     ]
    },
    {
     "name": "stderr",
     "output_type": "stream",
     "text": [
      "embedding nodes:  27%|██▋       | 1796/6648 [45:19<4:14:17,  3.14s/it]"
     ]
    },
    {
     "name": "stdout",
     "output_type": "stream",
     "text": [
      "LLM: mixtral-8x7b-32768 | Request Count: 903\n",
      "Reached 1 requests for mixtral-8x7b-32768. Waiting for 30 seconds.\n",
      "LLM: mixtral-8x7b-32768 | Request Count: 904\n",
      "Reached 1 requests for mixtral-8x7b-32768. Waiting for 30 seconds.\n"
     ]
    },
    {
     "name": "stderr",
     "output_type": "stream",
     "text": [
      "embedding nodes:  27%|██▋       | 1804/6648 [45:39<3:16:47,  2.44s/it]"
     ]
    },
    {
     "name": "stdout",
     "output_type": "stream",
     "text": [
      "LLM: mixtral-8x7b-32768 | Request Count: 905LLM: mixtral-8x7b-32768 | Request Count: 906\n",
      "Reached 1 requests for mixtral-8x7b-32768. Waiting for 30 seconds.\n",
      "\n",
      "Reached 1 requests for mixtral-8x7b-32768. Waiting for 30 seconds.\n",
      "LLM: mixtral-8x7b-32768 | Request Count: 907\n",
      "Reached 1 requests for mixtral-8x7b-32768. Waiting for 30 seconds.\n",
      "LLM: mixtral-8x7b-32768 | Request Count: 908\n",
      "Reached 1 requests for mixtral-8x7b-32768. Waiting for 30 seconds.\n",
      "LLM: mixtral-8x7b-32768 | Request Count: 909\n",
      "Reached 1 requests for mixtral-8x7b-32768. Waiting for 30 seconds.\n"
     ]
    },
    {
     "name": "stderr",
     "output_type": "stream",
     "text": [
      "embedding nodes:  27%|██▋       | 1806/6648 [45:39<2:15:41,  1.68s/it]"
     ]
    },
    {
     "name": "stdout",
     "output_type": "stream",
     "text": [
      "LLM: mixtral-8x7b-32768 | Request Count: 910\n",
      "Reached 1 requests for mixtral-8x7b-32768. Waiting for 30 seconds.\n"
     ]
    },
    {
     "name": "stderr",
     "output_type": "stream",
     "text": [
      "embedding nodes:  27%|██▋       | 1816/6648 [46:09<2:44:51,  2.05s/it]"
     ]
    },
    {
     "name": "stdout",
     "output_type": "stream",
     "text": [
      "LLM: mixtral-8x7b-32768 | Request Count: 911LLM: mixtral-8x7b-32768 | Request Count: 912\n",
      "Reached 1 requests for mixtral-8x7b-32768. Waiting for 30 seconds.\n",
      "\n",
      "Reached 1 requests for mixtral-8x7b-32768. Waiting for 30 seconds.\n"
     ]
    },
    {
     "name": "stderr",
     "output_type": "stream",
     "text": [
      "embedding nodes:  27%|██▋       | 1818/6648 [46:16<3:20:20,  2.49s/it]"
     ]
    },
    {
     "name": "stdout",
     "output_type": "stream",
     "text": [
      "LLM: mixtral-8x7b-32768 | Request Count: 913\n",
      "Reached 1 requests for mixtral-8x7b-32768. Waiting for 30 seconds.\n",
      "LLM: mixtral-8x7b-32768 | Request Count: 914\n",
      "Reached 1 requests for mixtral-8x7b-32768. Waiting for 30 seconds.\n"
     ]
    },
    {
     "name": "stderr",
     "output_type": "stream",
     "text": [
      "embedding nodes:  27%|██▋       | 1820/6648 [46:19<2:44:41,  2.05s/it]"
     ]
    },
    {
     "name": "stdout",
     "output_type": "stream",
     "text": [
      "LLM: mixtral-8x7b-32768 | Request Count: 915\n",
      "Reached 1 requests for mixtral-8x7b-32768. Waiting for 30 seconds.\n",
      "LLM: mixtral-8x7b-32768 | Request Count: 916\n",
      "Reached 1 requests for mixtral-8x7b-32768. Waiting for 30 seconds.\n"
     ]
    },
    {
     "name": "stderr",
     "output_type": "stream",
     "text": [
      "embedding nodes:  27%|██▋       | 1826/6648 [46:36<3:22:09,  2.52s/it]"
     ]
    },
    {
     "name": "stdout",
     "output_type": "stream",
     "text": [
      "LLM: mixtral-8x7b-32768 | Request Count: 917\n",
      "Reached 1 requests for mixtral-8x7b-32768. Waiting for 30 seconds.\n",
      "LLM: mixtral-8x7b-32768 | Request Count: 918\n",
      "Reached 1 requests for mixtral-8x7b-32768. Waiting for 30 seconds.\n"
     ]
    },
    {
     "name": "stderr",
     "output_type": "stream",
     "text": [
      "embedding nodes:  27%|██▋       | 1827/6648 [46:41<4:14:29,  3.17s/it]"
     ]
    },
    {
     "name": "stdout",
     "output_type": "stream",
     "text": [
      "LLM: mixtral-8x7b-32768 | Request Count: 919LLM: mixtral-8x7b-32768 | Request Count: 920\n",
      "Reached 1 requests for mixtral-8x7b-32768. Waiting for 30 seconds.\n",
      "\n",
      "Reached 1 requests for mixtral-8x7b-32768. Waiting for 30 seconds.\n"
     ]
    },
    {
     "name": "stderr",
     "output_type": "stream",
     "text": [
      "embedding nodes:  28%|██▊       | 1829/6648 [46:42<2:43:19,  2.03s/it]"
     ]
    },
    {
     "name": "stdout",
     "output_type": "stream",
     "text": [
      "LLM: mixtral-8x7b-32768 | Request Count: 921\n",
      "Reached 1 requests for mixtral-8x7b-32768. Waiting for 30 seconds.\n"
     ]
    },
    {
     "name": "stderr",
     "output_type": "stream",
     "text": [
      "embedding nodes:  28%|██▊       | 1830/6648 [46:45<3:00:44,  2.25s/it]"
     ]
    },
    {
     "name": "stdout",
     "output_type": "stream",
     "text": [
      "LLM: mixtral-8x7b-32768 | Request Count: 922\n",
      "Reached 1 requests for mixtral-8x7b-32768. Waiting for 30 seconds.\n"
     ]
    },
    {
     "name": "stderr",
     "output_type": "stream",
     "text": [
      "embedding nodes:  28%|██▊       | 1837/6648 [47:08<7:00:35,  5.25s/it]"
     ]
    },
    {
     "name": "stdout",
     "output_type": "stream",
     "text": [
      "LLM: mixtral-8x7b-32768 | Request Count: 923\n",
      "Reached 1 requests for mixtral-8x7b-32768. Waiting for 30 seconds.\n",
      "LLM: mixtral-8x7b-32768 | Request Count: 924\n",
      "Reached 1 requests for mixtral-8x7b-32768. Waiting for 30 seconds.\n",
      "LLM: mixtral-8x7b-32768 | Request Count: 925\n",
      "Reached 1 requests for mixtral-8x7b-32768. Waiting for 30 seconds.\n",
      "LLM: mixtral-8x7b-32768 | Request Count: 926\n",
      "Reached 1 requests for mixtral-8x7b-32768. Waiting for 30 seconds.\n"
     ]
    },
    {
     "name": "stderr",
     "output_type": "stream",
     "text": [
      "embedding nodes:  28%|██▊       | 1841/6648 [47:12<3:10:47,  2.38s/it]"
     ]
    },
    {
     "name": "stdout",
     "output_type": "stream",
     "text": [
      "LLM: mixtral-8x7b-32768 | Request Count: 927\n",
      "Reached 1 requests for mixtral-8x7b-32768. Waiting for 30 seconds.\n"
     ]
    },
    {
     "name": "stderr",
     "output_type": "stream",
     "text": [
      "embedding nodes:  28%|██▊       | 1842/6648 [47:13<2:54:50,  2.18s/it]"
     ]
    },
    {
     "name": "stdout",
     "output_type": "stream",
     "text": [
      "LLM: mixtral-8x7b-32768 | Request Count: 928\n",
      "Reached 1 requests for mixtral-8x7b-32768. Waiting for 30 seconds.\n"
     ]
    },
    {
     "name": "stderr",
     "output_type": "stream",
     "text": [
      "embedding nodes:  28%|██▊       | 1853/6648 [47:42<2:44:03,  2.05s/it]"
     ]
    },
    {
     "name": "stdout",
     "output_type": "stream",
     "text": [
      "LLM: mixtral-8x7b-32768 | Request Count: 929LLM: mixtral-8x7b-32768 | Request Count: 930\n",
      "Reached 1 requests for mixtral-8x7b-32768. Waiting for 30 seconds.\n",
      "\n",
      "Reached 1 requests for mixtral-8x7b-32768. Waiting for 30 seconds.\n",
      "LLM: mixtral-8x7b-32768 | Request Count: 931\n",
      "Reached 1 requests for mixtral-8x7b-32768. Waiting for 30 seconds.\n"
     ]
    },
    {
     "name": "stderr",
     "output_type": "stream",
     "text": [
      "embedding nodes:  28%|██▊       | 1855/6648 [47:48<3:28:58,  2.62s/it]"
     ]
    },
    {
     "name": "stdout",
     "output_type": "stream",
     "text": [
      "LLM: mixtral-8x7b-32768 | Request Count: 932LLM: mixtral-8x7b-32768 | Request Count: 933\n",
      "Reached 1 requests for mixtral-8x7b-32768. Waiting for 30 seconds.\n",
      "\n",
      "Reached 1 requests for mixtral-8x7b-32768. Waiting for 30 seconds.\n",
      "LLM: mixtral-8x7b-32768 | Request Count: 934\n",
      "Reached 1 requests for mixtral-8x7b-32768. Waiting for 30 seconds.\n"
     ]
    },
    {
     "name": "stderr",
     "output_type": "stream",
     "text": [
      "embedding nodes:  28%|██▊       | 1862/6648 [48:08<3:57:12,  2.97s/it]"
     ]
    },
    {
     "name": "stdout",
     "output_type": "stream",
     "text": [
      "LLM: mixtral-8x7b-32768 | Request Count: 935\n",
      "Reached 1 requests for mixtral-8x7b-32768. Waiting for 30 seconds.\n",
      "LLM: mixtral-8x7b-32768 | Request Count: 936\n",
      "Reached 1 requests for mixtral-8x7b-32768. Waiting for 30 seconds.\n"
     ]
    },
    {
     "name": "stderr",
     "output_type": "stream",
     "text": [
      "embedding nodes:  28%|██▊       | 1863/6648 [48:12<4:21:40,  3.28s/it]"
     ]
    },
    {
     "name": "stdout",
     "output_type": "stream",
     "text": [
      "LLM: mixtral-8x7b-32768 | Request Count: 937LLM: mixtral-8x7b-32768 | Request Count: 938\n",
      "Reached 1 requests for mixtral-8x7b-32768. Waiting for 30 seconds.\n",
      "LLM: mixtral-8x7b-32768 | Request Count: 939\n",
      "Reached 1 requests for mixtral-8x7b-32768. Waiting for 30 seconds.\n",
      "LLM: mixtral-8x7b-32768 | Request Count: 940\n",
      "Reached 1 requests for mixtral-8x7b-32768. Waiting for 30 seconds.\n",
      "\n",
      "Reached 1 requests for mixtral-8x7b-32768. Waiting for 30 seconds.\n"
     ]
    },
    {
     "name": "stderr",
     "output_type": "stream",
     "text": [
      "embedding nodes:  28%|██▊       | 1873/6648 [48:36<5:21:30,  4.04s/it]"
     ]
    },
    {
     "name": "stdout",
     "output_type": "stream",
     "text": [
      "LLM: mixtral-8x7b-32768 | Request Count: 941\n",
      "Reached 1 requests for mixtral-8x7b-32768. Waiting for 30 seconds.\n",
      "LLM: mixtral-8x7b-32768 | Request Count: 942\n",
      "Reached 1 requests for mixtral-8x7b-32768. Waiting for 30 seconds.\n"
     ]
    },
    {
     "name": "stderr",
     "output_type": "stream",
     "text": [
      "embedding nodes:  28%|██▊       | 1877/6648 [48:37<2:31:58,  1.91s/it]"
     ]
    },
    {
     "name": "stdout",
     "output_type": "stream",
     "text": [
      "LLM: mixtral-8x7b-32768 | Request Count: 943\n",
      "Reached 1 requests for mixtral-8x7b-32768. Waiting for 30 seconds.\n"
     ]
    },
    {
     "name": "stderr",
     "output_type": "stream",
     "text": [
      "embedding nodes:  28%|██▊       | 1878/6648 [48:39<2:31:30,  1.91s/it]"
     ]
    },
    {
     "name": "stdout",
     "output_type": "stream",
     "text": [
      "LLM: mixtral-8x7b-32768 | Request Count: 944\n",
      "Reached 1 requests for mixtral-8x7b-32768. Waiting for 30 seconds.\n"
     ]
    },
    {
     "name": "stderr",
     "output_type": "stream",
     "text": [
      "embedding nodes:  28%|██▊       | 1882/6648 [48:42<1:29:58,  1.13s/it]"
     ]
    },
    {
     "name": "stdout",
     "output_type": "stream",
     "text": [
      "LLM: mixtral-8x7b-32768 | Request Count: 945LLM: mixtral-8x7b-32768 | Request Count: 946\n",
      "Reached 1 requests for mixtral-8x7b-32768. Waiting for 30 seconds.\n",
      "\n",
      "Reached 1 requests for mixtral-8x7b-32768. Waiting for 30 seconds.\n"
     ]
    },
    {
     "name": "stderr",
     "output_type": "stream",
     "text": [
      "embedding nodes:  28%|██▊       | 1885/6648 [48:56<4:00:06,  3.02s/it]"
     ]
    },
    {
     "name": "stdout",
     "output_type": "stream",
     "text": [
      "LLM: mixtral-8x7b-32768 | Request Count: 947\n",
      "Reached 1 requests for mixtral-8x7b-32768. Waiting for 30 seconds.\n"
     ]
    },
    {
     "name": "stderr",
     "output_type": "stream",
     "text": [
      "embedding nodes:  28%|██▊       | 1886/6648 [48:57<3:22:52,  2.56s/it]"
     ]
    },
    {
     "name": "stdout",
     "output_type": "stream",
     "text": [
      "LLM: mixtral-8x7b-32768 | Request Count: 948\n",
      "Reached 1 requests for mixtral-8x7b-32768. Waiting for 30 seconds.\n"
     ]
    },
    {
     "name": "stderr",
     "output_type": "stream",
     "text": [
      "embedding nodes:  28%|██▊       | 1889/6648 [49:01<2:33:31,  1.94s/it]"
     ]
    },
    {
     "name": "stdout",
     "output_type": "stream",
     "text": [
      "LLM: mixtral-8x7b-32768 | Request Count: 949\n",
      "Reached 1 requests for mixtral-8x7b-32768. Waiting for 30 seconds.\n"
     ]
    },
    {
     "name": "stderr",
     "output_type": "stream",
     "text": [
      "embedding nodes:  28%|██▊       | 1890/6648 [49:02<2:00:54,  1.52s/it]"
     ]
    },
    {
     "name": "stdout",
     "output_type": "stream",
     "text": [
      "LLM: mixtral-8x7b-32768 | Request Count: 951LLM: mixtral-8x7b-32768 | Request Count: 950\n",
      "Reached 1 requests for mixtral-8x7b-32768. Waiting for 30 seconds.\n",
      "\n",
      "Reached 1 requests for mixtral-8x7b-32768. Waiting for 30 seconds.\n"
     ]
    },
    {
     "name": "stderr",
     "output_type": "stream",
     "text": [
      "embedding nodes:  28%|██▊       | 1893/6648 [49:07<2:04:51,  1.58s/it]"
     ]
    },
    {
     "name": "stdout",
     "output_type": "stream",
     "text": [
      "LLM: mixtral-8x7b-32768 | Request Count: 952\n",
      "Reached 1 requests for mixtral-8x7b-32768. Waiting for 30 seconds.\n"
     ]
    },
    {
     "name": "stderr",
     "output_type": "stream",
     "text": [
      "embedding nodes:  29%|██▊       | 1897/6648 [49:20<3:44:36,  2.84s/it]"
     ]
    },
    {
     "name": "stdout",
     "output_type": "stream",
     "text": [
      "LLM: mixtral-8x7b-32768 | Request Count: 953\n",
      "Reached 1 requests for mixtral-8x7b-32768. Waiting for 30 seconds.\n",
      "LLM: mixtral-8x7b-32768 | Request Count: 954\n",
      "Reached 1 requests for mixtral-8x7b-32768. Waiting for 30 seconds.\n",
      "LLM: mixtral-8x7b-32768 | Request Count: 955\n",
      "Reached 1 requests for mixtral-8x7b-32768. Waiting for 30 seconds.\n"
     ]
    },
    {
     "name": "stderr",
     "output_type": "stream",
     "text": [
      "embedding nodes:  29%|██▊       | 1902/6648 [49:30<2:56:27,  2.23s/it]"
     ]
    },
    {
     "name": "stdout",
     "output_type": "stream",
     "text": [
      "LLM: mixtral-8x7b-32768 | Request Count: 956\n",
      "Reached 1 requests for mixtral-8x7b-32768. Waiting for 30 seconds.\n"
     ]
    },
    {
     "name": "stderr",
     "output_type": "stream",
     "text": [
      "embedding nodes:  29%|██▊       | 1904/6648 [49:31<2:16:41,  1.73s/it]"
     ]
    },
    {
     "name": "stdout",
     "output_type": "stream",
     "text": [
      "LLM: mixtral-8x7b-32768 | Request Count: 957\n",
      "Reached 1 requests for mixtral-8x7b-32768. Waiting for 30 seconds.\n"
     ]
    },
    {
     "name": "stderr",
     "output_type": "stream",
     "text": [
      "embedding nodes:  29%|██▊       | 1905/6648 [49:32<1:52:01,  1.42s/it]"
     ]
    },
    {
     "name": "stdout",
     "output_type": "stream",
     "text": [
      "LLM: mixtral-8x7b-32768 | Request Count: 958\n",
      "Reached 1 requests for mixtral-8x7b-32768. Waiting for 30 seconds.\n"
     ]
    },
    {
     "name": "stderr",
     "output_type": "stream",
     "text": [
      "embedding nodes:  29%|██▊       | 1906/6648 [49:36<2:51:17,  2.17s/it]"
     ]
    },
    {
     "name": "stdout",
     "output_type": "stream",
     "text": [
      "LLM: mixtral-8x7b-32768 | Request Count: 959\n",
      "Reached 1 requests for mixtral-8x7b-32768. Waiting for 30 seconds.\n",
      "LLM: mixtral-8x7b-32768 | Request Count: 960\n",
      "Reached 1 requests for mixtral-8x7b-32768. Waiting for 30 seconds.\n"
     ]
    },
    {
     "name": "stderr",
     "output_type": "stream",
     "text": [
      "embedding nodes:  29%|██▉       | 1912/6648 [49:51<3:27:05,  2.62s/it]"
     ]
    },
    {
     "name": "stdout",
     "output_type": "stream",
     "text": [
      "LLM: mixtral-8x7b-32768 | Request Count: 961\n",
      "Reached 1 requests for mixtral-8x7b-32768. Waiting for 30 seconds.\n"
     ]
    },
    {
     "name": "stderr",
     "output_type": "stream",
     "text": [
      "embedding nodes:  29%|██▉       | 1915/6648 [49:55<2:41:58,  2.05s/it]"
     ]
    },
    {
     "name": "stdout",
     "output_type": "stream",
     "text": [
      "LLM: mixtral-8x7b-32768 | Request Count: 962\n",
      "Reached 1 requests for mixtral-8x7b-32768. Waiting for 30 seconds.\n"
     ]
    },
    {
     "name": "stderr",
     "output_type": "stream",
     "text": [
      "embedding nodes:  29%|██▉       | 1917/6648 [49:59<2:25:06,  1.84s/it]"
     ]
    },
    {
     "name": "stdout",
     "output_type": "stream",
     "text": [
      "LLM: mixtral-8x7b-32768 | Request Count: 963\n",
      "Reached 1 requests for mixtral-8x7b-32768. Waiting for 30 seconds.\n",
      "LLM: mixtral-8x7b-32768 | Request Count: 964\n",
      "Reached 1 requests for mixtral-8x7b-32768. Waiting for 30 seconds.\n"
     ]
    },
    {
     "name": "stderr",
     "output_type": "stream",
     "text": [
      "embedding nodes:  29%|██▉       | 1918/6648 [50:00<2:20:02,  1.78s/it]"
     ]
    },
    {
     "name": "stdout",
     "output_type": "stream",
     "text": [
      "LLM: mixtral-8x7b-32768 | Request Count: 965\n",
      "Reached 1 requests for mixtral-8x7b-32768. Waiting for 30 seconds.\n"
     ]
    },
    {
     "name": "stderr",
     "output_type": "stream",
     "text": [
      "embedding nodes:  29%|██▉       | 1923/6648 [50:04<1:13:38,  1.07it/s]"
     ]
    },
    {
     "name": "stdout",
     "output_type": "stream",
     "text": [
      "LLM: mixtral-8x7b-32768 | Request Count: 966\n",
      "Reached 1 requests for mixtral-8x7b-32768. Waiting for 30 seconds.\n"
     ]
    },
    {
     "name": "stderr",
     "output_type": "stream",
     "text": [
      "embedding nodes:  29%|██▉       | 1924/6648 [50:06<1:33:02,  1.18s/it]"
     ]
    },
    {
     "name": "stdout",
     "output_type": "stream",
     "text": [
      "LLM: mixtral-8x7b-32768 | Request Count: 967LLM: mixtral-8x7b-32768 | Request Count: 968\n",
      "Reached 1 requests for mixtral-8x7b-32768. Waiting for 30 seconds.\n",
      "\n",
      "Reached 1 requests for mixtral-8x7b-32768. Waiting for 30 seconds.\n",
      "LLM: mixtral-8x7b-32768 | Request Count: 969\n",
      "Reached 1 requests for mixtral-8x7b-32768. Waiting for 30 seconds.\n"
     ]
    },
    {
     "name": "stderr",
     "output_type": "stream",
     "text": [
      "embedding nodes:  29%|██▉       | 1926/6648 [50:20<4:59:53,  3.81s/it]"
     ]
    },
    {
     "name": "stdout",
     "output_type": "stream",
     "text": [
      "LLM: mixtral-8x7b-32768 | Request Count: 970\n",
      "Reached 1 requests for mixtral-8x7b-32768. Waiting for 30 seconds.\n"
     ]
    },
    {
     "name": "stderr",
     "output_type": "stream",
     "text": [
      "embedding nodes:  29%|██▉       | 1932/6648 [50:29<3:08:58,  2.40s/it]"
     ]
    },
    {
     "name": "stdout",
     "output_type": "stream",
     "text": [
      "LLM: mixtral-8x7b-32768 | Request Count: 971\n",
      "Reached 1 requests for mixtral-8x7b-32768. Waiting for 30 seconds.\n",
      "LLM: mixtral-8x7b-32768 | Request Count: 972\n",
      "Reached 1 requests for mixtral-8x7b-32768. Waiting for 30 seconds.\n"
     ]
    },
    {
     "name": "stderr",
     "output_type": "stream",
     "text": [
      "embedding nodes:  29%|██▉       | 1935/6648 [50:35<3:03:17,  2.33s/it]"
     ]
    },
    {
     "name": "stdout",
     "output_type": "stream",
     "text": [
      "LLM: mixtral-8x7b-32768 | Request Count: 973\n",
      "Reached 1 requests for mixtral-8x7b-32768. Waiting for 30 seconds.\n"
     ]
    },
    {
     "name": "stderr",
     "output_type": "stream",
     "text": [
      "embedding nodes:  29%|██▉       | 1936/6648 [50:36<2:46:09,  2.12s/it]"
     ]
    },
    {
     "name": "stdout",
     "output_type": "stream",
     "text": [
      "LLM: mixtral-8x7b-32768 | Request Count: 974LLM: mixtral-8x7b-32768 | Request Count: 975\n",
      "Reached 1 requests for mixtral-8x7b-32768. Waiting for 30 seconds.\n",
      "\n",
      "Reached 1 requests for mixtral-8x7b-32768. Waiting for 30 seconds.\n"
     ]
    },
    {
     "name": "stderr",
     "output_type": "stream",
     "text": [
      "embedding nodes:  29%|██▉       | 1943/6648 [50:50<3:35:40,  2.75s/it]"
     ]
    },
    {
     "name": "stdout",
     "output_type": "stream",
     "text": [
      "LLM: mixtral-8x7b-32768 | Request Count: 976\n",
      "Reached 1 requests for mixtral-8x7b-32768. Waiting for 30 seconds.\n"
     ]
    },
    {
     "name": "stderr",
     "output_type": "stream",
     "text": [
      "embedding nodes:  29%|██▉       | 1944/6648 [50:50<2:44:47,  2.10s/it]"
     ]
    },
    {
     "name": "stdout",
     "output_type": "stream",
     "text": [
      "LLM: mixtral-8x7b-32768 | Request Count: 977\n",
      "Reached 1 requests for mixtral-8x7b-32768. Waiting for 30 seconds.\n"
     ]
    },
    {
     "name": "stderr",
     "output_type": "stream",
     "text": [
      "embedding nodes:  29%|██▉       | 1945/6648 [50:53<2:58:21,  2.28s/it]"
     ]
    },
    {
     "name": "stdout",
     "output_type": "stream",
     "text": [
      "LLM: mixtral-8x7b-32768 | Request Count: 978\n",
      "Reached 1 requests for mixtral-8x7b-32768. Waiting for 30 seconds.\n",
      "LLM: mixtral-8x7b-32768 | Request Count: 979\n",
      "Reached 1 requests for mixtral-8x7b-32768. Waiting for 30 seconds.\n"
     ]
    },
    {
     "name": "stderr",
     "output_type": "stream",
     "text": [
      "embedding nodes:  29%|██▉       | 1950/6648 [51:01<2:37:31,  2.01s/it]"
     ]
    },
    {
     "name": "stdout",
     "output_type": "stream",
     "text": [
      "LLM: mixtral-8x7b-32768 | Request Count: 980\n",
      "Reached 1 requests for mixtral-8x7b-32768. Waiting for 30 seconds.\n"
     ]
    },
    {
     "name": "stderr",
     "output_type": "stream",
     "text": [
      "embedding nodes:  29%|██▉       | 1952/6648 [51:05<2:39:50,  2.04s/it]"
     ]
    },
    {
     "name": "stdout",
     "output_type": "stream",
     "text": [
      "LLM: mixtral-8x7b-32768 | Request Count: 981\n",
      "Reached 1 requests for mixtral-8x7b-32768. Waiting for 30 seconds.\n",
      "LLM: mixtral-8x7b-32768 | Request Count: 982\n",
      "Reached 1 requests for mixtral-8x7b-32768. Waiting for 30 seconds.\n",
      "LLM: mixtral-8x7b-32768 | Request Count: 983\n",
      "Reached 1 requests for mixtral-8x7b-32768. Waiting for 30 seconds.\n"
     ]
    },
    {
     "name": "stderr",
     "output_type": "stream",
     "text": [
      "embedding nodes:  29%|██▉       | 1955/6648 [51:14<3:55:18,  3.01s/it]"
     ]
    },
    {
     "name": "stdout",
     "output_type": "stream",
     "text": [
      "LLM: mixtral-8x7b-32768 | Request Count: 984\n",
      "Reached 1 requests for mixtral-8x7b-32768. Waiting for 30 seconds.\n"
     ]
    },
    {
     "name": "stderr",
     "output_type": "stream",
     "text": [
      "embedding nodes:  30%|██▉       | 1962/6648 [51:23<1:27:58,  1.13s/it]"
     ]
    },
    {
     "name": "stdout",
     "output_type": "stream",
     "text": [
      "LLM: mixtral-8x7b-32768 | Request Count: 985\n",
      "Reached 1 requests for mixtral-8x7b-32768. Waiting for 30 seconds.\n",
      "LLM: mixtral-8x7b-32768 | Request Count: 986\n",
      "Reached 1 requests for mixtral-8x7b-32768. Waiting for 30 seconds.\n"
     ]
    },
    {
     "name": "stderr",
     "output_type": "stream",
     "text": [
      "embedding nodes:  30%|██▉       | 1963/6648 [51:32<4:30:32,  3.46s/it]"
     ]
    },
    {
     "name": "stdout",
     "output_type": "stream",
     "text": [
      "LLM: mixtral-8x7b-32768 | Request Count: 987\n",
      "Reached 1 requests for mixtral-8x7b-32768. Waiting for 30 seconds.\n"
     ]
    },
    {
     "name": "stderr",
     "output_type": "stream",
     "text": [
      "embedding nodes:  30%|██▉       | 1964/6648 [51:35<4:21:40,  3.35s/it]"
     ]
    },
    {
     "name": "stdout",
     "output_type": "stream",
     "text": [
      "LLM: mixtral-8x7b-32768 | Request Count: 988\n",
      "Reached 1 requests for mixtral-8x7b-32768. Waiting for 30 seconds.\n"
     ]
    },
    {
     "name": "stderr",
     "output_type": "stream",
     "text": [
      "embedding nodes:  30%|██▉       | 1970/6648 [51:37<1:04:45,  1.20it/s]"
     ]
    },
    {
     "name": "stdout",
     "output_type": "stream",
     "text": [
      "LLM: mixtral-8x7b-32768 | Request Count: 989\n",
      "Reached 1 requests for mixtral-8x7b-32768. Waiting for 30 seconds.\n",
      "LLM: mixtral-8x7b-32768 | Request Count: 990\n",
      "Reached 1 requests for mixtral-8x7b-32768. Waiting for 30 seconds.\n"
     ]
    },
    {
     "name": "stderr",
     "output_type": "stream",
     "text": [
      "embedding nodes:  30%|██▉       | 1971/6648 [51:40<1:47:16,  1.38s/it]"
     ]
    },
    {
     "name": "stdout",
     "output_type": "stream",
     "text": [
      "LLM: mixtral-8x7b-32768 | Request Count: 991\n",
      "Reached 1 requests for mixtral-8x7b-32768. Waiting for 30 seconds.\n"
     ]
    },
    {
     "name": "stderr",
     "output_type": "stream",
     "text": [
      "embedding nodes:  30%|██▉       | 1972/6648 [51:44<2:34:59,  1.99s/it]"
     ]
    },
    {
     "name": "stdout",
     "output_type": "stream",
     "text": [
      "LLM: mixtral-8x7b-32768 | Request Count: 992\n",
      "Reached 1 requests for mixtral-8x7b-32768. Waiting for 30 seconds.\n"
     ]
    },
    {
     "name": "stderr",
     "output_type": "stream",
     "text": [
      "embedding nodes:  30%|██▉       | 1973/6648 [51:50<3:50:55,  2.96s/it]"
     ]
    },
    {
     "name": "stdout",
     "output_type": "stream",
     "text": [
      "LLM: mixtral-8x7b-32768 | Request Count: 993\n",
      "Reached 1 requests for mixtral-8x7b-32768. Waiting for 30 seconds.\n",
      "LLM: mixtral-8x7b-32768 | Request Count: 994\n",
      "Reached 1 requests for mixtral-8x7b-32768. Waiting for 30 seconds.\n"
     ]
    },
    {
     "name": "stderr",
     "output_type": "stream",
     "text": [
      "embedding nodes:  30%|██▉       | 1981/6648 [52:02<2:33:11,  1.97s/it]"
     ]
    },
    {
     "name": "stdout",
     "output_type": "stream",
     "text": [
      "LLM: mixtral-8x7b-32768 | Request Count: 995\n",
      "Reached 1 requests for mixtral-8x7b-32768. Waiting for 30 seconds.\n"
     ]
    },
    {
     "name": "stderr",
     "output_type": "stream",
     "text": [
      "embedding nodes:  30%|██▉       | 1983/6648 [52:04<1:50:37,  1.42s/it]"
     ]
    },
    {
     "name": "stdout",
     "output_type": "stream",
     "text": [
      "LLM: mixtral-8x7b-32768 | Request Count: 996\n",
      "Reached 1 requests for mixtral-8x7b-32768. Waiting for 30 seconds.\n",
      "LLM: mixtral-8x7b-32768 | Request Count: 997\n",
      "Reached 1 requests for mixtral-8x7b-32768. Waiting for 30 seconds.\n"
     ]
    },
    {
     "name": "stderr",
     "output_type": "stream",
     "text": [
      "embedding nodes:  30%|██▉       | 1984/6648 [52:05<1:46:00,  1.36s/it]"
     ]
    },
    {
     "name": "stdout",
     "output_type": "stream",
     "text": [
      "LLM: mixtral-8x7b-32768 | Request Count: 998\n",
      "Reached 1 requests for mixtral-8x7b-32768. Waiting for 30 seconds.\n"
     ]
    },
    {
     "name": "stderr",
     "output_type": "stream",
     "text": [
      "embedding nodes:  30%|██▉       | 1986/6648 [52:08<1:41:18,  1.30s/it]"
     ]
    },
    {
     "name": "stdout",
     "output_type": "stream",
     "text": [
      "LLM: mixtral-8x7b-32768 | Request Count: 999\n",
      "Reached 1 requests for mixtral-8x7b-32768. Waiting for 30 seconds.\n"
     ]
    },
    {
     "name": "stderr",
     "output_type": "stream",
     "text": [
      "embedding nodes:  30%|██▉       | 1991/6648 [52:20<3:20:07,  2.58s/it]"
     ]
    },
    {
     "name": "stdout",
     "output_type": "stream",
     "text": [
      "LLM: mixtral-8x7b-32768 | Request Count: 1000\n",
      "Reached 1 requests for mixtral-8x7b-32768. Waiting for 30 seconds.\n"
     ]
    },
    {
     "name": "stderr",
     "output_type": "stream",
     "text": [
      "embedding nodes:  30%|██▉       | 1993/6648 [52:23<2:34:45,  1.99s/it]"
     ]
    },
    {
     "name": "stdout",
     "output_type": "stream",
     "text": [
      "LLM: mixtral-8x7b-32768 | Request Count: 1001\n",
      "Reached 1 requests for mixtral-8x7b-32768. Waiting for 30 seconds.\n"
     ]
    },
    {
     "name": "stderr",
     "output_type": "stream",
     "text": [
      "embedding nodes:  30%|██▉       | 1994/6648 [52:25<2:35:40,  2.01s/it]"
     ]
    },
    {
     "name": "stdout",
     "output_type": "stream",
     "text": [
      "LLM: mixtral-8x7b-32768 | Request Count: 1002\n",
      "Reached 1 requests for mixtral-8x7b-32768. Waiting for 30 seconds.\n"
     ]
    },
    {
     "name": "stderr",
     "output_type": "stream",
     "text": [
      "embedding nodes:  30%|███       | 1995/6648 [52:25<2:02:26,  1.58s/it]"
     ]
    },
    {
     "name": "stdout",
     "output_type": "stream",
     "text": [
      "LLM: mixtral-8x7b-32768 | Request Count: 1003\n",
      "Reached 1 requests for mixtral-8x7b-32768. Waiting for 30 seconds.\n"
     ]
    },
    {
     "name": "stderr",
     "output_type": "stream",
     "text": [
      "embedding nodes:  30%|███       | 1998/6648 [52:33<3:13:52,  2.50s/it]"
     ]
    },
    {
     "name": "stdout",
     "output_type": "stream",
     "text": [
      "LLM: mixtral-8x7b-32768 | Request Count: 1004\n",
      "Reached 1 requests for mixtral-8x7b-32768. Waiting for 30 seconds.\n"
     ]
    },
    {
     "name": "stderr",
     "output_type": "stream",
     "text": [
      "embedding nodes:  30%|███       | 1999/6648 [52:34<2:37:07,  2.03s/it]"
     ]
    },
    {
     "name": "stdout",
     "output_type": "stream",
     "text": [
      "LLM: mixtral-8x7b-32768 | Request Count: 1005\n",
      "Reached 1 requests for mixtral-8x7b-32768. Waiting for 30 seconds.\n"
     ]
    },
    {
     "name": "stderr",
     "output_type": "stream",
     "text": [
      "embedding nodes:  30%|███       | 2003/6648 [52:38<1:58:33,  1.53s/it]"
     ]
    },
    {
     "name": "stdout",
     "output_type": "stream",
     "text": [
      "LLM: mixtral-8x7b-32768 | Request Count: 1006\n",
      "Reached 1 requests for mixtral-8x7b-32768. Waiting for 30 seconds.\n"
     ]
    },
    {
     "name": "stderr",
     "output_type": "stream",
     "text": [
      "embedding nodes:  30%|███       | 2004/6648 [52:41<2:23:31,  1.85s/it]"
     ]
    },
    {
     "name": "stdout",
     "output_type": "stream",
     "text": [
      "LLM: mixtral-8x7b-32768 | Request Count: 1007\n",
      "Reached 1 requests for mixtral-8x7b-32768. Waiting for 30 seconds.\n"
     ]
    },
    {
     "name": "stderr",
     "output_type": "stream",
     "text": [
      "embedding nodes:  30%|███       | 2006/6648 [52:45<2:42:33,  2.10s/it]"
     ]
    },
    {
     "name": "stdout",
     "output_type": "stream",
     "text": [
      "LLM: mixtral-8x7b-32768 | Request Count: 1008\n",
      "Reached 1 requests for mixtral-8x7b-32768. Waiting for 30 seconds.\n",
      "LLM: mixtral-8x7b-32768 | Request Count: 1009\n",
      "Reached 1 requests for mixtral-8x7b-32768. Waiting for 30 seconds.\n"
     ]
    },
    {
     "name": "stderr",
     "output_type": "stream",
     "text": [
      "embedding nodes:  30%|███       | 2013/6648 [52:55<1:54:52,  1.49s/it]"
     ]
    },
    {
     "name": "stdout",
     "output_type": "stream",
     "text": [
      "LLM: mixtral-8x7b-32768 | Request Count: 1010\n",
      "Reached 1 requests for mixtral-8x7b-32768. Waiting for 30 seconds.\n",
      "LLM: mixtral-8x7b-32768 | Request Count: 1011\n",
      "Reached 1 requests for mixtral-8x7b-32768. Waiting for 30 seconds.\n"
     ]
    },
    {
     "name": "stderr",
     "output_type": "stream",
     "text": [
      "embedding nodes:  30%|███       | 2015/6648 [52:59<2:32:51,  1.98s/it]"
     ]
    },
    {
     "name": "stdout",
     "output_type": "stream",
     "text": [
      "LLM: mixtral-8x7b-32768 | Request Count: 1012\n",
      "Reached 1 requests for mixtral-8x7b-32768. Waiting for 30 seconds.\n"
     ]
    },
    {
     "name": "stderr",
     "output_type": "stream",
     "text": [
      "embedding nodes:  30%|███       | 2016/6648 [53:00<2:04:30,  1.61s/it]"
     ]
    },
    {
     "name": "stdout",
     "output_type": "stream",
     "text": [
      "LLM: mixtral-8x7b-32768 | Request Count: 1013\n",
      "Reached 1 requests for mixtral-8x7b-32768. Waiting for 30 seconds.\n"
     ]
    },
    {
     "name": "stderr",
     "output_type": "stream",
     "text": [
      "embedding nodes:  30%|███       | 2017/6648 [53:03<2:36:43,  2.03s/it]"
     ]
    },
    {
     "name": "stdout",
     "output_type": "stream",
     "text": [
      "LLM: mixtral-8x7b-32768 | Request Count: 1014\n",
      "Reached 1 requests for mixtral-8x7b-32768. Waiting for 30 seconds.\n",
      "LLM: mixtral-8x7b-32768 | Request Count: 1015\n",
      "Reached 1 requests for mixtral-8x7b-32768. Waiting for 30 seconds.\n"
     ]
    },
    {
     "name": "stderr",
     "output_type": "stream",
     "text": [
      "embedding nodes:  30%|███       | 2025/6648 [53:16<2:36:09,  2.03s/it]"
     ]
    },
    {
     "name": "stdout",
     "output_type": "stream",
     "text": [
      "LLM: mixtral-8x7b-32768 | Request Count: 1016\n",
      "Reached 1 requests for mixtral-8x7b-32768. Waiting for 30 seconds.\n",
      "LLM: mixtral-8x7b-32768 | Request Count: 1017\n",
      "Reached 1 requests for mixtral-8x7b-32768. Waiting for 30 seconds.\n"
     ]
    },
    {
     "name": "stderr",
     "output_type": "stream",
     "text": [
      "embedding nodes:  30%|███       | 2027/6648 [53:17<1:50:49,  1.44s/it]"
     ]
    },
    {
     "name": "stdout",
     "output_type": "stream",
     "text": [
      "LLM: mixtral-8x7b-32768 | Request Count: 1018\n",
      "Reached 1 requests for mixtral-8x7b-32768. Waiting for 30 seconds.\n"
     ]
    },
    {
     "name": "stderr",
     "output_type": "stream",
     "text": [
      "embedding nodes:  31%|███       | 2028/6648 [53:19<1:48:21,  1.41s/it]"
     ]
    },
    {
     "name": "stdout",
     "output_type": "stream",
     "text": [
      "LLM: mixtral-8x7b-32768 | Request Count: 1019\n",
      "Reached 1 requests for mixtral-8x7b-32768. Waiting for 30 seconds.\n"
     ]
    },
    {
     "name": "stderr",
     "output_type": "stream",
     "text": [
      "embedding nodes:  31%|███       | 2029/6648 [53:20<1:47:48,  1.40s/it]"
     ]
    },
    {
     "name": "stdout",
     "output_type": "stream",
     "text": [
      "LLM: mixtral-8x7b-32768 | Request Count: 1020\n",
      "Reached 1 requests for mixtral-8x7b-32768. Waiting for 30 seconds.\n",
      "LLM: mixtral-8x7b-32768 | Request Count: 1021\n",
      "Reached 1 requests for mixtral-8x7b-32768. Waiting for 30 seconds.\n"
     ]
    },
    {
     "name": "stderr",
     "output_type": "stream",
     "text": [
      "embedding nodes:  31%|███       | 2037/6648 [53:33<1:33:06,  1.21s/it]"
     ]
    },
    {
     "name": "stdout",
     "output_type": "stream",
     "text": [
      "LLM: mixtral-8x7b-32768 | Request Count: 1022\n",
      "Reached 1 requests for mixtral-8x7b-32768. Waiting for 30 seconds.\n",
      "LLM: mixtral-8x7b-32768 | Request Count: 1023\n",
      "Reached 1 requests for mixtral-8x7b-32768. Waiting for 30 seconds.\n"
     ]
    },
    {
     "name": "stderr",
     "output_type": "stream",
     "text": [
      "embedding nodes:  31%|███       | 2039/6648 [53:38<2:24:10,  1.88s/it]"
     ]
    },
    {
     "name": "stdout",
     "output_type": "stream",
     "text": [
      "LLM: mixtral-8x7b-32768 | Request Count: 1024\n",
      "Reached 1 requests for mixtral-8x7b-32768. Waiting for 30 seconds.\n",
      "LLM: mixtral-8x7b-32768 | Request Count: 1025\n",
      "Reached 1 requests for mixtral-8x7b-32768. Waiting for 30 seconds.\n"
     ]
    },
    {
     "name": "stderr",
     "output_type": "stream",
     "text": [
      "embedding nodes:  31%|███       | 2041/6648 [53:41<2:10:21,  1.70s/it]"
     ]
    },
    {
     "name": "stdout",
     "output_type": "stream",
     "text": [
      "LLM: mixtral-8x7b-32768 | Request Count: 1026\n",
      "Reached 1 requests for mixtral-8x7b-32768. Waiting for 30 seconds.\n"
     ]
    },
    {
     "name": "stderr",
     "output_type": "stream",
     "text": [
      "embedding nodes:  31%|███       | 2042/6648 [53:41<1:45:10,  1.37s/it]"
     ]
    },
    {
     "name": "stdout",
     "output_type": "stream",
     "text": [
      "LLM: mixtral-8x7b-32768 | Request Count: 1027\n",
      "Reached 1 requests for mixtral-8x7b-32768. Waiting for 30 seconds.\n"
     ]
    },
    {
     "name": "stderr",
     "output_type": "stream",
     "text": [
      "embedding nodes:  31%|███       | 2047/6648 [53:50<1:55:58,  1.51s/it]"
     ]
    },
    {
     "name": "stdout",
     "output_type": "stream",
     "text": [
      "LLM: mixtral-8x7b-32768 | Request Count: 1028\n",
      "Reached 1 requests for mixtral-8x7b-32768. Waiting for 30 seconds.\n",
      "LLM: mixtral-8x7b-32768 | Request Count: 1029\n",
      "Reached 1 requests for mixtral-8x7b-32768. Waiting for 30 seconds.\n"
     ]
    },
    {
     "name": "stderr",
     "output_type": "stream",
     "text": [
      "embedding nodes:  31%|███       | 2049/6648 [53:53<2:02:09,  1.59s/it]"
     ]
    },
    {
     "name": "stdout",
     "output_type": "stream",
     "text": [
      "LLM: mixtral-8x7b-32768 | Request Count: 1030\n",
      "Reached 1 requests for mixtral-8x7b-32768. Waiting for 30 seconds.\n"
     ]
    },
    {
     "name": "stderr",
     "output_type": "stream",
     "text": [
      "embedding nodes:  31%|███       | 2050/6648 [53:54<1:38:36,  1.29s/it]"
     ]
    },
    {
     "name": "stdout",
     "output_type": "stream",
     "text": [
      "LLM: mixtral-8x7b-32768 | Request Count: 1031\n",
      "Reached 1 requests for mixtral-8x7b-32768. Waiting for 30 seconds.\n"
     ]
    },
    {
     "name": "stderr",
     "output_type": "stream",
     "text": [
      "embedding nodes:  31%|███       | 2051/6648 [53:54<1:21:25,  1.06s/it]"
     ]
    },
    {
     "name": "stdout",
     "output_type": "stream",
     "text": [
      "LLM: mixtral-8x7b-32768 | Request Count: 1032\n",
      "Reached 1 requests for mixtral-8x7b-32768. Waiting for 30 seconds.\n"
     ]
    },
    {
     "name": "stderr",
     "output_type": "stream",
     "text": [
      "embedding nodes:  31%|███       | 2052/6648 [53:55<1:12:50,  1.05it/s]"
     ]
    },
    {
     "name": "stdout",
     "output_type": "stream",
     "text": [
      "LLM: mixtral-8x7b-32768 | Request Count: 1033\n",
      "Reached 1 requests for mixtral-8x7b-32768. Waiting for 30 seconds.\n"
     ]
    },
    {
     "name": "stderr",
     "output_type": "stream",
     "text": [
      "embedding nodes:  31%|███       | 2059/6648 [54:11<2:03:59,  1.62s/it]"
     ]
    },
    {
     "name": "stdout",
     "output_type": "stream",
     "text": [
      "LLM: mixtral-8x7b-32768 | Request Count: 1034\n",
      "Reached 1 requests for mixtral-8x7b-32768. Waiting for 30 seconds.\n"
     ]
    },
    {
     "name": "stderr",
     "output_type": "stream",
     "text": [
      "embedding nodes:  31%|███       | 2060/6648 [54:11<1:42:39,  1.34s/it]"
     ]
    },
    {
     "name": "stdout",
     "output_type": "stream",
     "text": [
      "LLM: mixtral-8x7b-32768 | Request Count: 1035\n",
      "Reached 1 requests for mixtral-8x7b-32768. Waiting for 30 seconds.\n"
     ]
    },
    {
     "name": "stderr",
     "output_type": "stream",
     "text": [
      "embedding nodes:  31%|███       | 2061/6648 [54:16<2:36:26,  2.05s/it]"
     ]
    },
    {
     "name": "stdout",
     "output_type": "stream",
     "text": [
      "LLM: mixtral-8x7b-32768 | Request Count: 1036\n",
      "Reached 1 requests for mixtral-8x7b-32768. Waiting for 30 seconds.\n"
     ]
    },
    {
     "name": "stderr",
     "output_type": "stream",
     "text": [
      "embedding nodes:  31%|███       | 2062/6648 [54:17<2:19:08,  1.82s/it]"
     ]
    },
    {
     "name": "stdout",
     "output_type": "stream",
     "text": [
      "LLM: mixtral-8x7b-32768 | Request Count: 1037\n",
      "Reached 1 requests for mixtral-8x7b-32768. Waiting for 30 seconds.\n"
     ]
    },
    {
     "name": "stderr",
     "output_type": "stream",
     "text": [
      "embedding nodes:  31%|███       | 2065/6648 [54:21<2:05:17,  1.64s/it]"
     ]
    },
    {
     "name": "stdout",
     "output_type": "stream",
     "text": [
      "LLM: mixtral-8x7b-32768 | Request Count: 1038\n",
      "Reached 1 requests for mixtral-8x7b-32768. Waiting for 30 seconds.\n"
     ]
    },
    {
     "name": "stderr",
     "output_type": "stream",
     "text": [
      "embedding nodes:  31%|███       | 2067/6648 [54:24<1:55:20,  1.51s/it]"
     ]
    },
    {
     "name": "stdout",
     "output_type": "stream",
     "text": [
      "LLM: mixtral-8x7b-32768 | Request Count: 1039\n",
      "Reached 1 requests for mixtral-8x7b-32768. Waiting for 30 seconds.\n"
     ]
    },
    {
     "name": "stderr",
     "output_type": "stream",
     "text": [
      "embedding nodes:  31%|███       | 2070/6648 [54:25<1:11:01,  1.07it/s]"
     ]
    },
    {
     "name": "stdout",
     "output_type": "stream",
     "text": [
      "LLM: mixtral-8x7b-32768 | Request Count: 1040\n",
      "Reached 1 requests for mixtral-8x7b-32768. Waiting for 30 seconds.\n"
     ]
    },
    {
     "name": "stderr",
     "output_type": "stream",
     "text": [
      "embedding nodes:  31%|███       | 2071/6648 [54:32<3:03:19,  2.40s/it]"
     ]
    },
    {
     "name": "stdout",
     "output_type": "stream",
     "text": [
      "LLM: mixtral-8x7b-32768 | Request Count: 1041\n",
      "Reached 1 requests for mixtral-8x7b-32768. Waiting for 30 seconds.\n"
     ]
    },
    {
     "name": "stderr",
     "output_type": "stream",
     "text": [
      "embedding nodes:  31%|███       | 2073/6648 [54:35<2:35:48,  2.04s/it]"
     ]
    },
    {
     "name": "stdout",
     "output_type": "stream",
     "text": [
      "LLM: mixtral-8x7b-32768 | Request Count: 1042\n",
      "Reached 1 requests for mixtral-8x7b-32768. Waiting for 30 seconds.\n"
     ]
    },
    {
     "name": "stderr",
     "output_type": "stream",
     "text": [
      "embedding nodes:  31%|███       | 2077/6648 [54:41<2:03:56,  1.63s/it]"
     ]
    },
    {
     "name": "stdout",
     "output_type": "stream",
     "text": [
      "LLM: mixtral-8x7b-32768 | Request Count: 1043\n",
      "Reached 1 requests for mixtral-8x7b-32768. Waiting for 30 seconds.\n"
     ]
    },
    {
     "name": "stderr",
     "output_type": "stream",
     "text": [
      "embedding nodes:  31%|███▏      | 2078/6648 [54:46<2:59:57,  2.36s/it]"
     ]
    },
    {
     "name": "stdout",
     "output_type": "stream",
     "text": [
      "LLM: mixtral-8x7b-32768 | Request Count: 1044\n",
      "Reached 1 requests for mixtral-8x7b-32768. Waiting for 30 seconds.\n"
     ]
    },
    {
     "name": "stderr",
     "output_type": "stream",
     "text": [
      "embedding nodes:  31%|███▏      | 2079/6648 [54:47<2:31:45,  1.99s/it]"
     ]
    },
    {
     "name": "stdout",
     "output_type": "stream",
     "text": [
      "LLM: mixtral-8x7b-32768 | Request Count: 1045\n",
      "Reached 1 requests for mixtral-8x7b-32768. Waiting for 30 seconds.\n",
      "LLM: mixtral-8x7b-32768 | Request Count: 1046\n",
      "Reached 1 requests for mixtral-8x7b-32768. Waiting for 30 seconds.\n"
     ]
    },
    {
     "name": "stderr",
     "output_type": "stream",
     "text": [
      "embedding nodes:  31%|███▏      | 2081/6648 [54:51<2:41:14,  2.12s/it]"
     ]
    },
    {
     "name": "stdout",
     "output_type": "stream",
     "text": [
      "LLM: mixtral-8x7b-32768 | Request Count: 1047\n",
      "Reached 1 requests for mixtral-8x7b-32768. Waiting for 30 seconds.\n"
     ]
    },
    {
     "name": "stderr",
     "output_type": "stream",
     "text": [
      "embedding nodes:  31%|███▏      | 2087/6648 [55:02<3:01:57,  2.39s/it]"
     ]
    },
    {
     "name": "stdout",
     "output_type": "stream",
     "text": [
      "LLM: mixtral-8x7b-32768 | Request Count: 1048\n",
      "Reached 1 requests for mixtral-8x7b-32768. Waiting for 30 seconds.\n"
     ]
    },
    {
     "name": "stderr",
     "output_type": "stream",
     "text": [
      "embedding nodes:  31%|███▏      | 2088/6648 [55:05<3:18:30,  2.61s/it]"
     ]
    },
    {
     "name": "stdout",
     "output_type": "stream",
     "text": [
      "LLM: mixtral-8x7b-32768 | Request Count: 1049\n",
      "Reached 1 requests for mixtral-8x7b-32768. Waiting for 30 seconds.\n"
     ]
    },
    {
     "name": "stderr",
     "output_type": "stream",
     "text": [
      "embedding nodes:  31%|███▏      | 2089/6648 [55:12<4:59:39,  3.94s/it]"
     ]
    },
    {
     "name": "stdout",
     "output_type": "stream",
     "text": [
      "LLM: mixtral-8x7b-32768 | Request Count: 1050\n",
      "Reached 1 requests for mixtral-8x7b-32768. Waiting for 30 seconds.\n"
     ]
    },
    {
     "name": "stderr",
     "output_type": "stream",
     "text": [
      "embedding nodes:  31%|███▏      | 2090/6648 [55:13<3:47:58,  3.00s/it]"
     ]
    },
    {
     "name": "stdout",
     "output_type": "stream",
     "text": [
      "LLM: mixtral-8x7b-32768 | Request Count: 1051\n",
      "Reached 1 requests for mixtral-8x7b-32768. Waiting for 30 seconds.\n"
     ]
    },
    {
     "name": "stderr",
     "output_type": "stream",
     "text": [
      "embedding nodes:  32%|███▏      | 2096/6648 [55:17<1:40:33,  1.33s/it]"
     ]
    },
    {
     "name": "stdout",
     "output_type": "stream",
     "text": [
      "LLM: mixtral-8x7b-32768 | Request Count: 1052\n",
      "Reached 1 requests for mixtral-8x7b-32768. Waiting for 30 seconds.\n",
      "LLM: mixtral-8x7b-32768 | Request Count: 1053\n",
      "Reached 1 requests for mixtral-8x7b-32768. Waiting for 30 seconds.\n"
     ]
    },
    {
     "name": "stderr",
     "output_type": "stream",
     "text": [
      "embedding nodes:  32%|███▏      | 2098/6648 [55:21<2:03:48,  1.63s/it]"
     ]
    },
    {
     "name": "stdout",
     "output_type": "stream",
     "text": [
      "LLM: mixtral-8x7b-32768 | Request Count: 1054\n",
      "Reached 1 requests for mixtral-8x7b-32768. Waiting for 30 seconds.\n"
     ]
    },
    {
     "name": "stderr",
     "output_type": "stream",
     "text": [
      "embedding nodes:  32%|███▏      | 2099/6648 [55:32<4:43:56,  3.75s/it]"
     ]
    },
    {
     "name": "stdout",
     "output_type": "stream",
     "text": [
      "LLM: mixtral-8x7b-32768 | Request Count: 1055\n",
      "Reached 1 requests for mixtral-8x7b-32768. Waiting for 30 seconds.\n"
     ]
    },
    {
     "name": "stderr",
     "output_type": "stream",
     "text": [
      "embedding nodes:  32%|███▏      | 2100/6648 [55:35<4:30:44,  3.57s/it]"
     ]
    },
    {
     "name": "stdout",
     "output_type": "stream",
     "text": [
      "LLM: mixtral-8x7b-32768 | Request Count: 1056\n",
      "Reached 1 requests for mixtral-8x7b-32768. Waiting for 30 seconds.\n"
     ]
    },
    {
     "name": "stderr",
     "output_type": "stream",
     "text": [
      "embedding nodes:  32%|███▏      | 2102/6648 [55:35<2:33:44,  2.03s/it]"
     ]
    },
    {
     "name": "stdout",
     "output_type": "stream",
     "text": [
      "LLM: mixtral-8x7b-32768 | Request Count: 1057\n",
      "Reached 1 requests for mixtral-8x7b-32768. Waiting for 30 seconds.\n"
     ]
    },
    {
     "name": "stderr",
     "output_type": "stream",
     "text": [
      "embedding nodes:  32%|███▏      | 2107/6648 [55:43<1:45:48,  1.40s/it]"
     ]
    },
    {
     "name": "stdout",
     "output_type": "stream",
     "text": [
      "LLM: mixtral-8x7b-32768 | Request Count: 1058\n",
      "Reached 1 requests for mixtral-8x7b-32768. Waiting for 30 seconds.\n"
     ]
    },
    {
     "name": "stderr",
     "output_type": "stream",
     "text": [
      "embedding nodes:  32%|███▏      | 2108/6648 [55:48<3:10:29,  2.52s/it]"
     ]
    },
    {
     "name": "stdout",
     "output_type": "stream",
     "text": [
      "LLM: mixtral-8x7b-32768 | Request Count: 1059LLM: mixtral-8x7b-32768 | Request Count: 1060\n",
      "Reached 1 requests for mixtral-8x7b-32768. Waiting for 30 seconds.\n",
      "\n",
      "Reached 1 requests for mixtral-8x7b-32768. Waiting for 30 seconds.\n"
     ]
    },
    {
     "name": "stderr",
     "output_type": "stream",
     "text": [
      "embedding nodes:  32%|███▏      | 2110/6648 [55:51<2:39:52,  2.11s/it]"
     ]
    },
    {
     "name": "stdout",
     "output_type": "stream",
     "text": [
      "LLM: mixtral-8x7b-32768 | Request Count: 1061\n",
      "Reached 1 requests for mixtral-8x7b-32768. Waiting for 30 seconds.\n"
     ]
    },
    {
     "name": "stderr",
     "output_type": "stream",
     "text": [
      "embedding nodes:  32%|███▏      | 2111/6648 [55:56<3:21:50,  2.67s/it]"
     ]
    },
    {
     "name": "stdout",
     "output_type": "stream",
     "text": [
      "LLM: mixtral-8x7b-32768 | Request Count: 1062\n",
      "Reached 1 requests for mixtral-8x7b-32768. Waiting for 30 seconds.\n"
     ]
    },
    {
     "name": "stderr",
     "output_type": "stream",
     "text": [
      "embedding nodes:  32%|███▏      | 2117/6648 [56:05<2:14:16,  1.78s/it]"
     ]
    },
    {
     "name": "stdout",
     "output_type": "stream",
     "text": [
      "LLM: mixtral-8x7b-32768 | Request Count: 1063\n",
      "Reached 1 requests for mixtral-8x7b-32768. Waiting for 30 seconds.\n"
     ]
    },
    {
     "name": "stderr",
     "output_type": "stream",
     "text": [
      "embedding nodes:  32%|███▏      | 2118/6648 [56:05<1:50:11,  1.46s/it]"
     ]
    },
    {
     "name": "stdout",
     "output_type": "stream",
     "text": [
      "LLM: mixtral-8x7b-32768 | Request Count: 1064\n",
      "Reached 1 requests for mixtral-8x7b-32768. Waiting for 30 seconds.\n",
      "LLM: mixtral-8x7b-32768 | Request Count: 1065\n",
      "Reached 1 requests for mixtral-8x7b-32768. Waiting for 30 seconds.\n"
     ]
    },
    {
     "name": "stderr",
     "output_type": "stream",
     "text": [
      "embedding nodes:  32%|███▏      | 2119/6648 [56:14<4:32:50,  3.61s/it]"
     ]
    },
    {
     "name": "stdout",
     "output_type": "stream",
     "text": [
      "LLM: mixtral-8x7b-32768 | Request Count: 1066\n",
      "Reached 1 requests for mixtral-8x7b-32768. Waiting for 30 seconds.\n"
     ]
    },
    {
     "name": "stderr",
     "output_type": "stream",
     "text": [
      "embedding nodes:  32%|███▏      | 2126/6648 [56:24<1:25:21,  1.13s/it]"
     ]
    },
    {
     "name": "stdout",
     "output_type": "stream",
     "text": [
      "LLM: mixtral-8x7b-32768 | Request Count: 1067\n",
      "Reached 1 requests for mixtral-8x7b-32768. Waiting for 30 seconds.\n",
      "LLM: mixtral-8x7b-32768 | Request Count: 1068\n",
      "Reached 1 requests for mixtral-8x7b-32768. Waiting for 30 seconds.\n"
     ]
    },
    {
     "name": "stderr",
     "output_type": "stream",
     "text": [
      "embedding nodes:  32%|███▏      | 2127/6648 [56:26<1:40:37,  1.34s/it]"
     ]
    },
    {
     "name": "stdout",
     "output_type": "stream",
     "text": [
      "LLM: mixtral-8x7b-32768 | Request Count: 1069\n",
      "Reached 1 requests for mixtral-8x7b-32768. Waiting for 30 seconds.\n"
     ]
    },
    {
     "name": "stderr",
     "output_type": "stream",
     "text": [
      "embedding nodes:  32%|███▏      | 2128/6648 [56:26<1:24:54,  1.13s/it]"
     ]
    },
    {
     "name": "stdout",
     "output_type": "stream",
     "text": [
      "LLM: mixtral-8x7b-32768 | Request Count: 1070\n",
      "Reached 1 requests for mixtral-8x7b-32768. Waiting for 30 seconds.\n"
     ]
    },
    {
     "name": "stderr",
     "output_type": "stream",
     "text": [
      "embedding nodes:  32%|███▏      | 2129/6648 [56:35<3:58:10,  3.16s/it]"
     ]
    },
    {
     "name": "stdout",
     "output_type": "stream",
     "text": [
      "LLM: mixtral-8x7b-32768 | Request Count: 1071\n",
      "Reached 1 requests for mixtral-8x7b-32768. Waiting for 30 seconds.\n"
     ]
    },
    {
     "name": "stderr",
     "output_type": "stream",
     "text": [
      "embedding nodes:  32%|███▏      | 2130/6648 [56:35<3:00:27,  2.40s/it]"
     ]
    },
    {
     "name": "stdout",
     "output_type": "stream",
     "text": [
      "LLM: mixtral-8x7b-32768 | Request Count: 1072\n",
      "Reached 1 requests for mixtral-8x7b-32768. Waiting for 30 seconds.\n"
     ]
    },
    {
     "name": "stderr",
     "output_type": "stream",
     "text": [
      "embedding nodes:  32%|███▏      | 2139/6648 [56:49<1:29:34,  1.19s/it]"
     ]
    },
    {
     "name": "stdout",
     "output_type": "stream",
     "text": [
      "LLM: mixtral-8x7b-32768 | Request Count: 1073LLM: mixtral-8x7b-32768 | Request Count: 1074\n",
      "Reached 1 requests for mixtral-8x7b-32768. Waiting for 30 seconds.\n",
      "\n",
      "Reached 1 requests for mixtral-8x7b-32768. Waiting for 30 seconds.\n"
     ]
    },
    {
     "name": "stderr",
     "output_type": "stream",
     "text": [
      "embedding nodes:  32%|███▏      | 2140/6648 [56:52<2:10:53,  1.74s/it]"
     ]
    },
    {
     "name": "stdout",
     "output_type": "stream",
     "text": [
      "LLM: mixtral-8x7b-32768 | Request Count: 1075\n",
      "Reached 1 requests for mixtral-8x7b-32768. Waiting for 30 seconds.\n"
     ]
    },
    {
     "name": "stderr",
     "output_type": "stream",
     "text": [
      "embedding nodes:  32%|███▏      | 2141/6648 [56:55<2:46:09,  2.21s/it]"
     ]
    },
    {
     "name": "stdout",
     "output_type": "stream",
     "text": [
      "LLM: mixtral-8x7b-32768 | Request Count: 1076LLM: mixtral-8x7b-32768 | Request Count: 1077\n",
      "Reached 1 requests for mixtral-8x7b-32768. Waiting for 30 seconds.\n",
      "\n",
      "Reached 1 requests for mixtral-8x7b-32768. Waiting for 30 seconds.\n"
     ]
    },
    {
     "name": "stderr",
     "output_type": "stream",
     "text": [
      "embedding nodes:  32%|███▏      | 2142/6648 [56:56<2:16:07,  1.81s/it]"
     ]
    },
    {
     "name": "stdout",
     "output_type": "stream",
     "text": [
      "LLM: mixtral-8x7b-32768 | Request Count: 1078\n",
      "Reached 1 requests for mixtral-8x7b-32768. Waiting for 30 seconds.\n"
     ]
    },
    {
     "name": "stderr",
     "output_type": "stream",
     "text": [
      "embedding nodes:  32%|███▏      | 2149/6648 [57:05<1:34:52,  1.27s/it]"
     ]
    },
    {
     "name": "stdout",
     "output_type": "stream",
     "text": [
      "LLM: mixtral-8x7b-32768 | Request Count: 1079\n",
      "Reached 1 requests for mixtral-8x7b-32768. Waiting for 30 seconds.\n"
     ]
    },
    {
     "name": "stderr",
     "output_type": "stream",
     "text": [
      "embedding nodes:  32%|███▏      | 2150/6648 [57:14<4:12:52,  3.37s/it]"
     ]
    },
    {
     "name": "stdout",
     "output_type": "stream",
     "text": [
      "LLM: mixtral-8x7b-32768 | Request Count: 1080\n",
      "Reached 1 requests for mixtral-8x7b-32768. Waiting for 30 seconds.\n"
     ]
    },
    {
     "name": "stderr",
     "output_type": "stream",
     "text": [
      "embedding nodes:  32%|███▏      | 2151/6648 [57:16<3:44:59,  3.00s/it]"
     ]
    },
    {
     "name": "stdout",
     "output_type": "stream",
     "text": [
      "LLM: mixtral-8x7b-32768 | Request Count: 1081\n",
      "Reached 1 requests for mixtral-8x7b-32768. Waiting for 30 seconds.\n"
     ]
    },
    {
     "name": "stderr",
     "output_type": "stream",
     "text": [
      "embedding nodes:  32%|███▏      | 2152/6648 [57:20<3:58:51,  3.19s/it]"
     ]
    },
    {
     "name": "stdout",
     "output_type": "stream",
     "text": [
      "LLM: mixtral-8x7b-32768 | Request Count: 1082LLM: mixtral-8x7b-32768 | Request Count: 1083\n",
      "Reached 1 requests for mixtral-8x7b-32768. Waiting for 30 seconds.\n",
      "\n",
      "Reached 1 requests for mixtral-8x7b-32768. Waiting for 30 seconds.\n"
     ]
    },
    {
     "name": "stderr",
     "output_type": "stream",
     "text": [
      "embedding nodes:  32%|███▏      | 2160/6648 [57:27<1:25:55,  1.15s/it]"
     ]
    },
    {
     "name": "stdout",
     "output_type": "stream",
     "text": [
      "LLM: mixtral-8x7b-32768 | Request Count: 1084\n",
      "Reached 1 requests for mixtral-8x7b-32768. Waiting for 30 seconds.\n"
     ]
    },
    {
     "name": "stderr",
     "output_type": "stream",
     "text": [
      "embedding nodes:  33%|███▎      | 2161/6648 [57:36<4:23:18,  3.52s/it]"
     ]
    },
    {
     "name": "stdout",
     "output_type": "stream",
     "text": [
      "LLM: mixtral-8x7b-32768 | Request Count: 1085\n",
      "Reached 1 requests for mixtral-8x7b-32768. Waiting for 30 seconds.\n"
     ]
    },
    {
     "name": "stderr",
     "output_type": "stream",
     "text": [
      "embedding nodes:  33%|███▎      | 2162/6648 [57:44<5:47:18,  4.65s/it]"
     ]
    },
    {
     "name": "stdout",
     "output_type": "stream",
     "text": [
      "LLM: mixtral-8x7b-32768 | Request Count: 1086\n",
      "Reached 1 requests for mixtral-8x7b-32768. Waiting for 30 seconds.\n"
     ]
    },
    {
     "name": "stderr",
     "output_type": "stream",
     "text": [
      "embedding nodes:  33%|███▎      | 2163/6648 [57:45<4:21:09,  3.49s/it]"
     ]
    },
    {
     "name": "stdout",
     "output_type": "stream",
     "text": [
      "LLM: mixtral-8x7b-32768 | Request Count: 1087\n",
      "Reached 1 requests for mixtral-8x7b-32768. Waiting for 30 seconds.\n",
      "LLM: mixtral-8x7b-32768 | Request Count: 1088\n",
      "Reached 1 requests for mixtral-8x7b-32768. Waiting for 30 seconds.\n"
     ]
    },
    {
     "name": "stderr",
     "output_type": "stream",
     "text": [
      "embedding nodes:  33%|███▎      | 2167/6648 [57:48<1:54:22,  1.53s/it]"
     ]
    },
    {
     "name": "stdout",
     "output_type": "stream",
     "text": [
      "LLM: mixtral-8x7b-32768 | Request Count: 1089\n",
      "Reached 1 requests for mixtral-8x7b-32768. Waiting for 30 seconds.\n",
      "LLM: mixtral-8x7b-32768 | Request Count: 1090\n",
      "Reached 1 requests for mixtral-8x7b-32768. Waiting for 30 seconds.\n",
      "LLM: mixtral-8x7b-32768 | Request Count: 1091\n",
      "Reached 1 requests for mixtral-8x7b-32768. Waiting for 30 seconds.\n"
     ]
    },
    {
     "name": "stderr",
     "output_type": "stream",
     "text": [
      "embedding nodes:  33%|███▎      | 2173/6648 [58:07<4:46:24,  3.84s/it]"
     ]
    },
    {
     "name": "stdout",
     "output_type": "stream",
     "text": [
      "LLM: mixtral-8x7b-32768 | Request Count: 1092\n",
      "Reached 1 requests for mixtral-8x7b-32768. Waiting for 30 seconds.\n"
     ]
    },
    {
     "name": "stderr",
     "output_type": "stream",
     "text": [
      "embedding nodes:  33%|███▎      | 2174/6648 [58:09<4:26:57,  3.58s/it]"
     ]
    },
    {
     "name": "stdout",
     "output_type": "stream",
     "text": [
      "LLM: mixtral-8x7b-32768 | Request Count: 1093\n",
      "Reached 1 requests for mixtral-8x7b-32768. Waiting for 30 seconds.\n"
     ]
    },
    {
     "name": "stderr",
     "output_type": "stream",
     "text": [
      "embedding nodes:  33%|███▎      | 2180/6648 [58:15<1:27:44,  1.18s/it]"
     ]
    },
    {
     "name": "stdout",
     "output_type": "stream",
     "text": [
      "LLM: mixtral-8x7b-32768 | Request Count: 1094\n",
      "Reached 1 requests for mixtral-8x7b-32768. Waiting for 30 seconds.\n",
      "LLM: mixtral-8x7b-32768 | Request Count: 1095\n",
      "Reached 1 requests for mixtral-8x7b-32768. Waiting for 30 seconds.\n"
     ]
    },
    {
     "name": "stderr",
     "output_type": "stream",
     "text": [
      "embedding nodes:  33%|███▎      | 2181/6648 [58:19<2:38:19,  2.13s/it]"
     ]
    },
    {
     "name": "stdout",
     "output_type": "stream",
     "text": [
      "LLM: mixtral-8x7b-32768 | Request Count: 1096\n",
      "Reached 1 requests for mixtral-8x7b-32768. Waiting for 30 seconds.\n",
      "LLM: mixtral-8x7b-32768 | Request Count: 1097\n",
      "Reached 1 requests for mixtral-8x7b-32768. Waiting for 30 seconds.\n",
      "LLM: mixtral-8x7b-32768 | Request Count: 1098\n",
      "Reached 1 requests for mixtral-8x7b-32768. Waiting for 30 seconds.\n"
     ]
    },
    {
     "name": "stderr",
     "output_type": "stream",
     "text": [
      "embedding nodes:  33%|███▎      | 2184/6648 [58:20<1:11:06,  1.05it/s]"
     ]
    },
    {
     "name": "stdout",
     "output_type": "stream",
     "text": [
      "LLM: mixtral-8x7b-32768 | Request Count: 1099\n",
      "Reached 1 requests for mixtral-8x7b-32768. Waiting for 30 seconds.\n"
     ]
    },
    {
     "name": "stderr",
     "output_type": "stream",
     "text": [
      "embedding nodes:  33%|███▎      | 2191/6648 [58:46<4:23:51,  3.55s/it]"
     ]
    },
    {
     "name": "stdout",
     "output_type": "stream",
     "text": [
      "LLM: mixtral-8x7b-32768 | Request Count: 1100\n",
      "Reached 1 requests for mixtral-8x7b-32768. Waiting for 30 seconds.\n"
     ]
    },
    {
     "name": "stderr",
     "output_type": "stream",
     "text": [
      "embedding nodes:  33%|███▎      | 2195/6648 [58:47<1:33:32,  1.26s/it]"
     ]
    },
    {
     "name": "stdout",
     "output_type": "stream",
     "text": [
      "LLM: mixtral-8x7b-32768 | Request Count: 1101\n",
      "Reached 1 requests for mixtral-8x7b-32768. Waiting for 30 seconds.\n"
     ]
    },
    {
     "name": "stderr",
     "output_type": "stream",
     "text": [
      "embedding nodes:  33%|███▎      | 2196/6648 [58:49<1:44:36,  1.41s/it]"
     ]
    },
    {
     "name": "stdout",
     "output_type": "stream",
     "text": [
      "LLM: mixtral-8x7b-32768 | Request Count: 1102\n",
      "Reached 1 requests for mixtral-8x7b-32768. Waiting for 30 seconds.\n"
     ]
    },
    {
     "name": "stderr",
     "output_type": "stream",
     "text": [
      "embedding nodes:  33%|███▎      | 2197/6648 [58:49<1:33:34,  1.26s/it]"
     ]
    },
    {
     "name": "stdout",
     "output_type": "stream",
     "text": [
      "LLM: mixtral-8x7b-32768 | Request Count: 1103\n",
      "Reached 1 requests for mixtral-8x7b-32768. Waiting for 30 seconds.\n",
      "LLM: mixtral-8x7b-32768 | Request Count: 1104\n",
      "Reached 1 requests for mixtral-8x7b-32768. Waiting for 30 seconds.\n",
      "LLM: mixtral-8x7b-32768 | Request Count: 1105\n",
      "Reached 1 requests for mixtral-8x7b-32768. Waiting for 30 seconds.\n"
     ]
    },
    {
     "name": "stderr",
     "output_type": "stream",
     "text": [
      "embedding nodes:  33%|███▎      | 2203/6648 [59:03<3:48:17,  3.08s/it]"
     ]
    },
    {
     "name": "stdout",
     "output_type": "stream",
     "text": [
      "LLM: mixtral-8x7b-32768 | Request Count: 1106\n",
      "Reached 1 requests for mixtral-8x7b-32768. Waiting for 30 seconds.\n",
      "LLM: mixtral-8x7b-32768 | Request Count: 1107\n",
      "Reached 1 requests for mixtral-8x7b-32768. Waiting for 30 seconds.\n"
     ]
    },
    {
     "name": "stderr",
     "output_type": "stream",
     "text": [
      "embedding nodes:  33%|███▎      | 2205/6648 [59:04<2:27:02,  1.99s/it]"
     ]
    },
    {
     "name": "stdout",
     "output_type": "stream",
     "text": [
      "LLM: mixtral-8x7b-32768 | Request Count: 1108\n",
      "Reached 1 requests for mixtral-8x7b-32768. Waiting for 30 seconds.\n"
     ]
    },
    {
     "name": "stderr",
     "output_type": "stream",
     "text": [
      "embedding nodes:  33%|███▎      | 2209/6648 [59:16<3:41:08,  2.99s/it]"
     ]
    },
    {
     "name": "stdout",
     "output_type": "stream",
     "text": [
      "LLM: mixtral-8x7b-32768 | Request Count: 1109\n",
      "Reached 1 requests for mixtral-8x7b-32768. Waiting for 30 seconds.\n"
     ]
    },
    {
     "name": "stderr",
     "output_type": "stream",
     "text": [
      "embedding nodes:  33%|███▎      | 2211/6648 [59:19<2:45:20,  2.24s/it]"
     ]
    },
    {
     "name": "stdout",
     "output_type": "stream",
     "text": [
      "LLM: mixtral-8x7b-32768 | Request Count: 1110\n",
      "Reached 1 requests for mixtral-8x7b-32768. Waiting for 30 seconds.\n"
     ]
    },
    {
     "name": "stderr",
     "output_type": "stream",
     "text": [
      "embedding nodes:  33%|███▎      | 2212/6648 [59:19<2:15:35,  1.83s/it]"
     ]
    },
    {
     "name": "stdout",
     "output_type": "stream",
     "text": [
      "LLM: mixtral-8x7b-32768 | Request Count: 1111\n",
      "Reached 1 requests for mixtral-8x7b-32768. Waiting for 30 seconds.\n",
      "LLM: mixtral-8x7b-32768 | Request Count: 1112\n",
      "Reached 1 requests for mixtral-8x7b-32768. Waiting for 30 seconds.\n"
     ]
    },
    {
     "name": "stderr",
     "output_type": "stream",
     "text": [
      "embedding nodes:  33%|███▎      | 2214/6648 [59:20<1:14:52,  1.01s/it]"
     ]
    },
    {
     "name": "stdout",
     "output_type": "stream",
     "text": [
      "LLM: mixtral-8x7b-32768 | Request Count: 1113\n",
      "Reached 1 requests for mixtral-8x7b-32768. Waiting for 30 seconds.\n"
     ]
    },
    {
     "name": "stderr",
     "output_type": "stream",
     "text": [
      "embedding nodes:  33%|███▎      | 2215/6648 [59:21<1:16:33,  1.04s/it]"
     ]
    },
    {
     "name": "stdout",
     "output_type": "stream",
     "text": [
      "LLM: mixtral-8x7b-32768 | Request Count: 1114\n",
      "Reached 1 requests for mixtral-8x7b-32768. Waiting for 30 seconds.\n"
     ]
    },
    {
     "name": "stderr",
     "output_type": "stream",
     "text": [
      "embedding nodes:  33%|███▎      | 2222/6648 [59:37<2:19:12,  1.89s/it]"
     ]
    },
    {
     "name": "stdout",
     "output_type": "stream",
     "text": [
      "LLM: mixtral-8x7b-32768 | Request Count: 1115\n",
      "Reached 1 requests for mixtral-8x7b-32768. Waiting for 30 seconds.\n",
      "LLM: mixtral-8x7b-32768 | Request Count: 1116\n",
      "Reached 1 requests for mixtral-8x7b-32768. Waiting for 30 seconds.\n"
     ]
    },
    {
     "name": "stderr",
     "output_type": "stream",
     "text": [
      "embedding nodes:  33%|███▎      | 2223/6648 [59:42<3:11:49,  2.60s/it]"
     ]
    },
    {
     "name": "stdout",
     "output_type": "stream",
     "text": [
      "LLM: mixtral-8x7b-32768 | Request Count: 1117\n",
      "Reached 1 requests for mixtral-8x7b-32768. Waiting for 30 seconds.\n"
     ]
    },
    {
     "name": "stderr",
     "output_type": "stream",
     "text": [
      "embedding nodes:  33%|███▎      | 2224/6648 [59:46<3:40:52,  3.00s/it]"
     ]
    },
    {
     "name": "stdout",
     "output_type": "stream",
     "text": [
      "LLM: mixtral-8x7b-32768 | Request Count: 1118\n",
      "Reached 1 requests for mixtral-8x7b-32768. Waiting for 30 seconds.\n"
     ]
    },
    {
     "name": "stderr",
     "output_type": "stream",
     "text": [
      "embedding nodes:  33%|███▎      | 2225/6648 [59:49<3:34:40,  2.91s/it]"
     ]
    },
    {
     "name": "stdout",
     "output_type": "stream",
     "text": [
      "LLM: mixtral-8x7b-32768 | Request Count: 1119\n",
      "Reached 1 requests for mixtral-8x7b-32768. Waiting for 30 seconds.\n"
     ]
    },
    {
     "name": "stderr",
     "output_type": "stream",
     "text": [
      "embedding nodes:  33%|███▎      | 2226/6648 [59:49<2:52:11,  2.34s/it]"
     ]
    },
    {
     "name": "stdout",
     "output_type": "stream",
     "text": [
      "LLM: mixtral-8x7b-32768 | Request Count: 1120\n",
      "Reached 1 requests for mixtral-8x7b-32768. Waiting for 30 seconds.\n"
     ]
    },
    {
     "name": "stderr",
     "output_type": "stream",
     "text": [
      "embedding nodes:  34%|███▎      | 2234/6648 [1:00:08<3:43:38,  3.04s/it]"
     ]
    },
    {
     "name": "stdout",
     "output_type": "stream",
     "text": [
      "LLM: mixtral-8x7b-32768 | Request Count: 1121\n",
      "Reached 1 requests for mixtral-8x7b-32768. Waiting for 30 seconds.\n",
      "LLM: mixtral-8x7b-32768 | Request Count: 1122\n",
      "Reached 1 requests for mixtral-8x7b-32768. Waiting for 30 seconds.\n"
     ]
    },
    {
     "name": "stderr",
     "output_type": "stream",
     "text": [
      "embedding nodes:  34%|███▎      | 2235/6648 [1:00:12<3:55:54,  3.21s/it]"
     ]
    },
    {
     "name": "stdout",
     "output_type": "stream",
     "text": [
      "LLM: mixtral-8x7b-32768 | Request Count: 1123\n",
      "Reached 1 requests for mixtral-8x7b-32768. Waiting for 30 seconds.\n"
     ]
    },
    {
     "name": "stderr",
     "output_type": "stream",
     "text": [
      "embedding nodes:  34%|███▎      | 2237/6648 [1:00:13<2:16:19,  1.85s/it]"
     ]
    },
    {
     "name": "stdout",
     "output_type": "stream",
     "text": [
      "LLM: mixtral-8x7b-32768 | Request Count: 1124\n",
      "Reached 1 requests for mixtral-8x7b-32768. Waiting for 30 seconds.\n",
      "LLM: mixtral-8x7b-32768 | Request Count: 1125\n",
      "Reached 1 requests for mixtral-8x7b-32768. Waiting for 30 seconds.\n",
      "LLM: mixtral-8x7b-32768 | Request Count: 1126\n",
      "Reached 1 requests for mixtral-8x7b-32768. Waiting for 30 seconds.\n"
     ]
    },
    {
     "name": "stderr",
     "output_type": "stream",
     "text": [
      "embedding nodes:  34%|███▍      | 2250/6648 [1:00:40<2:24:53,  1.98s/it]"
     ]
    },
    {
     "name": "stdout",
     "output_type": "stream",
     "text": [
      "LLM: mixtral-8x7b-32768 | Request Count: 1127\n",
      "Reached 1 requests for mixtral-8x7b-32768. Waiting for 30 seconds.\n",
      "LLM: mixtral-8x7b-32768 | Request Count: 1128\n",
      "Reached 1 requests for mixtral-8x7b-32768. Waiting for 30 seconds.\n",
      "LLM: mixtral-8x7b-32768 | Request Count: 1129\n",
      "Reached 1 requests for mixtral-8x7b-32768. Waiting for 30 seconds.\n",
      "LLM: mixtral-8x7b-32768 | Request Count: 1130\n",
      "Reached 1 requests for mixtral-8x7b-32768. Waiting for 30 seconds.\n"
     ]
    },
    {
     "name": "stderr",
     "output_type": "stream",
     "text": [
      "embedding nodes:  34%|███▍      | 2252/6648 [1:00:41<1:55:06,  1.57s/it]"
     ]
    },
    {
     "name": "stdout",
     "output_type": "stream",
     "text": [
      "LLM: mixtral-8x7b-32768 | Request Count: 1131\n",
      "Reached 1 requests for mixtral-8x7b-32768. Waiting for 30 seconds.\n"
     ]
    },
    {
     "name": "stderr",
     "output_type": "stream",
     "text": [
      "embedding nodes:  34%|███▍      | 2253/6648 [1:00:42<1:35:51,  1.31s/it]"
     ]
    },
    {
     "name": "stdout",
     "output_type": "stream",
     "text": [
      "LLM: mixtral-8x7b-32768 | Request Count: 1132\n",
      "Reached 1 requests for mixtral-8x7b-32768. Waiting for 30 seconds.\n"
     ]
    },
    {
     "name": "stderr",
     "output_type": "stream",
     "text": [
      "embedding nodes:  34%|███▍      | 2254/6648 [1:00:43<1:24:27,  1.15s/it]"
     ]
    },
    {
     "name": "stdout",
     "output_type": "stream",
     "text": [
      "LLM: mixtral-8x7b-32768 | Request Count: 1133\n",
      "Reached 1 requests for mixtral-8x7b-32768. Waiting for 30 seconds.\n"
     ]
    },
    {
     "name": "stderr",
     "output_type": "stream",
     "text": [
      "embedding nodes:  34%|███▍      | 2257/6648 [1:01:00<5:08:21,  4.21s/it]"
     ]
    },
    {
     "name": "stdout",
     "output_type": "stream",
     "text": [
      "LLM: mixtral-8x7b-32768 | Request Count: 1134\n",
      "Reached 1 requests for mixtral-8x7b-32768. Waiting for 30 seconds.\n"
     ]
    },
    {
     "name": "stderr",
     "output_type": "stream",
     "text": [
      "embedding nodes:  34%|███▍      | 2260/6648 [1:01:04<3:12:05,  2.63s/it]"
     ]
    },
    {
     "name": "stdout",
     "output_type": "stream",
     "text": [
      "LLM: mixtral-8x7b-32768 | Request Count: 1135\n",
      "Reached 1 requests for mixtral-8x7b-32768. Waiting for 30 seconds.\n"
     ]
    },
    {
     "name": "stderr",
     "output_type": "stream",
     "text": [
      "embedding nodes:  34%|███▍      | 2262/6648 [1:01:10<3:17:12,  2.70s/it]"
     ]
    },
    {
     "name": "stdout",
     "output_type": "stream",
     "text": [
      "LLM: mixtral-8x7b-32768 | Request Count: 1136LLM: mixtral-8x7b-32768 | Request Count: 1137\n",
      "Reached 1 requests for mixtral-8x7b-32768. Waiting for 30 seconds.\n",
      "\n",
      "Reached 1 requests for mixtral-8x7b-32768. Waiting for 30 seconds.\n"
     ]
    },
    {
     "name": "stderr",
     "output_type": "stream",
     "text": [
      "embedding nodes:  34%|███▍      | 2264/6648 [1:01:10<1:46:33,  1.46s/it]"
     ]
    },
    {
     "name": "stdout",
     "output_type": "stream",
     "text": [
      "LLM: mixtral-8x7b-32768 | Request Count: 1138\n",
      "Reached 1 requests for mixtral-8x7b-32768. Waiting for 30 seconds.\n"
     ]
    },
    {
     "name": "stderr",
     "output_type": "stream",
     "text": [
      "embedding nodes:  34%|███▍      | 2268/6648 [1:01:14<1:17:37,  1.06s/it]"
     ]
    },
    {
     "name": "stdout",
     "output_type": "stream",
     "text": [
      "LLM: mixtral-8x7b-32768 | Request Count: 1139\n",
      "Reached 1 requests for mixtral-8x7b-32768. Waiting for 30 seconds.\n"
     ]
    },
    {
     "name": "stderr",
     "output_type": "stream",
     "text": [
      "embedding nodes:  34%|███▍      | 2270/6648 [1:01:34<6:18:53,  5.19s/it]"
     ]
    },
    {
     "name": "stdout",
     "output_type": "stream",
     "text": [
      "LLM: mixtral-8x7b-32768 | Request Count: 1140\n",
      "Reached 1 requests for mixtral-8x7b-32768. Waiting for 30 seconds.\n"
     ]
    },
    {
     "name": "stderr",
     "output_type": "stream",
     "text": [
      "embedding nodes:  34%|███▍      | 2271/6648 [1:01:36<5:10:38,  4.26s/it]"
     ]
    },
    {
     "name": "stdout",
     "output_type": "stream",
     "text": [
      "LLM: mixtral-8x7b-32768 | Request Count: 1141\n",
      "Reached 1 requests for mixtral-8x7b-32768. Waiting for 30 seconds.\n"
     ]
    },
    {
     "name": "stderr",
     "output_type": "stream",
     "text": [
      "embedding nodes:  34%|███▍      | 2272/6648 [1:01:40<4:45:22,  3.91s/it]"
     ]
    },
    {
     "name": "stdout",
     "output_type": "stream",
     "text": [
      "LLM: mixtral-8x7b-32768 | Request Count: 1142\n",
      "Reached 1 requests for mixtral-8x7b-32768. Waiting for 30 seconds.\n"
     ]
    },
    {
     "name": "stderr",
     "output_type": "stream",
     "text": [
      "embedding nodes:  34%|███▍      | 2276/6648 [1:01:42<1:57:17,  1.61s/it]"
     ]
    },
    {
     "name": "stdout",
     "output_type": "stream",
     "text": [
      "LLM: mixtral-8x7b-32768 | Request Count: 1143\n",
      "Reached 1 requests for mixtral-8x7b-32768. Waiting for 30 seconds.\n"
     ]
    },
    {
     "name": "stderr",
     "output_type": "stream",
     "text": [
      "embedding nodes:  34%|███▍      | 2277/6648 [1:01:46<2:36:01,  2.14s/it]"
     ]
    },
    {
     "name": "stdout",
     "output_type": "stream",
     "text": [
      "LLM: mixtral-8x7b-32768 | Request Count: 1144\n",
      "Reached 1 requests for mixtral-8x7b-32768. Waiting for 30 seconds.\n"
     ]
    },
    {
     "name": "stderr",
     "output_type": "stream",
     "text": [
      "embedding nodes:  34%|███▍      | 2280/6648 [1:01:49<1:49:24,  1.50s/it]"
     ]
    },
    {
     "name": "stdout",
     "output_type": "stream",
     "text": [
      "LLM: mixtral-8x7b-32768 | Request Count: 1145\n",
      "Reached 1 requests for mixtral-8x7b-32768. Waiting for 30 seconds.\n"
     ]
    },
    {
     "name": "stderr",
     "output_type": "stream",
     "text": [
      "embedding nodes:  34%|███▍      | 2281/6648 [1:02:01<5:30:09,  4.54s/it]"
     ]
    },
    {
     "name": "stdout",
     "output_type": "stream",
     "text": [
      "LLM: mixtral-8x7b-32768 | Request Count: 1146\n",
      "Reached 1 requests for mixtral-8x7b-32768. Waiting for 30 seconds.\n"
     ]
    },
    {
     "name": "stderr",
     "output_type": "stream",
     "text": [
      "embedding nodes:  34%|███▍      | 2284/6648 [1:02:06<3:00:29,  2.48s/it]"
     ]
    },
    {
     "name": "stdout",
     "output_type": "stream",
     "text": [
      "LLM: mixtral-8x7b-32768 | Request Count: 1147\n",
      "Reached 1 requests for mixtral-8x7b-32768. Waiting for 30 seconds.\n"
     ]
    },
    {
     "name": "stderr",
     "output_type": "stream",
     "text": [
      "embedding nodes:  34%|███▍      | 2287/6648 [1:02:11<2:17:14,  1.89s/it]"
     ]
    },
    {
     "name": "stdout",
     "output_type": "stream",
     "text": [
      "LLM: mixtral-8x7b-32768 | Request Count: 1148\n",
      "Reached 1 requests for mixtral-8x7b-32768. Waiting for 30 seconds.\n"
     ]
    },
    {
     "name": "stderr",
     "output_type": "stream",
     "text": [
      "embedding nodes:  34%|███▍      | 2288/6648 [1:02:12<2:04:53,  1.72s/it]"
     ]
    },
    {
     "name": "stdout",
     "output_type": "stream",
     "text": [
      "LLM: mixtral-8x7b-32768 | Request Count: 1149\n",
      "Reached 1 requests for mixtral-8x7b-32768. Waiting for 30 seconds.\n"
     ]
    },
    {
     "name": "stderr",
     "output_type": "stream",
     "text": [
      "embedding nodes:  34%|███▍      | 2289/6648 [1:02:13<1:42:16,  1.41s/it]"
     ]
    },
    {
     "name": "stdout",
     "output_type": "stream",
     "text": [
      "LLM: mixtral-8x7b-32768 | Request Count: 1150\n",
      "Reached 1 requests for mixtral-8x7b-32768. Waiting for 30 seconds.\n"
     ]
    },
    {
     "name": "stderr",
     "output_type": "stream",
     "text": [
      "embedding nodes:  34%|███▍      | 2290/6648 [1:02:15<1:55:08,  1.59s/it]"
     ]
    },
    {
     "name": "stdout",
     "output_type": "stream",
     "text": [
      "LLM: mixtral-8x7b-32768 | Request Count: 1151\n",
      "Reached 1 requests for mixtral-8x7b-32768. Waiting for 30 seconds.\n"
     ]
    },
    {
     "name": "stderr",
     "output_type": "stream",
     "text": [
      "embedding nodes:  34%|███▍      | 2291/6648 [1:02:16<1:40:00,  1.38s/it]"
     ]
    },
    {
     "name": "stdout",
     "output_type": "stream",
     "text": [
      "LLM: mixtral-8x7b-32768 | Request Count: 1152\n",
      "Reached 1 requests for mixtral-8x7b-32768. Waiting for 30 seconds.\n"
     ]
    },
    {
     "name": "stderr",
     "output_type": "stream",
     "text": [
      "embedding nodes:  35%|███▍      | 2297/6648 [1:02:35<3:28:48,  2.88s/it]"
     ]
    },
    {
     "name": "stdout",
     "output_type": "stream",
     "text": [
      "LLM: mixtral-8x7b-32768 | Request Count: 1153\n",
      "Reached 1 requests for mixtral-8x7b-32768. Waiting for 30 seconds.\n"
     ]
    },
    {
     "name": "stderr",
     "output_type": "stream",
     "text": [
      "embedding nodes:  35%|███▍      | 2298/6648 [1:02:36<3:01:02,  2.50s/it]"
     ]
    },
    {
     "name": "stdout",
     "output_type": "stream",
     "text": [
      "LLM: mixtral-8x7b-32768 | Request Count: 1154\n",
      "Reached 1 requests for mixtral-8x7b-32768. Waiting for 30 seconds.\n"
     ]
    },
    {
     "name": "stderr",
     "output_type": "stream",
     "text": [
      "embedding nodes:  35%|███▍      | 2300/6648 [1:02:41<3:13:59,  2.68s/it]"
     ]
    },
    {
     "name": "stdout",
     "output_type": "stream",
     "text": [
      "LLM: mixtral-8x7b-32768 | Request Count: 1155\n",
      "Reached 1 requests for mixtral-8x7b-32768. Waiting for 30 seconds.\n",
      "LLM: mixtral-8x7b-32768 | Request Count: 1156\n",
      "Reached 1 requests for mixtral-8x7b-32768. Waiting for 30 seconds.\n"
     ]
    },
    {
     "name": "stderr",
     "output_type": "stream",
     "text": [
      "embedding nodes:  35%|███▍      | 2307/6648 [1:02:45<56:46,  1.27it/s]  "
     ]
    },
    {
     "name": "stdout",
     "output_type": "stream",
     "text": [
      "LLM: mixtral-8x7b-32768 | Request Count: 1157\n",
      "Reached 1 requests for mixtral-8x7b-32768. Waiting for 30 seconds.\n",
      "LLM: mixtral-8x7b-32768 | Request Count: 1158\n",
      "Reached 1 requests for mixtral-8x7b-32768. Waiting for 30 seconds.\n"
     ]
    },
    {
     "name": "stderr",
     "output_type": "stream",
     "text": [
      "embedding nodes:  35%|███▍      | 2308/6648 [1:02:46<1:02:44,  1.15it/s]"
     ]
    },
    {
     "name": "stdout",
     "output_type": "stream",
     "text": [
      "LLM: mixtral-8x7b-32768 | Request Count: 1159\n",
      "Reached 1 requests for mixtral-8x7b-32768. Waiting for 30 seconds.\n"
     ]
    },
    {
     "name": "stderr",
     "output_type": "stream",
     "text": [
      "embedding nodes:  35%|███▍      | 2309/6648 [1:02:56<3:55:05,  3.25s/it]"
     ]
    },
    {
     "name": "stdout",
     "output_type": "stream",
     "text": [
      "LLM: mixtral-8x7b-32768 | Request Count: 1160\n",
      "Reached 1 requests for mixtral-8x7b-32768. Waiting for 30 seconds.\n"
     ]
    },
    {
     "name": "stderr",
     "output_type": "stream",
     "text": [
      "embedding nodes:  35%|███▍      | 2310/6648 [1:02:59<3:50:30,  3.19s/it]"
     ]
    },
    {
     "name": "stdout",
     "output_type": "stream",
     "text": [
      "LLM: mixtral-8x7b-32768 | Request Count: 1161\n",
      "Reached 1 requests for mixtral-8x7b-32768. Waiting for 30 seconds.\n",
      "LLM: mixtral-8x7b-32768 | Request Count: 1162\n",
      "Reached 1 requests for mixtral-8x7b-32768. Waiting for 30 seconds.\n"
     ]
    },
    {
     "name": "stderr",
     "output_type": "stream",
     "text": [
      "embedding nodes:  35%|███▍      | 2316/6648 [1:03:12<3:32:07,  2.94s/it]"
     ]
    },
    {
     "name": "stdout",
     "output_type": "stream",
     "text": [
      "LLM: mixtral-8x7b-32768 | Request Count: 1163\n",
      "Reached 1 requests for mixtral-8x7b-32768. Waiting for 30 seconds.\n",
      "LLM: mixtral-8x7b-32768 | Request Count: 1164\n",
      "Reached 1 requests for mixtral-8x7b-32768. Waiting for 30 seconds.\n"
     ]
    },
    {
     "name": "stderr",
     "output_type": "stream",
     "text": [
      "embedding nodes:  35%|███▍      | 2319/6648 [1:03:13<1:55:32,  1.60s/it]"
     ]
    },
    {
     "name": "stdout",
     "output_type": "stream",
     "text": [
      "LLM: mixtral-8x7b-32768 | Request Count: 1165\n",
      "Reached 1 requests for mixtral-8x7b-32768. Waiting for 30 seconds.\n"
     ]
    },
    {
     "name": "stderr",
     "output_type": "stream",
     "text": [
      "embedding nodes:  35%|███▍      | 2321/6648 [1:03:14<1:28:53,  1.23s/it]"
     ]
    },
    {
     "name": "stdout",
     "output_type": "stream",
     "text": [
      "LLM: mixtral-8x7b-32768 | Request Count: 1166\n",
      "Reached 1 requests for mixtral-8x7b-32768. Waiting for 30 seconds.\n",
      "LLM: mixtral-8x7b-32768 | Request Count: 1167\n",
      "Reached 1 requests for mixtral-8x7b-32768. Waiting for 30 seconds.\n"
     ]
    },
    {
     "name": "stderr",
     "output_type": "stream",
     "text": [
      "embedding nodes:  35%|███▍      | 2322/6648 [1:03:15<1:23:51,  1.16s/it]"
     ]
    },
    {
     "name": "stdout",
     "output_type": "stream",
     "text": [
      "LLM: mixtral-8x7b-32768 | Request Count: 1168\n",
      "Reached 1 requests for mixtral-8x7b-32768. Waiting for 30 seconds.\n"
     ]
    },
    {
     "name": "stderr",
     "output_type": "stream",
     "text": [
      "embedding nodes:  35%|███▌      | 2329/6648 [1:03:26<1:56:36,  1.62s/it]"
     ]
    },
    {
     "name": "stdout",
     "output_type": "stream",
     "text": [
      "LLM: mixtral-8x7b-32768 | Request Count: 1169\n",
      "Reached 1 requests for mixtral-8x7b-32768. Waiting for 30 seconds.\n"
     ]
    },
    {
     "name": "stderr",
     "output_type": "stream",
     "text": [
      "embedding nodes:  35%|███▌      | 2331/6648 [1:03:27<1:30:29,  1.26s/it]"
     ]
    },
    {
     "name": "stdout",
     "output_type": "stream",
     "text": [
      "LLM: mixtral-8x7b-32768 | Request Count: 1170\n",
      "Reached 1 requests for mixtral-8x7b-32768. Waiting for 30 seconds.\n",
      "LLM: mixtral-8x7b-32768 | Request Count: 1171\n",
      "Reached 1 requests for mixtral-8x7b-32768. Waiting for 30 seconds.\n",
      "LLM: mixtral-8x7b-32768 | Request Count: 1172\n",
      "Reached 1 requests for mixtral-8x7b-32768. Waiting for 30 seconds.\n"
     ]
    },
    {
     "name": "stderr",
     "output_type": "stream",
     "text": [
      "embedding nodes:  35%|███▌      | 2333/6648 [1:03:29<1:08:52,  1.04it/s]"
     ]
    },
    {
     "name": "stdout",
     "output_type": "stream",
     "text": [
      "LLM: mixtral-8x7b-32768 | Request Count: 1173\n",
      "Reached 1 requests for mixtral-8x7b-32768. Waiting for 30 seconds.\n"
     ]
    },
    {
     "name": "stderr",
     "output_type": "stream",
     "text": [
      "embedding nodes:  35%|███▌      | 2341/6648 [1:03:44<1:21:19,  1.13s/it]"
     ]
    },
    {
     "name": "stdout",
     "output_type": "stream",
     "text": [
      "LLM: mixtral-8x7b-32768 | Request Count: 1174\n",
      "Reached 1 requests for mixtral-8x7b-32768. Waiting for 30 seconds.\n",
      "LLM: mixtral-8x7b-32768 | Request Count: 1175\n",
      "Reached 1 requests for mixtral-8x7b-32768. Waiting for 30 seconds.\n"
     ]
    },
    {
     "name": "stderr",
     "output_type": "stream",
     "text": [
      "embedding nodes:  35%|███▌      | 2342/6648 [1:03:45<1:07:36,  1.06it/s]"
     ]
    },
    {
     "name": "stdout",
     "output_type": "stream",
     "text": [
      "LLM: mixtral-8x7b-32768 | Request Count: 1176\n",
      "Reached 1 requests for mixtral-8x7b-32768. Waiting for 30 seconds.\n"
     ]
    },
    {
     "name": "stderr",
     "output_type": "stream",
     "text": [
      "embedding nodes:  35%|███▌      | 2343/6648 [1:03:45<57:07,  1.26it/s]  "
     ]
    },
    {
     "name": "stdout",
     "output_type": "stream",
     "text": [
      "LLM: mixtral-8x7b-32768 | Request Count: 1177\n",
      "Reached 1 requests for mixtral-8x7b-32768. Waiting for 30 seconds.\n"
     ]
    },
    {
     "name": "stderr",
     "output_type": "stream",
     "text": [
      "embedding nodes:  35%|███▌      | 2349/6648 [1:03:56<1:27:01,  1.21s/it]"
     ]
    },
    {
     "name": "stdout",
     "output_type": "stream",
     "text": [
      "LLM: mixtral-8x7b-32768 | Request Count: 1178\n",
      "Reached 1 requests for mixtral-8x7b-32768. Waiting for 30 seconds.\n",
      "LLM: mixtral-8x7b-32768 | Request Count: 1179\n",
      "Reached 1 requests for mixtral-8x7b-32768. Waiting for 30 seconds.\n",
      "LLM: mixtral-8x7b-32768 | Request Count: 1180\n",
      "Reached 1 requests for mixtral-8x7b-32768. Waiting for 30 seconds.\n"
     ]
    },
    {
     "name": "stderr",
     "output_type": "stream",
     "text": [
      "embedding nodes:  35%|███▌      | 2350/6648 [1:03:58<1:52:23,  1.57s/it]"
     ]
    },
    {
     "name": "stdout",
     "output_type": "stream",
     "text": [
      "LLM: mixtral-8x7b-32768 | Request Count: 1181LLM: mixtral-8x7b-32768 | Request Count: 1182\n",
      "Reached 1 requests for mixtral-8x7b-32768. Waiting for 30 seconds.\n",
      "\n",
      "Reached 1 requests for mixtral-8x7b-32768. Waiting for 30 seconds.\n",
      "LLM: mixtral-8x7b-32768 | Request Count: 1183\n",
      "Reached 1 requests for mixtral-8x7b-32768. Waiting for 30 seconds.\n"
     ]
    },
    {
     "name": "stderr",
     "output_type": "stream",
     "text": [
      "embedding nodes:  36%|███▌      | 2361/6648 [1:04:15<1:30:18,  1.26s/it]"
     ]
    },
    {
     "name": "stdout",
     "output_type": "stream",
     "text": [
      "LLM: mixtral-8x7b-32768 | Request Count: 1184\n",
      "Reached 1 requests for mixtral-8x7b-32768. Waiting for 30 seconds.\n",
      "LLM: mixtral-8x7b-32768 | Request Count: 1185\n",
      "Reached 1 requests for mixtral-8x7b-32768. Waiting for 30 seconds.\n"
     ]
    },
    {
     "name": "stderr",
     "output_type": "stream",
     "text": [
      "embedding nodes:  36%|███▌      | 2362/6648 [1:04:16<1:18:16,  1.10s/it]"
     ]
    },
    {
     "name": "stdout",
     "output_type": "stream",
     "text": [
      "LLM: mixtral-8x7b-32768 | Request Count: 1186\n",
      "Reached 1 requests for mixtral-8x7b-32768. Waiting for 30 seconds.\n"
     ]
    },
    {
     "name": "stderr",
     "output_type": "stream",
     "text": [
      "embedding nodes:  36%|███▌      | 2363/6648 [1:04:24<3:25:30,  2.88s/it]"
     ]
    },
    {
     "name": "stdout",
     "output_type": "stream",
     "text": [
      "LLM: mixtral-8x7b-32768 | Request Count: 1187\n",
      "Reached 1 requests for mixtral-8x7b-32768. Waiting for 30 seconds.\n"
     ]
    },
    {
     "name": "stderr",
     "output_type": "stream",
     "text": [
      "embedding nodes:  36%|███▌      | 2365/6648 [1:04:26<2:18:02,  1.93s/it]"
     ]
    },
    {
     "name": "stdout",
     "output_type": "stream",
     "text": [
      "LLM: mixtral-8x7b-32768 | Request Count: 1188LLM: mixtral-8x7b-32768 | Request Count: 1189\n",
      "Reached 1 requests for mixtral-8x7b-32768. Waiting for 30 seconds.\n",
      "\n",
      "Reached 1 requests for mixtral-8x7b-32768. Waiting for 30 seconds.\n"
     ]
    },
    {
     "name": "stderr",
     "output_type": "stream",
     "text": [
      "embedding nodes:  36%|███▌      | 2369/6648 [1:04:28<1:14:00,  1.04s/it]"
     ]
    },
    {
     "name": "stdout",
     "output_type": "stream",
     "text": [
      "LLM: mixtral-8x7b-32768 | Request Count: 1190\n",
      "Reached 1 requests for mixtral-8x7b-32768. Waiting for 30 seconds.\n"
     ]
    },
    {
     "name": "stderr",
     "output_type": "stream",
     "text": [
      "embedding nodes:  36%|███▌      | 2372/6648 [1:04:39<2:53:12,  2.43s/it]"
     ]
    },
    {
     "name": "stdout",
     "output_type": "stream",
     "text": [
      "LLM: mixtral-8x7b-32768 | Request Count: 1191\n",
      "Reached 1 requests for mixtral-8x7b-32768. Waiting for 30 seconds.\n"
     ]
    },
    {
     "name": "stderr",
     "output_type": "stream",
     "text": [
      "embedding nodes:  36%|███▌      | 2373/6648 [1:04:40<2:34:30,  2.17s/it]"
     ]
    },
    {
     "name": "stdout",
     "output_type": "stream",
     "text": [
      "LLM: mixtral-8x7b-32768 | Request Count: 1192\n",
      "Reached 1 requests for mixtral-8x7b-32768. Waiting for 30 seconds.\n"
     ]
    },
    {
     "name": "stderr",
     "output_type": "stream",
     "text": [
      "embedding nodes:  36%|███▌      | 2376/6648 [1:04:42<1:28:08,  1.24s/it]"
     ]
    },
    {
     "name": "stdout",
     "output_type": "stream",
     "text": [
      "LLM: mixtral-8x7b-32768 | Request Count: 1193\n",
      "Reached 1 requests for mixtral-8x7b-32768. Waiting for 30 seconds.\n",
      "LLM: mixtral-8x7b-32768 | Request Count: 1194\n",
      "Reached 1 requests for mixtral-8x7b-32768. Waiting for 30 seconds.\n"
     ]
    },
    {
     "name": "stderr",
     "output_type": "stream",
     "text": [
      "embedding nodes:  36%|███▌      | 2380/6648 [1:04:54<3:29:56,  2.95s/it]"
     ]
    },
    {
     "name": "stdout",
     "output_type": "stream",
     "text": [
      "LLM: mixtral-8x7b-32768 | Request Count: 1195\n",
      "Reached 1 requests for mixtral-8x7b-32768. Waiting for 30 seconds.\n"
     ]
    },
    {
     "name": "stderr",
     "output_type": "stream",
     "text": [
      "embedding nodes:  36%|███▌      | 2381/6648 [1:04:56<3:14:23,  2.73s/it]"
     ]
    },
    {
     "name": "stdout",
     "output_type": "stream",
     "text": [
      "LLM: mixtral-8x7b-32768 | Request Count: 1196\n",
      "Reached 1 requests for mixtral-8x7b-32768. Waiting for 30 seconds.\n"
     ]
    },
    {
     "name": "stderr",
     "output_type": "stream",
     "text": [
      "embedding nodes:  36%|███▌      | 2383/6648 [1:04:57<1:54:15,  1.61s/it]"
     ]
    },
    {
     "name": "stdout",
     "output_type": "stream",
     "text": [
      "LLM: mixtral-8x7b-32768 | Request Count: 1197\n",
      "Reached 1 requests for mixtral-8x7b-32768. Waiting for 30 seconds.\n"
     ]
    },
    {
     "name": "stderr",
     "output_type": "stream",
     "text": [
      "embedding nodes:  36%|███▌      | 2384/6648 [1:04:59<2:03:37,  1.74s/it]"
     ]
    },
    {
     "name": "stdout",
     "output_type": "stream",
     "text": [
      "LLM: mixtral-8x7b-32768 | Request Count: 1198\n",
      "Reached 1 requests for mixtral-8x7b-32768. Waiting for 30 seconds.\n"
     ]
    },
    {
     "name": "stderr",
     "output_type": "stream",
     "text": [
      "embedding nodes:  36%|███▌      | 2389/6648 [1:05:10<2:20:53,  1.98s/it]"
     ]
    },
    {
     "name": "stdout",
     "output_type": "stream",
     "text": [
      "LLM: mixtral-8x7b-32768 | Request Count: 1199\n",
      "Reached 1 requests for mixtral-8x7b-32768. Waiting for 30 seconds.\n"
     ]
    },
    {
     "name": "stderr",
     "output_type": "stream",
     "text": [
      "embedding nodes:  36%|███▌      | 2390/6648 [1:05:11<2:05:47,  1.77s/it]"
     ]
    },
    {
     "name": "stdout",
     "output_type": "stream",
     "text": [
      "LLM: mixtral-8x7b-32768 | Request Count: 1200\n",
      "Reached 1 requests for mixtral-8x7b-32768. Waiting for 30 seconds.\n",
      "LLM: mixtral-8x7b-32768 | Request Count: 1201\n",
      "Reached 1 requests for mixtral-8x7b-32768. Waiting for 30 seconds.\n",
      "LLM: mixtral-8x7b-32768 | Request Count: 1202\n",
      "Reached 1 requests for mixtral-8x7b-32768. Waiting for 30 seconds.\n"
     ]
    },
    {
     "name": "stderr",
     "output_type": "stream",
     "text": [
      "embedding nodes:  36%|███▌      | 2393/6648 [1:05:17<2:06:06,  1.78s/it]"
     ]
    },
    {
     "name": "stdout",
     "output_type": "stream",
     "text": [
      "LLM: mixtral-8x7b-32768 | Request Count: 1203\n",
      "Reached 1 requests for mixtral-8x7b-32768. Waiting for 30 seconds.\n"
     ]
    },
    {
     "name": "stderr",
     "output_type": "stream",
     "text": [
      "embedding nodes:  36%|███▌      | 2400/6648 [1:05:29<1:47:07,  1.51s/it]"
     ]
    },
    {
     "name": "stdout",
     "output_type": "stream",
     "text": [
      "LLM: mixtral-8x7b-32768 | Request Count: 1204\n",
      "Reached 1 requests for mixtral-8x7b-32768. Waiting for 30 seconds.\n"
     ]
    },
    {
     "name": "stderr",
     "output_type": "stream",
     "text": [
      "embedding nodes:  36%|███▌      | 2401/6648 [1:05:34<2:46:23,  2.35s/it]"
     ]
    },
    {
     "name": "stdout",
     "output_type": "stream",
     "text": [
      "LLM: mixtral-8x7b-32768 | Request Count: 1205\n",
      "Reached 1 requests for mixtral-8x7b-32768. Waiting for 30 seconds.\n"
     ]
    },
    {
     "name": "stderr",
     "output_type": "stream",
     "text": [
      "embedding nodes:  36%|███▌      | 2402/6648 [1:05:36<2:39:32,  2.25s/it]"
     ]
    },
    {
     "name": "stdout",
     "output_type": "stream",
     "text": [
      "LLM: mixtral-8x7b-32768 | Request Count: 1206\n",
      "Reached 1 requests for mixtral-8x7b-32768. Waiting for 30 seconds.\n",
      "LLM: mixtral-8x7b-32768 | Request Count: 1207\n",
      "Reached 1 requests for mixtral-8x7b-32768. Waiting for 30 seconds.\n"
     ]
    },
    {
     "name": "stderr",
     "output_type": "stream",
     "text": [
      "embedding nodes:  36%|███▌      | 2408/6648 [1:05:42<1:08:52,  1.03it/s]"
     ]
    },
    {
     "name": "stdout",
     "output_type": "stream",
     "text": [
      "LLM: mixtral-8x7b-32768 | Request Count: 1208\n",
      "Reached 1 requests for mixtral-8x7b-32768. Waiting for 30 seconds.\n",
      "LLM: mixtral-8x7b-32768 | Request Count: 1209\n",
      "Reached 1 requests for mixtral-8x7b-32768. Waiting for 30 seconds.\n"
     ]
    },
    {
     "name": "stderr",
     "output_type": "stream",
     "text": [
      "embedding nodes:  36%|███▋      | 2410/6648 [1:05:44<1:00:55,  1.16it/s]"
     ]
    },
    {
     "name": "stdout",
     "output_type": "stream",
     "text": [
      "LLM: mixtral-8x7b-32768 | Request Count: 1210\n",
      "Reached 1 requests for mixtral-8x7b-32768. Waiting for 30 seconds.\n"
     ]
    },
    {
     "name": "stderr",
     "output_type": "stream",
     "text": [
      "embedding nodes:  36%|███▋      | 2411/6648 [1:05:47<1:36:26,  1.37s/it]"
     ]
    },
    {
     "name": "stdout",
     "output_type": "stream",
     "text": [
      "LLM: mixtral-8x7b-32768 | Request Count: 1211\n",
      "Reached 1 requests for mixtral-8x7b-32768. Waiting for 30 seconds.\n"
     ]
    },
    {
     "name": "stderr",
     "output_type": "stream",
     "text": [
      "embedding nodes:  36%|███▋      | 2414/6648 [1:05:55<2:08:23,  1.82s/it]"
     ]
    },
    {
     "name": "stdout",
     "output_type": "stream",
     "text": [
      "LLM: mixtral-8x7b-32768 | Request Count: 1212\n",
      "Reached 1 requests for mixtral-8x7b-32768. Waiting for 30 seconds.\n",
      "LLM: mixtral-8x7b-32768 | Request Count: 1213\n",
      "Reached 1 requests for mixtral-8x7b-32768. Waiting for 30 seconds.\n"
     ]
    },
    {
     "name": "stderr",
     "output_type": "stream",
     "text": [
      "embedding nodes:  36%|███▋      | 2418/6648 [1:06:06<2:47:34,  2.38s/it]"
     ]
    },
    {
     "name": "stdout",
     "output_type": "stream",
     "text": [
      "LLM: mixtral-8x7b-32768 | Request Count: 1214\n",
      "Reached 1 requests for mixtral-8x7b-32768. Waiting for 30 seconds.\n",
      "LLM: mixtral-8x7b-32768 | Request Count: 1215\n",
      "Reached 1 requests for mixtral-8x7b-32768. Waiting for 30 seconds.\n",
      "LLM: mixtral-8x7b-32768 | Request Count: 1216\n",
      "Reached 1 requests for mixtral-8x7b-32768. Waiting for 30 seconds.\n"
     ]
    },
    {
     "name": "stderr",
     "output_type": "stream",
     "text": [
      "embedding nodes:  36%|███▋      | 2422/6648 [1:06:13<2:11:05,  1.86s/it]"
     ]
    },
    {
     "name": "stdout",
     "output_type": "stream",
     "text": [
      "LLM: mixtral-8x7b-32768 | Request Count: 1217\n",
      "Reached 1 requests for mixtral-8x7b-32768. Waiting for 30 seconds.\n",
      "LLM: mixtral-8x7b-32768 | Request Count: 1218\n",
      "Reached 1 requests for mixtral-8x7b-32768. Waiting for 30 seconds.\n"
     ]
    },
    {
     "name": "stderr",
     "output_type": "stream",
     "text": [
      "embedding nodes:  37%|███▋      | 2430/6648 [1:06:27<1:54:00,  1.62s/it]"
     ]
    },
    {
     "name": "stdout",
     "output_type": "stream",
     "text": [
      "LLM: mixtral-8x7b-32768 | Request Count: 1219\n",
      "Reached 1 requests for mixtral-8x7b-32768. Waiting for 30 seconds.\n",
      "LLM: mixtral-8x7b-32768 | Request Count: 1220\n",
      "Reached 1 requests for mixtral-8x7b-32768. Waiting for 30 seconds.\n"
     ]
    },
    {
     "name": "stderr",
     "output_type": "stream",
     "text": [
      "embedding nodes:  37%|███▋      | 2432/6648 [1:06:38<3:26:20,  2.94s/it]"
     ]
    },
    {
     "name": "stdout",
     "output_type": "stream",
     "text": [
      "LLM: mixtral-8x7b-32768 | Request Count: 1221\n",
      "Reached 1 requests for mixtral-8x7b-32768. Waiting for 30 seconds.\n"
     ]
    },
    {
     "name": "stderr",
     "output_type": "stream",
     "text": [
      "embedding nodes:  37%|███▋      | 2433/6648 [1:06:40<2:56:24,  2.51s/it]"
     ]
    },
    {
     "name": "stdout",
     "output_type": "stream",
     "text": [
      "LLM: mixtral-8x7b-32768 | Request Count: 1222\n",
      "Reached 1 requests for mixtral-8x7b-32768. Waiting for 30 seconds.\n"
     ]
    },
    {
     "name": "stderr",
     "output_type": "stream",
     "text": [
      "embedding nodes:  37%|███▋      | 2434/6648 [1:06:41<2:36:51,  2.23s/it]"
     ]
    },
    {
     "name": "stdout",
     "output_type": "stream",
     "text": [
      "LLM: mixtral-8x7b-32768 | Request Count: 1223\n",
      "Reached 1 requests for mixtral-8x7b-32768. Waiting for 30 seconds.\n"
     ]
    },
    {
     "name": "stderr",
     "output_type": "stream",
     "text": [
      "embedding nodes:  37%|███▋      | 2438/6648 [1:06:44<1:13:26,  1.05s/it]"
     ]
    },
    {
     "name": "stdout",
     "output_type": "stream",
     "text": [
      "LLM: mixtral-8x7b-32768 | Request Count: 1224\n",
      "Reached 1 requests for mixtral-8x7b-32768. Waiting for 30 seconds.\n"
     ]
    },
    {
     "name": "stderr",
     "output_type": "stream",
     "text": [
      "embedding nodes:  37%|███▋      | 2440/6648 [1:06:48<1:31:24,  1.30s/it]"
     ]
    },
    {
     "name": "stdout",
     "output_type": "stream",
     "text": [
      "LLM: mixtral-8x7b-32768 | Request Count: 1225\n",
      "Reached 1 requests for mixtral-8x7b-32768. Waiting for 30 seconds.\n",
      "LLM: mixtral-8x7b-32768 | Request Count: 1226\n",
      "Reached 1 requests for mixtral-8x7b-32768. Waiting for 30 seconds.\n"
     ]
    },
    {
     "name": "stderr",
     "output_type": "stream",
     "text": [
      "embedding nodes:  37%|███▋      | 2441/6648 [1:06:50<1:52:23,  1.60s/it]"
     ]
    },
    {
     "name": "stdout",
     "output_type": "stream",
     "text": [
      "LLM: mixtral-8x7b-32768 | Request Count: 1227\n",
      "Reached 1 requests for mixtral-8x7b-32768. Waiting for 30 seconds.\n"
     ]
    },
    {
     "name": "stderr",
     "output_type": "stream",
     "text": [
      "embedding nodes:  37%|███▋      | 2443/6648 [1:06:57<2:41:57,  2.31s/it]"
     ]
    },
    {
     "name": "stdout",
     "output_type": "stream",
     "text": [
      "LLM: mixtral-8x7b-32768 | Request Count: 1228\n",
      "Reached 1 requests for mixtral-8x7b-32768. Waiting for 30 seconds.\n"
     ]
    },
    {
     "name": "stderr",
     "output_type": "stream",
     "text": [
      "embedding nodes:  37%|███▋      | 2449/6648 [1:07:11<2:20:03,  2.00s/it]"
     ]
    },
    {
     "name": "stdout",
     "output_type": "stream",
     "text": [
      "LLM: mixtral-8x7b-32768 | Request Count: 1229\n",
      "Reached 1 requests for mixtral-8x7b-32768. Waiting for 30 seconds.\n"
     ]
    },
    {
     "name": "stderr",
     "output_type": "stream",
     "text": [
      "embedding nodes:  37%|███▋      | 2450/6648 [1:07:15<2:47:49,  2.40s/it]"
     ]
    },
    {
     "name": "stdout",
     "output_type": "stream",
     "text": [
      "LLM: mixtral-8x7b-32768 | Request Count: 1230\n",
      "Reached 1 requests for mixtral-8x7b-32768. Waiting for 30 seconds.\n"
     ]
    },
    {
     "name": "stderr",
     "output_type": "stream",
     "text": [
      "embedding nodes:  37%|███▋      | 2451/6648 [1:07:18<2:54:00,  2.49s/it]"
     ]
    },
    {
     "name": "stdout",
     "output_type": "stream",
     "text": [
      "LLM: mixtral-8x7b-32768 | Request Count: 1231\n",
      "Reached 1 requests for mixtral-8x7b-32768. Waiting for 30 seconds.\n",
      "LLM: mixtral-8x7b-32768 | Request Count: 1232\n",
      "Reached 1 requests for mixtral-8x7b-32768. Waiting for 30 seconds.\n"
     ]
    },
    {
     "name": "stderr",
     "output_type": "stream",
     "text": [
      "embedding nodes:  37%|███▋      | 2453/6648 [1:07:20<2:18:21,  1.98s/it]"
     ]
    },
    {
     "name": "stdout",
     "output_type": "stream",
     "text": [
      "LLM: mixtral-8x7b-32768 | Request Count: 1233\n",
      "Reached 1 requests for mixtral-8x7b-32768. Waiting for 30 seconds.\n"
     ]
    },
    {
     "name": "stderr",
     "output_type": "stream",
     "text": [
      "embedding nodes:  37%|███▋      | 2460/6648 [1:07:35<1:47:40,  1.54s/it]"
     ]
    },
    {
     "name": "stdout",
     "output_type": "stream",
     "text": [
      "LLM: mixtral-8x7b-32768 | Request Count: 1234\n",
      "Reached 1 requests for mixtral-8x7b-32768. Waiting for 30 seconds.\n"
     ]
    },
    {
     "name": "stderr",
     "output_type": "stream",
     "text": [
      "embedding nodes:  37%|███▋      | 2461/6648 [1:07:44<3:40:36,  3.16s/it]"
     ]
    },
    {
     "name": "stdout",
     "output_type": "stream",
     "text": [
      "LLM: mixtral-8x7b-32768 | Request Count: 1235\n",
      "Reached 1 requests for mixtral-8x7b-32768. Waiting for 30 seconds.\n"
     ]
    },
    {
     "name": "stderr",
     "output_type": "stream",
     "text": [
      "embedding nodes:  37%|███▋      | 2462/6648 [1:07:45<2:56:06,  2.52s/it]"
     ]
    },
    {
     "name": "stdout",
     "output_type": "stream",
     "text": [
      "LLM: mixtral-8x7b-32768 | Request Count: 1236\n",
      "Reached 1 requests for mixtral-8x7b-32768. Waiting for 30 seconds.\n"
     ]
    },
    {
     "name": "stderr",
     "output_type": "stream",
     "text": [
      "embedding nodes:  37%|███▋      | 2463/6648 [1:07:47<2:59:24,  2.57s/it]"
     ]
    },
    {
     "name": "stdout",
     "output_type": "stream",
     "text": [
      "LLM: mixtral-8x7b-32768 | Request Count: 1237\n",
      "Reached 1 requests for mixtral-8x7b-32768. Waiting for 30 seconds.\n"
     ]
    },
    {
     "name": "stderr",
     "output_type": "stream",
     "text": [
      "embedding nodes:  37%|███▋      | 2470/6648 [1:08:01<1:23:40,  1.20s/it]"
     ]
    },
    {
     "name": "stdout",
     "output_type": "stream",
     "text": [
      "LLM: mixtral-8x7b-32768 | Request Count: 1238\n",
      "Reached 1 requests for mixtral-8x7b-32768. Waiting for 30 seconds.\n",
      "LLM: mixtral-8x7b-32768 | Request Count: 1239\n",
      "Reached 1 requests for mixtral-8x7b-32768. Waiting for 30 seconds.\n"
     ]
    },
    {
     "name": "stderr",
     "output_type": "stream",
     "text": [
      "embedding nodes:  37%|███▋      | 2471/6648 [1:08:05<2:30:07,  2.16s/it]"
     ]
    },
    {
     "name": "stdout",
     "output_type": "stream",
     "text": [
      "LLM: mixtral-8x7b-32768 | Request Count: 1240\n",
      "Reached 1 requests for mixtral-8x7b-32768. Waiting for 30 seconds.\n"
     ]
    },
    {
     "name": "stderr",
     "output_type": "stream",
     "text": [
      "embedding nodes:  37%|███▋      | 2472/6648 [1:08:05<1:50:41,  1.59s/it]"
     ]
    },
    {
     "name": "stdout",
     "output_type": "stream",
     "text": [
      "LLM: mixtral-8x7b-32768 | Request Count: 1241\n",
      "Reached 1 requests for mixtral-8x7b-32768. Waiting for 30 seconds.\n"
     ]
    },
    {
     "name": "stderr",
     "output_type": "stream",
     "text": [
      "embedding nodes:  37%|███▋      | 2473/6648 [1:08:15<4:32:12,  3.91s/it]"
     ]
    },
    {
     "name": "stdout",
     "output_type": "stream",
     "text": [
      "LLM: mixtral-8x7b-32768 | Request Count: 1242\n",
      "Reached 1 requests for mixtral-8x7b-32768. Waiting for 30 seconds.\n"
     ]
    },
    {
     "name": "stderr",
     "output_type": "stream",
     "text": [
      "embedding nodes:  37%|███▋      | 2474/6648 [1:08:15<3:18:54,  2.86s/it]"
     ]
    },
    {
     "name": "stdout",
     "output_type": "stream",
     "text": [
      "LLM: mixtral-8x7b-32768 | Request Count: 1243\n",
      "Reached 1 requests for mixtral-8x7b-32768. Waiting for 30 seconds.\n"
     ]
    },
    {
     "name": "stderr",
     "output_type": "stream",
     "text": [
      "embedding nodes:  37%|███▋      | 2478/6648 [1:08:34<3:58:48,  3.44s/it]"
     ]
    },
    {
     "name": "stdout",
     "output_type": "stream",
     "text": [
      "LLM: mixtral-8x7b-32768 | Request Count: 1244LLM: mixtral-8x7b-32768 | Request Count: 1245\n",
      "Reached 1 requests for mixtral-8x7b-32768. Waiting for 30 seconds.\n",
      "\n",
      "Reached 1 requests for mixtral-8x7b-32768. Waiting for 30 seconds.\n"
     ]
    },
    {
     "name": "stderr",
     "output_type": "stream",
     "text": [
      "embedding nodes:  37%|███▋      | 2480/6648 [1:08:37<2:55:23,  2.52s/it]"
     ]
    },
    {
     "name": "stdout",
     "output_type": "stream",
     "text": [
      "LLM: mixtral-8x7b-32768 | Request Count: 1246\n",
      "Reached 1 requests for mixtral-8x7b-32768. Waiting for 30 seconds.\n"
     ]
    },
    {
     "name": "stderr",
     "output_type": "stream",
     "text": [
      "embedding nodes:  37%|███▋      | 2483/6648 [1:08:38<1:40:00,  1.44s/it]"
     ]
    },
    {
     "name": "stdout",
     "output_type": "stream",
     "text": [
      "LLM: mixtral-8x7b-32768 | Request Count: 1247\n",
      "Reached 1 requests for mixtral-8x7b-32768. Waiting for 30 seconds.\n"
     ]
    },
    {
     "name": "stderr",
     "output_type": "stream",
     "text": [
      "embedding nodes:  37%|███▋      | 2484/6648 [1:08:41<2:04:34,  1.80s/it]"
     ]
    },
    {
     "name": "stdout",
     "output_type": "stream",
     "text": [
      "LLM: mixtral-8x7b-32768 | Request Count: 1248\n",
      "Reached 1 requests for mixtral-8x7b-32768. Waiting for 30 seconds.\n"
     ]
    },
    {
     "name": "stderr",
     "output_type": "stream",
     "text": [
      "embedding nodes:  37%|███▋      | 2487/6648 [1:08:59<5:42:44,  4.94s/it]"
     ]
    },
    {
     "name": "stdout",
     "output_type": "stream",
     "text": [
      "LLM: mixtral-8x7b-32768 | Request Count: 1249\n",
      "Reached 1 requests for mixtral-8x7b-32768. Waiting for 30 seconds.\n"
     ]
    },
    {
     "name": "stderr",
     "output_type": "stream",
     "text": [
      "embedding nodes:  37%|███▋      | 2490/6648 [1:09:09<4:06:37,  3.56s/it]"
     ]
    },
    {
     "name": "stdout",
     "output_type": "stream",
     "text": [
      "LLM: mixtral-8x7b-32768 | Request Count: 1250\n",
      "Reached 1 requests for mixtral-8x7b-32768. Waiting for 30 seconds.\n",
      "LLM: mixtral-8x7b-32768 | Request Count: 1251\n",
      "Reached 1 requests for mixtral-8x7b-32768. Waiting for 30 seconds.\n"
     ]
    },
    {
     "name": "stderr",
     "output_type": "stream",
     "text": [
      "embedding nodes:  38%|███▊      | 2495/6648 [1:09:11<1:54:16,  1.65s/it]"
     ]
    },
    {
     "name": "stdout",
     "output_type": "stream",
     "text": [
      "LLM: mixtral-8x7b-32768 | Request Count: 1252\n",
      "Reached 1 requests for mixtral-8x7b-32768. Waiting for 30 seconds.\n"
     ]
    },
    {
     "name": "stderr",
     "output_type": "stream",
     "text": [
      "embedding nodes:  38%|███▊      | 2496/6648 [1:09:18<2:49:47,  2.45s/it]"
     ]
    },
    {
     "name": "stdout",
     "output_type": "stream",
     "text": [
      "LLM: mixtral-8x7b-32768 | Request Count: 1253LLM: mixtral-8x7b-32768 | Request Count: 1254\n",
      "Reached 1 requests for mixtral-8x7b-32768. Waiting for 30 seconds.\n",
      "\n",
      "Reached 1 requests for mixtral-8x7b-32768. Waiting for 30 seconds.\n",
      "LLM: mixtral-8x7b-32768 | Request Count: 1255\n",
      "Reached 1 requests for mixtral-8x7b-32768. Waiting for 30 seconds.\n"
     ]
    },
    {
     "name": "stderr",
     "output_type": "stream",
     "text": [
      "embedding nodes:  38%|███▊      | 2503/6648 [1:09:36<1:58:13,  1.71s/it]"
     ]
    },
    {
     "name": "stdout",
     "output_type": "stream",
     "text": [
      "LLM: mixtral-8x7b-32768 | Request Count: 1256\n",
      "Reached 1 requests for mixtral-8x7b-32768. Waiting for 30 seconds.\n"
     ]
    },
    {
     "name": "stderr",
     "output_type": "stream",
     "text": [
      "embedding nodes:  38%|███▊      | 2504/6648 [1:09:38<2:09:29,  1.87s/it]"
     ]
    },
    {
     "name": "stdout",
     "output_type": "stream",
     "text": [
      "LLM: mixtral-8x7b-32768 | Request Count: 1257\n",
      "Reached 1 requests for mixtral-8x7b-32768. Waiting for 30 seconds.\n"
     ]
    },
    {
     "name": "stderr",
     "output_type": "stream",
     "text": [
      "embedding nodes:  38%|███▊      | 2505/6648 [1:09:40<2:00:24,  1.74s/it]"
     ]
    },
    {
     "name": "stdout",
     "output_type": "stream",
     "text": [
      "LLM: mixtral-8x7b-32768 | Request Count: 1258LLM: mixtral-8x7b-32768 | Request Count: 1259\n",
      "Reached 1 requests for mixtral-8x7b-32768. Waiting for 30 seconds.\n",
      "\n",
      "Reached 1 requests for mixtral-8x7b-32768. Waiting for 30 seconds.\n"
     ]
    },
    {
     "name": "stderr",
     "output_type": "stream",
     "text": [
      "embedding nodes:  38%|███▊      | 2507/6648 [1:09:41<1:27:29,  1.27s/it]"
     ]
    },
    {
     "name": "stdout",
     "output_type": "stream",
     "text": [
      "LLM: mixtral-8x7b-32768 | Request Count: 1260\n",
      "Reached 1 requests for mixtral-8x7b-32768. Waiting for 30 seconds.\n"
     ]
    },
    {
     "name": "stderr",
     "output_type": "stream",
     "text": [
      "embedding nodes:  38%|███▊      | 2514/6648 [1:09:57<1:58:37,  1.72s/it]"
     ]
    },
    {
     "name": "stdout",
     "output_type": "stream",
     "text": [
      "LLM: mixtral-8x7b-32768 | Request Count: 1261\n",
      "Reached 1 requests for mixtral-8x7b-32768. Waiting for 30 seconds.\n"
     ]
    },
    {
     "name": "stderr",
     "output_type": "stream",
     "text": [
      "embedding nodes:  38%|███▊      | 2515/6648 [1:10:05<3:33:36,  3.10s/it]"
     ]
    },
    {
     "name": "stdout",
     "output_type": "stream",
     "text": [
      "LLM: mixtral-8x7b-32768 | Request Count: 1262\n",
      "Reached 1 requests for mixtral-8x7b-32768. Waiting for 30 seconds.\n",
      "LLM: mixtral-8x7b-32768 | Request Count: 1263\n",
      "Reached 1 requests for mixtral-8x7b-32768. Waiting for 30 seconds.\n"
     ]
    },
    {
     "name": "stderr",
     "output_type": "stream",
     "text": [
      "embedding nodes:  38%|███▊      | 2517/6648 [1:10:05<2:13:47,  1.94s/it]"
     ]
    },
    {
     "name": "stdout",
     "output_type": "stream",
     "text": [
      "LLM: mixtral-8x7b-32768 | Request Count: 1264\n",
      "Reached 1 requests for mixtral-8x7b-32768. Waiting for 30 seconds.\n"
     ]
    },
    {
     "name": "stderr",
     "output_type": "stream",
     "text": [
      "embedding nodes:  38%|███▊      | 2518/6648 [1:10:07<2:08:09,  1.86s/it]"
     ]
    },
    {
     "name": "stdout",
     "output_type": "stream",
     "text": [
      "LLM: mixtral-8x7b-32768 | Request Count: 1265\n",
      "Reached 1 requests for mixtral-8x7b-32768. Waiting for 30 seconds.\n"
     ]
    },
    {
     "name": "stderr",
     "output_type": "stream",
     "text": [
      "embedding nodes:  38%|███▊      | 2522/6648 [1:10:09<1:03:46,  1.08it/s]"
     ]
    },
    {
     "name": "stdout",
     "output_type": "stream",
     "text": [
      "LLM: mixtral-8x7b-32768 | Request Count: 1266\n",
      "Reached 1 requests for mixtral-8x7b-32768. Waiting for 30 seconds.\n"
     ]
    },
    {
     "name": "stderr",
     "output_type": "stream",
     "text": [
      "embedding nodes:  38%|███▊      | 2523/6648 [1:10:10<1:08:49,  1.00s/it]"
     ]
    },
    {
     "name": "stdout",
     "output_type": "stream",
     "text": [
      "LLM: mixtral-8x7b-32768 | Request Count: 1267\n",
      "Reached 1 requests for mixtral-8x7b-32768. Waiting for 30 seconds.\n",
      "LLM: mixtral-8x7b-32768 | Request Count: 1268\n",
      "Reached 1 requests for mixtral-8x7b-32768. Waiting for 30 seconds.\n"
     ]
    },
    {
     "name": "stderr",
     "output_type": "stream",
     "text": [
      "embedding nodes:  38%|███▊      | 2525/6648 [1:10:11<59:30,  1.15it/s]  "
     ]
    },
    {
     "name": "stdout",
     "output_type": "stream",
     "text": [
      "LLM: mixtral-8x7b-32768 | Request Count: 1269\n",
      "Reached 1 requests for mixtral-8x7b-32768. Waiting for 30 seconds.\n"
     ]
    },
    {
     "name": "stderr",
     "output_type": "stream",
     "text": [
      "embedding nodes:  38%|███▊      | 2526/6648 [1:10:15<1:44:06,  1.52s/it]"
     ]
    },
    {
     "name": "stdout",
     "output_type": "stream",
     "text": [
      "LLM: mixtral-8x7b-32768 | Request Count: 1270\n",
      "Reached 1 requests for mixtral-8x7b-32768. Waiting for 30 seconds.\n"
     ]
    },
    {
     "name": "stderr",
     "output_type": "stream",
     "text": [
      "embedding nodes:  38%|███▊      | 2533/6648 [1:10:28<1:48:42,  1.58s/it]"
     ]
    },
    {
     "name": "stdout",
     "output_type": "stream",
     "text": [
      "LLM: mixtral-8x7b-32768 | Request Count: 1271\n",
      "Reached 1 requests for mixtral-8x7b-32768. Waiting for 30 seconds.\n"
     ]
    },
    {
     "name": "stderr",
     "output_type": "stream",
     "text": [
      "embedding nodes:  38%|███▊      | 2534/6648 [1:10:35<3:05:11,  2.70s/it]"
     ]
    },
    {
     "name": "stdout",
     "output_type": "stream",
     "text": [
      "LLM: mixtral-8x7b-32768 | Request Count: 1272LLM: mixtral-8x7b-32768 | Request Count: 1273\n",
      "Reached 1 requests for mixtral-8x7b-32768. Waiting for 30 seconds.\n",
      "\n",
      "Reached 1 requests for mixtral-8x7b-32768. Waiting for 30 seconds.\n"
     ]
    },
    {
     "name": "stderr",
     "output_type": "stream",
     "text": [
      "embedding nodes:  38%|███▊      | 2536/6648 [1:10:35<1:54:53,  1.68s/it]"
     ]
    },
    {
     "name": "stdout",
     "output_type": "stream",
     "text": [
      "LLM: mixtral-8x7b-32768 | Request Count: 1274\n",
      "Reached 1 requests for mixtral-8x7b-32768. Waiting for 30 seconds.\n",
      "LLM: mixtral-8x7b-32768 | Request Count: 1275\n",
      "Reached 1 requests for mixtral-8x7b-32768. Waiting for 30 seconds.\n"
     ]
    },
    {
     "name": "stderr",
     "output_type": "stream",
     "text": [
      "embedding nodes:  38%|███▊      | 2544/6648 [1:10:45<2:00:07,  1.76s/it]"
     ]
    },
    {
     "name": "stdout",
     "output_type": "stream",
     "text": [
      "LLM: mixtral-8x7b-32768 | Request Count: 1276\n",
      "Reached 1 requests for mixtral-8x7b-32768. Waiting for 30 seconds.\n"
     ]
    },
    {
     "name": "stderr",
     "output_type": "stream",
     "text": [
      "embedding nodes:  38%|███▊      | 2545/6648 [1:10:59<5:20:23,  4.69s/it]"
     ]
    },
    {
     "name": "stdout",
     "output_type": "stream",
     "text": [
      "LLM: mixtral-8x7b-32768 | Request Count: 1277\n",
      "Reached 1 requests for mixtral-8x7b-32768. Waiting for 30 seconds.\n",
      "LLM: mixtral-8x7b-32768 | Request Count: 1278\n",
      "Reached 1 requests for mixtral-8x7b-32768. Waiting for 30 seconds.\n",
      "LLM: mixtral-8x7b-32768 | Request Count: 1279\n",
      "Reached 1 requests for mixtral-8x7b-32768. Waiting for 30 seconds.\n"
     ]
    },
    {
     "name": "stderr",
     "output_type": "stream",
     "text": [
      "embedding nodes:  38%|███▊      | 2555/6648 [1:11:06<57:01,  1.20it/s]  "
     ]
    },
    {
     "name": "stdout",
     "output_type": "stream",
     "text": [
      "LLM: mixtral-8x7b-32768 | Request Count: 1280\n",
      "Reached 1 requests for mixtral-8x7b-32768. Waiting for 30 seconds.\n",
      "LLM: mixtral-8x7b-32768 | Request Count: 1281\n",
      "Reached 1 requests for mixtral-8x7b-32768. Waiting for 30 seconds.\n"
     ]
    },
    {
     "name": "stderr",
     "output_type": "stream",
     "text": [
      "embedding nodes:  38%|███▊      | 2556/6648 [1:11:15<2:56:32,  2.59s/it]"
     ]
    },
    {
     "name": "stdout",
     "output_type": "stream",
     "text": [
      "LLM: mixtral-8x7b-32768 | Request Count: 1282\n",
      "Reached 1 requests for mixtral-8x7b-32768. Waiting for 30 seconds.\n"
     ]
    },
    {
     "name": "stderr",
     "output_type": "stream",
     "text": [
      "embedding nodes:  38%|███▊      | 2558/6648 [1:11:20<2:36:24,  2.29s/it]"
     ]
    },
    {
     "name": "stdout",
     "output_type": "stream",
     "text": [
      "LLM: mixtral-8x7b-32768 | Request Count: 1283\n",
      "Reached 1 requests for mixtral-8x7b-32768. Waiting for 30 seconds.\n",
      "LLM: mixtral-8x7b-32768 | Request Count: 1284\n",
      "Reached 1 requests for mixtral-8x7b-32768. Waiting for 30 seconds.\n",
      "LLM: mixtral-8x7b-32768 | Request Count: 1285\n",
      "Reached 1 requests for mixtral-8x7b-32768. Waiting for 30 seconds.\n"
     ]
    },
    {
     "name": "stderr",
     "output_type": "stream",
     "text": [
      "embedding nodes:  39%|███▊      | 2563/6648 [1:11:29<3:16:58,  2.89s/it]"
     ]
    },
    {
     "name": "stdout",
     "output_type": "stream",
     "text": [
      "LLM: mixtral-8x7b-32768 | Request Count: 1286\n",
      "Reached 1 requests for mixtral-8x7b-32768. Waiting for 30 seconds.\n",
      "LLM: mixtral-8x7b-32768 | Request Count: 1287\n",
      "Reached 1 requests for mixtral-8x7b-32768. Waiting for 30 seconds.\n"
     ]
    },
    {
     "name": "stderr",
     "output_type": "stream",
     "text": [
      "embedding nodes:  39%|███▊      | 2566/6648 [1:11:37<2:58:46,  2.63s/it]"
     ]
    },
    {
     "name": "stdout",
     "output_type": "stream",
     "text": [
      "LLM: mixtral-8x7b-32768 | Request Count: 1288LLM: mixtral-8x7b-32768 | Request Count: 1289\n",
      "Reached 1 requests for mixtral-8x7b-32768. Waiting for 30 seconds.\n",
      "\n",
      "Reached 1 requests for mixtral-8x7b-32768. Waiting for 30 seconds.\n"
     ]
    },
    {
     "name": "stderr",
     "output_type": "stream",
     "text": [
      "embedding nodes:  39%|███▊      | 2568/6648 [1:11:40<2:38:07,  2.33s/it]"
     ]
    },
    {
     "name": "stdout",
     "output_type": "stream",
     "text": [
      "LLM: mixtral-8x7b-32768 | Request Count: 1290\n",
      "Reached 1 requests for mixtral-8x7b-32768. Waiting for 30 seconds.\n",
      "LLM: mixtral-8x7b-32768 | Request Count: 1291\n",
      "Reached 1 requests for mixtral-8x7b-32768. Waiting for 30 seconds.\n"
     ]
    },
    {
     "name": "stderr",
     "output_type": "stream",
     "text": [
      "embedding nodes:  39%|███▊      | 2574/6648 [1:11:51<2:01:01,  1.78s/it]"
     ]
    },
    {
     "name": "stdout",
     "output_type": "stream",
     "text": [
      "LLM: mixtral-8x7b-32768 | Request Count: 1292\n",
      "Reached 1 requests for mixtral-8x7b-32768. Waiting for 30 seconds.\n"
     ]
    },
    {
     "name": "stderr",
     "output_type": "stream",
     "text": [
      "embedding nodes:  39%|███▊      | 2576/6648 [1:11:56<2:24:38,  2.13s/it]"
     ]
    },
    {
     "name": "stdout",
     "output_type": "stream",
     "text": [
      "LLM: mixtral-8x7b-32768 | Request Count: 1293\n",
      "Reached 1 requests for mixtral-8x7b-32768. Waiting for 30 seconds.\n"
     ]
    },
    {
     "name": "stderr",
     "output_type": "stream",
     "text": [
      "embedding nodes:  39%|███▉      | 2577/6648 [1:12:01<3:06:36,  2.75s/it]"
     ]
    },
    {
     "name": "stdout",
     "output_type": "stream",
     "text": [
      "LLM: mixtral-8x7b-32768 | Request Count: 1294\n",
      "Reached 1 requests for mixtral-8x7b-32768. Waiting for 30 seconds.\n",
      "LLM: mixtral-8x7b-32768 | Request Count: 1295\n",
      "Reached 1 requests for mixtral-8x7b-32768. Waiting for 30 seconds.\n",
      "LLM: mixtral-8x7b-32768 | Request Count: 1296\n",
      "Reached 1 requests for mixtral-8x7b-32768. Waiting for 30 seconds.\n"
     ]
    },
    {
     "name": "stderr",
     "output_type": "stream",
     "text": [
      "embedding nodes:  39%|███▉      | 2585/6648 [1:12:13<1:34:16,  1.39s/it]"
     ]
    },
    {
     "name": "stdout",
     "output_type": "stream",
     "text": [
      "LLM: mixtral-8x7b-32768 | Request Count: 1297\n",
      "Reached 1 requests for mixtral-8x7b-32768. Waiting for 30 seconds.\n"
     ]
    },
    {
     "name": "stderr",
     "output_type": "stream",
     "text": [
      "embedding nodes:  39%|███▉      | 2587/6648 [1:12:22<2:50:32,  2.52s/it]"
     ]
    },
    {
     "name": "stdout",
     "output_type": "stream",
     "text": [
      "LLM: mixtral-8x7b-32768 | Request Count: 1298\n",
      "Reached 1 requests for mixtral-8x7b-32768. Waiting for 30 seconds.\n"
     ]
    },
    {
     "name": "stderr",
     "output_type": "stream",
     "text": [
      "embedding nodes:  39%|███▉      | 2590/6648 [1:12:25<1:50:37,  1.64s/it]"
     ]
    },
    {
     "name": "stdout",
     "output_type": "stream",
     "text": [
      "LLM: mixtral-8x7b-32768 | Request Count: 1299\n",
      "Reached 1 requests for mixtral-8x7b-32768. Waiting for 30 seconds.\n",
      "LLM: mixtral-8x7b-32768 | Request Count: 1300\n",
      "Reached 1 requests for mixtral-8x7b-32768. Waiting for 30 seconds.\n",
      "LLM: mixtral-8x7b-32768 | Request Count: 1301\n",
      "Reached 1 requests for mixtral-8x7b-32768. Waiting for 30 seconds.\n"
     ]
    },
    {
     "name": "stderr",
     "output_type": "stream",
     "text": [
      "embedding nodes:  39%|███▉      | 2594/6648 [1:12:27<55:31,  1.22it/s]  "
     ]
    },
    {
     "name": "stdout",
     "output_type": "stream",
     "text": [
      "LLM: mixtral-8x7b-32768 | Request Count: 1302\n",
      "Reached 1 requests for mixtral-8x7b-32768. Waiting for 30 seconds.\n"
     ]
    },
    {
     "name": "stderr",
     "output_type": "stream",
     "text": [
      "embedding nodes:  39%|███▉      | 2595/6648 [1:12:31<1:49:39,  1.62s/it]"
     ]
    },
    {
     "name": "stdout",
     "output_type": "stream",
     "text": [
      "LLM: mixtral-8x7b-32768 | Request Count: 1303\n",
      "Reached 1 requests for mixtral-8x7b-32768. Waiting for 30 seconds.\n",
      "LLM: mixtral-8x7b-32768 | Request Count: 1304\n",
      "Reached 1 requests for mixtral-8x7b-32768. Waiting for 30 seconds.\n"
     ]
    },
    {
     "name": "stderr",
     "output_type": "stream",
     "text": [
      "embedding nodes:  39%|███▉      | 2597/6648 [1:12:37<2:19:38,  2.07s/it]"
     ]
    },
    {
     "name": "stdout",
     "output_type": "stream",
     "text": [
      "LLM: mixtral-8x7b-32768 | Request Count: 1305\n",
      "Reached 1 requests for mixtral-8x7b-32768. Waiting for 30 seconds.\n"
     ]
    },
    {
     "name": "stderr",
     "output_type": "stream",
     "text": [
      "embedding nodes:  39%|███▉      | 2598/6648 [1:12:40<2:32:05,  2.25s/it]"
     ]
    },
    {
     "name": "stdout",
     "output_type": "stream",
     "text": [
      "LLM: mixtral-8x7b-32768 | Request Count: 1306\n",
      "Reached 1 requests for mixtral-8x7b-32768. Waiting for 30 seconds.\n"
     ]
    },
    {
     "name": "stderr",
     "output_type": "stream",
     "text": [
      "embedding nodes:  39%|███▉      | 2605/6648 [1:12:54<1:47:28,  1.59s/it]"
     ]
    },
    {
     "name": "stdout",
     "output_type": "stream",
     "text": [
      "LLM: mixtral-8x7b-32768 | Request Count: 1307\n",
      "Reached 1 requests for mixtral-8x7b-32768. Waiting for 30 seconds.\n"
     ]
    },
    {
     "name": "stderr",
     "output_type": "stream",
     "text": [
      "embedding nodes:  39%|███▉      | 2606/6648 [1:12:55<1:38:11,  1.46s/it]"
     ]
    },
    {
     "name": "stdout",
     "output_type": "stream",
     "text": [
      "LLM: mixtral-8x7b-32768 | Request Count: 1308\n",
      "Reached 1 requests for mixtral-8x7b-32768. Waiting for 30 seconds.\n",
      "LLM: mixtral-8x7b-32768 | Request Count: 1309\n",
      "Reached 1 requests for mixtral-8x7b-32768. Waiting for 30 seconds.\n",
      "LLM: mixtral-8x7b-32768 | Request Count: 1310\n",
      "Reached 1 requests for mixtral-8x7b-32768. Waiting for 30 seconds.\n"
     ]
    },
    {
     "name": "stderr",
     "output_type": "stream",
     "text": [
      "embedding nodes:  39%|███▉      | 2609/6648 [1:12:58<1:22:36,  1.23s/it]"
     ]
    },
    {
     "name": "stdout",
     "output_type": "stream",
     "text": [
      "LLM: mixtral-8x7b-32768 | Request Count: 1311\n",
      "Reached 1 requests for mixtral-8x7b-32768. Waiting for 30 seconds.\n"
     ]
    },
    {
     "name": "stderr",
     "output_type": "stream",
     "text": [
      "embedding nodes:  39%|███▉      | 2616/6648 [1:13:10<1:26:13,  1.28s/it]"
     ]
    },
    {
     "name": "stdout",
     "output_type": "stream",
     "text": [
      "LLM: mixtral-8x7b-32768 | Request Count: 1312\n",
      "Reached 1 requests for mixtral-8x7b-32768. Waiting for 30 seconds.\n"
     ]
    },
    {
     "name": "stderr",
     "output_type": "stream",
     "text": [
      "embedding nodes:  39%|███▉      | 2617/6648 [1:13:20<3:52:42,  3.46s/it]"
     ]
    },
    {
     "name": "stdout",
     "output_type": "stream",
     "text": [
      "LLM: mixtral-8x7b-32768 | Request Count: 1313\n",
      "Reached 1 requests for mixtral-8x7b-32768. Waiting for 30 seconds.\n"
     ]
    },
    {
     "name": "stderr",
     "output_type": "stream",
     "text": [
      "embedding nodes:  39%|███▉      | 2618/6648 [1:13:21<3:19:55,  2.98s/it]"
     ]
    },
    {
     "name": "stdout",
     "output_type": "stream",
     "text": [
      "LLM: mixtral-8x7b-32768 | Request Count: 1314\n",
      "Reached 1 requests for mixtral-8x7b-32768. Waiting for 30 seconds.\n"
     ]
    },
    {
     "name": "stderr",
     "output_type": "stream",
     "text": [
      "embedding nodes:  39%|███▉      | 2619/6648 [1:13:23<3:02:01,  2.71s/it]"
     ]
    },
    {
     "name": "stdout",
     "output_type": "stream",
     "text": [
      "LLM: mixtral-8x7b-32768 | Request Count: 1315\n",
      "Reached 1 requests for mixtral-8x7b-32768. Waiting for 30 seconds.\n"
     ]
    },
    {
     "name": "stderr",
     "output_type": "stream",
     "text": [
      "embedding nodes:  39%|███▉      | 2620/6648 [1:13:24<2:17:48,  2.05s/it]"
     ]
    },
    {
     "name": "stdout",
     "output_type": "stream",
     "text": [
      "LLM: mixtral-8x7b-32768 | Request Count: 1316\n",
      "Reached 1 requests for mixtral-8x7b-32768. Waiting for 30 seconds.\n"
     ]
    },
    {
     "name": "stderr",
     "output_type": "stream",
     "text": [
      "embedding nodes:  39%|███▉      | 2624/6648 [1:13:25<56:30,  1.19it/s]  "
     ]
    },
    {
     "name": "stdout",
     "output_type": "stream",
     "text": [
      "LLM: mixtral-8x7b-32768 | Request Count: 1317\n",
      "Reached 1 requests for mixtral-8x7b-32768. Waiting for 30 seconds.\n"
     ]
    },
    {
     "name": "stderr",
     "output_type": "stream",
     "text": [
      "embedding nodes:  40%|███▉      | 2626/6648 [1:13:27<54:08,  1.24it/s]"
     ]
    },
    {
     "name": "stdout",
     "output_type": "stream",
     "text": [
      "LLM: mixtral-8x7b-32768 | Request Count: 1318\n",
      "Reached 1 requests for mixtral-8x7b-32768. Waiting for 30 seconds.\n"
     ]
    },
    {
     "name": "stderr",
     "output_type": "stream",
     "text": [
      "embedding nodes:  40%|███▉      | 2627/6648 [1:13:28<58:32,  1.14it/s]"
     ]
    },
    {
     "name": "stdout",
     "output_type": "stream",
     "text": [
      "LLM: mixtral-8x7b-32768 | Request Count: 1319\n",
      "Reached 1 requests for mixtral-8x7b-32768. Waiting for 30 seconds.\n"
     ]
    },
    {
     "name": "stderr",
     "output_type": "stream",
     "text": [
      "embedding nodes:  40%|███▉      | 2630/6648 [1:13:36<1:45:46,  1.58s/it]"
     ]
    },
    {
     "name": "stdout",
     "output_type": "stream",
     "text": [
      "LLM: mixtral-8x7b-32768 | Request Count: 1320\n",
      "Reached 1 requests for mixtral-8x7b-32768. Waiting for 30 seconds.\n",
      "LLM: mixtral-8x7b-32768 | Request Count: 1321\n",
      "Reached 1 requests for mixtral-8x7b-32768. Waiting for 30 seconds.\n"
     ]
    },
    {
     "name": "stderr",
     "output_type": "stream",
     "text": [
      "embedding nodes:  40%|███▉      | 2635/6648 [1:13:50<3:01:30,  2.71s/it]"
     ]
    },
    {
     "name": "stdout",
     "output_type": "stream",
     "text": [
      "LLM: mixtral-8x7b-32768 | Request Count: 1322\n",
      "Reached 1 requests for mixtral-8x7b-32768. Waiting for 30 seconds.\n"
     ]
    },
    {
     "name": "stderr",
     "output_type": "stream",
     "text": [
      "embedding nodes:  40%|███▉      | 2636/6648 [1:13:51<2:43:49,  2.45s/it]"
     ]
    },
    {
     "name": "stdout",
     "output_type": "stream",
     "text": [
      "LLM: mixtral-8x7b-32768 | Request Count: 1323\n",
      "Reached 1 requests for mixtral-8x7b-32768. Waiting for 30 seconds.\n"
     ]
    },
    {
     "name": "stderr",
     "output_type": "stream",
     "text": [
      "embedding nodes:  40%|███▉      | 2637/6648 [1:13:53<2:30:47,  2.26s/it]"
     ]
    },
    {
     "name": "stdout",
     "output_type": "stream",
     "text": [
      "LLM: mixtral-8x7b-32768 | Request Count: 1324\n",
      "Reached 1 requests for mixtral-8x7b-32768. Waiting for 30 seconds.\n"
     ]
    },
    {
     "name": "stderr",
     "output_type": "stream",
     "text": [
      "embedding nodes:  40%|███▉      | 2638/6648 [1:13:53<1:56:33,  1.74s/it]"
     ]
    },
    {
     "name": "stdout",
     "output_type": "stream",
     "text": [
      "LLM: mixtral-8x7b-32768 | Request Count: 1325\n",
      "Reached 1 requests for mixtral-8x7b-32768. Waiting for 30 seconds.\n"
     ]
    },
    {
     "name": "stderr",
     "output_type": "stream",
     "text": [
      "embedding nodes:  40%|███▉      | 2639/6648 [1:13:54<1:31:27,  1.37s/it]"
     ]
    },
    {
     "name": "stdout",
     "output_type": "stream",
     "text": [
      "LLM: mixtral-8x7b-32768 | Request Count: 1326\n",
      "Reached 1 requests for mixtral-8x7b-32768. Waiting for 30 seconds.\n"
     ]
    },
    {
     "name": "stderr",
     "output_type": "stream",
     "text": [
      "embedding nodes:  40%|███▉      | 2645/6648 [1:14:06<3:12:37,  2.89s/it]"
     ]
    },
    {
     "name": "stdout",
     "output_type": "stream",
     "text": [
      "LLM: mixtral-8x7b-32768 | Request Count: 1327LLM: mixtral-8x7b-32768 | Request Count: 1328\n",
      "Reached 1 requests for mixtral-8x7b-32768. Waiting for 30 seconds.\n",
      "\n",
      "Reached 1 requests for mixtral-8x7b-32768. Waiting for 30 seconds.\n"
     ]
    },
    {
     "name": "stderr",
     "output_type": "stream",
     "text": [
      "embedding nodes:  40%|███▉      | 2647/6648 [1:14:07<2:06:57,  1.90s/it]"
     ]
    },
    {
     "name": "stdout",
     "output_type": "stream",
     "text": [
      "LLM: mixtral-8x7b-32768 | Request Count: 1329\n",
      "Reached 1 requests for mixtral-8x7b-32768. Waiting for 30 seconds.\n"
     ]
    },
    {
     "name": "stderr",
     "output_type": "stream",
     "text": [
      "embedding nodes:  40%|███▉      | 2648/6648 [1:14:08<1:48:08,  1.62s/it]"
     ]
    },
    {
     "name": "stdout",
     "output_type": "stream",
     "text": [
      "LLM: mixtral-8x7b-32768 | Request Count: 1330\n",
      "Reached 1 requests for mixtral-8x7b-32768. Waiting for 30 seconds.\n"
     ]
    },
    {
     "name": "stderr",
     "output_type": "stream",
     "text": [
      "embedding nodes:  40%|███▉      | 2656/6648 [1:14:21<1:25:56,  1.29s/it]"
     ]
    },
    {
     "name": "stdout",
     "output_type": "stream",
     "text": [
      "LLM: mixtral-8x7b-32768 | Request Count: 1331\n",
      "Reached 1 requests for mixtral-8x7b-32768. Waiting for 30 seconds.\n",
      "LLM: mixtral-8x7b-32768 | Request Count: 1332\n",
      "Reached 1 requests for mixtral-8x7b-32768. Waiting for 30 seconds.\n",
      "LLM: mixtral-8x7b-32768 | Request Count: 1333\n",
      "Reached 1 requests for mixtral-8x7b-32768. Waiting for 30 seconds.\n"
     ]
    },
    {
     "name": "stderr",
     "output_type": "stream",
     "text": [
      "embedding nodes:  40%|███▉      | 2658/6648 [1:14:23<1:14:47,  1.12s/it]"
     ]
    },
    {
     "name": "stdout",
     "output_type": "stream",
     "text": [
      "LLM: mixtral-8x7b-32768 | Request Count: 1334\n",
      "Reached 1 requests for mixtral-8x7b-32768. Waiting for 30 seconds.\n"
     ]
    },
    {
     "name": "stderr",
     "output_type": "stream",
     "text": [
      "embedding nodes:  40%|███▉      | 2659/6648 [1:14:24<59:48,  1.11it/s]  "
     ]
    },
    {
     "name": "stdout",
     "output_type": "stream",
     "text": [
      "LLM: mixtral-8x7b-32768 | Request Count: 1335\n",
      "Reached 1 requests for mixtral-8x7b-32768. Waiting for 30 seconds.\n"
     ]
    },
    {
     "name": "stderr",
     "output_type": "stream",
     "text": [
      "embedding nodes:  40%|████      | 2660/6648 [1:14:36<4:42:06,  4.24s/it]"
     ]
    },
    {
     "name": "stdout",
     "output_type": "stream",
     "text": [
      "LLM: mixtral-8x7b-32768 | Request Count: 1336\n",
      "Reached 1 requests for mixtral-8x7b-32768. Waiting for 30 seconds.\n"
     ]
    },
    {
     "name": "stderr",
     "output_type": "stream",
     "text": [
      "embedding nodes:  40%|████      | 2665/6648 [1:14:38<1:19:29,  1.20s/it]"
     ]
    },
    {
     "name": "stdout",
     "output_type": "stream",
     "text": [
      "LLM: mixtral-8x7b-32768 | Request Count: 1337\n",
      "Reached 1 requests for mixtral-8x7b-32768. Waiting for 30 seconds.\n",
      "LLM: mixtral-8x7b-32768 | Request Count: 1338\n",
      "Reached 1 requests for mixtral-8x7b-32768. Waiting for 30 seconds.\n"
     ]
    },
    {
     "name": "stderr",
     "output_type": "stream",
     "text": [
      "embedding nodes:  40%|████      | 2666/6648 [1:14:41<1:57:48,  1.78s/it]"
     ]
    },
    {
     "name": "stdout",
     "output_type": "stream",
     "text": [
      "LLM: mixtral-8x7b-32768 | Request Count: 1339LLM: mixtral-8x7b-32768 | Request Count: 1340\n",
      "Reached 1 requests for mixtral-8x7b-32768. Waiting for 30 seconds.\n",
      "LLM: mixtral-8x7b-32768 | Request Count: 1341\n",
      "Reached 1 requests for mixtral-8x7b-32768. Waiting for 30 seconds.\n",
      "\n",
      "Reached 1 requests for mixtral-8x7b-32768. Waiting for 30 seconds.\n"
     ]
    },
    {
     "name": "stderr",
     "output_type": "stream",
     "text": [
      "embedding nodes:  40%|████      | 2676/6648 [1:15:06<3:12:22,  2.91s/it]"
     ]
    },
    {
     "name": "stdout",
     "output_type": "stream",
     "text": [
      "LLM: mixtral-8x7b-32768 | Request Count: 1342\n",
      "Reached 1 requests for mixtral-8x7b-32768. Waiting for 30 seconds.\n"
     ]
    },
    {
     "name": "stderr",
     "output_type": "stream",
     "text": [
      "embedding nodes:  40%|████      | 2677/6648 [1:15:09<3:15:20,  2.95s/it]"
     ]
    },
    {
     "name": "stdout",
     "output_type": "stream",
     "text": [
      "LLM: mixtral-8x7b-32768 | Request Count: 1343\n",
      "Reached 1 requests for mixtral-8x7b-32768. Waiting for 30 seconds.\n"
     ]
    },
    {
     "name": "stderr",
     "output_type": "stream",
     "text": [
      "embedding nodes:  40%|████      | 2678/6648 [1:15:10<2:44:18,  2.48s/it]"
     ]
    },
    {
     "name": "stdout",
     "output_type": "stream",
     "text": [
      "LLM: mixtral-8x7b-32768 | Request Count: 1344\n",
      "Reached 1 requests for mixtral-8x7b-32768. Waiting for 30 seconds.\n",
      "LLM: mixtral-8x7b-32768 | Request Count: 1345\n",
      "Reached 1 requests for mixtral-8x7b-32768. Waiting for 30 seconds.\n"
     ]
    },
    {
     "name": "stderr",
     "output_type": "stream",
     "text": [
      "embedding nodes:  40%|████      | 2680/6648 [1:15:12<1:48:53,  1.65s/it]"
     ]
    },
    {
     "name": "stdout",
     "output_type": "stream",
     "text": [
      "LLM: mixtral-8x7b-32768 | Request Count: 1346\n",
      "Reached 1 requests for mixtral-8x7b-32768. Waiting for 30 seconds.\n"
     ]
    },
    {
     "name": "stderr",
     "output_type": "stream",
     "text": [
      "embedding nodes:  40%|████      | 2684/6648 [1:15:14<50:40,  1.30it/s]  "
     ]
    },
    {
     "name": "stdout",
     "output_type": "stream",
     "text": [
      "LLM: mixtral-8x7b-32768 | Request Count: 1347\n",
      "Reached 1 requests for mixtral-8x7b-32768. Waiting for 30 seconds.\n"
     ]
    },
    {
     "name": "stderr",
     "output_type": "stream",
     "text": [
      "embedding nodes:  40%|████      | 2685/6648 [1:15:22<2:45:32,  2.51s/it]"
     ]
    },
    {
     "name": "stdout",
     "output_type": "stream",
     "text": [
      "LLM: mixtral-8x7b-32768 | Request Count: 1349\n",
      "Reached 1 requests for mixtral-8x7b-32768. Waiting for 30 seconds.\n",
      "LLM: mixtral-8x7b-32768 | Request Count: 1350\n",
      "Reached 1 requests for mixtral-8x7b-32768. Waiting for 30 seconds.\n",
      "LLM: mixtral-8x7b-32768 | Request Count: 1348\n",
      "Reached 1 requests for mixtral-8x7b-32768. Waiting for 30 seconds.\n"
     ]
    },
    {
     "name": "stderr",
     "output_type": "stream",
     "text": [
      "embedding nodes:  40%|████      | 2688/6648 [1:15:28<2:34:19,  2.34s/it]"
     ]
    },
    {
     "name": "stdout",
     "output_type": "stream",
     "text": [
      "LLM: mixtral-8x7b-32768 | Request Count: 1351\n",
      "Reached 1 requests for mixtral-8x7b-32768. Waiting for 30 seconds.\n"
     ]
    },
    {
     "name": "stderr",
     "output_type": "stream",
     "text": [
      "embedding nodes:  41%|████      | 2693/6648 [1:15:40<2:28:17,  2.25s/it]"
     ]
    },
    {
     "name": "stdout",
     "output_type": "stream",
     "text": [
      "LLM: mixtral-8x7b-32768 | Request Count: 1352\n",
      "Reached 1 requests for mixtral-8x7b-32768. Waiting for 30 seconds.\n"
     ]
    },
    {
     "name": "stderr",
     "output_type": "stream",
     "text": [
      "embedding nodes:  41%|████      | 2695/6648 [1:15:44<2:20:28,  2.13s/it]"
     ]
    },
    {
     "name": "stdout",
     "output_type": "stream",
     "text": [
      "LLM: mixtral-8x7b-32768 | Request Count: 1353\n",
      "Reached 1 requests for mixtral-8x7b-32768. Waiting for 30 seconds.\n"
     ]
    },
    {
     "name": "stderr",
     "output_type": "stream",
     "text": [
      "embedding nodes:  41%|████      | 2696/6648 [1:15:46<2:08:34,  1.95s/it]"
     ]
    },
    {
     "name": "stdout",
     "output_type": "stream",
     "text": [
      "LLM: mixtral-8x7b-32768 | Request Count: 1354\n",
      "Reached 1 requests for mixtral-8x7b-32768. Waiting for 30 seconds.\n",
      "LLM: mixtral-8x7b-32768 | Request Count: 1355\n",
      "Reached 1 requests for mixtral-8x7b-32768. Waiting for 30 seconds.\n"
     ]
    },
    {
     "name": "stderr",
     "output_type": "stream",
     "text": [
      "embedding nodes:  41%|████      | 2701/6648 [1:15:57<2:19:23,  2.12s/it]"
     ]
    },
    {
     "name": "stdout",
     "output_type": "stream",
     "text": [
      "LLM: mixtral-8x7b-32768 | Request Count: 1356\n",
      "Reached 1 requests for mixtral-8x7b-32768. Waiting for 30 seconds.\n"
     ]
    },
    {
     "name": "stderr",
     "output_type": "stream",
     "text": [
      "embedding nodes:  41%|████      | 2702/6648 [1:15:58<2:08:06,  1.95s/it]"
     ]
    },
    {
     "name": "stdout",
     "output_type": "stream",
     "text": [
      "LLM: mixtral-8x7b-32768 | Request Count: 1357\n",
      "Reached 1 requests for mixtral-8x7b-32768. Waiting for 30 seconds.\n"
     ]
    },
    {
     "name": "stderr",
     "output_type": "stream",
     "text": [
      "embedding nodes:  41%|████      | 2703/6648 [1:15:59<1:46:10,  1.61s/it]"
     ]
    },
    {
     "name": "stdout",
     "output_type": "stream",
     "text": [
      "LLM: mixtral-8x7b-32768 | Request Count: 1358\n",
      "Reached 1 requests for mixtral-8x7b-32768. Waiting for 30 seconds.\n"
     ]
    },
    {
     "name": "stderr",
     "output_type": "stream",
     "text": [
      "embedding nodes:  41%|████      | 2708/6648 [1:16:08<1:49:53,  1.67s/it]"
     ]
    },
    {
     "name": "stdout",
     "output_type": "stream",
     "text": [
      "LLM: mixtral-8x7b-32768 | Request Count: 1359\n",
      "Reached 1 requests for mixtral-8x7b-32768. Waiting for 30 seconds.\n",
      "LLM: mixtral-8x7b-32768 | Request Count: 1360\n",
      "Reached 1 requests for mixtral-8x7b-32768. Waiting for 30 seconds.\n"
     ]
    },
    {
     "name": "stderr",
     "output_type": "stream",
     "text": [
      "embedding nodes:  41%|████      | 2709/6648 [1:16:12<2:13:46,  2.04s/it]"
     ]
    },
    {
     "name": "stdout",
     "output_type": "stream",
     "text": [
      "LLM: mixtral-8x7b-32768 | Request Count: 1361\n",
      "Reached 1 requests for mixtral-8x7b-32768. Waiting for 30 seconds.\n"
     ]
    },
    {
     "name": "stderr",
     "output_type": "stream",
     "text": [
      "embedding nodes:  41%|████      | 2712/6648 [1:16:14<1:33:15,  1.42s/it]"
     ]
    },
    {
     "name": "stdout",
     "output_type": "stream",
     "text": [
      "LLM: mixtral-8x7b-32768 | Request Count: 1362\n",
      "Reached 1 requests for mixtral-8x7b-32768. Waiting for 30 seconds.\n",
      "LLM: mixtral-8x7b-32768 | Request Count: 1363\n",
      "Reached 1 requests for mixtral-8x7b-32768. Waiting for 30 seconds.\n"
     ]
    },
    {
     "name": "stderr",
     "output_type": "stream",
     "text": [
      "embedding nodes:  41%|████      | 2715/6648 [1:16:24<3:19:27,  3.04s/it]"
     ]
    },
    {
     "name": "stdout",
     "output_type": "stream",
     "text": [
      "LLM: mixtral-8x7b-32768 | Request Count: 1364\n",
      "Reached 1 requests for mixtral-8x7b-32768. Waiting for 30 seconds.\n"
     ]
    },
    {
     "name": "stderr",
     "output_type": "stream",
     "text": [
      "embedding nodes:  41%|████      | 2720/6648 [1:16:28<1:17:53,  1.19s/it]"
     ]
    },
    {
     "name": "stdout",
     "output_type": "stream",
     "text": [
      "LLM: mixtral-8x7b-32768 | Request Count: 1365\n",
      "Reached 1 requests for mixtral-8x7b-32768. Waiting for 30 seconds.\n",
      "LLM: mixtral-8x7b-32768 | Request Count: 1366\n",
      "Reached 1 requests for mixtral-8x7b-32768. Waiting for 30 seconds.\n"
     ]
    },
    {
     "name": "stderr",
     "output_type": "stream",
     "text": [
      "embedding nodes:  41%|████      | 2721/6648 [1:16:29<1:04:44,  1.01it/s]"
     ]
    },
    {
     "name": "stdout",
     "output_type": "stream",
     "text": [
      "LLM: mixtral-8x7b-32768 | Request Count: 1367\n",
      "Reached 1 requests for mixtral-8x7b-32768. Waiting for 30 seconds.\n"
     ]
    },
    {
     "name": "stderr",
     "output_type": "stream",
     "text": [
      "embedding nodes:  41%|████      | 2722/6648 [1:16:37<3:10:11,  2.91s/it]"
     ]
    },
    {
     "name": "stdout",
     "output_type": "stream",
     "text": [
      "LLM: mixtral-8x7b-32768 | Request Count: 1368\n",
      "Reached 1 requests for mixtral-8x7b-32768. Waiting for 30 seconds.\n",
      "LLM: mixtral-8x7b-32768 | Request Count: 1369\n",
      "Reached 1 requests for mixtral-8x7b-32768. Waiting for 30 seconds.\n"
     ]
    },
    {
     "name": "stderr",
     "output_type": "stream",
     "text": [
      "embedding nodes:  41%|████      | 2725/6648 [1:16:38<1:44:26,  1.60s/it]"
     ]
    },
    {
     "name": "stdout",
     "output_type": "stream",
     "text": [
      "LLM: mixtral-8x7b-32768 | Request Count: 1370\n",
      "Reached 1 requests for mixtral-8x7b-32768. Waiting for 30 seconds.\n"
     ]
    },
    {
     "name": "stderr",
     "output_type": "stream",
     "text": [
      "embedding nodes:  41%|████      | 2731/6648 [1:16:47<1:28:56,  1.36s/it]"
     ]
    },
    {
     "name": "stdout",
     "output_type": "stream",
     "text": [
      "LLM: mixtral-8x7b-32768 | Request Count: 1371\n",
      "Reached 1 requests for mixtral-8x7b-32768. Waiting for 30 seconds.\n"
     ]
    },
    {
     "name": "stderr",
     "output_type": "stream",
     "text": [
      "embedding nodes:  41%|████      | 2732/6648 [1:16:52<2:20:07,  2.15s/it]"
     ]
    },
    {
     "name": "stdout",
     "output_type": "stream",
     "text": [
      "LLM: mixtral-8x7b-32768 | Request Count: 1372\n",
      "Reached 1 requests for mixtral-8x7b-32768. Waiting for 30 seconds.\n"
     ]
    },
    {
     "name": "stderr",
     "output_type": "stream",
     "text": [
      "embedding nodes:  41%|████      | 2733/6648 [1:16:54<2:16:16,  2.09s/it]"
     ]
    },
    {
     "name": "stdout",
     "output_type": "stream",
     "text": [
      "LLM: mixtral-8x7b-32768 | Request Count: 1373\n",
      "Reached 1 requests for mixtral-8x7b-32768. Waiting for 30 seconds.\n"
     ]
    },
    {
     "name": "stderr",
     "output_type": "stream",
     "text": [
      "embedding nodes:  41%|████      | 2737/6648 [1:16:59<1:41:21,  1.56s/it]"
     ]
    },
    {
     "name": "stdout",
     "output_type": "stream",
     "text": [
      "LLM: mixtral-8x7b-32768 | Request Count: 1374\n",
      "Reached 1 requests for mixtral-8x7b-32768. Waiting for 30 seconds.\n",
      "LLM: mixtral-8x7b-32768 | Request Count: 1375\n",
      "Reached 1 requests for mixtral-8x7b-32768. Waiting for 30 seconds.\n"
     ]
    },
    {
     "name": "stderr",
     "output_type": "stream",
     "text": [
      "embedding nodes:  41%|████      | 2740/6648 [1:17:05<2:23:23,  2.20s/it]"
     ]
    },
    {
     "name": "stdout",
     "output_type": "stream",
     "text": [
      "LLM: mixtral-8x7b-32768 | Request Count: 1376\n",
      "Reached 1 requests for mixtral-8x7b-32768. Waiting for 30 seconds.\n",
      "LLM: mixtral-8x7b-32768 | Request Count: 1377\n",
      "Reached 1 requests for mixtral-8x7b-32768. Waiting for 30 seconds.\n"
     ]
    },
    {
     "name": "stderr",
     "output_type": "stream",
     "text": [
      "embedding nodes:  41%|████      | 2742/6648 [1:17:06<1:32:40,  1.42s/it]"
     ]
    },
    {
     "name": "stdout",
     "output_type": "stream",
     "text": [
      "LLM: mixtral-8x7b-32768 | Request Count: 1378\n",
      "Reached 1 requests for mixtral-8x7b-32768. Waiting for 30 seconds.\n"
     ]
    },
    {
     "name": "stderr",
     "output_type": "stream",
     "text": [
      "embedding nodes:  41%|████▏     | 2745/6648 [1:17:08<1:11:29,  1.10s/it]"
     ]
    },
    {
     "name": "stdout",
     "output_type": "stream",
     "text": [
      "LLM: mixtral-8x7b-32768 | Request Count: 1379\n",
      "Reached 1 requests for mixtral-8x7b-32768. Waiting for 30 seconds.\n"
     ]
    },
    {
     "name": "stderr",
     "output_type": "stream",
     "text": [
      "embedding nodes:  41%|████▏     | 2747/6648 [1:17:16<2:34:19,  2.37s/it]"
     ]
    },
    {
     "name": "stdout",
     "output_type": "stream",
     "text": [
      "LLM: mixtral-8x7b-32768 | Request Count: 1380\n",
      "Reached 1 requests for mixtral-8x7b-32768. Waiting for 30 seconds.\n"
     ]
    },
    {
     "name": "stderr",
     "output_type": "stream",
     "text": [
      "embedding nodes:  41%|████▏     | 2750/6648 [1:17:18<1:35:22,  1.47s/it]"
     ]
    },
    {
     "name": "stdout",
     "output_type": "stream",
     "text": [
      "LLM: mixtral-8x7b-32768 | Request Count: 1381\n",
      "Reached 1 requests for mixtral-8x7b-32768. Waiting for 30 seconds.\n"
     ]
    },
    {
     "name": "stderr",
     "output_type": "stream",
     "text": [
      "embedding nodes:  41%|████▏     | 2751/6648 [1:17:22<2:18:27,  2.13s/it]"
     ]
    },
    {
     "name": "stdout",
     "output_type": "stream",
     "text": [
      "LLM: mixtral-8x7b-32768 | Request Count: 1382\n",
      "Reached 1 requests for mixtral-8x7b-32768. Waiting for 30 seconds.\n"
     ]
    },
    {
     "name": "stderr",
     "output_type": "stream",
     "text": [
      "embedding nodes:  41%|████▏     | 2752/6648 [1:17:24<2:13:52,  2.06s/it]"
     ]
    },
    {
     "name": "stdout",
     "output_type": "stream",
     "text": [
      "LLM: mixtral-8x7b-32768 | Request Count: 1383\n",
      "Reached 1 requests for mixtral-8x7b-32768. Waiting for 30 seconds.\n"
     ]
    },
    {
     "name": "stderr",
     "output_type": "stream",
     "text": [
      "embedding nodes:  41%|████▏     | 2753/6648 [1:17:27<2:28:31,  2.29s/it]"
     ]
    },
    {
     "name": "stdout",
     "output_type": "stream",
     "text": [
      "LLM: mixtral-8x7b-32768 | Request Count: 1384\n",
      "Reached 1 requests for mixtral-8x7b-32768. Waiting for 30 seconds.\n"
     ]
    },
    {
     "name": "stderr",
     "output_type": "stream",
     "text": [
      "embedding nodes:  41%|████▏     | 2754/6648 [1:17:28<1:59:03,  1.83s/it]"
     ]
    },
    {
     "name": "stdout",
     "output_type": "stream",
     "text": [
      "LLM: mixtral-8x7b-32768 | Request Count: 1385\n",
      "Reached 1 requests for mixtral-8x7b-32768. Waiting for 30 seconds.\n"
     ]
    },
    {
     "name": "stderr",
     "output_type": "stream",
     "text": [
      "embedding nodes:  42%|████▏     | 2761/6648 [1:17:40<1:46:23,  1.64s/it]"
     ]
    },
    {
     "name": "stdout",
     "output_type": "stream",
     "text": [
      "LLM: mixtral-8x7b-32768 | Request Count: 1386\n",
      "Reached 1 requests for mixtral-8x7b-32768. Waiting for 30 seconds.\n",
      "LLM: mixtral-8x7b-32768 | Request Count: 1387\n",
      "Reached 1 requests for mixtral-8x7b-32768. Waiting for 30 seconds.\n"
     ]
    },
    {
     "name": "stderr",
     "output_type": "stream",
     "text": [
      "embedding nodes:  42%|████▏     | 2765/6648 [1:17:46<1:31:30,  1.41s/it]"
     ]
    },
    {
     "name": "stdout",
     "output_type": "stream",
     "text": [
      "LLM: mixtral-8x7b-32768 | Request Count: 1388\n",
      "Reached 1 requests for mixtral-8x7b-32768. Waiting for 30 seconds.\n"
     ]
    },
    {
     "name": "stderr",
     "output_type": "stream",
     "text": [
      "embedding nodes:  42%|████▏     | 2767/6648 [1:17:47<1:17:24,  1.20s/it]"
     ]
    },
    {
     "name": "stdout",
     "output_type": "stream",
     "text": [
      "LLM: mixtral-8x7b-32768 | Request Count: 1389\n",
      "Reached 1 requests for mixtral-8x7b-32768. Waiting for 30 seconds.\n"
     ]
    },
    {
     "name": "stderr",
     "output_type": "stream",
     "text": [
      "embedding nodes:  42%|████▏     | 2768/6648 [1:17:49<1:19:08,  1.22s/it]"
     ]
    },
    {
     "name": "stdout",
     "output_type": "stream",
     "text": [
      "LLM: mixtral-8x7b-32768 | Request Count: 1390\n",
      "Reached 1 requests for mixtral-8x7b-32768. Waiting for 30 seconds.\n"
     ]
    },
    {
     "name": "stderr",
     "output_type": "stream",
     "text": [
      "embedding nodes:  42%|████▏     | 2769/6648 [1:17:52<1:51:48,  1.73s/it]"
     ]
    },
    {
     "name": "stdout",
     "output_type": "stream",
     "text": [
      "LLM: mixtral-8x7b-32768 | Request Count: 1391\n",
      "Reached 1 requests for mixtral-8x7b-32768. Waiting for 30 seconds.\n"
     ]
    },
    {
     "name": "stderr",
     "output_type": "stream",
     "text": [
      "embedding nodes:  42%|████▏     | 2773/6648 [1:17:54<57:39,  1.12it/s]  "
     ]
    },
    {
     "name": "stdout",
     "output_type": "stream",
     "text": [
      "LLM: mixtral-8x7b-32768 | Request Count: 1392\n",
      "Reached 1 requests for mixtral-8x7b-32768. Waiting for 30 seconds.\n"
     ]
    },
    {
     "name": "stderr",
     "output_type": "stream",
     "text": [
      "embedding nodes:  42%|████▏     | 2774/6648 [1:17:57<1:29:34,  1.39s/it]"
     ]
    },
    {
     "name": "stdout",
     "output_type": "stream",
     "text": [
      "LLM: mixtral-8x7b-32768 | Request Count: 1393\n",
      "Reached 1 requests for mixtral-8x7b-32768. Waiting for 30 seconds.\n"
     ]
    },
    {
     "name": "stderr",
     "output_type": "stream",
     "text": [
      "embedding nodes:  42%|████▏     | 2775/6648 [1:17:58<1:16:25,  1.18s/it]"
     ]
    },
    {
     "name": "stdout",
     "output_type": "stream",
     "text": [
      "LLM: mixtral-8x7b-32768 | Request Count: 1394\n",
      "Reached 1 requests for mixtral-8x7b-32768. Waiting for 30 seconds.\n"
     ]
    },
    {
     "name": "stderr",
     "output_type": "stream",
     "text": [
      "embedding nodes:  42%|████▏     | 2776/6648 [1:17:59<1:18:50,  1.22s/it]"
     ]
    },
    {
     "name": "stdout",
     "output_type": "stream",
     "text": [
      "LLM: mixtral-8x7b-32768 | Request Count: 1395LLM: mixtral-8x7b-32768 | Request Count: 1396\n",
      "Reached 1 requests for mixtral-8x7b-32768. Waiting for 30 seconds.\n",
      "\n",
      "Reached 1 requests for mixtral-8x7b-32768. Waiting for 30 seconds.\n"
     ]
    },
    {
     "name": "stderr",
     "output_type": "stream",
     "text": [
      "embedding nodes:  42%|████▏     | 2783/6648 [1:18:16<2:28:10,  2.30s/it]"
     ]
    },
    {
     "name": "stdout",
     "output_type": "stream",
     "text": [
      "LLM: mixtral-8x7b-32768 | Request Count: 1397\n",
      "Reached 1 requests for mixtral-8x7b-32768. Waiting for 30 seconds.\n"
     ]
    },
    {
     "name": "stderr",
     "output_type": "stream",
     "text": [
      "embedding nodes:  42%|████▏     | 2784/6648 [1:18:17<2:18:05,  2.14s/it]"
     ]
    },
    {
     "name": "stdout",
     "output_type": "stream",
     "text": [
      "LLM: mixtral-8x7b-32768 | Request Count: 1398\n",
      "Reached 1 requests for mixtral-8x7b-32768. Waiting for 30 seconds.\n"
     ]
    },
    {
     "name": "stderr",
     "output_type": "stream",
     "text": [
      "embedding nodes:  42%|████▏     | 2785/6648 [1:18:19<2:05:47,  1.95s/it]"
     ]
    },
    {
     "name": "stdout",
     "output_type": "stream",
     "text": [
      "LLM: mixtral-8x7b-32768 | Request Count: 1399\n",
      "Reached 1 requests for mixtral-8x7b-32768. Waiting for 30 seconds.\n"
     ]
    },
    {
     "name": "stderr",
     "output_type": "stream",
     "text": [
      "embedding nodes:  42%|████▏     | 2787/6648 [1:18:22<1:55:18,  1.79s/it]"
     ]
    },
    {
     "name": "stdout",
     "output_type": "stream",
     "text": [
      "LLM: mixtral-8x7b-32768 | Request Count: 1400\n",
      "Reached 1 requests for mixtral-8x7b-32768. Waiting for 30 seconds.\n"
     ]
    },
    {
     "name": "stderr",
     "output_type": "stream",
     "text": [
      "embedding nodes:  42%|████▏     | 2792/6648 [1:18:28<1:04:54,  1.01s/it]"
     ]
    },
    {
     "name": "stdout",
     "output_type": "stream",
     "text": [
      "LLM: mixtral-8x7b-32768 | Request Count: 1401\n",
      "Reached 1 requests for mixtral-8x7b-32768. Waiting for 30 seconds.\n",
      "LLM: mixtral-8x7b-32768 | Request Count: 1402\n",
      "Reached 1 requests for mixtral-8x7b-32768. Waiting for 30 seconds.\n"
     ]
    },
    {
     "name": "stderr",
     "output_type": "stream",
     "text": [
      "embedding nodes:  42%|████▏     | 2793/6648 [1:18:29<1:09:46,  1.09s/it]"
     ]
    },
    {
     "name": "stdout",
     "output_type": "stream",
     "text": [
      "LLM: mixtral-8x7b-32768 | Request Count: 1403\n",
      "Reached 1 requests for mixtral-8x7b-32768. Waiting for 30 seconds.\n",
      "LLM: mixtral-8x7b-32768 | Request Count: 1404\n",
      "Reached 1 requests for mixtral-8x7b-32768. Waiting for 30 seconds.\n",
      "LLM: mixtral-8x7b-32768 | Request Count: 1405\n",
      "Reached 1 requests for mixtral-8x7b-32768. Waiting for 30 seconds.\n"
     ]
    },
    {
     "name": "stderr",
     "output_type": "stream",
     "text": [
      "embedding nodes:  42%|████▏     | 2795/6648 [1:18:47<4:35:26,  4.29s/it]"
     ]
    },
    {
     "name": "stdout",
     "output_type": "stream",
     "text": [
      "LLM: mixtral-8x7b-32768 | Request Count: 1406\n",
      "Reached 1 requests for mixtral-8x7b-32768. Waiting for 30 seconds.\n"
     ]
    },
    {
     "name": "stderr",
     "output_type": "stream",
     "text": [
      "embedding nodes:  42%|████▏     | 2803/6648 [1:18:59<3:09:29,  2.96s/it]"
     ]
    },
    {
     "name": "stdout",
     "output_type": "stream",
     "text": [
      "LLM: mixtral-8x7b-32768 | Request Count: 1407\n",
      "Reached 1 requests for mixtral-8x7b-32768. Waiting for 30 seconds.\n",
      "LLM: mixtral-8x7b-32768 | Request Count: 1408\n",
      "Reached 1 requests for mixtral-8x7b-32768. Waiting for 30 seconds.\n"
     ]
    },
    {
     "name": "stderr",
     "output_type": "stream",
     "text": [
      "embedding nodes:  42%|████▏     | 2807/6648 [1:19:11<3:39:58,  3.44s/it]"
     ]
    },
    {
     "name": "stdout",
     "output_type": "stream",
     "text": [
      "LLM: mixtral-8x7b-32768 | Request Count: 1409LLM: mixtral-8x7b-32768 | Request Count: 1410\n",
      "Reached 1 requests for mixtral-8x7b-32768. Waiting for 30 seconds.\n",
      "\n",
      "Reached 1 requests for mixtral-8x7b-32768. Waiting for 30 seconds.\n"
     ]
    },
    {
     "name": "stderr",
     "output_type": "stream",
     "text": [
      "embedding nodes:  42%|████▏     | 2810/6648 [1:19:14<2:14:41,  2.11s/it]"
     ]
    },
    {
     "name": "stdout",
     "output_type": "stream",
     "text": [
      "LLM: mixtral-8x7b-32768 | Request Count: 1411\n",
      "Reached 1 requests for mixtral-8x7b-32768. Waiting for 30 seconds.\n"
     ]
    },
    {
     "name": "stderr",
     "output_type": "stream",
     "text": [
      "embedding nodes:  42%|████▏     | 2811/6648 [1:19:15<1:59:01,  1.86s/it]"
     ]
    },
    {
     "name": "stdout",
     "output_type": "stream",
     "text": [
      "LLM: mixtral-8x7b-32768 | Request Count: 1412\n",
      "Reached 1 requests for mixtral-8x7b-32768. Waiting for 30 seconds.\n"
     ]
    },
    {
     "name": "stderr",
     "output_type": "stream",
     "text": [
      "embedding nodes:  42%|████▏     | 2814/6648 [1:19:17<1:20:40,  1.26s/it]"
     ]
    },
    {
     "name": "stdout",
     "output_type": "stream",
     "text": [
      "LLM: mixtral-8x7b-32768 | Request Count: 1413\n",
      "Reached 1 requests for mixtral-8x7b-32768. Waiting for 30 seconds.\n"
     ]
    },
    {
     "name": "stderr",
     "output_type": "stream",
     "text": [
      "embedding nodes:  42%|████▏     | 2815/6648 [1:19:19<1:31:48,  1.44s/it]"
     ]
    },
    {
     "name": "stdout",
     "output_type": "stream",
     "text": [
      "LLM: mixtral-8x7b-32768 | Request Count: 1414\n",
      "Reached 1 requests for mixtral-8x7b-32768. Waiting for 30 seconds.\n"
     ]
    },
    {
     "name": "stderr",
     "output_type": "stream",
     "text": [
      "embedding nodes:  42%|████▏     | 2816/6648 [1:19:19<1:16:37,  1.20s/it]"
     ]
    }
   ],
   "source": [
    "import time\n",
    "from ragas.testset.generator import TestsetGenerator\n",
    "from ragas.testset.evolutions import simple, reasoning, multi_context\n",
    "import groq\n",
    "\n",
    "# Initialize the generator\n",
    "generator = TestsetGenerator.from_langchain(\n",
    "    generator_llm,\n",
    "    critic_llm,\n",
    "    embeddings\n",
    ")\n",
    "\n",
    "# Change resulting question type distribution\n",
    "distributions = {\n",
    "    simple: 0.5,\n",
    "    multi_context: 0.4,\n",
    "    reasoning: 0.1\n",
    "}\n",
    "\n",
    "# Generate testset with retries\n",
    "testset = generator.generate_with_langchain_docs(docs, 50, distributions)\n",
    "print(testset)\n"
   ]
  },
  {
   "cell_type": "code",
   "execution_count": null,
   "metadata": {},
   "outputs": [],
   "source": []
  }
 ],
 "metadata": {
  "kernelspec": {
   "display_name": "temp-env",
   "language": "python",
   "name": "python3"
  },
  "language_info": {
   "codemirror_mode": {
    "name": "ipython",
    "version": 3
   },
   "file_extension": ".py",
   "mimetype": "text/x-python",
   "name": "python",
   "nbconvert_exporter": "python",
   "pygments_lexer": "ipython3",
   "version": "3.1.-1"
  }
 },
 "nbformat": 4,
 "nbformat_minor": 2
}
