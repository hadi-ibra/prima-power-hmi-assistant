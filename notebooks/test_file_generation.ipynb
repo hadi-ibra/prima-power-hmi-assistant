{
 "cells": [
  {
   "cell_type": "code",
   "execution_count": 1,
   "metadata": {},
   "outputs": [],
   "source": [
    "import os\n",
    "\n",
    "os.environ[\"GROQ_API_KEY\"] = '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'"
   ]
  },
  {
   "cell_type": "code",
   "execution_count": 2,
   "metadata": {},
   "outputs": [],
   "source": [
    "import pickle\n",
    "pickle_file = \"/Users/hadiibrahim/Dev/prima-power-hmi-assistant/src/docs.pkl\"\n",
    "with open(pickle_file, \"rb\") as file:\n",
    "    docs = pickle.load(file)"
   ]
  },
  {
   "cell_type": "code",
   "execution_count": 3,
   "metadata": {},
   "outputs": [],
   "source": [
    "import time\n",
    "from langchain_groq import ChatGroq\n",
    "from langchain.callbacks.base import BaseCallbackHandler\n",
    "\n",
    "class RateLimitCallback(BaseCallbackHandler):\n",
    "    def __init__(self, llm_name, limit=29, wait_time=5):\n",
    "        self.llm_name = llm_name\n",
    "        self.request_count = 0\n",
    "        self.limit = limit\n",
    "        self.wait_time = wait_time\n",
    "\n",
    "    def on_llm_end(self, response, **kwargs):\n",
    "        self.request_count += 1\n",
    "        print(f\"LLM: {self.llm_name} | Request Count: {self.request_count}\")\n",
    "        if self.llm_name == 'mixtral-8x7b-32768' and  self.request_count % self.limit == 0 and self.request_count < 3341:\n",
    "            print(f\"Reached {self.limit} requests for {self.llm_name}. Waiting for {self.wait_time} seconds.\")\n",
    "            time.sleep(self.wait_time)\n",
    "        elif self.llm_name == 'mixtral-8x7b-32768' and  self.request_count % 29 == 0 and self.request_count >= 3341:\n",
    "            print(f\"Reached 25 requests for {self.llm_name}. Waiting for 2 seconds.\")\n",
    "            time.sleep(2)\n",
    "        if self.llm_name == 'llama3-70b-819' and  self.request_count % 29 == 0:\n",
    "            print(f\"Reached 25 requests for {self.llm_name}. Waiting for 2 seconds.\")\n",
    "            time.sleep(2)\n",
    "\n",
    "# Create instances of the custom callback with the LLM name\n",
    "rate_limit_callback_mixtral = RateLimitCallback(llm_name=\"mixtral-8x7b-32768\", limit=1, wait_time=30)\n",
    "rate_limit_callback_llama = RateLimitCallback(llm_name=\"llama3-70b-8192\", limit=1, wait_time=30)\n"
   ]
  },
  {
   "cell_type": "code",
   "execution_count": 4,
   "metadata": {},
   "outputs": [],
   "source": [
    "from langchain_groq import ChatGroq\n",
    "\n",
    "generator_llm = ChatGroq(model_name=\"mixtral-8x7b-32768\", \n",
    "                         streaming=False,  # Disable if not necessary\n",
    "                         callbacks=[rate_limit_callback_mixtral]\n",
    "                         )\n",
    "critic_llm = ChatGroq(model_name=\"llama3-70b-8192\", \n",
    "                         streaming=False,  # Disable if not necessary\n",
    "                         callbacks=[rate_limit_callback_llama]\n",
    "                         )\n"
   ]
  },
  {
   "cell_type": "code",
   "execution_count": 5,
   "metadata": {},
   "outputs": [
    {
     "name": "stderr",
     "output_type": "stream",
     "text": [
      "/Users/hadiibrahim/anaconda3/envs/temp-env/lib/python3.11/site-packages/tqdm/auto.py:21: TqdmWarning: IProgress not found. Please update jupyter and ipywidgets. See https://ipywidgets.readthedocs.io/en/stable/user_install.html\n",
      "  from .autonotebook import tqdm as notebook_tqdm\n",
      "/Users/hadiibrahim/anaconda3/envs/temp-env/lib/python3.11/site-packages/threadpoolctl.py:1214: RuntimeWarning: \n",
      "Found Intel OpenMP ('libiomp') and LLVM OpenMP ('libomp') loaded at\n",
      "the same time. Both libraries are known to be incompatible and this\n",
      "can cause random crashes or deadlocks on Linux when loaded in the\n",
      "same Python program.\n",
      "Using threadpoolctl may cause crashes or deadlocks. For more\n",
      "information and possible workarounds, please see\n",
      "    https://github.com/joblib/threadpoolctl/blob/master/multiple_openmp.md\n",
      "\n",
      "  warnings.warn(msg, RuntimeWarning)\n",
      "/Users/hadiibrahim/anaconda3/envs/temp-env/lib/python3.11/site-packages/huggingface_hub/file_download.py:1132: FutureWarning: `resume_download` is deprecated and will be removed in version 1.0.0. Downloads always resume when possible. If you want to force a new download, use `force_download=True`.\n",
      "  warnings.warn(\n"
     ]
    }
   ],
   "source": [
    "from langchain_community.embeddings import HuggingFaceBgeEmbeddings, HuggingFaceEmbeddings\n",
    "\n",
    "embeddings = HuggingFaceBgeEmbeddings(\n",
    "                model_name=\"BAAI/bge-large-en-v1.5\", # or sentence-trainsformers/all-MiniLM-L6-v2\n",
    "                model_kwargs={\"device\":\"cpu\"},\n",
    "                encode_kwargs={\"normalize_embeddings\":True}\n",
    "            )"
   ]
  },
  {
   "cell_type": "code",
   "execution_count": 6,
   "metadata": {},
   "outputs": [
    {
     "name": "stderr",
     "output_type": "stream",
     "text": [
      "embedding nodes:  42%|████▏     | 2820/6648 [1:04:20<4:09:59,  3.92s/it]"
     ]
    },
    {
     "name": "stdout",
     "output_type": "stream",
     "text": [
      "LLM: mixtral-8x7b-32768 | Request Count: 1421\n",
      "Reached 1 requests for mixtral-8x7b-32768. Waiting for 30 seconds.\n"
     ]
    },
    {
     "name": "stderr",
     "output_type": "stream",
     "text": [
      "embedding nodes:  42%|████▏     | 2823/6648 [1:04:24<2:41:29,  2.53s/it]"
     ]
    },
    {
     "name": "stdout",
     "output_type": "stream",
     "text": [
      "LLM: mixtral-8x7b-32768 | Request Count: 1422\n",
      "Reached 1 requests for mixtral-8x7b-32768. Waiting for 30 seconds.\n"
     ]
    },
    {
     "name": "stderr",
     "output_type": "stream",
     "text": [
      "embedding nodes:  42%|████▏     | 2825/6648 [1:04:25<1:42:54,  1.62s/it]"
     ]
    },
    {
     "name": "stdout",
     "output_type": "stream",
     "text": [
      "LLM: mixtral-8x7b-32768 | Request Count: 1423\n",
      "Reached 1 requests for mixtral-8x7b-32768. Waiting for 30 seconds.\n",
      "LLM: mixtral-8x7b-32768 | Request Count: 1424\n",
      "Reached 1 requests for mixtral-8x7b-32768. Waiting for 30 seconds.\n"
     ]
    },
    {
     "name": "stderr",
     "output_type": "stream",
     "text": [
      "embedding nodes:  43%|████▎     | 2830/6648 [1:04:30<1:15:33,  1.19s/it]"
     ]
    },
    {
     "name": "stdout",
     "output_type": "stream",
     "text": [
      "LLM: mixtral-8x7b-32768 | Request Count: 1425\n",
      "Reached 1 requests for mixtral-8x7b-32768. Waiting for 30 seconds.\n",
      "LLM: mixtral-8x7b-32768 | Request Count: 1426\n",
      "Reached 1 requests for mixtral-8x7b-32768. Waiting for 30 seconds.\n",
      "LLM: mixtral-8x7b-32768 | Request Count: 1427\n",
      "Reached 1 requests for mixtral-8x7b-32768. Waiting for 30 seconds.\n",
      "LLM: mixtral-8x7b-32768 | Request Count: 1428\n",
      "Reached 1 requests for mixtral-8x7b-32768. Waiting for 30 seconds.\n"
     ]
    },
    {
     "name": "stderr",
     "output_type": "stream",
     "text": [
      "embedding nodes:  43%|████▎     | 2834/6648 [1:04:36<1:29:20,  1.41s/it]"
     ]
    },
    {
     "name": "stdout",
     "output_type": "stream",
     "text": [
      "LLM: mixtral-8x7b-32768 | Request Count: 1429\n",
      "Reached 1 requests for mixtral-8x7b-32768. Waiting for 30 seconds.\n"
     ]
    },
    {
     "name": "stderr",
     "output_type": "stream",
     "text": [
      "embedding nodes:  43%|████▎     | 2835/6648 [1:04:37<1:22:03,  1.29s/it]"
     ]
    },
    {
     "name": "stdout",
     "output_type": "stream",
     "text": [
      "LLM: mixtral-8x7b-32768 | Request Count: 1430\n",
      "Reached 1 requests for mixtral-8x7b-32768. Waiting for 30 seconds.\n"
     ]
    },
    {
     "name": "stderr",
     "output_type": "stream",
     "text": [
      "embedding nodes:  43%|████▎     | 2836/6648 [1:04:38<1:16:27,  1.20s/it]"
     ]
    },
    {
     "name": "stdout",
     "output_type": "stream",
     "text": [
      "LLM: mixtral-8x7b-32768 | Request Count: 1431\n",
      "Reached 1 requests for mixtral-8x7b-32768. Waiting for 30 seconds.\n",
      "LLM: mixtral-8x7b-32768 | Request Count: 1432\n",
      "Reached 1 requests for mixtral-8x7b-32768. Waiting for 30 seconds.\n"
     ]
    },
    {
     "name": "stderr",
     "output_type": "stream",
     "text": [
      "embedding nodes:  43%|████▎     | 2837/6648 [1:04:51<4:26:13,  4.19s/it]"
     ]
    },
    {
     "name": "stdout",
     "output_type": "stream",
     "text": [
      "LLM: mixtral-8x7b-32768 | Request Count: 1433\n",
      "Reached 1 requests for mixtral-8x7b-32768. Waiting for 30 seconds.\n"
     ]
    },
    {
     "name": "stderr",
     "output_type": "stream",
     "text": [
      "embedding nodes:  43%|████▎     | 2838/6648 [1:04:54<4:18:33,  4.07s/it]"
     ]
    },
    {
     "name": "stdout",
     "output_type": "stream",
     "text": [
      "LLM: mixtral-8x7b-32768 | Request Count: 1434\n",
      "Reached 1 requests for mixtral-8x7b-32768. Waiting for 30 seconds.\n"
     ]
    },
    {
     "name": "stderr",
     "output_type": "stream",
     "text": [
      "embedding nodes:  43%|████▎     | 2844/6648 [1:05:01<1:31:27,  1.44s/it]"
     ]
    },
    {
     "name": "stdout",
     "output_type": "stream",
     "text": [
      "LLM: mixtral-8x7b-32768 | Request Count: 1435\n",
      "Reached 1 requests for mixtral-8x7b-32768. Waiting for 30 seconds.\n"
     ]
    },
    {
     "name": "stderr",
     "output_type": "stream",
     "text": [
      "embedding nodes:  43%|████▎     | 2845/6648 [1:05:04<1:54:07,  1.80s/it]"
     ]
    },
    {
     "name": "stdout",
     "output_type": "stream",
     "text": [
      "LLM: mixtral-8x7b-32768 | Request Count: 1436\n",
      "Reached 1 requests for mixtral-8x7b-32768. Waiting for 30 seconds.\n",
      "LLM: mixtral-8x7b-32768 | Request Count: 1437\n",
      "Reached 1 requests for mixtral-8x7b-32768. Waiting for 30 seconds.\n"
     ]
    },
    {
     "name": "stderr",
     "output_type": "stream",
     "text": [
      "embedding nodes:  43%|████▎     | 2847/6648 [1:05:07<1:43:57,  1.64s/it]"
     ]
    },
    {
     "name": "stdout",
     "output_type": "stream",
     "text": [
      "LLM: mixtral-8x7b-32768 | Request Count: 1438\n",
      "Reached 1 requests for mixtral-8x7b-32768. Waiting for 30 seconds.\n"
     ]
    },
    {
     "name": "stderr",
     "output_type": "stream",
     "text": [
      "embedding nodes:  43%|████▎     | 2848/6648 [1:05:08<1:31:23,  1.44s/it]"
     ]
    },
    {
     "name": "stdout",
     "output_type": "stream",
     "text": [
      "LLM: mixtral-8x7b-32768 | Request Count: 1439\n",
      "Reached 1 requests for mixtral-8x7b-32768. Waiting for 30 seconds.\n"
     ]
    },
    {
     "name": "stderr",
     "output_type": "stream",
     "text": [
      "embedding nodes:  43%|████▎     | 2853/6648 [1:05:17<1:46:23,  1.68s/it]"
     ]
    },
    {
     "name": "stdout",
     "output_type": "stream",
     "text": [
      "LLM: mixtral-8x7b-32768 | Request Count: 1440\n",
      "Reached 1 requests for mixtral-8x7b-32768. Waiting for 30 seconds.\n"
     ]
    },
    {
     "name": "stderr",
     "output_type": "stream",
     "text": [
      "embedding nodes:  43%|████▎     | 2854/6648 [1:05:21<2:21:16,  2.23s/it]"
     ]
    },
    {
     "name": "stdout",
     "output_type": "stream",
     "text": [
      "LLM: mixtral-8x7b-32768 | Request Count: 1441\n",
      "Reached 1 requests for mixtral-8x7b-32768. Waiting for 30 seconds.\n"
     ]
    },
    {
     "name": "stderr",
     "output_type": "stream",
     "text": [
      "embedding nodes:  43%|████▎     | 2855/6648 [1:05:24<2:45:49,  2.62s/it]"
     ]
    },
    {
     "name": "stdout",
     "output_type": "stream",
     "text": [
      "LLM: mixtral-8x7b-32768 | Request Count: 1442\n",
      "Reached 1 requests for mixtral-8x7b-32768. Waiting for 30 seconds.\n"
     ]
    },
    {
     "name": "stderr",
     "output_type": "stream",
     "text": [
      "embedding nodes:  43%|████▎     | 2856/6648 [1:05:27<2:46:21,  2.63s/it]"
     ]
    },
    {
     "name": "stdout",
     "output_type": "stream",
     "text": [
      "LLM: mixtral-8x7b-32768 | Request Count: 1443\n",
      "Reached 1 requests for mixtral-8x7b-32768. Waiting for 30 seconds.\n",
      "LLM: mixtral-8x7b-32768 | Request Count: 1444\n",
      "Reached 1 requests for mixtral-8x7b-32768. Waiting for 30 seconds.\n"
     ]
    },
    {
     "name": "stderr",
     "output_type": "stream",
     "text": [
      "embedding nodes:  43%|████▎     | 2864/6648 [1:05:38<1:16:46,  1.22s/it]"
     ]
    },
    {
     "name": "stdout",
     "output_type": "stream",
     "text": [
      "LLM: mixtral-8x7b-32768 | Request Count: 1445\n",
      "Reached 1 requests for mixtral-8x7b-32768. Waiting for 30 seconds.\n"
     ]
    },
    {
     "name": "stderr",
     "output_type": "stream",
     "text": [
      "embedding nodes:  43%|████▎     | 2865/6648 [1:05:47<3:30:16,  3.33s/it]"
     ]
    },
    {
     "name": "stdout",
     "output_type": "stream",
     "text": [
      "LLM: mixtral-8x7b-32768 | Request Count: 1446\n",
      "Reached 1 requests for mixtral-8x7b-32768. Waiting for 30 seconds.\n",
      "LLM: mixtral-8x7b-32768 | Request Count: 1447\n",
      "Reached 1 requests for mixtral-8x7b-32768. Waiting for 30 seconds.\n"
     ]
    },
    {
     "name": "stderr",
     "output_type": "stream",
     "text": [
      "embedding nodes:  43%|████▎     | 2868/6648 [1:05:48<1:38:30,  1.56s/it]"
     ]
    },
    {
     "name": "stdout",
     "output_type": "stream",
     "text": [
      "LLM: mixtral-8x7b-32768 | Request Count: 1448\n",
      "Reached 1 requests for mixtral-8x7b-32768. Waiting for 30 seconds.\n"
     ]
    },
    {
     "name": "stderr",
     "output_type": "stream",
     "text": [
      "embedding nodes:  43%|████▎     | 2873/6648 [1:05:54<1:48:06,  1.72s/it]"
     ]
    },
    {
     "name": "stdout",
     "output_type": "stream",
     "text": [
      "LLM: mixtral-8x7b-32768 | Request Count: 1449\n",
      "Reached 1 requests for mixtral-8x7b-32768. Waiting for 30 seconds.\n",
      "LLM: mixtral-8x7b-32768 | Request Count: 1450\n",
      "Reached 1 requests for mixtral-8x7b-32768. Waiting for 30 seconds.\n"
     ]
    },
    {
     "name": "stderr",
     "output_type": "stream",
     "text": [
      "embedding nodes:  43%|████▎     | 2874/6648 [1:05:57<2:02:29,  1.95s/it]"
     ]
    },
    {
     "name": "stdout",
     "output_type": "stream",
     "text": [
      "LLM: mixtral-8x7b-32768 | Request Count: 1451\n",
      "Reached 1 requests for mixtral-8x7b-32768. Waiting for 30 seconds.\n",
      "LLM: mixtral-8x7b-32768 | Request Count: 1452\n",
      "Reached 1 requests for mixtral-8x7b-32768. Waiting for 30 seconds.\n"
     ]
    },
    {
     "name": "stderr",
     "output_type": "stream",
     "text": [
      "embedding nodes:  43%|████▎     | 2876/6648 [1:05:57<1:15:13,  1.20s/it]"
     ]
    },
    {
     "name": "stdout",
     "output_type": "stream",
     "text": [
      "LLM: mixtral-8x7b-32768 | Request Count: 1453\n",
      "Reached 1 requests for mixtral-8x7b-32768. Waiting for 30 seconds.\n"
     ]
    },
    {
     "name": "stderr",
     "output_type": "stream",
     "text": [
      "embedding nodes:  43%|████▎     | 2879/6648 [1:06:03<1:35:47,  1.52s/it]"
     ]
    },
    {
     "name": "stdout",
     "output_type": "stream",
     "text": [
      "LLM: mixtral-8x7b-32768 | Request Count: 1454\n",
      "Reached 1 requests for mixtral-8x7b-32768. Waiting for 30 seconds.\n"
     ]
    },
    {
     "name": "stderr",
     "output_type": "stream",
     "text": [
      "embedding nodes:  43%|████▎     | 2883/6648 [1:06:17<3:31:53,  3.38s/it]"
     ]
    },
    {
     "name": "stdout",
     "output_type": "stream",
     "text": [
      "LLM: mixtral-8x7b-32768 | Request Count: 1455\n",
      "Reached 1 requests for mixtral-8x7b-32768. Waiting for 30 seconds.\n"
     ]
    },
    {
     "name": "stderr",
     "output_type": "stream",
     "text": [
      "embedding nodes:  43%|████▎     | 2887/6648 [1:06:19<1:37:06,  1.55s/it]"
     ]
    },
    {
     "name": "stdout",
     "output_type": "stream",
     "text": [
      "LLM: mixtral-8x7b-32768 | Request Count: 1456\n",
      "Reached 1 requests for mixtral-8x7b-32768. Waiting for 30 seconds.\n"
     ]
    },
    {
     "name": "stderr",
     "output_type": "stream",
     "text": [
      "embedding nodes:  43%|████▎     | 2888/6648 [1:06:21<1:38:23,  1.57s/it]"
     ]
    },
    {
     "name": "stdout",
     "output_type": "stream",
     "text": [
      "LLM: mixtral-8x7b-32768 | Request Count: 1457\n",
      "Reached 1 requests for mixtral-8x7b-32768. Waiting for 30 seconds.\n"
     ]
    },
    {
     "name": "stderr",
     "output_type": "stream",
     "text": [
      "embedding nodes:  43%|████▎     | 2889/6648 [1:06:24<2:16:46,  2.18s/it]"
     ]
    },
    {
     "name": "stdout",
     "output_type": "stream",
     "text": [
      "LLM: mixtral-8x7b-32768 | Request Count: 1458\n",
      "Reached 1 requests for mixtral-8x7b-32768. Waiting for 30 seconds.\n"
     ]
    },
    {
     "name": "stderr",
     "output_type": "stream",
     "text": [
      "embedding nodes:  43%|████▎     | 2890/6648 [1:06:25<1:46:53,  1.71s/it]"
     ]
    },
    {
     "name": "stdout",
     "output_type": "stream",
     "text": [
      "LLM: mixtral-8x7b-32768 | Request Count: 1459\n",
      "Reached 1 requests for mixtral-8x7b-32768. Waiting for 30 seconds.\n"
     ]
    },
    {
     "name": "stderr",
     "output_type": "stream",
     "text": [
      "embedding nodes:  43%|████▎     | 2891/6648 [1:06:27<1:52:04,  1.79s/it]"
     ]
    },
    {
     "name": "stdout",
     "output_type": "stream",
     "text": [
      "LLM: mixtral-8x7b-32768 | Request Count: 1460\n",
      "Reached 1 requests for mixtral-8x7b-32768. Waiting for 30 seconds.\n",
      "LLM: mixtral-8x7b-32768 | Request Count: 1461\n",
      "Reached 1 requests for mixtral-8x7b-32768. Waiting for 30 seconds.\n"
     ]
    },
    {
     "name": "stderr",
     "output_type": "stream",
     "text": [
      "embedding nodes:  44%|████▎     | 2896/6648 [1:06:29<49:03,  1.27it/s]  "
     ]
    },
    {
     "name": "stdout",
     "output_type": "stream",
     "text": [
      "LLM: mixtral-8x7b-32768 | Request Count: 1462\n",
      "Reached 1 requests for mixtral-8x7b-32768. Waiting for 30 seconds.\n"
     ]
    },
    {
     "name": "stderr",
     "output_type": "stream",
     "text": [
      "embedding nodes:  44%|████▎     | 2897/6648 [1:06:33<1:40:42,  1.61s/it]"
     ]
    },
    {
     "name": "stdout",
     "output_type": "stream",
     "text": [
      "LLM: mixtral-8x7b-32768 | Request Count: 1463\n",
      "Reached 1 requests for mixtral-8x7b-32768. Waiting for 30 seconds.\n"
     ]
    },
    {
     "name": "stderr",
     "output_type": "stream",
     "text": [
      "embedding nodes:  44%|████▎     | 2898/6648 [1:06:35<1:46:03,  1.70s/it]"
     ]
    },
    {
     "name": "stdout",
     "output_type": "stream",
     "text": [
      "LLM: mixtral-8x7b-32768 | Request Count: 1464\n",
      "Reached 1 requests for mixtral-8x7b-32768. Waiting for 30 seconds.\n",
      "LLM: mixtral-8x7b-32768 | Request Count: 1465\n",
      "Reached 1 requests for mixtral-8x7b-32768. Waiting for 30 seconds.\n"
     ]
    },
    {
     "name": "stderr",
     "output_type": "stream",
     "text": [
      "embedding nodes:  44%|████▎     | 2900/6648 [1:06:36<1:10:52,  1.13s/it]"
     ]
    },
    {
     "name": "stdout",
     "output_type": "stream",
     "text": [
      "LLM: mixtral-8x7b-32768 | Request Count: 1466\n",
      "Reached 1 requests for mixtral-8x7b-32768. Waiting for 30 seconds.\n"
     ]
    },
    {
     "name": "stderr",
     "output_type": "stream",
     "text": [
      "embedding nodes:  44%|████▍     | 2909/6648 [1:06:54<50:18,  1.24it/s]  "
     ]
    },
    {
     "name": "stdout",
     "output_type": "stream",
     "text": [
      "LLM: mixtral-8x7b-32768 | Request Count: 1467\n",
      "Reached 1 requests for mixtral-8x7b-32768. Waiting for 30 seconds.\n",
      "LLM: mixtral-8x7b-32768 | Request Count: 1468\n",
      "Reached 1 requests for mixtral-8x7b-32768. Waiting for 30 seconds.\n"
     ]
    },
    {
     "name": "stderr",
     "output_type": "stream",
     "text": [
      "embedding nodes:  44%|████▍     | 2910/6648 [1:06:54<45:12,  1.38it/s]"
     ]
    },
    {
     "name": "stdout",
     "output_type": "stream",
     "text": [
      "LLM: mixtral-8x7b-32768 | Request Count: 1469\n",
      "Reached 1 requests for mixtral-8x7b-32768. Waiting for 30 seconds.\n"
     ]
    },
    {
     "name": "stderr",
     "output_type": "stream",
     "text": [
      "embedding nodes:  44%|████▍     | 2911/6648 [1:06:55<40:35,  1.53it/s]"
     ]
    },
    {
     "name": "stdout",
     "output_type": "stream",
     "text": [
      "LLM: mixtral-8x7b-32768 | Request Count: 1470\n",
      "Reached 1 requests for mixtral-8x7b-32768. Waiting for 30 seconds.\n"
     ]
    },
    {
     "name": "stderr",
     "output_type": "stream",
     "text": [
      "embedding nodes:  44%|████▍     | 2913/6648 [1:06:57<47:09,  1.32it/s]"
     ]
    },
    {
     "name": "stdout",
     "output_type": "stream",
     "text": [
      "LLM: mixtral-8x7b-32768 | Request Count: 1471\n",
      "Reached 1 requests for mixtral-8x7b-32768. Waiting for 30 seconds.\n"
     ]
    },
    {
     "name": "stderr",
     "output_type": "stream",
     "text": [
      "embedding nodes:  44%|████▍     | 2914/6648 [1:06:57<39:03,  1.59it/s]"
     ]
    },
    {
     "name": "stdout",
     "output_type": "stream",
     "text": [
      "LLM: mixtral-8x7b-32768 | Request Count: 1472\n",
      "Reached 1 requests for mixtral-8x7b-32768. Waiting for 30 seconds.\n"
     ]
    },
    {
     "name": "stderr",
     "output_type": "stream",
     "text": [
      "embedding nodes:  44%|████▍     | 2919/6648 [1:07:03<1:16:47,  1.24s/it]"
     ]
    },
    {
     "name": "stdout",
     "output_type": "stream",
     "text": [
      "LLM: mixtral-8x7b-32768 | Request Count: 1473\n",
      "Reached 1 requests for mixtral-8x7b-32768. Waiting for 30 seconds.\n"
     ]
    },
    {
     "name": "stderr",
     "output_type": "stream",
     "text": [
      "embedding nodes:  44%|████▍     | 2920/6648 [1:07:04<1:11:52,  1.16s/it]"
     ]
    },
    {
     "name": "stdout",
     "output_type": "stream",
     "text": [
      "LLM: mixtral-8x7b-32768 | Request Count: 1474\n",
      "Reached 1 requests for mixtral-8x7b-32768. Waiting for 30 seconds.\n"
     ]
    },
    {
     "name": "stderr",
     "output_type": "stream",
     "text": [
      "embedding nodes:  44%|████▍     | 2921/6648 [1:07:05<1:02:44,  1.01s/it]"
     ]
    },
    {
     "name": "stdout",
     "output_type": "stream",
     "text": [
      "LLM: mixtral-8x7b-32768 | Request Count: 1475\n",
      "Reached 1 requests for mixtral-8x7b-32768. Waiting for 30 seconds.\n"
     ]
    },
    {
     "name": "stderr",
     "output_type": "stream",
     "text": [
      "embedding nodes:  44%|████▍     | 2922/6648 [1:07:05<50:32,  1.23it/s]  "
     ]
    },
    {
     "name": "stdout",
     "output_type": "stream",
     "text": [
      "LLM: mixtral-8x7b-32768 | Request Count: 1476\n",
      "Reached 1 requests for mixtral-8x7b-32768. Waiting for 30 seconds.\n",
      "LLM: mixtral-8x7b-32768 | Request Count: 1477\n",
      "Reached 1 requests for mixtral-8x7b-32768. Waiting for 30 seconds.\n"
     ]
    },
    {
     "name": "stderr",
     "output_type": "stream",
     "text": [
      "embedding nodes:  44%|████▍     | 2927/6648 [1:07:11<1:14:42,  1.20s/it]"
     ]
    },
    {
     "name": "stdout",
     "output_type": "stream",
     "text": [
      "LLM: mixtral-8x7b-32768 | Request Count: 1478\n",
      "Reached 1 requests for mixtral-8x7b-32768. Waiting for 30 seconds.\n"
     ]
    },
    {
     "name": "stderr",
     "output_type": "stream",
     "text": [
      "embedding nodes:  44%|████▍     | 2931/6648 [1:07:25<2:07:31,  2.06s/it]"
     ]
    },
    {
     "name": "stdout",
     "output_type": "stream",
     "text": [
      "LLM: mixtral-8x7b-32768 | Request Count: 1479\n",
      "Reached 1 requests for mixtral-8x7b-32768. Waiting for 30 seconds.\n"
     ]
    },
    {
     "name": "stderr",
     "output_type": "stream",
     "text": [
      "embedding nodes:  44%|████▍     | 2932/6648 [1:07:27<2:01:41,  1.96s/it]"
     ]
    },
    {
     "name": "stdout",
     "output_type": "stream",
     "text": [
      "LLM: mixtral-8x7b-32768 | Request Count: 1480\n",
      "Reached 1 requests for mixtral-8x7b-32768. Waiting for 30 seconds.\n"
     ]
    },
    {
     "name": "stderr",
     "output_type": "stream",
     "text": [
      "embedding nodes:  44%|████▍     | 2933/6648 [1:07:27<1:33:33,  1.51s/it]"
     ]
    },
    {
     "name": "stdout",
     "output_type": "stream",
     "text": [
      "LLM: mixtral-8x7b-32768 | Request Count: 1481\n",
      "Reached 1 requests for mixtral-8x7b-32768. Waiting for 30 seconds.\n"
     ]
    },
    {
     "name": "stderr",
     "output_type": "stream",
     "text": [
      "embedding nodes:  44%|████▍     | 2934/6648 [1:07:28<1:17:35,  1.25s/it]"
     ]
    },
    {
     "name": "stdout",
     "output_type": "stream",
     "text": [
      "LLM: mixtral-8x7b-32768 | Request Count: 1482\n",
      "Reached 1 requests for mixtral-8x7b-32768. Waiting for 30 seconds.\n"
     ]
    },
    {
     "name": "stderr",
     "output_type": "stream",
     "text": [
      "embedding nodes:  44%|████▍     | 2937/6648 [1:07:29<53:04,  1.17it/s]  "
     ]
    },
    {
     "name": "stdout",
     "output_type": "stream",
     "text": [
      "LLM: mixtral-8x7b-32768 | Request Count: 1483\n",
      "Reached 1 requests for mixtral-8x7b-32768. Waiting for 30 seconds.\n"
     ]
    },
    {
     "name": "stderr",
     "output_type": "stream",
     "text": [
      "embedding nodes:  44%|████▍     | 2940/6648 [1:07:32<56:35,  1.09it/s]"
     ]
    },
    {
     "name": "stdout",
     "output_type": "stream",
     "text": [
      "LLM: mixtral-8x7b-32768 | Request Count: 1484\n",
      "Reached 1 requests for mixtral-8x7b-32768. Waiting for 30 seconds.\n"
     ]
    },
    {
     "name": "stderr",
     "output_type": "stream",
     "text": [
      "embedding nodes:  44%|████▍     | 2941/6648 [1:07:34<1:10:04,  1.13s/it]"
     ]
    },
    {
     "name": "stdout",
     "output_type": "stream",
     "text": [
      "LLM: mixtral-8x7b-32768 | Request Count: 1485\n",
      "Reached 1 requests for mixtral-8x7b-32768. Waiting for 30 seconds.\n"
     ]
    },
    {
     "name": "stderr",
     "output_type": "stream",
     "text": [
      "embedding nodes:  44%|████▍     | 2942/6648 [1:07:34<57:52,  1.07it/s]  "
     ]
    },
    {
     "name": "stdout",
     "output_type": "stream",
     "text": [
      "LLM: mixtral-8x7b-32768 | Request Count: 1486\n",
      "Reached 1 requests for mixtral-8x7b-32768. Waiting for 30 seconds.\n"
     ]
    },
    {
     "name": "stderr",
     "output_type": "stream",
     "text": [
      "embedding nodes:  44%|████▍     | 2943/6648 [1:07:35<52:56,  1.17it/s]"
     ]
    },
    {
     "name": "stdout",
     "output_type": "stream",
     "text": [
      "LLM: mixtral-8x7b-32768 | Request Count: 1487\n",
      "Reached 1 requests for mixtral-8x7b-32768. Waiting for 30 seconds.\n"
     ]
    },
    {
     "name": "stderr",
     "output_type": "stream",
     "text": [
      "embedding nodes:  44%|████▍     | 2950/6648 [1:07:39<40:18,  1.53it/s]"
     ]
    },
    {
     "name": "stdout",
     "output_type": "stream",
     "text": [
      "LLM: mixtral-8x7b-32768 | Request Count: 1488\n",
      "Reached 1 requests for mixtral-8x7b-32768. Waiting for 30 seconds.\n",
      "LLM: mixtral-8x7b-32768 | Request Count: 1489\n",
      "Reached 1 requests for mixtral-8x7b-32768. Waiting for 30 seconds.\n"
     ]
    },
    {
     "name": "stderr",
     "output_type": "stream",
     "text": [
      "embedding nodes:  44%|████▍     | 2951/6648 [1:07:41<1:06:10,  1.07s/it]"
     ]
    },
    {
     "name": "stdout",
     "output_type": "stream",
     "text": [
      "LLM: mixtral-8x7b-32768 | Request Count: 1490\n",
      "Reached 1 requests for mixtral-8x7b-32768. Waiting for 30 seconds.\n"
     ]
    },
    {
     "name": "stderr",
     "output_type": "stream",
     "text": [
      "embedding nodes:  44%|████▍     | 2952/6648 [1:07:56<4:49:23,  4.70s/it]"
     ]
    },
    {
     "name": "stdout",
     "output_type": "stream",
     "text": [
      "LLM: mixtral-8x7b-32768 | Request Count: 1491\n",
      "Reached 1 requests for mixtral-8x7b-32768. Waiting for 30 seconds.\n"
     ]
    },
    {
     "name": "stderr",
     "output_type": "stream",
     "text": [
      "embedding nodes:  44%|████▍     | 2953/6648 [1:07:57<3:40:30,  3.58s/it]"
     ]
    },
    {
     "name": "stdout",
     "output_type": "stream",
     "text": [
      "LLM: mixtral-8x7b-32768 | Request Count: 1492\n",
      "Reached 1 requests for mixtral-8x7b-32768. Waiting for 30 seconds.\n"
     ]
    },
    {
     "name": "stderr",
     "output_type": "stream",
     "text": [
      "embedding nodes:  44%|████▍     | 2955/6648 [1:07:58<2:06:40,  2.06s/it]"
     ]
    },
    {
     "name": "stdout",
     "output_type": "stream",
     "text": [
      "LLM: mixtral-8x7b-32768 | Request Count: 1493\n",
      "Reached 1 requests for mixtral-8x7b-32768. Waiting for 30 seconds.\n"
     ]
    },
    {
     "name": "stderr",
     "output_type": "stream",
     "text": [
      "embedding nodes:  45%|████▍     | 2962/6648 [1:08:02<38:13,  1.61it/s]  "
     ]
    },
    {
     "name": "stdout",
     "output_type": "stream",
     "text": [
      "LLM: mixtral-8x7b-32768 | Request Count: 1494\n",
      "Reached 1 requests for mixtral-8x7b-32768. Waiting for 30 seconds.\n",
      "LLM: mixtral-8x7b-32768 | Request Count: 1495\n",
      "Reached 1 requests for mixtral-8x7b-32768. Waiting for 30 seconds.\n"
     ]
    },
    {
     "name": "stderr",
     "output_type": "stream",
     "text": [
      "embedding nodes:  45%|████▍     | 2963/6648 [1:08:03<43:14,  1.42it/s]"
     ]
    },
    {
     "name": "stdout",
     "output_type": "stream",
     "text": [
      "LLM: mixtral-8x7b-32768 | Request Count: 1496\n",
      "Reached 1 requests for mixtral-8x7b-32768. Waiting for 30 seconds.\n"
     ]
    },
    {
     "name": "stderr",
     "output_type": "stream",
     "text": [
      "embedding nodes:  45%|████▍     | 2964/6648 [1:08:04<40:52,  1.50it/s]"
     ]
    },
    {
     "name": "stdout",
     "output_type": "stream",
     "text": [
      "LLM: mixtral-8x7b-32768 | Request Count: 1497\n",
      "Reached 1 requests for mixtral-8x7b-32768. Waiting for 30 seconds.\n"
     ]
    },
    {
     "name": "stderr",
     "output_type": "stream",
     "text": [
      "embedding nodes:  45%|████▍     | 2965/6648 [1:08:04<34:06,  1.80it/s]"
     ]
    },
    {
     "name": "stdout",
     "output_type": "stream",
     "text": [
      "LLM: mixtral-8x7b-32768 | Request Count: 1498\n",
      "Reached 1 requests for mixtral-8x7b-32768. Waiting for 30 seconds.\n"
     ]
    },
    {
     "name": "stderr",
     "output_type": "stream",
     "text": [
      "embedding nodes:  45%|████▍     | 2966/6648 [1:08:05<35:27,  1.73it/s]"
     ]
    },
    {
     "name": "stdout",
     "output_type": "stream",
     "text": [
      "LLM: mixtral-8x7b-32768 | Request Count: 1499\n",
      "Reached 1 requests for mixtral-8x7b-32768. Waiting for 30 seconds.\n"
     ]
    },
    {
     "name": "stderr",
     "output_type": "stream",
     "text": [
      "embedding nodes:  45%|████▍     | 2974/6648 [1:08:17<1:04:43,  1.06s/it]"
     ]
    },
    {
     "name": "stdout",
     "output_type": "stream",
     "text": [
      "LLM: mixtral-8x7b-32768 | Request Count: 1500\n",
      "Reached 1 requests for mixtral-8x7b-32768. Waiting for 30 seconds.\n",
      "LLM: mixtral-8x7b-32768 | Request Count: 1501\n",
      "Reached 1 requests for mixtral-8x7b-32768. Waiting for 30 seconds.\n"
     ]
    },
    {
     "name": "stderr",
     "output_type": "stream",
     "text": [
      "embedding nodes:  45%|████▍     | 2975/6648 [1:08:18<1:01:19,  1.00s/it]"
     ]
    },
    {
     "name": "stdout",
     "output_type": "stream",
     "text": [
      "LLM: mixtral-8x7b-32768 | Request Count: 1502\n",
      "Reached 1 requests for mixtral-8x7b-32768. Waiting for 30 seconds.\n"
     ]
    },
    {
     "name": "stderr",
     "output_type": "stream",
     "text": [
      "embedding nodes:  45%|████▍     | 2976/6648 [1:08:26<2:49:37,  2.77s/it]"
     ]
    },
    {
     "name": "stdout",
     "output_type": "stream",
     "text": [
      "LLM: mixtral-8x7b-32768 | Request Count: 1503\n",
      "Reached 1 requests for mixtral-8x7b-32768. Waiting for 30 seconds.\n"
     ]
    },
    {
     "name": "stderr",
     "output_type": "stream",
     "text": [
      "embedding nodes:  45%|████▍     | 2977/6648 [1:08:27<2:14:50,  2.20s/it]"
     ]
    },
    {
     "name": "stdout",
     "output_type": "stream",
     "text": [
      "LLM: mixtral-8x7b-32768 | Request Count: 1504\n",
      "Reached 1 requests for mixtral-8x7b-32768. Waiting for 30 seconds.\n"
     ]
    },
    {
     "name": "stderr",
     "output_type": "stream",
     "text": [
      "embedding nodes:  45%|████▍     | 2978/6648 [1:08:28<1:52:27,  1.84s/it]"
     ]
    },
    {
     "name": "stdout",
     "output_type": "stream",
     "text": [
      "LLM: mixtral-8x7b-32768 | Request Count: 1505\n",
      "Reached 1 requests for mixtral-8x7b-32768. Waiting for 30 seconds.\n"
     ]
    },
    {
     "name": "stderr",
     "output_type": "stream",
     "text": [
      "embedding nodes:  45%|████▍     | 2985/6648 [1:08:35<46:08,  1.32it/s]  "
     ]
    },
    {
     "name": "stdout",
     "output_type": "stream",
     "text": [
      "LLM: mixtral-8x7b-32768 | Request Count: 1506\n",
      "Reached 1 requests for mixtral-8x7b-32768. Waiting for 30 seconds.\n"
     ]
    },
    {
     "name": "stderr",
     "output_type": "stream",
     "text": [
      "embedding nodes:  45%|████▍     | 2986/6648 [1:08:37<1:01:28,  1.01s/it]"
     ]
    },
    {
     "name": "stdout",
     "output_type": "stream",
     "text": [
      "LLM: mixtral-8x7b-32768 | Request Count: 1507\n",
      "Reached 1 requests for mixtral-8x7b-32768. Waiting for 30 seconds.\n"
     ]
    },
    {
     "name": "stderr",
     "output_type": "stream",
     "text": [
      "embedding nodes:  45%|████▍     | 2987/6648 [1:08:37<48:04,  1.27it/s]  "
     ]
    },
    {
     "name": "stdout",
     "output_type": "stream",
     "text": [
      "LLM: mixtral-8x7b-32768 | Request Count: 1508\n",
      "Reached 1 requests for mixtral-8x7b-32768. Waiting for 30 seconds.\n"
     ]
    },
    {
     "name": "stderr",
     "output_type": "stream",
     "text": [
      "embedding nodes:  45%|████▍     | 2988/6648 [1:08:38<43:59,  1.39it/s]"
     ]
    },
    {
     "name": "stdout",
     "output_type": "stream",
     "text": [
      "LLM: mixtral-8x7b-32768 | Request Count: 1509\n",
      "Reached 1 requests for mixtral-8x7b-32768. Waiting for 30 seconds.\n",
      "LLM: mixtral-8x7b-32768 | Request Count: 1510\n",
      "Reached 1 requests for mixtral-8x7b-32768. Waiting for 30 seconds.\n"
     ]
    },
    {
     "name": "stderr",
     "output_type": "stream",
     "text": [
      "embedding nodes:  45%|████▌     | 2994/6648 [1:08:44<1:33:43,  1.54s/it]"
     ]
    },
    {
     "name": "stdout",
     "output_type": "stream",
     "text": [
      "LLM: mixtral-8x7b-32768 | Request Count: 1511\n",
      "Reached 1 requests for mixtral-8x7b-32768. Waiting for 30 seconds.\n"
     ]
    },
    {
     "name": "stderr",
     "output_type": "stream",
     "text": [
      "embedding nodes:  45%|████▌     | 2996/6648 [1:08:47<1:28:19,  1.45s/it]"
     ]
    },
    {
     "name": "stdout",
     "output_type": "stream",
     "text": [
      "LLM: mixtral-8x7b-32768 | Request Count: 1512\n",
      "Reached 1 requests for mixtral-8x7b-32768. Waiting for 30 seconds.\n",
      "LLM: mixtral-8x7b-32768 | Request Count: 1513\n",
      "Reached 1 requests for mixtral-8x7b-32768. Waiting for 30 seconds.\n"
     ]
    },
    {
     "name": "stderr",
     "output_type": "stream",
     "text": [
      "embedding nodes:  45%|████▌     | 2997/6648 [1:08:48<1:11:54,  1.18s/it]"
     ]
    },
    {
     "name": "stdout",
     "output_type": "stream",
     "text": [
      "LLM: mixtral-8x7b-32768 | Request Count: 1514\n",
      "Reached 1 requests for mixtral-8x7b-32768. Waiting for 30 seconds.\n"
     ]
    },
    {
     "name": "stderr",
     "output_type": "stream",
     "text": [
      "embedding nodes:  45%|████▌     | 3003/6648 [1:09:02<1:34:22,  1.55s/it]"
     ]
    },
    {
     "name": "stdout",
     "output_type": "stream",
     "text": [
      "LLM: mixtral-8x7b-32768 | Request Count: 1515\n",
      "Reached 1 requests for mixtral-8x7b-32768. Waiting for 30 seconds.\n"
     ]
    },
    {
     "name": "stderr",
     "output_type": "stream",
     "text": [
      "embedding nodes:  45%|████▌     | 3004/6648 [1:09:04<1:50:49,  1.82s/it]"
     ]
    },
    {
     "name": "stdout",
     "output_type": "stream",
     "text": [
      "LLM: mixtral-8x7b-32768 | Request Count: 1516\n",
      "Reached 1 requests for mixtral-8x7b-32768. Waiting for 30 seconds.\n"
     ]
    },
    {
     "name": "stderr",
     "output_type": "stream",
     "text": [
      "embedding nodes:  45%|████▌     | 3005/6648 [1:09:04<1:23:07,  1.37s/it]"
     ]
    },
    {
     "name": "stdout",
     "output_type": "stream",
     "text": [
      "LLM: mixtral-8x7b-32768 | Request Count: 1517\n",
      "Reached 1 requests for mixtral-8x7b-32768. Waiting for 30 seconds.\n"
     ]
    },
    {
     "name": "stderr",
     "output_type": "stream",
     "text": [
      "embedding nodes:  45%|████▌     | 3006/6648 [1:09:06<1:21:08,  1.34s/it]"
     ]
    },
    {
     "name": "stdout",
     "output_type": "stream",
     "text": [
      "LLM: mixtral-8x7b-32768 | Request Count: 1518\n",
      "Reached 1 requests for mixtral-8x7b-32768. Waiting for 30 seconds.\n"
     ]
    },
    {
     "name": "stderr",
     "output_type": "stream",
     "text": [
      "embedding nodes:  45%|████▌     | 3007/6648 [1:09:07<1:15:54,  1.25s/it]"
     ]
    },
    {
     "name": "stdout",
     "output_type": "stream",
     "text": [
      "LLM: mixtral-8x7b-32768 | Request Count: 1519\n",
      "Reached 1 requests for mixtral-8x7b-32768. Waiting for 30 seconds.\n"
     ]
    },
    {
     "name": "stderr",
     "output_type": "stream",
     "text": [
      "embedding nodes:  45%|████▌     | 3014/6648 [1:09:11<49:57,  1.21it/s]  "
     ]
    },
    {
     "name": "stdout",
     "output_type": "stream",
     "text": [
      "LLM: mixtral-8x7b-32768 | Request Count: 1520\n",
      "Reached 1 requests for mixtral-8x7b-32768. Waiting for 30 seconds.\n"
     ]
    },
    {
     "name": "stderr",
     "output_type": "stream",
     "text": [
      "embedding nodes:  45%|████▌     | 3015/6648 [1:09:12<42:05,  1.44it/s]"
     ]
    },
    {
     "name": "stdout",
     "output_type": "stream",
     "text": [
      "LLM: mixtral-8x7b-32768 | Request Count: 1521\n",
      "Reached 1 requests for mixtral-8x7b-32768. Waiting for 30 seconds.\n",
      "LLM: mixtral-8x7b-32768 | Request Count: 1522\n",
      "Reached 1 requests for mixtral-8x7b-32768. Waiting for 30 seconds.\n"
     ]
    },
    {
     "name": "stderr",
     "output_type": "stream",
     "text": [
      "embedding nodes:  45%|████▌     | 3017/6648 [1:09:14<58:40,  1.03it/s]"
     ]
    },
    {
     "name": "stdout",
     "output_type": "stream",
     "text": [
      "LLM: mixtral-8x7b-32768 | Request Count: 1523\n",
      "Reached 1 requests for mixtral-8x7b-32768. Waiting for 30 seconds.\n"
     ]
    },
    {
     "name": "stderr",
     "output_type": "stream",
     "text": [
      "embedding nodes:  45%|████▌     | 3022/6648 [1:09:21<1:09:29,  1.15s/it]"
     ]
    },
    {
     "name": "stdout",
     "output_type": "stream",
     "text": [
      "LLM: mixtral-8x7b-32768 | Request Count: 1524\n",
      "Reached 1 requests for mixtral-8x7b-32768. Waiting for 30 seconds.\n",
      "LLM: mixtral-8x7b-32768 | Request Count: 1525\n",
      "Reached 1 requests for mixtral-8x7b-32768. Waiting for 30 seconds.\n"
     ]
    },
    {
     "name": "stderr",
     "output_type": "stream",
     "text": [
      "embedding nodes:  46%|████▌     | 3026/6648 [1:09:25<1:01:46,  1.02s/it]"
     ]
    },
    {
     "name": "stdout",
     "output_type": "stream",
     "text": [
      "LLM: mixtral-8x7b-32768 | Request Count: 1526\n",
      "Reached 1 requests for mixtral-8x7b-32768. Waiting for 30 seconds.\n"
     ]
    },
    {
     "name": "stderr",
     "output_type": "stream",
     "text": [
      "embedding nodes:  46%|████▌     | 3027/6648 [1:09:33<3:08:53,  3.13s/it]"
     ]
    },
    {
     "name": "stdout",
     "output_type": "stream",
     "text": [
      "LLM: mixtral-8x7b-32768 | Request Count: 1527\n",
      "Reached 1 requests for mixtral-8x7b-32768. Waiting for 30 seconds.\n"
     ]
    },
    {
     "name": "stderr",
     "output_type": "stream",
     "text": [
      "embedding nodes:  46%|████▌     | 3028/6648 [1:09:34<2:27:13,  2.44s/it]"
     ]
    },
    {
     "name": "stdout",
     "output_type": "stream",
     "text": [
      "LLM: mixtral-8x7b-32768 | Request Count: 1528\n",
      "Reached 1 requests for mixtral-8x7b-32768. Waiting for 30 seconds.\n"
     ]
    },
    {
     "name": "stderr",
     "output_type": "stream",
     "text": [
      "embedding nodes:  46%|████▌     | 3029/6648 [1:09:34<1:48:38,  1.80s/it]"
     ]
    },
    {
     "name": "stdout",
     "output_type": "stream",
     "text": [
      "LLM: mixtral-8x7b-32768 | Request Count: 1529\n",
      "Reached 1 requests for mixtral-8x7b-32768. Waiting for 30 seconds.\n"
     ]
    },
    {
     "name": "stderr",
     "output_type": "stream",
     "text": [
      "embedding nodes:  46%|████▌     | 3030/6648 [1:09:36<1:38:46,  1.64s/it]"
     ]
    },
    {
     "name": "stdout",
     "output_type": "stream",
     "text": [
      "LLM: mixtral-8x7b-32768 | Request Count: 1530\n",
      "Reached 1 requests for mixtral-8x7b-32768. Waiting for 30 seconds.\n"
     ]
    },
    {
     "name": "stderr",
     "output_type": "stream",
     "text": [
      "embedding nodes:  46%|████▌     | 3036/6648 [1:09:42<55:23,  1.09it/s]  "
     ]
    },
    {
     "name": "stdout",
     "output_type": "stream",
     "text": [
      "LLM: mixtral-8x7b-32768 | Request Count: 1531\n",
      "Reached 1 requests for mixtral-8x7b-32768. Waiting for 30 seconds.\n"
     ]
    },
    {
     "name": "stderr",
     "output_type": "stream",
     "text": [
      "embedding nodes:  46%|████▌     | 3038/6648 [1:09:44<57:18,  1.05it/s]"
     ]
    },
    {
     "name": "stdout",
     "output_type": "stream",
     "text": [
      "LLM: mixtral-8x7b-32768 | Request Count: 1532\n",
      "Reached 1 requests for mixtral-8x7b-32768. Waiting for 30 seconds.\n"
     ]
    },
    {
     "name": "stderr",
     "output_type": "stream",
     "text": [
      "embedding nodes:  46%|████▌     | 3039/6648 [1:09:44<46:24,  1.30it/s]"
     ]
    },
    {
     "name": "stdout",
     "output_type": "stream",
     "text": [
      "LLM: mixtral-8x7b-32768 | Request Count: 1533\n",
      "Reached 1 requests for mixtral-8x7b-32768. Waiting for 30 seconds.\n",
      "LLM: mixtral-8x7b-32768 | Request Count: 1534\n",
      "Reached 1 requests for mixtral-8x7b-32768. Waiting for 30 seconds.\n"
     ]
    },
    {
     "name": "stderr",
     "output_type": "stream",
     "text": [
      "embedding nodes:  46%|████▌     | 3041/6648 [1:09:44<32:16,  1.86it/s]"
     ]
    },
    {
     "name": "stdout",
     "output_type": "stream",
     "text": [
      "LLM: mixtral-8x7b-32768 | Request Count: 1535\n",
      "Reached 1 requests for mixtral-8x7b-32768. Waiting for 30 seconds.\n"
     ]
    },
    {
     "name": "stderr",
     "output_type": "stream",
     "text": [
      "embedding nodes:  46%|████▌     | 3046/6648 [1:09:53<58:16,  1.03it/s]  "
     ]
    },
    {
     "name": "stdout",
     "output_type": "stream",
     "text": [
      "LLM: mixtral-8x7b-32768 | Request Count: 1536\n",
      "Reached 1 requests for mixtral-8x7b-32768. Waiting for 30 seconds.\n",
      "LLM: mixtral-8x7b-32768 | Request Count: 1537\n",
      "Reached 1 requests for mixtral-8x7b-32768. Waiting for 30 seconds.\n"
     ]
    },
    {
     "name": "stderr",
     "output_type": "stream",
     "text": [
      "embedding nodes:  46%|████▌     | 3047/6648 [1:09:57<1:45:50,  1.76s/it]"
     ]
    },
    {
     "name": "stdout",
     "output_type": "stream",
     "text": [
      "LLM: mixtral-8x7b-32768 | Request Count: 1538\n",
      "Reached 1 requests for mixtral-8x7b-32768. Waiting for 30 seconds.\n"
     ]
    },
    {
     "name": "stderr",
     "output_type": "stream",
     "text": [
      "embedding nodes:  46%|████▌     | 3048/6648 [1:10:03<2:46:40,  2.78s/it]"
     ]
    },
    {
     "name": "stdout",
     "output_type": "stream",
     "text": [
      "LLM: mixtral-8x7b-32768 | Request Count: 1539\n",
      "Reached 1 requests for mixtral-8x7b-32768. Waiting for 30 seconds.\n"
     ]
    },
    {
     "name": "stderr",
     "output_type": "stream",
     "text": [
      "embedding nodes:  46%|████▌     | 3049/6648 [1:10:04<2:15:39,  2.26s/it]"
     ]
    },
    {
     "name": "stdout",
     "output_type": "stream",
     "text": [
      "LLM: mixtral-8x7b-32768 | Request Count: 1540\n",
      "Reached 1 requests for mixtral-8x7b-32768. Waiting for 30 seconds.\n"
     ]
    },
    {
     "name": "stderr",
     "output_type": "stream",
     "text": [
      "embedding nodes:  46%|████▌     | 3050/6648 [1:10:04<1:43:39,  1.73s/it]"
     ]
    },
    {
     "name": "stdout",
     "output_type": "stream",
     "text": [
      "LLM: mixtral-8x7b-32768 | Request Count: 1541\n",
      "Reached 1 requests for mixtral-8x7b-32768. Waiting for 30 seconds.\n"
     ]
    },
    {
     "name": "stderr",
     "output_type": "stream",
     "text": [
      "embedding nodes:  46%|████▌     | 3060/6648 [1:10:14<38:09,  1.57it/s]  "
     ]
    },
    {
     "name": "stdout",
     "output_type": "stream",
     "text": [
      "LLM: mixtral-8x7b-32768 | Request Count: 1542\n",
      "Reached 1 requests for mixtral-8x7b-32768. Waiting for 30 seconds.\n",
      "LLM: mixtral-8x7b-32768 | Request Count: 1543\n",
      "Reached 1 requests for mixtral-8x7b-32768. Waiting for 30 seconds.\n"
     ]
    },
    {
     "name": "stderr",
     "output_type": "stream",
     "text": [
      "embedding nodes:  46%|████▌     | 3061/6648 [1:10:15<46:04,  1.30it/s]"
     ]
    },
    {
     "name": "stdout",
     "output_type": "stream",
     "text": [
      "LLM: mixtral-8x7b-32768 | Request Count: 1544\n",
      "Reached 1 requests for mixtral-8x7b-32768. Waiting for 30 seconds.\n"
     ]
    },
    {
     "name": "stderr",
     "output_type": "stream",
     "text": [
      "embedding nodes:  46%|████▌     | 3062/6648 [1:10:17<1:04:28,  1.08s/it]"
     ]
    },
    {
     "name": "stdout",
     "output_type": "stream",
     "text": [
      "LLM: mixtral-8x7b-32768 | Request Count: 1545\n",
      "Reached 1 requests for mixtral-8x7b-32768. Waiting for 30 seconds.\n"
     ]
    },
    {
     "name": "stderr",
     "output_type": "stream",
     "text": [
      "embedding nodes:  46%|████▌     | 3063/6648 [1:10:18<52:29,  1.14it/s]  "
     ]
    },
    {
     "name": "stdout",
     "output_type": "stream",
     "text": [
      "LLM: mixtral-8x7b-32768 | Request Count: 1546\n",
      "Reached 1 requests for mixtral-8x7b-32768. Waiting for 30 seconds.\n"
     ]
    },
    {
     "name": "stderr",
     "output_type": "stream",
     "text": [
      "embedding nodes:  46%|████▌     | 3064/6648 [1:10:18<41:14,  1.45it/s]"
     ]
    },
    {
     "name": "stdout",
     "output_type": "stream",
     "text": [
      "LLM: mixtral-8x7b-32768 | Request Count: 1547\n",
      "Reached 1 requests for mixtral-8x7b-32768. Waiting for 30 seconds.\n"
     ]
    },
    {
     "name": "stderr",
     "output_type": "stream",
     "text": [
      "embedding nodes:  46%|████▌     | 3071/6648 [1:10:28<52:42,  1.13it/s]  "
     ]
    },
    {
     "name": "stdout",
     "output_type": "stream",
     "text": [
      "LLM: mixtral-8x7b-32768 | Request Count: 1548\n",
      "Reached 1 requests for mixtral-8x7b-32768. Waiting for 30 seconds.\n",
      "LLM: mixtral-8x7b-32768 | Request Count: 1549\n",
      "Reached 1 requests for mixtral-8x7b-32768. Waiting for 30 seconds.\n"
     ]
    },
    {
     "name": "stderr",
     "output_type": "stream",
     "text": [
      "embedding nodes:  46%|████▌     | 3072/6648 [1:10:30<1:12:03,  1.21s/it]"
     ]
    },
    {
     "name": "stdout",
     "output_type": "stream",
     "text": [
      "LLM: mixtral-8x7b-32768 | Request Count: 1550\n",
      "Reached 1 requests for mixtral-8x7b-32768. Waiting for 30 seconds.\n"
     ]
    },
    {
     "name": "stderr",
     "output_type": "stream",
     "text": [
      "embedding nodes:  46%|████▌     | 3073/6648 [1:10:33<1:44:21,  1.75s/it]"
     ]
    },
    {
     "name": "stdout",
     "output_type": "stream",
     "text": [
      "LLM: mixtral-8x7b-32768 | Request Count: 1551\n",
      "Reached 1 requests for mixtral-8x7b-32768. Waiting for 30 seconds.\n"
     ]
    },
    {
     "name": "stderr",
     "output_type": "stream",
     "text": [
      "embedding nodes:  46%|████▌     | 3074/6648 [1:10:34<1:29:04,  1.50s/it]"
     ]
    },
    {
     "name": "stdout",
     "output_type": "stream",
     "text": [
      "LLM: mixtral-8x7b-32768 | Request Count: 1552\n",
      "Reached 1 requests for mixtral-8x7b-32768. Waiting for 30 seconds.\n"
     ]
    },
    {
     "name": "stderr",
     "output_type": "stream",
     "text": [
      "embedding nodes:  46%|████▋     | 3075/6648 [1:10:34<1:09:03,  1.16s/it]"
     ]
    },
    {
     "name": "stdout",
     "output_type": "stream",
     "text": [
      "LLM: mixtral-8x7b-32768 | Request Count: 1553\n",
      "Reached 1 requests for mixtral-8x7b-32768. Waiting for 30 seconds.\n"
     ]
    },
    {
     "name": "stderr",
     "output_type": "stream",
     "text": [
      "embedding nodes:  46%|████▋     | 3080/6648 [1:10:48<1:40:29,  1.69s/it]"
     ]
    },
    {
     "name": "stdout",
     "output_type": "stream",
     "text": [
      "LLM: mixtral-8x7b-32768 | Request Count: 1554\n",
      "Reached 1 requests for mixtral-8x7b-32768. Waiting for 30 seconds.\n"
     ]
    },
    {
     "name": "stderr",
     "output_type": "stream",
     "text": [
      "embedding nodes:  46%|████▋     | 3082/6648 [1:10:58<3:07:14,  3.15s/it]"
     ]
    },
    {
     "name": "stdout",
     "output_type": "stream",
     "text": [
      "LLM: mixtral-8x7b-32768 | Request Count: 1555\n",
      "Reached 1 requests for mixtral-8x7b-32768. Waiting for 30 seconds.\n",
      "LLM: mixtral-8x7b-32768 | Request Count: 1556\n",
      "Reached 1 requests for mixtral-8x7b-32768. Waiting for 30 seconds.\n"
     ]
    },
    {
     "name": "stderr",
     "output_type": "stream",
     "text": [
      "embedding nodes:  46%|████▋     | 3084/6648 [1:11:00<2:18:25,  2.33s/it]"
     ]
    },
    {
     "name": "stdout",
     "output_type": "stream",
     "text": [
      "LLM: mixtral-8x7b-32768 | Request Count: 1557\n",
      "Reached 1 requests for mixtral-8x7b-32768. Waiting for 30 seconds.\n"
     ]
    },
    {
     "name": "stderr",
     "output_type": "stream",
     "text": [
      "embedding nodes:  46%|████▋     | 3085/6648 [1:11:03<2:30:28,  2.53s/it]"
     ]
    },
    {
     "name": "stdout",
     "output_type": "stream",
     "text": [
      "LLM: mixtral-8x7b-32768 | Request Count: 1558\n",
      "Reached 1 requests for mixtral-8x7b-32768. Waiting for 30 seconds.\n"
     ]
    },
    {
     "name": "stderr",
     "output_type": "stream",
     "text": [
      "embedding nodes:  47%|████▋     | 3092/6648 [1:11:14<1:42:57,  1.74s/it]"
     ]
    },
    {
     "name": "stdout",
     "output_type": "stream",
     "text": [
      "LLM: mixtral-8x7b-32768 | Request Count: 1559\n",
      "Reached 1 requests for mixtral-8x7b-32768. Waiting for 30 seconds.\n"
     ]
    },
    {
     "name": "stderr",
     "output_type": "stream",
     "text": [
      "embedding nodes:  47%|████▋     | 3093/6648 [1:11:19<2:34:37,  2.61s/it]"
     ]
    },
    {
     "name": "stdout",
     "output_type": "stream",
     "text": [
      "LLM: mixtral-8x7b-32768 | Request Count: 1560\n",
      "Reached 1 requests for mixtral-8x7b-32768. Waiting for 30 seconds.\n"
     ]
    },
    {
     "name": "stderr",
     "output_type": "stream",
     "text": [
      "embedding nodes:  47%|████▋     | 3094/6648 [1:11:25<3:31:26,  3.57s/it]"
     ]
    },
    {
     "name": "stdout",
     "output_type": "stream",
     "text": [
      "LLM: mixtral-8x7b-32768 | Request Count: 1561\n",
      "Reached 1 requests for mixtral-8x7b-32768. Waiting for 30 seconds.\n"
     ]
    },
    {
     "name": "stderr",
     "output_type": "stream",
     "text": [
      "embedding nodes:  47%|████▋     | 3095/6648 [1:11:25<2:41:36,  2.73s/it]"
     ]
    },
    {
     "name": "stdout",
     "output_type": "stream",
     "text": [
      "LLM: mixtral-8x7b-32768 | Request Count: 1562\n",
      "Reached 1 requests for mixtral-8x7b-32768. Waiting for 30 seconds.\n"
     ]
    },
    {
     "name": "stderr",
     "output_type": "stream",
     "text": [
      "embedding nodes:  47%|████▋     | 3101/6648 [1:11:29<50:39,  1.17it/s]  "
     ]
    },
    {
     "name": "stdout",
     "output_type": "stream",
     "text": [
      "LLM: mixtral-8x7b-32768 | Request Count: 1563\n",
      "Reached 1 requests for mixtral-8x7b-32768. Waiting for 30 seconds.\n",
      "LLM: mixtral-8x7b-32768 | Request Count: 1564\n",
      "Reached 1 requests for mixtral-8x7b-32768. Waiting for 30 seconds.\n"
     ]
    },
    {
     "name": "stderr",
     "output_type": "stream",
     "text": [
      "embedding nodes:  47%|████▋     | 3102/6648 [1:11:30<59:36,  1.01s/it]"
     ]
    },
    {
     "name": "stdout",
     "output_type": "stream",
     "text": [
      "LLM: mixtral-8x7b-32768 | Request Count: 1565\n",
      "Reached 1 requests for mixtral-8x7b-32768. Waiting for 30 seconds.\n"
     ]
    },
    {
     "name": "stderr",
     "output_type": "stream",
     "text": [
      "embedding nodes:  47%|████▋     | 3104/6648 [1:11:33<1:09:46,  1.18s/it]"
     ]
    },
    {
     "name": "stdout",
     "output_type": "stream",
     "text": [
      "LLM: mixtral-8x7b-32768 | Request Count: 1566\n",
      "Reached 1 requests for mixtral-8x7b-32768. Waiting for 30 seconds.\n",
      "LLM: mixtral-8x7b-32768 | Request Count: 1567\n",
      "Reached 1 requests for mixtral-8x7b-32768. Waiting for 30 seconds.\n",
      "LLM: mixtral-8x7b-32768 | Request Count: 1568\n",
      "Reached 1 requests for mixtral-8x7b-32768. Waiting for 30 seconds.\n"
     ]
    },
    {
     "name": "stderr",
     "output_type": "stream",
     "text": [
      "embedding nodes:  47%|████▋     | 3112/6648 [1:11:44<1:14:52,  1.27s/it]"
     ]
    },
    {
     "name": "stdout",
     "output_type": "stream",
     "text": [
      "LLM: mixtral-8x7b-32768 | Request Count: 1569\n",
      "Reached 1 requests for mixtral-8x7b-32768. Waiting for 30 seconds.\n",
      "LLM: mixtral-8x7b-32768 | Request Count: 1570\n",
      "Reached 1 requests for mixtral-8x7b-32768. Waiting for 30 seconds.\n"
     ]
    },
    {
     "name": "stderr",
     "output_type": "stream",
     "text": [
      "embedding nodes:  47%|████▋     | 3113/6648 [1:11:49<2:04:17,  2.11s/it]"
     ]
    },
    {
     "name": "stdout",
     "output_type": "stream",
     "text": [
      "LLM: mixtral-8x7b-32768 | Request Count: 1571\n",
      "Reached 1 requests for mixtral-8x7b-32768. Waiting for 30 seconds.\n"
     ]
    },
    {
     "name": "stderr",
     "output_type": "stream",
     "text": [
      "embedding nodes:  47%|████▋     | 3114/6648 [1:11:49<1:43:40,  1.76s/it]"
     ]
    },
    {
     "name": "stdout",
     "output_type": "stream",
     "text": [
      "LLM: mixtral-8x7b-32768 | Request Count: 1572\n",
      "Reached 1 requests for mixtral-8x7b-32768. Waiting for 30 seconds.\n"
     ]
    },
    {
     "name": "stderr",
     "output_type": "stream",
     "text": [
      "embedding nodes:  47%|████▋     | 3115/6648 [1:11:55<2:36:36,  2.66s/it]"
     ]
    },
    {
     "name": "stdout",
     "output_type": "stream",
     "text": [
      "LLM: mixtral-8x7b-32768 | Request Count: 1573\n",
      "Reached 1 requests for mixtral-8x7b-32768. Waiting for 30 seconds.\n"
     ]
    },
    {
     "name": "stderr",
     "output_type": "stream",
     "text": [
      "embedding nodes:  47%|████▋     | 3116/6648 [1:11:55<2:05:23,  2.13s/it]"
     ]
    },
    {
     "name": "stdout",
     "output_type": "stream",
     "text": [
      "LLM: mixtral-8x7b-32768 | Request Count: 1574\n",
      "Reached 1 requests for mixtral-8x7b-32768. Waiting for 30 seconds.\n"
     ]
    },
    {
     "name": "stderr",
     "output_type": "stream",
     "text": [
      "embedding nodes:  47%|████▋     | 3125/6648 [1:12:04<45:07,  1.30it/s]  "
     ]
    },
    {
     "name": "stdout",
     "output_type": "stream",
     "text": [
      "LLM: mixtral-8x7b-32768 | Request Count: 1575\n",
      "Reached 1 requests for mixtral-8x7b-32768. Waiting for 30 seconds.\n",
      "LLM: mixtral-8x7b-32768 | Request Count: 1576\n",
      "Reached 1 requests for mixtral-8x7b-32768. Waiting for 30 seconds.\n"
     ]
    },
    {
     "name": "stderr",
     "output_type": "stream",
     "text": [
      "embedding nodes:  47%|████▋     | 3126/6648 [1:12:08<1:28:16,  1.50s/it]"
     ]
    },
    {
     "name": "stdout",
     "output_type": "stream",
     "text": [
      "LLM: mixtral-8x7b-32768 | Request Count: 1577\n",
      "Reached 1 requests for mixtral-8x7b-32768. Waiting for 30 seconds.\n",
      "LLM: mixtral-8x7b-32768 | Request Count: 1578\n",
      "Reached 1 requests for mixtral-8x7b-32768. Waiting for 30 seconds.\n"
     ]
    },
    {
     "name": "stderr",
     "output_type": "stream",
     "text": [
      "embedding nodes:  47%|████▋     | 3128/6648 [1:12:09<57:58,  1.01it/s]  "
     ]
    },
    {
     "name": "stdout",
     "output_type": "stream",
     "text": [
      "LLM: mixtral-8x7b-32768 | Request Count: 1579\n",
      "Reached 1 requests for mixtral-8x7b-32768. Waiting for 30 seconds.\n"
     ]
    },
    {
     "name": "stderr",
     "output_type": "stream",
     "text": [
      "embedding nodes:  47%|████▋     | 3129/6648 [1:12:10<56:38,  1.04it/s]"
     ]
    },
    {
     "name": "stdout",
     "output_type": "stream",
     "text": [
      "LLM: mixtral-8x7b-32768 | Request Count: 1580\n",
      "Reached 1 requests for mixtral-8x7b-32768. Waiting for 30 seconds.\n"
     ]
    },
    {
     "name": "stderr",
     "output_type": "stream",
     "text": [
      "embedding nodes:  47%|████▋     | 3136/6648 [1:12:20<1:03:10,  1.08s/it]"
     ]
    },
    {
     "name": "stdout",
     "output_type": "stream",
     "text": [
      "LLM: mixtral-8x7b-32768 | Request Count: 1581\n",
      "Reached 1 requests for mixtral-8x7b-32768. Waiting for 30 seconds.\n",
      "LLM: mixtral-8x7b-32768 | Request Count: 1582\n",
      "Reached 1 requests for mixtral-8x7b-32768. Waiting for 30 seconds.\n"
     ]
    },
    {
     "name": "stderr",
     "output_type": "stream",
     "text": [
      "embedding nodes:  47%|████▋     | 3137/6648 [1:12:21<1:01:30,  1.05s/it]"
     ]
    },
    {
     "name": "stdout",
     "output_type": "stream",
     "text": [
      "LLM: mixtral-8x7b-32768 | Request Count: 1583\n",
      "Reached 1 requests for mixtral-8x7b-32768. Waiting for 30 seconds.\n",
      "LLM: mixtral-8x7b-32768 | Request Count: 1584\n",
      "Reached 1 requests for mixtral-8x7b-32768. Waiting for 30 seconds.\n"
     ]
    },
    {
     "name": "stderr",
     "output_type": "stream",
     "text": [
      "embedding nodes:  47%|████▋     | 3139/6648 [1:12:25<1:18:42,  1.35s/it]"
     ]
    },
    {
     "name": "stdout",
     "output_type": "stream",
     "text": [
      "LLM: mixtral-8x7b-32768 | Request Count: 1585\n",
      "Reached 1 requests for mixtral-8x7b-32768. Waiting for 30 seconds.\n"
     ]
    },
    {
     "name": "stderr",
     "output_type": "stream",
     "text": [
      "embedding nodes:  47%|████▋     | 3144/6648 [1:12:34<1:47:25,  1.84s/it]"
     ]
    },
    {
     "name": "stdout",
     "output_type": "stream",
     "text": [
      "LLM: mixtral-8x7b-32768 | Request Count: 1586\n",
      "Reached 1 requests for mixtral-8x7b-32768. Waiting for 30 seconds.\n"
     ]
    },
    {
     "name": "stderr",
     "output_type": "stream",
     "text": [
      "embedding nodes:  47%|████▋     | 3146/6648 [1:12:38<1:52:46,  1.93s/it]"
     ]
    },
    {
     "name": "stdout",
     "output_type": "stream",
     "text": [
      "LLM: mixtral-8x7b-32768 | Request Count: 1587\n",
      "Reached 1 requests for mixtral-8x7b-32768. Waiting for 30 seconds.\n"
     ]
    },
    {
     "name": "stderr",
     "output_type": "stream",
     "text": [
      "embedding nodes:  47%|████▋     | 3149/6648 [1:12:39<59:34,  1.02s/it]  "
     ]
    },
    {
     "name": "stdout",
     "output_type": "stream",
     "text": [
      "LLM: mixtral-8x7b-32768 | Request Count: 1588\n",
      "Reached 1 requests for mixtral-8x7b-32768. Waiting for 30 seconds.\n",
      "LLM: mixtral-8x7b-32768 | Request Count: 1589\n",
      "Reached 1 requests for mixtral-8x7b-32768. Waiting for 30 seconds.\n"
     ]
    },
    {
     "name": "stderr",
     "output_type": "stream",
     "text": [
      "embedding nodes:  47%|████▋     | 3153/6648 [1:12:45<1:17:24,  1.33s/it]"
     ]
    },
    {
     "name": "stdout",
     "output_type": "stream",
     "text": [
      "LLM: mixtral-8x7b-32768 | Request Count: 1590\n",
      "Reached 1 requests for mixtral-8x7b-32768. Waiting for 30 seconds.\n"
     ]
    },
    {
     "name": "stderr",
     "output_type": "stream",
     "text": [
      "embedding nodes:  47%|████▋     | 3154/6648 [1:12:45<1:02:46,  1.08s/it]"
     ]
    },
    {
     "name": "stdout",
     "output_type": "stream",
     "text": [
      "LLM: mixtral-8x7b-32768 | Request Count: 1591\n",
      "Reached 1 requests for mixtral-8x7b-32768. Waiting for 30 seconds.\n"
     ]
    },
    {
     "name": "stderr",
     "output_type": "stream",
     "text": [
      "embedding nodes:  47%|████▋     | 3155/6648 [1:12:46<58:26,  1.00s/it]  "
     ]
    },
    {
     "name": "stdout",
     "output_type": "stream",
     "text": [
      "LLM: mixtral-8x7b-32768 | Request Count: 1592\n",
      "Reached 1 requests for mixtral-8x7b-32768. Waiting for 30 seconds.\n"
     ]
    },
    {
     "name": "stderr",
     "output_type": "stream",
     "text": [
      "embedding nodes:  48%|████▊     | 3158/6648 [1:12:51<1:10:57,  1.22s/it]"
     ]
    },
    {
     "name": "stdout",
     "output_type": "stream",
     "text": [
      "LLM: mixtral-8x7b-32768 | Request Count: 1593\n",
      "Reached 1 requests for mixtral-8x7b-32768. Waiting for 30 seconds.\n"
     ]
    },
    {
     "name": "stderr",
     "output_type": "stream",
     "text": [
      "embedding nodes:  48%|████▊     | 3160/6648 [1:12:55<1:23:02,  1.43s/it]"
     ]
    },
    {
     "name": "stdout",
     "output_type": "stream",
     "text": [
      "LLM: mixtral-8x7b-32768 | Request Count: 1594\n",
      "Reached 1 requests for mixtral-8x7b-32768. Waiting for 30 seconds.\n"
     ]
    },
    {
     "name": "stderr",
     "output_type": "stream",
     "text": [
      "embedding nodes:  48%|████▊     | 3161/6648 [1:12:55<1:16:16,  1.31s/it]"
     ]
    },
    {
     "name": "stdout",
     "output_type": "stream",
     "text": [
      "LLM: mixtral-8x7b-32768 | Request Count: 1595\n",
      "Reached 1 requests for mixtral-8x7b-32768. Waiting for 30 seconds.\n"
     ]
    },
    {
     "name": "stderr",
     "output_type": "stream",
     "text": [
      "embedding nodes:  48%|████▊     | 3163/6648 [1:12:56<48:43,  1.19it/s]  "
     ]
    },
    {
     "name": "stdout",
     "output_type": "stream",
     "text": [
      "LLM: mixtral-8x7b-32768 | Request Count: 1596\n",
      "Reached 1 requests for mixtral-8x7b-32768. Waiting for 30 seconds.\n",
      "LLM: mixtral-8x7b-32768 | Request Count: 1597\n",
      "Reached 1 requests for mixtral-8x7b-32768. Waiting for 30 seconds.\n"
     ]
    },
    {
     "name": "stderr",
     "output_type": "stream",
     "text": [
      "embedding nodes:  48%|████▊     | 3170/6648 [1:13:11<1:18:17,  1.35s/it]"
     ]
    },
    {
     "name": "stdout",
     "output_type": "stream",
     "text": [
      "LLM: mixtral-8x7b-32768 | Request Count: 1598\n",
      "Reached 1 requests for mixtral-8x7b-32768. Waiting for 30 seconds.\n"
     ]
    },
    {
     "name": "stderr",
     "output_type": "stream",
     "text": [
      "embedding nodes:  48%|████▊     | 3172/6648 [1:13:12<47:34,  1.22it/s]  "
     ]
    },
    {
     "name": "stdout",
     "output_type": "stream",
     "text": [
      "LLM: mixtral-8x7b-32768 | Request Count: 1599\n",
      "Reached 1 requests for mixtral-8x7b-32768. Waiting for 30 seconds.\n",
      "LLM: mixtral-8x7b-32768 | Request Count: 1600\n",
      "Reached 1 requests for mixtral-8x7b-32768. Waiting for 30 seconds.\n",
      "LLM: mixtral-8x7b-32768 | Request Count: 1601\n",
      "Reached 1 requests for mixtral-8x7b-32768. Waiting for 30 seconds.\n"
     ]
    },
    {
     "name": "stderr",
     "output_type": "stream",
     "text": [
      "embedding nodes:  48%|████▊     | 3177/6648 [1:13:18<1:01:51,  1.07s/it]"
     ]
    },
    {
     "name": "stdout",
     "output_type": "stream",
     "text": [
      "LLM: mixtral-8x7b-32768 | Request Count: 1602\n",
      "Reached 1 requests for mixtral-8x7b-32768. Waiting for 30 seconds.\n"
     ]
    },
    {
     "name": "stderr",
     "output_type": "stream",
     "text": [
      "embedding nodes:  48%|████▊     | 3178/6648 [1:13:19<59:02,  1.02s/it]  "
     ]
    },
    {
     "name": "stdout",
     "output_type": "stream",
     "text": [
      "LLM: mixtral-8x7b-32768 | Request Count: 1603\n",
      "Reached 1 requests for mixtral-8x7b-32768. Waiting for 30 seconds.\n"
     ]
    },
    {
     "name": "stderr",
     "output_type": "stream",
     "text": [
      "embedding nodes:  48%|████▊     | 3179/6648 [1:13:19<46:59,  1.23it/s]"
     ]
    },
    {
     "name": "stdout",
     "output_type": "stream",
     "text": [
      "LLM: mixtral-8x7b-32768 | Request Count: 1604\n",
      "Reached 1 requests for mixtral-8x7b-32768. Waiting for 30 seconds.\n"
     ]
    },
    {
     "name": "stderr",
     "output_type": "stream",
     "text": [
      "embedding nodes:  48%|████▊     | 3181/6648 [1:13:23<1:17:14,  1.34s/it]"
     ]
    },
    {
     "name": "stdout",
     "output_type": "stream",
     "text": [
      "LLM: mixtral-8x7b-32768 | Request Count: 1605\n",
      "Reached 1 requests for mixtral-8x7b-32768. Waiting for 30 seconds.\n"
     ]
    },
    {
     "name": "stderr",
     "output_type": "stream",
     "text": [
      "embedding nodes:  48%|████▊     | 3183/6648 [1:13:25<1:14:24,  1.29s/it]"
     ]
    },
    {
     "name": "stdout",
     "output_type": "stream",
     "text": [
      "LLM: mixtral-8x7b-32768 | Request Count: 1606\n",
      "Reached 1 requests for mixtral-8x7b-32768. Waiting for 30 seconds.\n"
     ]
    },
    {
     "name": "stderr",
     "output_type": "stream",
     "text": [
      "embedding nodes:  48%|████▊     | 3185/6648 [1:13:26<42:13,  1.37it/s]  "
     ]
    },
    {
     "name": "stdout",
     "output_type": "stream",
     "text": [
      "LLM: mixtral-8x7b-32768 | Request Count: 1607\n",
      "Reached 1 requests for mixtral-8x7b-32768. Waiting for 30 seconds.\n"
     ]
    },
    {
     "name": "stderr",
     "output_type": "stream",
     "text": [
      "embedding nodes:  48%|████▊     | 3188/6648 [1:13:37<2:38:23,  2.75s/it]"
     ]
    },
    {
     "name": "stdout",
     "output_type": "stream",
     "text": [
      "LLM: mixtral-8x7b-32768 | Request Count: 1608\n",
      "Reached 1 requests for mixtral-8x7b-32768. Waiting for 30 seconds.\n"
     ]
    },
    {
     "name": "stderr",
     "output_type": "stream",
     "text": [
      "embedding nodes:  48%|████▊     | 3192/6648 [1:13:42<1:18:14,  1.36s/it]"
     ]
    },
    {
     "name": "stdout",
     "output_type": "stream",
     "text": [
      "LLM: mixtral-8x7b-32768 | Request Count: 1609\n",
      "Reached 1 requests for mixtral-8x7b-32768. Waiting for 30 seconds.\n",
      "LLM: mixtral-8x7b-32768 | Request Count: 1610\n",
      "Reached 1 requests for mixtral-8x7b-32768. Waiting for 30 seconds.\n"
     ]
    },
    {
     "name": "stderr",
     "output_type": "stream",
     "text": [
      "embedding nodes:  48%|████▊     | 3195/6648 [1:13:48<1:40:01,  1.74s/it]"
     ]
    },
    {
     "name": "stdout",
     "output_type": "stream",
     "text": [
      "LLM: mixtral-8x7b-32768 | Request Count: 1611\n",
      "Reached 1 requests for mixtral-8x7b-32768. Waiting for 30 seconds.\n"
     ]
    },
    {
     "name": "stderr",
     "output_type": "stream",
     "text": [
      "embedding nodes:  48%|████▊     | 3197/6648 [1:13:49<1:05:49,  1.14s/it]"
     ]
    },
    {
     "name": "stdout",
     "output_type": "stream",
     "text": [
      "LLM: mixtral-8x7b-32768 | Request Count: 1612\n",
      "Reached 1 requests for mixtral-8x7b-32768. Waiting for 30 seconds.\n",
      "LLM: mixtral-8x7b-32768 | Request Count: 1613\n",
      "Reached 1 requests for mixtral-8x7b-32768. Waiting for 30 seconds.\n"
     ]
    },
    {
     "name": "stderr",
     "output_type": "stream",
     "text": [
      "embedding nodes:  48%|████▊     | 3201/6648 [1:13:53<1:01:39,  1.07s/it]"
     ]
    },
    {
     "name": "stdout",
     "output_type": "stream",
     "text": [
      "LLM: mixtral-8x7b-32768 | Request Count: 1614\n",
      "Reached 1 requests for mixtral-8x7b-32768. Waiting for 30 seconds.\n"
     ]
    },
    {
     "name": "stderr",
     "output_type": "stream",
     "text": [
      "embedding nodes:  48%|████▊     | 3202/6648 [1:13:55<1:18:46,  1.37s/it]"
     ]
    },
    {
     "name": "stdout",
     "output_type": "stream",
     "text": [
      "LLM: mixtral-8x7b-32768 | Request Count: 1615\n",
      "Reached 1 requests for mixtral-8x7b-32768. Waiting for 30 seconds.\n"
     ]
    },
    {
     "name": "stderr",
     "output_type": "stream",
     "text": [
      "embedding nodes:  48%|████▊     | 3203/6648 [1:13:55<1:04:28,  1.12s/it]"
     ]
    },
    {
     "name": "stdout",
     "output_type": "stream",
     "text": [
      "LLM: mixtral-8x7b-32768 | Request Count: 1616\n",
      "Reached 1 requests for mixtral-8x7b-32768. Waiting for 30 seconds.\n"
     ]
    },
    {
     "name": "stderr",
     "output_type": "stream",
     "text": [
      "embedding nodes:  48%|████▊     | 3205/6648 [1:13:56<37:26,  1.53it/s]  "
     ]
    },
    {
     "name": "stdout",
     "output_type": "stream",
     "text": [
      "LLM: mixtral-8x7b-32768 | Request Count: 1617\n",
      "Reached 1 requests for mixtral-8x7b-32768. Waiting for 30 seconds.\n",
      "LLM: mixtral-8x7b-32768 | Request Count: 1618\n",
      "Reached 1 requests for mixtral-8x7b-32768. Waiting for 30 seconds.\n"
     ]
    },
    {
     "name": "stderr",
     "output_type": "stream",
     "text": [
      "embedding nodes:  48%|████▊     | 3211/6648 [1:14:01<46:51,  1.22it/s]"
     ]
    },
    {
     "name": "stdout",
     "output_type": "stream",
     "text": [
      "LLM: mixtral-8x7b-32768 | Request Count: 1619\n",
      "Reached 1 requests for mixtral-8x7b-32768. Waiting for 30 seconds.\n"
     ]
    },
    {
     "name": "stderr",
     "output_type": "stream",
     "text": [
      "embedding nodes:  48%|████▊     | 3212/6648 [1:14:07<2:06:52,  2.22s/it]"
     ]
    },
    {
     "name": "stdout",
     "output_type": "stream",
     "text": [
      "LLM: mixtral-8x7b-32768 | Request Count: 1620\n",
      "Reached 1 requests for mixtral-8x7b-32768. Waiting for 30 seconds.\n"
     ]
    },
    {
     "name": "stderr",
     "output_type": "stream",
     "text": [
      "embedding nodes:  48%|████▊     | 3213/6648 [1:14:12<2:59:15,  3.13s/it]"
     ]
    },
    {
     "name": "stdout",
     "output_type": "stream",
     "text": [
      "LLM: mixtral-8x7b-32768 | Request Count: 1621\n",
      "Reached 1 requests for mixtral-8x7b-32768. Waiting for 30 seconds.\n",
      "LLM: mixtral-8x7b-32768 | Request Count: 1622\n",
      "Reached 1 requests for mixtral-8x7b-32768. Waiting for 30 seconds.\n"
     ]
    },
    {
     "name": "stderr",
     "output_type": "stream",
     "text": [
      "embedding nodes:  48%|████▊     | 3220/6648 [1:14:22<1:06:51,  1.17s/it]"
     ]
    },
    {
     "name": "stdout",
     "output_type": "stream",
     "text": [
      "LLM: mixtral-8x7b-32768 | Request Count: 1623\n",
      "Reached 1 requests for mixtral-8x7b-32768. Waiting for 30 seconds.\n",
      "LLM: mixtral-8x7b-32768 | Request Count: 1624\n",
      "Reached 1 requests for mixtral-8x7b-32768. Waiting for 30 seconds.\n"
     ]
    },
    {
     "name": "stderr",
     "output_type": "stream",
     "text": [
      "embedding nodes:  48%|████▊     | 3221/6648 [1:14:22<56:05,  1.02it/s]  "
     ]
    },
    {
     "name": "stdout",
     "output_type": "stream",
     "text": [
      "LLM: mixtral-8x7b-32768 | Request Count: 1625\n",
      "Reached 1 requests for mixtral-8x7b-32768. Waiting for 30 seconds.\n"
     ]
    },
    {
     "name": "stderr",
     "output_type": "stream",
     "text": [
      "embedding nodes:  48%|████▊     | 3222/6648 [1:14:23<1:02:38,  1.10s/it]"
     ]
    },
    {
     "name": "stdout",
     "output_type": "stream",
     "text": [
      "LLM: mixtral-8x7b-32768 | Request Count: 1626\n",
      "Reached 1 requests for mixtral-8x7b-32768. Waiting for 30 seconds.\n"
     ]
    },
    {
     "name": "stderr",
     "output_type": "stream",
     "text": [
      "embedding nodes:  48%|████▊     | 3223/6648 [1:14:25<1:09:34,  1.22s/it]"
     ]
    },
    {
     "name": "stdout",
     "output_type": "stream",
     "text": [
      "LLM: mixtral-8x7b-32768 | Request Count: 1627\n",
      "Reached 1 requests for mixtral-8x7b-32768. Waiting for 30 seconds.\n"
     ]
    },
    {
     "name": "stderr",
     "output_type": "stream",
     "text": [
      "embedding nodes:  49%|████▊     | 3226/6648 [1:14:26<34:06,  1.67it/s]  "
     ]
    },
    {
     "name": "stdout",
     "output_type": "stream",
     "text": [
      "LLM: mixtral-8x7b-32768 | Request Count: 1628\n",
      "Reached 1 requests for mixtral-8x7b-32768. Waiting for 30 seconds.\n"
     ]
    },
    {
     "name": "stderr",
     "output_type": "stream",
     "text": [
      "embedding nodes:  49%|████▊     | 3236/6648 [1:14:33<45:33,  1.25it/s]"
     ]
    },
    {
     "name": "stdout",
     "output_type": "stream",
     "text": [
      "LLM: mixtral-8x7b-32768 | Request Count: 1629\n",
      "Reached 1 requests for mixtral-8x7b-32768. Waiting for 30 seconds.\n",
      "LLM: mixtral-8x7b-32768 | Request Count: 1630\n",
      "Reached 1 requests for mixtral-8x7b-32768. Waiting for 30 seconds.\n",
      "LLM: mixtral-8x7b-32768 | Request Count: 1631\n",
      "Reached 1 requests for mixtral-8x7b-32768. Waiting for 30 seconds.\n"
     ]
    },
    {
     "name": "stderr",
     "output_type": "stream",
     "text": [
      "embedding nodes:  49%|████▊     | 3237/6648 [1:14:37<1:27:20,  1.54s/it]"
     ]
    },
    {
     "name": "stdout",
     "output_type": "stream",
     "text": [
      "LLM: mixtral-8x7b-32768 | Request Count: 1632\n",
      "Reached 1 requests for mixtral-8x7b-32768. Waiting for 30 seconds.\n"
     ]
    },
    {
     "name": "stderr",
     "output_type": "stream",
     "text": [
      "embedding nodes:  49%|████▊     | 3238/6648 [1:14:42<2:32:39,  2.69s/it]"
     ]
    },
    {
     "name": "stdout",
     "output_type": "stream",
     "text": [
      "LLM: mixtral-8x7b-32768 | Request Count: 1633\n",
      "Reached 1 requests for mixtral-8x7b-32768. Waiting for 30 seconds.\n",
      "LLM: mixtral-8x7b-32768 | Request Count: 1634\n",
      "Reached 1 requests for mixtral-8x7b-32768. Waiting for 30 seconds.\n"
     ]
    },
    {
     "name": "stderr",
     "output_type": "stream",
     "text": [
      "embedding nodes:  49%|████▊     | 3240/6648 [1:14:52<3:31:22,  3.72s/it]"
     ]
    },
    {
     "name": "stdout",
     "output_type": "stream",
     "text": [
      "LLM: mixtral-8x7b-32768 | Request Count: 1635\n",
      "Reached 1 requests for mixtral-8x7b-32768. Waiting for 30 seconds.\n"
     ]
    },
    {
     "name": "stderr",
     "output_type": "stream",
     "text": [
      "embedding nodes:  49%|████▉     | 3244/6648 [1:14:54<1:37:19,  1.72s/it]"
     ]
    },
    {
     "name": "stdout",
     "output_type": "stream",
     "text": [
      "LLM: mixtral-8x7b-32768 | Request Count: 1636\n",
      "Reached 1 requests for mixtral-8x7b-32768. Waiting for 30 seconds.\n"
     ]
    },
    {
     "name": "stderr",
     "output_type": "stream",
     "text": [
      "embedding nodes:  49%|████▉     | 3246/6648 [1:14:55<1:14:38,  1.32s/it]"
     ]
    },
    {
     "name": "stdout",
     "output_type": "stream",
     "text": [
      "LLM: mixtral-8x7b-32768 | Request Count: 1637\n",
      "Reached 1 requests for mixtral-8x7b-32768. Waiting for 30 seconds.\n"
     ]
    },
    {
     "name": "stderr",
     "output_type": "stream",
     "text": [
      "embedding nodes:  49%|████▉     | 3247/6648 [1:14:56<1:02:37,  1.10s/it]"
     ]
    },
    {
     "name": "stdout",
     "output_type": "stream",
     "text": [
      "LLM: mixtral-8x7b-32768 | Request Count: 1638\n",
      "Reached 1 requests for mixtral-8x7b-32768. Waiting for 30 seconds.\n"
     ]
    },
    {
     "name": "stderr",
     "output_type": "stream",
     "text": [
      "embedding nodes:  49%|████▉     | 3248/6648 [1:14:56<55:33,  1.02it/s]  "
     ]
    },
    {
     "name": "stdout",
     "output_type": "stream",
     "text": [
      "LLM: mixtral-8x7b-32768 | Request Count: 1639\n",
      "Reached 1 requests for mixtral-8x7b-32768. Waiting for 30 seconds.\n"
     ]
    },
    {
     "name": "stderr",
     "output_type": "stream",
     "text": [
      "embedding nodes:  49%|████▉     | 3249/6648 [1:14:58<1:05:27,  1.16s/it]"
     ]
    },
    {
     "name": "stdout",
     "output_type": "stream",
     "text": [
      "LLM: mixtral-8x7b-32768 | Request Count: 1640\n",
      "Reached 1 requests for mixtral-8x7b-32768. Waiting for 30 seconds.\n"
     ]
    },
    {
     "name": "stderr",
     "output_type": "stream",
     "text": [
      "embedding nodes:  49%|████▉     | 3256/6648 [1:15:07<47:40,  1.19it/s]  "
     ]
    },
    {
     "name": "stdout",
     "output_type": "stream",
     "text": [
      "LLM: mixtral-8x7b-32768 | Request Count: 1641\n",
      "Reached 1 requests for mixtral-8x7b-32768. Waiting for 30 seconds.\n",
      "LLM: mixtral-8x7b-32768 | Request Count: 1642\n",
      "Reached 1 requests for mixtral-8x7b-32768. Waiting for 30 seconds.\n"
     ]
    },
    {
     "name": "stderr",
     "output_type": "stream",
     "text": [
      "embedding nodes:  49%|████▉     | 3257/6648 [1:15:08<51:03,  1.11it/s]"
     ]
    },
    {
     "name": "stdout",
     "output_type": "stream",
     "text": [
      "LLM: mixtral-8x7b-32768 | Request Count: 1643\n",
      "Reached 1 requests for mixtral-8x7b-32768. Waiting for 30 seconds.\n",
      "LLM: mixtral-8x7b-32768 | Request Count: 1644\n",
      "Reached 1 requests for mixtral-8x7b-32768. Waiting for 30 seconds.\n"
     ]
    },
    {
     "name": "stderr",
     "output_type": "stream",
     "text": [
      "embedding nodes:  49%|████▉     | 3259/6648 [1:15:12<1:14:53,  1.33s/it]"
     ]
    },
    {
     "name": "stdout",
     "output_type": "stream",
     "text": [
      "LLM: mixtral-8x7b-32768 | Request Count: 1645\n",
      "Reached 1 requests for mixtral-8x7b-32768. Waiting for 30 seconds.\n",
      "LLM: mixtral-8x7b-32768 | Request Count: 1646\n",
      "Reached 1 requests for mixtral-8x7b-32768. Waiting for 30 seconds.\n"
     ]
    },
    {
     "name": "stderr",
     "output_type": "stream",
     "text": [
      "embedding nodes:  49%|████▉     | 3267/6648 [1:15:26<56:00,  1.01it/s]  "
     ]
    },
    {
     "name": "stdout",
     "output_type": "stream",
     "text": [
      "LLM: mixtral-8x7b-32768 | Request Count: 1647\n",
      "Reached 1 requests for mixtral-8x7b-32768. Waiting for 30 seconds.\n",
      "LLM: mixtral-8x7b-32768 | Request Count: 1648\n",
      "Reached 1 requests for mixtral-8x7b-32768. Waiting for 30 seconds.\n"
     ]
    },
    {
     "name": "stderr",
     "output_type": "stream",
     "text": [
      "embedding nodes:  49%|████▉     | 3270/6648 [1:15:28<41:36,  1.35it/s]"
     ]
    },
    {
     "name": "stdout",
     "output_type": "stream",
     "text": [
      "LLM: mixtral-8x7b-32768 | Request Count: 1649\n",
      "Reached 1 requests for mixtral-8x7b-32768. Waiting for 30 seconds.\n",
      "LLM: mixtral-8x7b-32768 | Request Count: 1650\n",
      "Reached 1 requests for mixtral-8x7b-32768. Waiting for 30 seconds.\n"
     ]
    },
    {
     "name": "stderr",
     "output_type": "stream",
     "text": [
      "embedding nodes:  49%|████▉     | 3271/6648 [1:15:28<33:02,  1.70it/s]"
     ]
    },
    {
     "name": "stdout",
     "output_type": "stream",
     "text": [
      "LLM: mixtral-8x7b-32768 | Request Count: 1651\n",
      "Reached 1 requests for mixtral-8x7b-32768. Waiting for 30 seconds.\n",
      "LLM: mixtral-8x7b-32768 | Request Count: 1652\n",
      "Reached 1 requests for mixtral-8x7b-32768. Waiting for 30 seconds.\n"
     ]
    },
    {
     "name": "stderr",
     "output_type": "stream",
     "text": [
      "embedding nodes:  49%|████▉     | 3282/6648 [1:15:42<36:18,  1.54it/s]  "
     ]
    },
    {
     "name": "stdout",
     "output_type": "stream",
     "text": [
      "LLM: mixtral-8x7b-32768 | Request Count: 1653\n",
      "Reached 1 requests for mixtral-8x7b-32768. Waiting for 30 seconds.\n",
      "LLM: mixtral-8x7b-32768 | Request Count: 1654\n",
      "Reached 1 requests for mixtral-8x7b-32768. Waiting for 30 seconds.\n"
     ]
    },
    {
     "name": "stderr",
     "output_type": "stream",
     "text": [
      "embedding nodes:  49%|████▉     | 3284/6648 [1:15:44<40:09,  1.40it/s]"
     ]
    },
    {
     "name": "stdout",
     "output_type": "stream",
     "text": [
      "LLM: mixtral-8x7b-32768 | Request Count: 1655\n",
      "Reached 1 requests for mixtral-8x7b-32768. Waiting for 30 seconds.\n",
      "LLM: mixtral-8x7b-32768 | Request Count: 1656\n",
      "Reached 1 requests for mixtral-8x7b-32768. Waiting for 30 seconds.\n"
     ]
    },
    {
     "name": "stderr",
     "output_type": "stream",
     "text": [
      "embedding nodes:  49%|████▉     | 3286/6648 [1:15:46<44:50,  1.25it/s]"
     ]
    },
    {
     "name": "stdout",
     "output_type": "stream",
     "text": [
      "LLM: mixtral-8x7b-32768 | Request Count: 1657\n",
      "Reached 1 requests for mixtral-8x7b-32768. Waiting for 30 seconds.\n",
      "LLM: mixtral-8x7b-32768 | Request Count: 1658\n",
      "Reached 1 requests for mixtral-8x7b-32768. Waiting for 30 seconds.\n"
     ]
    },
    {
     "name": "stderr",
     "output_type": "stream",
     "text": [
      "embedding nodes:  50%|████▉     | 3291/6648 [1:15:58<1:02:10,  1.11s/it]"
     ]
    },
    {
     "name": "stdout",
     "output_type": "stream",
     "text": [
      "LLM: mixtral-8x7b-32768 | Request Count: 1659\n",
      "Reached 1 requests for mixtral-8x7b-32768. Waiting for 30 seconds.\n",
      "LLM: mixtral-8x7b-32768 | Request Count: 1660\n",
      "Reached 1 requests for mixtral-8x7b-32768. Waiting for 30 seconds.\n"
     ]
    },
    {
     "name": "stderr",
     "output_type": "stream",
     "text": [
      "embedding nodes:  50%|████▉     | 3293/6648 [1:15:59<45:34,  1.23it/s]  "
     ]
    },
    {
     "name": "stdout",
     "output_type": "stream",
     "text": [
      "LLM: mixtral-8x7b-32768 | Request Count: 1661\n",
      "Reached 1 requests for mixtral-8x7b-32768. Waiting for 30 seconds.\n"
     ]
    },
    {
     "name": "stderr",
     "output_type": "stream",
     "text": [
      "embedding nodes:  50%|████▉     | 3294/6648 [1:16:01<55:18,  1.01it/s]"
     ]
    },
    {
     "name": "stdout",
     "output_type": "stream",
     "text": [
      "LLM: mixtral-8x7b-32768 | Request Count: 1662\n",
      "Reached 1 requests for mixtral-8x7b-32768. Waiting for 30 seconds.\n",
      "LLM: mixtral-8x7b-32768 | Request Count: 1663\n",
      "Reached 1 requests for mixtral-8x7b-32768. Waiting for 30 seconds.\n",
      "LLM: mixtral-8x7b-32768 | Request Count: 1664\n",
      "Reached 1 requests for mixtral-8x7b-32768. Waiting for 30 seconds.\n"
     ]
    },
    {
     "name": "stderr",
     "output_type": "stream",
     "text": [
      "embedding nodes:  50%|████▉     | 3304/6648 [1:16:18<54:55,  1.01it/s]  "
     ]
    },
    {
     "name": "stdout",
     "output_type": "stream",
     "text": [
      "LLM: mixtral-8x7b-32768 | Request Count: 1665\n",
      "Reached 1 requests for mixtral-8x7b-32768. Waiting for 30 seconds.\n",
      "LLM: mixtral-8x7b-32768 | Request Count: 1666\n",
      "Reached 1 requests for mixtral-8x7b-32768. Waiting for 30 seconds.\n"
     ]
    },
    {
     "name": "stderr",
     "output_type": "stream",
     "text": [
      "embedding nodes:  50%|████▉     | 3305/6648 [1:16:20<1:11:53,  1.29s/it]"
     ]
    },
    {
     "name": "stdout",
     "output_type": "stream",
     "text": [
      "LLM: mixtral-8x7b-32768 | Request Count: 1667\n",
      "Reached 1 requests for mixtral-8x7b-32768. Waiting for 30 seconds.\n"
     ]
    },
    {
     "name": "stderr",
     "output_type": "stream",
     "text": [
      "embedding nodes:  50%|████▉     | 3310/6648 [1:16:29<1:41:46,  1.83s/it]"
     ]
    },
    {
     "name": "stdout",
     "output_type": "stream",
     "text": [
      "LLM: mixtral-8x7b-32768 | Request Count: 1668\n",
      "Reached 1 requests for mixtral-8x7b-32768. Waiting for 30 seconds.\n",
      "LLM: mixtral-8x7b-32768 | Request Count: 1669\n",
      "Reached 1 requests for mixtral-8x7b-32768. Waiting for 30 seconds.\n",
      "LLM: mixtral-8x7b-32768 | Request Count: 1670\n",
      "Reached 1 requests for mixtral-8x7b-32768. Waiting for 30 seconds.\n"
     ]
    },
    {
     "name": "stderr",
     "output_type": "stream",
     "text": [
      "embedding nodes:  50%|████▉     | 3315/6648 [1:16:33<1:20:06,  1.44s/it]"
     ]
    },
    {
     "name": "stdout",
     "output_type": "stream",
     "text": [
      "LLM: mixtral-8x7b-32768 | Request Count: 1671\n",
      "Reached 1 requests for mixtral-8x7b-32768. Waiting for 30 seconds.\n",
      "LLM: mixtral-8x7b-32768 | Request Count: 1672\n",
      "Reached 1 requests for mixtral-8x7b-32768. Waiting for 30 seconds.\n"
     ]
    },
    {
     "name": "stderr",
     "output_type": "stream",
     "text": [
      "embedding nodes:  50%|████▉     | 3318/6648 [1:16:39<1:29:46,  1.62s/it]"
     ]
    },
    {
     "name": "stdout",
     "output_type": "stream",
     "text": [
      "LLM: mixtral-8x7b-32768 | Request Count: 1673\n",
      "Reached 1 requests for mixtral-8x7b-32768. Waiting for 30 seconds.\n"
     ]
    },
    {
     "name": "stderr",
     "output_type": "stream",
     "text": [
      "embedding nodes:  50%|████▉     | 3320/6648 [1:16:39<1:01:33,  1.11s/it]"
     ]
    },
    {
     "name": "stdout",
     "output_type": "stream",
     "text": [
      "LLM: mixtral-8x7b-32768 | Request Count: 1674\n",
      "Reached 1 requests for mixtral-8x7b-32768. Waiting for 30 seconds.\n",
      "LLM: mixtral-8x7b-32768 | Request Count: 1675\n",
      "Reached 1 requests for mixtral-8x7b-32768. Waiting for 30 seconds.\n",
      "LLM: mixtral-8x7b-32768 | Request Count: 1676\n",
      "Reached 1 requests for mixtral-8x7b-32768. Waiting for 30 seconds.\n"
     ]
    },
    {
     "name": "stderr",
     "output_type": "stream",
     "text": [
      "embedding nodes:  50%|█████     | 3328/6648 [1:16:53<1:12:48,  1.32s/it]"
     ]
    },
    {
     "name": "stdout",
     "output_type": "stream",
     "text": [
      "LLM: mixtral-8x7b-32768 | Request Count: 1677\n",
      "Reached 1 requests for mixtral-8x7b-32768. Waiting for 30 seconds.\n",
      "LLM: mixtral-8x7b-32768 | Request Count: 1678\n",
      "Reached 1 requests for mixtral-8x7b-32768. Waiting for 30 seconds.\n"
     ]
    },
    {
     "name": "stderr",
     "output_type": "stream",
     "text": [
      "embedding nodes:  50%|█████     | 3331/6648 [1:16:59<1:21:14,  1.47s/it]"
     ]
    },
    {
     "name": "stdout",
     "output_type": "stream",
     "text": [
      "LLM: mixtral-8x7b-32768 | Request Count: 1679\n",
      "Reached 1 requests for mixtral-8x7b-32768. Waiting for 30 seconds.\n",
      "LLM: mixtral-8x7b-32768 | Request Count: 1680\n",
      "Reached 1 requests for mixtral-8x7b-32768. Waiting for 30 seconds.\n",
      "LLM: mixtral-8x7b-32768 | Request Count: 1681\n",
      "Reached 1 requests for mixtral-8x7b-32768. Waiting for 30 seconds.\n"
     ]
    },
    {
     "name": "stderr",
     "output_type": "stream",
     "text": [
      "embedding nodes:  50%|█████     | 3333/6648 [1:16:59<56:17,  1.02s/it]  "
     ]
    },
    {
     "name": "stdout",
     "output_type": "stream",
     "text": [
      "LLM: mixtral-8x7b-32768 | Request Count: 1682\n",
      "Reached 1 requests for mixtral-8x7b-32768. Waiting for 30 seconds.\n"
     ]
    },
    {
     "name": "stderr",
     "output_type": "stream",
     "text": [
      "embedding nodes:  50%|█████     | 3341/6648 [1:17:09<37:08,  1.48it/s]  "
     ]
    },
    {
     "name": "stdout",
     "output_type": "stream",
     "text": [
      "LLM: mixtral-8x7b-32768 | Request Count: 1683\n",
      "Reached 1 requests for mixtral-8x7b-32768. Waiting for 30 seconds.\n",
      "LLM: mixtral-8x7b-32768 | Request Count: 1684\n",
      "Reached 1 requests for mixtral-8x7b-32768. Waiting for 30 seconds.\n"
     ]
    },
    {
     "name": "stderr",
     "output_type": "stream",
     "text": [
      "embedding nodes:  50%|█████     | 3342/6648 [1:17:14<1:14:39,  1.35s/it]"
     ]
    },
    {
     "name": "stdout",
     "output_type": "stream",
     "text": [
      "LLM: mixtral-8x7b-32768 | Request Count: 1685\n",
      "Reached 1 requests for mixtral-8x7b-32768. Waiting for 30 seconds.\n",
      "LLM: mixtral-8x7b-32768 | Request Count: 1686\n",
      "Reached 1 requests for mixtral-8x7b-32768. Waiting for 30 seconds.\n"
     ]
    },
    {
     "name": "stderr",
     "output_type": "stream",
     "text": [
      "embedding nodes:  50%|█████     | 3345/6648 [1:17:14<43:12,  1.27it/s]  "
     ]
    },
    {
     "name": "stdout",
     "output_type": "stream",
     "text": [
      "LLM: mixtral-8x7b-32768 | Request Count: 1687\n",
      "Reached 1 requests for mixtral-8x7b-32768. Waiting for 30 seconds.\n",
      "LLM: mixtral-8x7b-32768 | Request Count: 1688\n",
      "Reached 1 requests for mixtral-8x7b-32768. Waiting for 30 seconds.\n"
     ]
    },
    {
     "name": "stderr",
     "output_type": "stream",
     "text": [
      "embedding nodes:  50%|█████     | 3352/6648 [1:17:26<49:39,  1.11it/s]  "
     ]
    },
    {
     "name": "stdout",
     "output_type": "stream",
     "text": [
      "LLM: mixtral-8x7b-32768 | Request Count: 1689\n",
      "Reached 1 requests for mixtral-8x7b-32768. Waiting for 30 seconds.\n",
      "LLM: mixtral-8x7b-32768 | Request Count: 1690\n",
      "Reached 1 requests for mixtral-8x7b-32768. Waiting for 30 seconds.\n"
     ]
    },
    {
     "name": "stderr",
     "output_type": "stream",
     "text": [
      "embedding nodes:  50%|█████     | 3354/6648 [1:17:29<50:47,  1.08it/s]  "
     ]
    },
    {
     "name": "stdout",
     "output_type": "stream",
     "text": [
      "LLM: mixtral-8x7b-32768 | Request Count: 1691\n",
      "Reached 1 requests for mixtral-8x7b-32768. Waiting for 30 seconds.\n",
      "LLM: mixtral-8x7b-32768 | Request Count: 1692\n",
      "Reached 1 requests for mixtral-8x7b-32768. Waiting for 30 seconds.\n",
      "LLM: mixtral-8x7b-32768 | Request Count: 1693\n",
      "Reached 1 requests for mixtral-8x7b-32768. Waiting for 30 seconds.\n"
     ]
    },
    {
     "name": "stderr",
     "output_type": "stream",
     "text": [
      "embedding nodes:  50%|█████     | 3356/6648 [1:17:29<36:21,  1.51it/s]"
     ]
    },
    {
     "name": "stdout",
     "output_type": "stream",
     "text": [
      "LLM: mixtral-8x7b-32768 | Request Count: 1694\n",
      "Reached 1 requests for mixtral-8x7b-32768. Waiting for 30 seconds.\n"
     ]
    },
    {
     "name": "stderr",
     "output_type": "stream",
     "text": [
      "embedding nodes:  51%|█████     | 3363/6648 [1:17:49<1:49:32,  2.00s/it]"
     ]
    },
    {
     "name": "stdout",
     "output_type": "stream",
     "text": [
      "LLM: mixtral-8x7b-32768 | Request Count: 1695\n",
      "Reached 1 requests for mixtral-8x7b-32768. Waiting for 30 seconds.\n"
     ]
    },
    {
     "name": "stderr",
     "output_type": "stream",
     "text": [
      "embedding nodes:  51%|█████     | 3364/6648 [1:17:49<1:30:14,  1.65s/it]"
     ]
    },
    {
     "name": "stdout",
     "output_type": "stream",
     "text": [
      "LLM: mixtral-8x7b-32768 | Request Count: 1696\n",
      "Reached 1 requests for mixtral-8x7b-32768. Waiting for 30 seconds.\n"
     ]
    },
    {
     "name": "stderr",
     "output_type": "stream",
     "text": [
      "embedding nodes:  51%|█████     | 3366/6648 [1:17:54<1:37:59,  1.79s/it]"
     ]
    },
    {
     "name": "stdout",
     "output_type": "stream",
     "text": [
      "LLM: mixtral-8x7b-32768 | Request Count: 1697\n",
      "Reached 1 requests for mixtral-8x7b-32768. Waiting for 30 seconds.\n"
     ]
    },
    {
     "name": "stderr",
     "output_type": "stream",
     "text": [
      "embedding nodes:  51%|█████     | 3369/6648 [1:17:57<1:10:43,  1.29s/it]"
     ]
    },
    {
     "name": "stdout",
     "output_type": "stream",
     "text": [
      "LLM: mixtral-8x7b-32768 | Request Count: 1698\n",
      "Reached 1 requests for mixtral-8x7b-32768. Waiting for 30 seconds.\n"
     ]
    },
    {
     "name": "stderr",
     "output_type": "stream",
     "text": [
      "embedding nodes:  51%|█████     | 3374/6648 [1:17:59<38:01,  1.43it/s]  "
     ]
    },
    {
     "name": "stdout",
     "output_type": "stream",
     "text": [
      "LLM: mixtral-8x7b-32768 | Request Count: 1699\n",
      "Reached 1 requests for mixtral-8x7b-32768. Waiting for 30 seconds.\n",
      "LLM: mixtral-8x7b-32768 | Request Count: 1700\n",
      "Reached 1 requests for mixtral-8x7b-32768. Waiting for 30 seconds.\n"
     ]
    },
    {
     "name": "stderr",
     "output_type": "stream",
     "text": [
      "embedding nodes:  51%|█████     | 3375/6648 [1:18:04<1:24:53,  1.56s/it]"
     ]
    },
    {
     "name": "stdout",
     "output_type": "stream",
     "text": [
      "LLM: mixtral-8x7b-32768 | Request Count: 1701\n",
      "Reached 1 requests for mixtral-8x7b-32768. Waiting for 30 seconds.\n"
     ]
    },
    {
     "name": "stderr",
     "output_type": "stream",
     "text": [
      "embedding nodes:  51%|█████     | 3376/6648 [1:18:05<1:23:31,  1.53s/it]"
     ]
    },
    {
     "name": "stdout",
     "output_type": "stream",
     "text": [
      "LLM: mixtral-8x7b-32768 | Request Count: 1702\n",
      "Reached 1 requests for mixtral-8x7b-32768. Waiting for 30 seconds.\n"
     ]
    },
    {
     "name": "stderr",
     "output_type": "stream",
     "text": [
      "embedding nodes:  51%|█████     | 3377/6648 [1:18:06<1:05:17,  1.20s/it]"
     ]
    },
    {
     "name": "stdout",
     "output_type": "stream",
     "text": [
      "LLM: mixtral-8x7b-32768 | Request Count: 1703\n",
      "Reached 1 requests for mixtral-8x7b-32768. Waiting for 30 seconds.\n"
     ]
    },
    {
     "name": "stderr",
     "output_type": "stream",
     "text": [
      "embedding nodes:  51%|█████     | 3378/6648 [1:18:08<1:25:42,  1.57s/it]"
     ]
    },
    {
     "name": "stdout",
     "output_type": "stream",
     "text": [
      "LLM: mixtral-8x7b-32768 | Request Count: 1704\n",
      "Reached 1 requests for mixtral-8x7b-32768. Waiting for 30 seconds.\n"
     ]
    },
    {
     "name": "stderr",
     "output_type": "stream",
     "text": [
      "embedding nodes:  51%|█████     | 3382/6648 [1:18:19<2:15:38,  2.49s/it]"
     ]
    },
    {
     "name": "stdout",
     "output_type": "stream",
     "text": [
      "LLM: mixtral-8x7b-32768 | Request Count: 1705\n",
      "Reached 1 requests for mixtral-8x7b-32768. Waiting for 30 seconds.\n"
     ]
    },
    {
     "name": "stderr",
     "output_type": "stream",
     "text": [
      "embedding nodes:  51%|█████     | 3383/6648 [1:18:22<2:17:46,  2.53s/it]"
     ]
    },
    {
     "name": "stdout",
     "output_type": "stream",
     "text": [
      "LLM: mixtral-8x7b-32768 | Request Count: 1706\n",
      "Reached 1 requests for mixtral-8x7b-32768. Waiting for 30 seconds.\n"
     ]
    },
    {
     "name": "stderr",
     "output_type": "stream",
     "text": [
      "embedding nodes:  51%|█████     | 3384/6648 [1:18:22<1:42:43,  1.89s/it]"
     ]
    },
    {
     "name": "stdout",
     "output_type": "stream",
     "text": [
      "LLM: mixtral-8x7b-32768 | Request Count: 1707\n",
      "Reached 1 requests for mixtral-8x7b-32768. Waiting for 30 seconds.\n"
     ]
    },
    {
     "name": "stderr",
     "output_type": "stream",
     "text": [
      "embedding nodes:  51%|█████     | 3385/6648 [1:18:24<1:38:13,  1.81s/it]"
     ]
    },
    {
     "name": "stdout",
     "output_type": "stream",
     "text": [
      "LLM: mixtral-8x7b-32768 | Request Count: 1708\n",
      "Reached 1 requests for mixtral-8x7b-32768. Waiting for 30 seconds.\n"
     ]
    },
    {
     "name": "stderr",
     "output_type": "stream",
     "text": [
      "embedding nodes:  51%|█████     | 3386/6648 [1:18:28<2:13:02,  2.45s/it]"
     ]
    },
    {
     "name": "stdout",
     "output_type": "stream",
     "text": [
      "LLM: mixtral-8x7b-32768 | Request Count: 1709\n",
      "Reached 1 requests for mixtral-8x7b-32768. Waiting for 30 seconds.\n"
     ]
    },
    {
     "name": "stderr",
     "output_type": "stream",
     "text": [
      "embedding nodes:  51%|█████     | 3393/6648 [1:18:38<1:28:49,  1.64s/it]"
     ]
    },
    {
     "name": "stdout",
     "output_type": "stream",
     "text": [
      "LLM: mixtral-8x7b-32768 | Request Count: 1710\n",
      "Reached 1 requests for mixtral-8x7b-32768. Waiting for 30 seconds.\n"
     ]
    },
    {
     "name": "stderr",
     "output_type": "stream",
     "text": [
      "embedding nodes:  51%|█████     | 3394/6648 [1:18:41<1:49:03,  2.01s/it]"
     ]
    },
    {
     "name": "stdout",
     "output_type": "stream",
     "text": [
      "LLM: mixtral-8x7b-32768 | Request Count: 1711\n",
      "Reached 1 requests for mixtral-8x7b-32768. Waiting for 30 seconds.\n"
     ]
    },
    {
     "name": "stderr",
     "output_type": "stream",
     "text": [
      "embedding nodes:  51%|█████     | 3395/6648 [1:18:42<1:22:32,  1.52s/it]"
     ]
    },
    {
     "name": "stdout",
     "output_type": "stream",
     "text": [
      "LLM: mixtral-8x7b-32768 | Request Count: 1712\n",
      "Reached 1 requests for mixtral-8x7b-32768. Waiting for 30 seconds.\n"
     ]
    },
    {
     "name": "stderr",
     "output_type": "stream",
     "text": [
      "embedding nodes:  51%|█████     | 3397/6648 [1:18:45<1:30:53,  1.68s/it]"
     ]
    },
    {
     "name": "stdout",
     "output_type": "stream",
     "text": [
      "LLM: mixtral-8x7b-32768 | Request Count: 1713\n",
      "Reached 1 requests for mixtral-8x7b-32768. Waiting for 30 seconds.\n"
     ]
    },
    {
     "name": "stderr",
     "output_type": "stream",
     "text": [
      "embedding nodes:  51%|█████     | 3399/6648 [1:18:46<1:03:58,  1.18s/it]"
     ]
    },
    {
     "name": "stdout",
     "output_type": "stream",
     "text": [
      "LLM: mixtral-8x7b-32768 | Request Count: 1714\n",
      "Reached 1 requests for mixtral-8x7b-32768. Waiting for 30 seconds.\n"
     ]
    },
    {
     "name": "stderr",
     "output_type": "stream",
     "text": [
      "embedding nodes:  51%|█████     | 3401/6648 [1:18:51<1:35:33,  1.77s/it]"
     ]
    },
    {
     "name": "stdout",
     "output_type": "stream",
     "text": [
      "LLM: mixtral-8x7b-32768 | Request Count: 1715\n",
      "Reached 1 requests for mixtral-8x7b-32768. Waiting for 30 seconds.\n"
     ]
    },
    {
     "name": "stderr",
     "output_type": "stream",
     "text": [
      "embedding nodes:  51%|█████     | 3405/6648 [1:18:54<53:54,  1.00it/s]  "
     ]
    },
    {
     "name": "stdout",
     "output_type": "stream",
     "text": [
      "LLM: mixtral-8x7b-32768 | Request Count: 1716\n",
      "Reached 1 requests for mixtral-8x7b-32768. Waiting for 30 seconds.\n"
     ]
    },
    {
     "name": "stderr",
     "output_type": "stream",
     "text": [
      "embedding nodes:  51%|█████     | 3406/6648 [1:18:57<1:21:29,  1.51s/it]"
     ]
    },
    {
     "name": "stdout",
     "output_type": "stream",
     "text": [
      "LLM: mixtral-8x7b-32768 | Request Count: 1717\n",
      "Reached 1 requests for mixtral-8x7b-32768. Waiting for 30 seconds.\n"
     ]
    },
    {
     "name": "stderr",
     "output_type": "stream",
     "text": [
      "embedding nodes:  51%|█████     | 3407/6648 [1:18:58<1:13:16,  1.36s/it]"
     ]
    },
    {
     "name": "stdout",
     "output_type": "stream",
     "text": [
      "LLM: mixtral-8x7b-32768 | Request Count: 1718\n",
      "Reached 1 requests for mixtral-8x7b-32768. Waiting for 30 seconds.\n"
     ]
    },
    {
     "name": "stderr",
     "output_type": "stream",
     "text": [
      "embedding nodes:  51%|█████▏    | 3411/6648 [1:19:04<1:28:28,  1.64s/it]"
     ]
    },
    {
     "name": "stdout",
     "output_type": "stream",
     "text": [
      "LLM: mixtral-8x7b-32768 | Request Count: 1719\n",
      "Reached 1 requests for mixtral-8x7b-32768. Waiting for 30 seconds.\n",
      "LLM: mixtral-8x7b-32768 | Request Count: 1720\n",
      "Reached 1 requests for mixtral-8x7b-32768. Waiting for 30 seconds.\n"
     ]
    },
    {
     "name": "stderr",
     "output_type": "stream",
     "text": [
      "embedding nodes:  51%|█████▏    | 3413/6648 [1:19:05<1:09:05,  1.28s/it]"
     ]
    },
    {
     "name": "stdout",
     "output_type": "stream",
     "text": [
      "LLM: mixtral-8x7b-32768 | Request Count: 1721\n",
      "Reached 1 requests for mixtral-8x7b-32768. Waiting for 30 seconds.\n"
     ]
    },
    {
     "name": "stderr",
     "output_type": "stream",
     "text": [
      "embedding nodes:  51%|█████▏    | 3416/6648 [1:19:12<1:20:45,  1.50s/it]"
     ]
    },
    {
     "name": "stdout",
     "output_type": "stream",
     "text": [
      "LLM: mixtral-8x7b-32768 | Request Count: 1722\n",
      "Reached 1 requests for mixtral-8x7b-32768. Waiting for 30 seconds.\n"
     ]
    },
    {
     "name": "stderr",
     "output_type": "stream",
     "text": [
      "embedding nodes:  51%|█████▏    | 3418/6648 [1:19:15<1:25:15,  1.58s/it]"
     ]
    },
    {
     "name": "stdout",
     "output_type": "stream",
     "text": [
      "LLM: mixtral-8x7b-32768 | Request Count: 1723\n",
      "Reached 1 requests for mixtral-8x7b-32768. Waiting for 30 seconds.\n"
     ]
    },
    {
     "name": "stderr",
     "output_type": "stream",
     "text": [
      "embedding nodes:  51%|█████▏    | 3419/6648 [1:19:17<1:26:02,  1.60s/it]"
     ]
    },
    {
     "name": "stdout",
     "output_type": "stream",
     "text": [
      "LLM: mixtral-8x7b-32768 | Request Count: 1724\n",
      "Reached 1 requests for mixtral-8x7b-32768. Waiting for 30 seconds.\n"
     ]
    },
    {
     "name": "stderr",
     "output_type": "stream",
     "text": [
      "embedding nodes:  51%|█████▏    | 3420/6648 [1:19:18<1:27:27,  1.63s/it]"
     ]
    },
    {
     "name": "stdout",
     "output_type": "stream",
     "text": [
      "LLM: mixtral-8x7b-32768 | Request Count: 1725\n",
      "Reached 1 requests for mixtral-8x7b-32768. Waiting for 30 seconds.\n",
      "LLM: mixtral-8x7b-32768 | Request Count: 1726\n",
      "Reached 1 requests for mixtral-8x7b-32768. Waiting for 30 seconds.\n"
     ]
    },
    {
     "name": "stderr",
     "output_type": "stream",
     "text": [
      "embedding nodes:  52%|█████▏    | 3427/6648 [1:19:29<1:23:43,  1.56s/it]"
     ]
    },
    {
     "name": "stdout",
     "output_type": "stream",
     "text": [
      "LLM: mixtral-8x7b-32768 | Request Count: 1727\n",
      "Reached 1 requests for mixtral-8x7b-32768. Waiting for 30 seconds.\n"
     ]
    },
    {
     "name": "stderr",
     "output_type": "stream",
     "text": [
      "embedding nodes:  52%|█████▏    | 3428/6648 [1:19:31<1:18:39,  1.47s/it]"
     ]
    },
    {
     "name": "stdout",
     "output_type": "stream",
     "text": [
      "LLM: mixtral-8x7b-32768 | Request Count: 1728\n",
      "Reached 1 requests for mixtral-8x7b-32768. Waiting for 30 seconds.\n"
     ]
    },
    {
     "name": "stderr",
     "output_type": "stream",
     "text": [
      "embedding nodes:  52%|█████▏    | 3429/6648 [1:19:34<1:51:49,  2.08s/it]"
     ]
    },
    {
     "name": "stdout",
     "output_type": "stream",
     "text": [
      "LLM: mixtral-8x7b-32768 | Request Count: 1729\n",
      "Reached 1 requests for mixtral-8x7b-32768. Waiting for 30 seconds.\n",
      "LLM: mixtral-8x7b-32768 | Request Count: 1730\n",
      "Reached 1 requests for mixtral-8x7b-32768. Waiting for 30 seconds.\n"
     ]
    },
    {
     "name": "stderr",
     "output_type": "stream",
     "text": [
      "embedding nodes:  52%|█████▏    | 3435/6648 [1:19:45<2:10:38,  2.44s/it]"
     ]
    },
    {
     "name": "stdout",
     "output_type": "stream",
     "text": [
      "LLM: mixtral-8x7b-32768 | Request Count: 1731\n",
      "Reached 1 requests for mixtral-8x7b-32768. Waiting for 30 seconds.\n"
     ]
    },
    {
     "name": "stderr",
     "output_type": "stream",
     "text": [
      "embedding nodes:  52%|█████▏    | 3436/6648 [1:19:47<1:57:14,  2.19s/it]"
     ]
    },
    {
     "name": "stdout",
     "output_type": "stream",
     "text": [
      "LLM: mixtral-8x7b-32768 | Request Count: 1732\n",
      "Reached 1 requests for mixtral-8x7b-32768. Waiting for 30 seconds.\n"
     ]
    },
    {
     "name": "stderr",
     "output_type": "stream",
     "text": [
      "embedding nodes:  52%|█████▏    | 3437/6648 [1:19:47<1:29:55,  1.68s/it]"
     ]
    },
    {
     "name": "stdout",
     "output_type": "stream",
     "text": [
      "LLM: mixtral-8x7b-32768 | Request Count: 1733LLM: mixtral-8x7b-32768 | Request Count: 1734\n",
      "Reached 1 requests for mixtral-8x7b-32768. Waiting for 30 seconds.\n",
      "\n",
      "Reached 1 requests for mixtral-8x7b-32768. Waiting for 30 seconds.\n"
     ]
    },
    {
     "name": "stderr",
     "output_type": "stream",
     "text": [
      "embedding nodes:  52%|█████▏    | 3439/6648 [1:19:49<1:10:35,  1.32s/it]"
     ]
    },
    {
     "name": "stdout",
     "output_type": "stream",
     "text": [
      "LLM: mixtral-8x7b-32768 | Request Count: 1735\n",
      "Reached 1 requests for mixtral-8x7b-32768. Waiting for 30 seconds.\n"
     ]
    },
    {
     "name": "stderr",
     "output_type": "stream",
     "text": [
      "embedding nodes:  52%|█████▏    | 3445/6648 [1:20:03<1:58:53,  2.23s/it]"
     ]
    },
    {
     "name": "stdout",
     "output_type": "stream",
     "text": [
      "LLM: mixtral-8x7b-32768 | Request Count: 1736\n",
      "Reached 1 requests for mixtral-8x7b-32768. Waiting for 30 seconds.\n"
     ]
    },
    {
     "name": "stderr",
     "output_type": "stream",
     "text": [
      "embedding nodes:  52%|█████▏    | 3446/6648 [1:20:04<1:34:32,  1.77s/it]"
     ]
    },
    {
     "name": "stdout",
     "output_type": "stream",
     "text": [
      "LLM: mixtral-8x7b-32768 | Request Count: 1737\n",
      "Reached 1 requests for mixtral-8x7b-32768. Waiting for 30 seconds.\n"
     ]
    },
    {
     "name": "stderr",
     "output_type": "stream",
     "text": [
      "embedding nodes:  52%|█████▏    | 3448/6648 [1:20:04<53:39,  1.01s/it]  "
     ]
    },
    {
     "name": "stdout",
     "output_type": "stream",
     "text": [
      "LLM: mixtral-8x7b-32768 | Request Count: 1738\n",
      "Reached 1 requests for mixtral-8x7b-32768. Waiting for 30 seconds.\n",
      "LLM: mixtral-8x7b-32768 | Request Count: 1739\n",
      "Reached 1 requests for mixtral-8x7b-32768. Waiting for 30 seconds.\n"
     ]
    },
    {
     "name": "stderr",
     "output_type": "stream",
     "text": [
      "embedding nodes:  52%|█████▏    | 3456/6648 [1:20:19<56:48,  1.07s/it]  "
     ]
    },
    {
     "name": "stdout",
     "output_type": "stream",
     "text": [
      "LLM: mixtral-8x7b-32768 | Request Count: 1740LLM: mixtral-8x7b-32768 | Request Count: 1741\n",
      "Reached 1 requests for mixtral-8x7b-32768. Waiting for 30 seconds.\n",
      "\n",
      "Reached 1 requests for mixtral-8x7b-32768. Waiting for 30 seconds.\n"
     ]
    },
    {
     "name": "stderr",
     "output_type": "stream",
     "text": [
      "embedding nodes:  52%|█████▏    | 3457/6648 [1:20:30<3:09:19,  3.56s/it]"
     ]
    },
    {
     "name": "stdout",
     "output_type": "stream",
     "text": [
      "LLM: mixtral-8x7b-32768 | Request Count: 1742\n",
      "Reached 1 requests for mixtral-8x7b-32768. Waiting for 30 seconds.\n"
     ]
    },
    {
     "name": "stderr",
     "output_type": "stream",
     "text": [
      "embedding nodes:  52%|█████▏    | 3458/6648 [1:20:33<3:08:55,  3.55s/it]"
     ]
    },
    {
     "name": "stdout",
     "output_type": "stream",
     "text": [
      "LLM: mixtral-8x7b-32768 | Request Count: 1743\n",
      "Reached 1 requests for mixtral-8x7b-32768. Waiting for 30 seconds.\n"
     ]
    },
    {
     "name": "stderr",
     "output_type": "stream",
     "text": [
      "embedding nodes:  52%|█████▏    | 3459/6648 [1:20:34<2:21:37,  2.66s/it]"
     ]
    },
    {
     "name": "stdout",
     "output_type": "stream",
     "text": [
      "LLM: mixtral-8x7b-32768 | Request Count: 1744\n",
      "Reached 1 requests for mixtral-8x7b-32768. Waiting for 30 seconds.\n"
     ]
    },
    {
     "name": "stderr",
     "output_type": "stream",
     "text": [
      "embedding nodes:  52%|█████▏    | 3460/6648 [1:20:34<1:45:48,  1.99s/it]"
     ]
    },
    {
     "name": "stdout",
     "output_type": "stream",
     "text": [
      "LLM: mixtral-8x7b-32768 | Request Count: 1745\n",
      "Reached 1 requests for mixtral-8x7b-32768. Waiting for 30 seconds.\n"
     ]
    },
    {
     "name": "stderr",
     "output_type": "stream",
     "text": [
      "embedding nodes:  52%|█████▏    | 3466/6648 [1:20:39<1:04:07,  1.21s/it]"
     ]
    },
    {
     "name": "stdout",
     "output_type": "stream",
     "text": [
      "LLM: mixtral-8x7b-32768 | Request Count: 1746\n",
      "Reached 1 requests for mixtral-8x7b-32768. Waiting for 30 seconds.\n",
      "LLM: mixtral-8x7b-32768 | Request Count: 1747\n",
      "Reached 1 requests for mixtral-8x7b-32768. Waiting for 30 seconds.\n"
     ]
    },
    {
     "name": "stderr",
     "output_type": "stream",
     "text": [
      "embedding nodes:  52%|█████▏    | 3469/6648 [1:20:49<1:45:23,  1.99s/it]"
     ]
    },
    {
     "name": "stdout",
     "output_type": "stream",
     "text": [
      "LLM: mixtral-8x7b-32768 | Request Count: 1748\n",
      "Reached 1 requests for mixtral-8x7b-32768. Waiting for 30 seconds.\n",
      "LLM: mixtral-8x7b-32768 | Request Count: 1749\n",
      "Reached 1 requests for mixtral-8x7b-32768. Waiting for 30 seconds.\n",
      "LLM: mixtral-8x7b-32768 | Request Count: 1750\n",
      "Reached 1 requests for mixtral-8x7b-32768. Waiting for 30 seconds.\n",
      "LLM: mixtral-8x7b-32768 | Request Count: 1751\n",
      "Reached 1 requests for mixtral-8x7b-32768. Waiting for 30 seconds.\n"
     ]
    },
    {
     "name": "stderr",
     "output_type": "stream",
     "text": [
      "embedding nodes:  52%|█████▏    | 3477/6648 [1:21:10<2:38:53,  3.01s/it]"
     ]
    },
    {
     "name": "stdout",
     "output_type": "stream",
     "text": [
      "LLM: mixtral-8x7b-32768 | Request Count: 1752\n",
      "Reached 1 requests for mixtral-8x7b-32768. Waiting for 30 seconds.\n",
      "LLM: mixtral-8x7b-32768 | Request Count: 1753\n",
      "Reached 1 requests for mixtral-8x7b-32768. Waiting for 30 seconds.\n"
     ]
    },
    {
     "name": "stderr",
     "output_type": "stream",
     "text": [
      "embedding nodes:  52%|█████▏    | 3479/6648 [1:21:12<1:52:57,  2.14s/it]"
     ]
    },
    {
     "name": "stdout",
     "output_type": "stream",
     "text": [
      "LLM: mixtral-8x7b-32768 | Request Count: 1754\n",
      "Reached 1 requests for mixtral-8x7b-32768. Waiting for 30 seconds.\n"
     ]
    },
    {
     "name": "stderr",
     "output_type": "stream",
     "text": [
      "embedding nodes:  52%|█████▏    | 3481/6648 [1:21:19<2:25:24,  2.75s/it]"
     ]
    },
    {
     "name": "stdout",
     "output_type": "stream",
     "text": [
      "LLM: mixtral-8x7b-32768 | Request Count: 1755\n",
      "Reached 1 requests for mixtral-8x7b-32768. Waiting for 30 seconds.\n",
      "LLM: mixtral-8x7b-32768 | Request Count: 1756\n",
      "Reached 1 requests for mixtral-8x7b-32768. Waiting for 30 seconds.\n"
     ]
    },
    {
     "name": "stderr",
     "output_type": "stream",
     "text": [
      "embedding nodes:  52%|█████▏    | 3485/6648 [1:21:24<1:48:43,  2.06s/it]"
     ]
    },
    {
     "name": "stdout",
     "output_type": "stream",
     "text": [
      "LLM: mixtral-8x7b-32768 | Request Count: 1757\n",
      "Reached 1 requests for mixtral-8x7b-32768. Waiting for 30 seconds.\n"
     ]
    },
    {
     "name": "stderr",
     "output_type": "stream",
     "text": [
      "embedding nodes:  52%|█████▏    | 3489/6648 [1:21:40<3:42:14,  4.22s/it]"
     ]
    },
    {
     "name": "stdout",
     "output_type": "stream",
     "text": [
      "LLM: mixtral-8x7b-32768 | Request Count: 1758LLM: mixtral-8x7b-32768 | Request Count: 1759\n",
      "Reached 1 requests for mixtral-8x7b-32768. Waiting for 30 seconds.\n",
      "\n",
      "Reached 1 requests for mixtral-8x7b-32768. Waiting for 30 seconds.\n"
     ]
    },
    {
     "name": "stderr",
     "output_type": "stream",
     "text": [
      "embedding nodes:  53%|█████▎    | 3491/6648 [1:21:42<2:26:31,  2.78s/it]"
     ]
    },
    {
     "name": "stdout",
     "output_type": "stream",
     "text": [
      "LLM: mixtral-8x7b-32768 | Request Count: 1760\n",
      "Reached 1 requests for mixtral-8x7b-32768. Waiting for 30 seconds.\n"
     ]
    },
    {
     "name": "stderr",
     "output_type": "stream",
     "text": [
      "embedding nodes:  53%|█████▎    | 3496/6648 [1:21:50<1:44:25,  1.99s/it]"
     ]
    },
    {
     "name": "stdout",
     "output_type": "stream",
     "text": [
      "LLM: mixtral-8x7b-32768 | Request Count: 1761\n",
      "Reached 1 requests for mixtral-8x7b-32768. Waiting for 30 seconds.\n",
      "LLM: mixtral-8x7b-32768 | Request Count: 1762\n",
      "Reached 1 requests for mixtral-8x7b-32768. Waiting for 30 seconds.\n",
      "LLM: mixtral-8x7b-32768 | Request Count: 1763\n",
      "Reached 1 requests for mixtral-8x7b-32768. Waiting for 30 seconds.\n"
     ]
    },
    {
     "name": "stderr",
     "output_type": "stream",
     "text": [
      "embedding nodes:  53%|█████▎    | 3498/6648 [1:21:58<2:40:14,  3.05s/it]"
     ]
    },
    {
     "name": "stdout",
     "output_type": "stream",
     "text": [
      "LLM: mixtral-8x7b-32768 | Request Count: 1764\n",
      "Reached 1 requests for mixtral-8x7b-32768. Waiting for 30 seconds.\n",
      "LLM: mixtral-8x7b-32768 | Request Count: 1765\n",
      "Reached 1 requests for mixtral-8x7b-32768. Waiting for 30 seconds.\n"
     ]
    },
    {
     "name": "stderr",
     "output_type": "stream",
     "text": [
      "embedding nodes:  53%|█████▎    | 3500/6648 [1:22:00<1:51:56,  2.13s/it]"
     ]
    },
    {
     "name": "stdout",
     "output_type": "stream",
     "text": [
      "LLM: mixtral-8x7b-32768 | Request Count: 1766\n",
      "Reached 1 requests for mixtral-8x7b-32768. Waiting for 30 seconds.\n"
     ]
    },
    {
     "name": "stderr",
     "output_type": "stream",
     "text": [
      "embedding nodes:  53%|█████▎    | 3507/6648 [1:22:22<3:25:11,  3.92s/it]"
     ]
    },
    {
     "name": "stdout",
     "output_type": "stream",
     "text": [
      "LLM: mixtral-8x7b-32768 | Request Count: 1767\n",
      "Reached 1 requests for mixtral-8x7b-32768. Waiting for 30 seconds.\n"
     ]
    },
    {
     "name": "stderr",
     "output_type": "stream",
     "text": [
      "embedding nodes:  53%|█████▎    | 3508/6648 [1:22:22<2:33:13,  2.93s/it]"
     ]
    },
    {
     "name": "stdout",
     "output_type": "stream",
     "text": [
      "LLM: mixtral-8x7b-32768 | Request Count: 1768\n",
      "Reached 1 requests for mixtral-8x7b-32768. Waiting for 30 seconds.\n"
     ]
    },
    {
     "name": "stderr",
     "output_type": "stream",
     "text": [
      "embedding nodes:  53%|█████▎    | 3512/6648 [1:22:24<1:12:19,  1.38s/it]"
     ]
    },
    {
     "name": "stdout",
     "output_type": "stream",
     "text": [
      "LLM: mixtral-8x7b-32768 | Request Count: 1769\n",
      "Reached 1 requests for mixtral-8x7b-32768. Waiting for 30 seconds.\n"
     ]
    },
    {
     "name": "stderr",
     "output_type": "stream",
     "text": [
      "embedding nodes:  53%|█████▎    | 3513/6648 [1:22:24<57:50,  1.11s/it]  "
     ]
    },
    {
     "name": "stdout",
     "output_type": "stream",
     "text": [
      "LLM: mixtral-8x7b-32768 | Request Count: 1770\n",
      "Reached 1 requests for mixtral-8x7b-32768. Waiting for 30 seconds.\n"
     ]
    },
    {
     "name": "stderr",
     "output_type": "stream",
     "text": [
      "embedding nodes:  53%|█████▎    | 3514/6648 [1:22:26<1:00:43,  1.16s/it]"
     ]
    },
    {
     "name": "stdout",
     "output_type": "stream",
     "text": [
      "LLM: mixtral-8x7b-32768 | Request Count: 1771\n",
      "Reached 1 requests for mixtral-8x7b-32768. Waiting for 30 seconds.\n"
     ]
    },
    {
     "name": "stderr",
     "output_type": "stream",
     "text": [
      "embedding nodes:  53%|█████▎    | 3515/6648 [1:22:26<47:43,  1.09it/s]  "
     ]
    },
    {
     "name": "stdout",
     "output_type": "stream",
     "text": [
      "LLM: mixtral-8x7b-32768 | Request Count: 1772\n",
      "Reached 1 requests for mixtral-8x7b-32768. Waiting for 30 seconds.\n"
     ]
    },
    {
     "name": "stderr",
     "output_type": "stream",
     "text": [
      "embedding nodes:  53%|█████▎    | 3519/6648 [1:22:34<1:42:31,  1.97s/it]"
     ]
    },
    {
     "name": "stdout",
     "output_type": "stream",
     "text": [
      "LLM: mixtral-8x7b-32768 | Request Count: 1773\n",
      "Reached 1 requests for mixtral-8x7b-32768. Waiting for 30 seconds.\n",
      "LLM: mixtral-8x7b-32768 | Request Count: 1774\n",
      "Reached 1 requests for mixtral-8x7b-32768. Waiting for 30 seconds.\n"
     ]
    },
    {
     "name": "stderr",
     "output_type": "stream",
     "text": [
      "embedding nodes:  53%|█████▎    | 3521/6648 [1:22:36<1:21:23,  1.56s/it]"
     ]
    },
    {
     "name": "stdout",
     "output_type": "stream",
     "text": [
      "LLM: mixtral-8x7b-32768 | Request Count: 1775\n",
      "Reached 1 requests for mixtral-8x7b-32768. Waiting for 30 seconds.\n"
     ]
    },
    {
     "name": "stderr",
     "output_type": "stream",
     "text": [
      "embedding nodes:  53%|█████▎    | 3523/6648 [1:22:40<1:20:10,  1.54s/it]"
     ]
    },
    {
     "name": "stdout",
     "output_type": "stream",
     "text": [
      "LLM: mixtral-8x7b-32768 | Request Count: 1776\n",
      "Reached 1 requests for mixtral-8x7b-32768. Waiting for 30 seconds.\n"
     ]
    },
    {
     "name": "stderr",
     "output_type": "stream",
     "text": [
      "embedding nodes:  53%|█████▎    | 3525/6648 [1:22:46<2:02:22,  2.35s/it]"
     ]
    },
    {
     "name": "stdout",
     "output_type": "stream",
     "text": [
      "LLM: mixtral-8x7b-32768 | Request Count: 1777\n",
      "Reached 1 requests for mixtral-8x7b-32768. Waiting for 30 seconds.\n"
     ]
    },
    {
     "name": "stderr",
     "output_type": "stream",
     "text": [
      "embedding nodes:  53%|█████▎    | 3527/6648 [1:22:50<2:00:25,  2.32s/it]"
     ]
    },
    {
     "name": "stdout",
     "output_type": "stream",
     "text": [
      "LLM: mixtral-8x7b-32768 | Request Count: 1778\n",
      "Reached 1 requests for mixtral-8x7b-32768. Waiting for 30 seconds.\n"
     ]
    },
    {
     "name": "stderr",
     "output_type": "stream",
     "text": [
      "embedding nodes:  53%|█████▎    | 3531/6648 [1:22:54<1:07:30,  1.30s/it]"
     ]
    },
    {
     "name": "stdout",
     "output_type": "stream",
     "text": [
      "LLM: mixtral-8x7b-32768 | Request Count: 1779\n",
      "Reached 1 requests for mixtral-8x7b-32768. Waiting for 30 seconds.\n"
     ]
    },
    {
     "name": "stderr",
     "output_type": "stream",
     "text": [
      "embedding nodes:  53%|█████▎    | 3532/6648 [1:22:56<1:06:56,  1.29s/it]"
     ]
    },
    {
     "name": "stdout",
     "output_type": "stream",
     "text": [
      "LLM: mixtral-8x7b-32768 | Request Count: 1780\n",
      "Reached 1 requests for mixtral-8x7b-32768. Waiting for 30 seconds.\n"
     ]
    },
    {
     "name": "stderr",
     "output_type": "stream",
     "text": [
      "embedding nodes:  53%|█████▎    | 3533/6648 [1:22:56<50:28,  1.03it/s]  "
     ]
    },
    {
     "name": "stdout",
     "output_type": "stream",
     "text": [
      "LLM: mixtral-8x7b-32768 | Request Count: 1781\n",
      "Reached 1 requests for mixtral-8x7b-32768. Waiting for 30 seconds.\n"
     ]
    },
    {
     "name": "stderr",
     "output_type": "stream",
     "text": [
      "embedding nodes:  53%|█████▎    | 3537/6648 [1:23:04<1:40:19,  1.93s/it]"
     ]
    },
    {
     "name": "stdout",
     "output_type": "stream",
     "text": [
      "LLM: mixtral-8x7b-32768 | Request Count: 1782\n",
      "Reached 1 requests for mixtral-8x7b-32768. Waiting for 30 seconds.\n",
      "LLM: mixtral-8x7b-32768 | Request Count: 1783\n",
      "Reached 1 requests for mixtral-8x7b-32768. Waiting for 30 seconds.\n"
     ]
    },
    {
     "name": "stderr",
     "output_type": "stream",
     "text": [
      "embedding nodes:  53%|█████▎    | 3539/6648 [1:23:05<1:02:54,  1.21s/it]"
     ]
    },
    {
     "name": "stdout",
     "output_type": "stream",
     "text": [
      "LLM: mixtral-8x7b-32768 | Request Count: 1784\n",
      "Reached 1 requests for mixtral-8x7b-32768. Waiting for 30 seconds.\n"
     ]
    },
    {
     "name": "stderr",
     "output_type": "stream",
     "text": [
      "embedding nodes:  53%|█████▎    | 3542/6648 [1:23:06<41:43,  1.24it/s]  "
     ]
    },
    {
     "name": "stdout",
     "output_type": "stream",
     "text": [
      "LLM: mixtral-8x7b-32768 | Request Count: 1785\n",
      "Reached 1 requests for mixtral-8x7b-32768. Waiting for 30 seconds.\n"
     ]
    },
    {
     "name": "stderr",
     "output_type": "stream",
     "text": [
      "embedding nodes:  53%|█████▎    | 3544/6648 [1:23:11<1:15:40,  1.46s/it]"
     ]
    },
    {
     "name": "stdout",
     "output_type": "stream",
     "text": [
      "LLM: mixtral-8x7b-32768 | Request Count: 1786\n",
      "Reached 1 requests for mixtral-8x7b-32768. Waiting for 30 seconds.\n",
      "LLM: mixtral-8x7b-32768 | Request Count: 1787\n",
      "Reached 1 requests for mixtral-8x7b-32768. Waiting for 30 seconds.\n"
     ]
    },
    {
     "name": "stderr",
     "output_type": "stream",
     "text": [
      "embedding nodes:  53%|█████▎    | 3549/6648 [1:23:20<1:38:38,  1.91s/it]"
     ]
    },
    {
     "name": "stdout",
     "output_type": "stream",
     "text": [
      "LLM: mixtral-8x7b-32768 | Request Count: 1788\n",
      "Reached 1 requests for mixtral-8x7b-32768. Waiting for 30 seconds.\n"
     ]
    },
    {
     "name": "stderr",
     "output_type": "stream",
     "text": [
      "embedding nodes:  53%|█████▎    | 3550/6648 [1:23:22<1:39:27,  1.93s/it]"
     ]
    },
    {
     "name": "stdout",
     "output_type": "stream",
     "text": [
      "LLM: mixtral-8x7b-32768 | Request Count: 1789\n",
      "Reached 1 requests for mixtral-8x7b-32768. Waiting for 30 seconds.\n"
     ]
    },
    {
     "name": "stderr",
     "output_type": "stream",
     "text": [
      "embedding nodes:  53%|█████▎    | 3551/6648 [1:23:23<1:17:28,  1.50s/it]"
     ]
    },
    {
     "name": "stdout",
     "output_type": "stream",
     "text": [
      "LLM: mixtral-8x7b-32768 | Request Count: 1790\n",
      "Reached 1 requests for mixtral-8x7b-32768. Waiting for 30 seconds.\n"
     ]
    },
    {
     "name": "stderr",
     "output_type": "stream",
     "text": [
      "embedding nodes:  53%|█████▎    | 3553/6648 [1:23:26<1:15:33,  1.46s/it]"
     ]
    },
    {
     "name": "stdout",
     "output_type": "stream",
     "text": [
      "LLM: mixtral-8x7b-32768 | Request Count: 1791\n",
      "Reached 1 requests for mixtral-8x7b-32768. Waiting for 30 seconds.\n"
     ]
    },
    {
     "name": "stderr",
     "output_type": "stream",
     "text": [
      "embedding nodes:  53%|█████▎    | 3555/6648 [1:23:28<1:06:00,  1.28s/it]"
     ]
    },
    {
     "name": "stdout",
     "output_type": "stream",
     "text": [
      "LLM: mixtral-8x7b-32768 | Request Count: 1792\n",
      "Reached 1 requests for mixtral-8x7b-32768. Waiting for 30 seconds.\n"
     ]
    },
    {
     "name": "stderr",
     "output_type": "stream",
     "text": [
      "embedding nodes:  54%|█████▎    | 3557/6648 [1:23:31<1:25:52,  1.67s/it]"
     ]
    },
    {
     "name": "stdout",
     "output_type": "stream",
     "text": [
      "LLM: mixtral-8x7b-32768 | Request Count: 1793\n",
      "Reached 1 requests for mixtral-8x7b-32768. Waiting for 30 seconds.\n"
     ]
    },
    {
     "name": "stderr",
     "output_type": "stream",
     "text": [
      "embedding nodes:  54%|█████▎    | 3561/6648 [1:23:36<1:06:30,  1.29s/it]"
     ]
    },
    {
     "name": "stdout",
     "output_type": "stream",
     "text": [
      "LLM: mixtral-8x7b-32768 | Request Count: 1794\n",
      "Reached 1 requests for mixtral-8x7b-32768. Waiting for 30 seconds.\n"
     ]
    },
    {
     "name": "stderr",
     "output_type": "stream",
     "text": [
      "embedding nodes:  54%|█████▎    | 3563/6648 [1:23:38<55:12,  1.07s/it]  "
     ]
    },
    {
     "name": "stdout",
     "output_type": "stream",
     "text": [
      "LLM: mixtral-8x7b-32768 | Request Count: 1795\n",
      "Reached 1 requests for mixtral-8x7b-32768. Waiting for 30 seconds.\n",
      "LLM: mixtral-8x7b-32768 | Request Count: 1796\n",
      "Reached 1 requests for mixtral-8x7b-32768. Waiting for 30 seconds.\n"
     ]
    },
    {
     "name": "stderr",
     "output_type": "stream",
     "text": [
      "embedding nodes:  54%|█████▎    | 3565/6648 [1:23:41<1:08:25,  1.33s/it]"
     ]
    },
    {
     "name": "stdout",
     "output_type": "stream",
     "text": [
      "LLM: mixtral-8x7b-32768 | Request Count: 1797\n",
      "Reached 1 requests for mixtral-8x7b-32768. Waiting for 30 seconds.\n"
     ]
    },
    {
     "name": "stderr",
     "output_type": "stream",
     "text": [
      "embedding nodes:  54%|█████▎    | 3567/6648 [1:23:43<57:14,  1.11s/it]  "
     ]
    },
    {
     "name": "stdout",
     "output_type": "stream",
     "text": [
      "LLM: mixtral-8x7b-32768 | Request Count: 1798\n",
      "Reached 1 requests for mixtral-8x7b-32768. Waiting for 30 seconds.\n"
     ]
    },
    {
     "name": "stderr",
     "output_type": "stream",
     "text": [
      "embedding nodes:  54%|█████▎    | 3569/6648 [1:23:47<1:25:12,  1.66s/it]"
     ]
    },
    {
     "name": "stdout",
     "output_type": "stream",
     "text": [
      "LLM: mixtral-8x7b-32768 | Request Count: 1799\n",
      "Reached 1 requests for mixtral-8x7b-32768. Waiting for 30 seconds.\n"
     ]
    },
    {
     "name": "stderr",
     "output_type": "stream",
     "text": [
      "embedding nodes:  54%|█████▎    | 3573/6648 [1:23:56<1:40:43,  1.97s/it]"
     ]
    },
    {
     "name": "stdout",
     "output_type": "stream",
     "text": [
      "LLM: mixtral-8x7b-32768 | Request Count: 1800\n",
      "Reached 1 requests for mixtral-8x7b-32768. Waiting for 30 seconds.\n"
     ]
    },
    {
     "name": "stderr",
     "output_type": "stream",
     "text": [
      "embedding nodes:  54%|█████▍    | 3575/6648 [1:23:58<1:11:24,  1.39s/it]"
     ]
    },
    {
     "name": "stdout",
     "output_type": "stream",
     "text": [
      "LLM: mixtral-8x7b-32768 | Request Count: 1801\n",
      "Reached 1 requests for mixtral-8x7b-32768. Waiting for 30 seconds.\n",
      "LLM: mixtral-8x7b-32768 | Request Count: 1802\n",
      "Reached 1 requests for mixtral-8x7b-32768. Waiting for 30 seconds.\n"
     ]
    },
    {
     "name": "stderr",
     "output_type": "stream",
     "text": [
      "embedding nodes:  54%|█████▍    | 3579/6648 [1:24:04<1:25:03,  1.66s/it]"
     ]
    },
    {
     "name": "stdout",
     "output_type": "stream",
     "text": [
      "LLM: mixtral-8x7b-32768 | Request Count: 1803\n",
      "Reached 1 requests for mixtral-8x7b-32768. Waiting for 30 seconds.\n"
     ]
    },
    {
     "name": "stderr",
     "output_type": "stream",
     "text": [
      "embedding nodes:  54%|█████▍    | 3580/6648 [1:24:04<1:03:59,  1.25s/it]"
     ]
    },
    {
     "name": "stdout",
     "output_type": "stream",
     "text": [
      "LLM: mixtral-8x7b-32768 | Request Count: 1804\n",
      "Reached 1 requests for mixtral-8x7b-32768. Waiting for 30 seconds.\n"
     ]
    },
    {
     "name": "stderr",
     "output_type": "stream",
     "text": [
      "embedding nodes:  54%|█████▍    | 3581/6648 [1:24:05<1:08:37,  1.34s/it]"
     ]
    },
    {
     "name": "stdout",
     "output_type": "stream",
     "text": [
      "LLM: mixtral-8x7b-32768 | Request Count: 1805\n",
      "Reached 1 requests for mixtral-8x7b-32768. Waiting for 30 seconds.\n"
     ]
    },
    {
     "name": "stderr",
     "output_type": "stream",
     "text": [
      "embedding nodes:  54%|█████▍    | 3582/6648 [1:24:06<1:01:36,  1.21s/it]"
     ]
    },
    {
     "name": "stdout",
     "output_type": "stream",
     "text": [
      "LLM: mixtral-8x7b-32768 | Request Count: 1806\n",
      "Reached 1 requests for mixtral-8x7b-32768. Waiting for 30 seconds.\n"
     ]
    },
    {
     "name": "stderr",
     "output_type": "stream",
     "text": [
      "embedding nodes:  54%|█████▍    | 3584/6648 [1:24:08<51:29,  1.01s/it]  "
     ]
    },
    {
     "name": "stdout",
     "output_type": "stream",
     "text": [
      "LLM: mixtral-8x7b-32768 | Request Count: 1807\n",
      "Reached 1 requests for mixtral-8x7b-32768. Waiting for 30 seconds.\n",
      "LLM: mixtral-8x7b-32768 | Request Count: 1808\n",
      "Reached 1 requests for mixtral-8x7b-32768. Waiting for 30 seconds.\n"
     ]
    },
    {
     "name": "stderr",
     "output_type": "stream",
     "text": [
      "embedding nodes:  54%|█████▍    | 3592/6648 [1:24:23<1:10:15,  1.38s/it]"
     ]
    },
    {
     "name": "stdout",
     "output_type": "stream",
     "text": [
      "LLM: mixtral-8x7b-32768 | Request Count: 1809\n",
      "Reached 1 requests for mixtral-8x7b-32768. Waiting for 30 seconds.\n",
      "LLM: mixtral-8x7b-32768 | Request Count: 1810\n",
      "Reached 1 requests for mixtral-8x7b-32768. Waiting for 30 seconds.\n"
     ]
    },
    {
     "name": "stderr",
     "output_type": "stream",
     "text": [
      "embedding nodes:  54%|█████▍    | 3593/6648 [1:24:24<1:10:03,  1.38s/it]"
     ]
    },
    {
     "name": "stdout",
     "output_type": "stream",
     "text": [
      "LLM: mixtral-8x7b-32768 | Request Count: 1811\n",
      "Reached 1 requests for mixtral-8x7b-32768. Waiting for 30 seconds.\n"
     ]
    },
    {
     "name": "stderr",
     "output_type": "stream",
     "text": [
      "embedding nodes:  54%|█████▍    | 3594/6648 [1:24:26<1:08:59,  1.36s/it]"
     ]
    },
    {
     "name": "stdout",
     "output_type": "stream",
     "text": [
      "LLM: mixtral-8x7b-32768 | Request Count: 1812\n",
      "Reached 1 requests for mixtral-8x7b-32768. Waiting for 30 seconds.\n"
     ]
    },
    {
     "name": "stderr",
     "output_type": "stream",
     "text": [
      "embedding nodes:  54%|█████▍    | 3596/6648 [1:24:28<55:14,  1.09s/it]  "
     ]
    },
    {
     "name": "stdout",
     "output_type": "stream",
     "text": [
      "LLM: mixtral-8x7b-32768 | Request Count: 1813\n",
      "Reached 1 requests for mixtral-8x7b-32768. Waiting for 30 seconds.\n",
      "LLM: mixtral-8x7b-32768 | Request Count: 1814\n",
      "Reached 1 requests for mixtral-8x7b-32768. Waiting for 30 seconds.\n"
     ]
    },
    {
     "name": "stderr",
     "output_type": "stream",
     "text": [
      "embedding nodes:  54%|█████▍    | 3605/6648 [1:24:38<33:08,  1.53it/s]  "
     ]
    },
    {
     "name": "stdout",
     "output_type": "stream",
     "text": [
      "LLM: mixtral-8x7b-32768 | Request Count: 1815\n",
      "Reached 1 requests for mixtral-8x7b-32768. Waiting for 30 seconds.\n",
      "LLM: mixtral-8x7b-32768 | Request Count: 1816\n",
      "Reached 1 requests for mixtral-8x7b-32768. Waiting for 30 seconds.\n",
      "LLM: mixtral-8x7b-32768 | Request Count: 1817\n",
      "Reached 1 requests for mixtral-8x7b-32768. Waiting for 30 seconds.\n"
     ]
    },
    {
     "name": "stderr",
     "output_type": "stream",
     "text": [
      "embedding nodes:  54%|█████▍    | 3608/6648 [1:24:42<54:21,  1.07s/it]"
     ]
    },
    {
     "name": "stdout",
     "output_type": "stream",
     "text": [
      "LLM: mixtral-8x7b-32768 | Request Count: 1818\n",
      "Reached 1 requests for mixtral-8x7b-32768. Waiting for 30 seconds.\n"
     ]
    },
    {
     "name": "stderr",
     "output_type": "stream",
     "text": [
      "embedding nodes:  54%|█████▍    | 3609/6648 [1:24:45<1:21:34,  1.61s/it]"
     ]
    },
    {
     "name": "stdout",
     "output_type": "stream",
     "text": [
      "LLM: mixtral-8x7b-32768 | Request Count: 1819\n",
      "Reached 1 requests for mixtral-8x7b-32768. Waiting for 30 seconds.\n",
      "LLM: mixtral-8x7b-32768 | Request Count: 1820\n",
      "Reached 1 requests for mixtral-8x7b-32768. Waiting for 30 seconds.\n"
     ]
    },
    {
     "name": "stderr",
     "output_type": "stream",
     "text": [
      "embedding nodes:  54%|█████▍    | 3617/6648 [1:24:56<49:51,  1.01it/s]  "
     ]
    },
    {
     "name": "stdout",
     "output_type": "stream",
     "text": [
      "LLM: mixtral-8x7b-32768 | Request Count: 1821\n",
      "Reached 1 requests for mixtral-8x7b-32768. Waiting for 30 seconds.\n",
      "LLM: mixtral-8x7b-32768 | Request Count: 1822\n",
      "Reached 1 requests for mixtral-8x7b-32768. Waiting for 30 seconds.\n"
     ]
    },
    {
     "name": "stderr",
     "output_type": "stream",
     "text": [
      "embedding nodes:  54%|█████▍    | 3619/6648 [1:24:58<40:16,  1.25it/s]"
     ]
    },
    {
     "name": "stdout",
     "output_type": "stream",
     "text": [
      "LLM: mixtral-8x7b-32768 | Request Count: 1823\n",
      "Reached 1 requests for mixtral-8x7b-32768. Waiting for 30 seconds.\n",
      "LLM: mixtral-8x7b-32768 | Request Count: 1824\n",
      "Reached 1 requests for mixtral-8x7b-32768. Waiting for 30 seconds.\n"
     ]
    },
    {
     "name": "stderr",
     "output_type": "stream",
     "text": [
      "embedding nodes:  54%|█████▍    | 3620/6648 [1:24:58<31:08,  1.62it/s]"
     ]
    },
    {
     "name": "stdout",
     "output_type": "stream",
     "text": [
      "LLM: mixtral-8x7b-32768 | Request Count: 1825\n",
      "Reached 1 requests for mixtral-8x7b-32768. Waiting for 30 seconds.\n"
     ]
    },
    {
     "name": "stderr",
     "output_type": "stream",
     "text": [
      "embedding nodes:  54%|█████▍    | 3621/6648 [1:24:58<25:42,  1.96it/s]"
     ]
    },
    {
     "name": "stdout",
     "output_type": "stream",
     "text": [
      "LLM: mixtral-8x7b-32768 | Request Count: 1826\n",
      "Reached 1 requests for mixtral-8x7b-32768. Waiting for 30 seconds.\n"
     ]
    },
    {
     "name": "stderr",
     "output_type": "stream",
     "text": [
      "embedding nodes:  55%|█████▍    | 3625/6648 [1:25:10<1:27:59,  1.75s/it]"
     ]
    },
    {
     "name": "stdout",
     "output_type": "stream",
     "text": [
      "LLM: mixtral-8x7b-32768 | Request Count: 1827\n",
      "Reached 1 requests for mixtral-8x7b-32768. Waiting for 30 seconds.\n"
     ]
    },
    {
     "name": "stderr",
     "output_type": "stream",
     "text": [
      "embedding nodes:  55%|█████▍    | 3628/6648 [1:25:11<56:01,  1.11s/it]  "
     ]
    },
    {
     "name": "stdout",
     "output_type": "stream",
     "text": [
      "LLM: mixtral-8x7b-32768 | Request Count: 1828\n",
      "Reached 1 requests for mixtral-8x7b-32768. Waiting for 30 seconds.\n",
      "LLM: mixtral-8x7b-32768 | Request Count: 1829\n",
      "Reached 1 requests for mixtral-8x7b-32768. Waiting for 30 seconds.\n"
     ]
    },
    {
     "name": "stderr",
     "output_type": "stream",
     "text": [
      "embedding nodes:  55%|█████▍    | 3630/6648 [1:25:12<47:05,  1.07it/s]"
     ]
    },
    {
     "name": "stdout",
     "output_type": "stream",
     "text": [
      "LLM: mixtral-8x7b-32768 | Request Count: 1830\n",
      "Reached 1 requests for mixtral-8x7b-32768. Waiting for 30 seconds.\n"
     ]
    },
    {
     "name": "stderr",
     "output_type": "stream",
     "text": [
      "embedding nodes:  55%|█████▍    | 3631/6648 [1:25:15<1:06:49,  1.33s/it]"
     ]
    },
    {
     "name": "stdout",
     "output_type": "stream",
     "text": [
      "LLM: mixtral-8x7b-32768 | Request Count: 1831\n",
      "Reached 1 requests for mixtral-8x7b-32768. Waiting for 30 seconds.\n"
     ]
    },
    {
     "name": "stderr",
     "output_type": "stream",
     "text": [
      "embedding nodes:  55%|█████▍    | 3636/6648 [1:25:20<58:29,  1.17s/it]  "
     ]
    },
    {
     "name": "stdout",
     "output_type": "stream",
     "text": [
      "LLM: mixtral-8x7b-32768 | Request Count: 1832\n",
      "Reached 1 requests for mixtral-8x7b-32768. Waiting for 30 seconds.\n"
     ]
    },
    {
     "name": "stderr",
     "output_type": "stream",
     "text": [
      "embedding nodes:  55%|█████▍    | 3637/6648 [1:25:27<2:10:30,  2.60s/it]"
     ]
    },
    {
     "name": "stdout",
     "output_type": "stream",
     "text": [
      "LLM: mixtral-8x7b-32768 | Request Count: 1833\n",
      "Reached 1 requests for mixtral-8x7b-32768. Waiting for 30 seconds.\n"
     ]
    },
    {
     "name": "stderr",
     "output_type": "stream",
     "text": [
      "embedding nodes:  55%|█████▍    | 3639/6648 [1:25:27<1:24:29,  1.68s/it]"
     ]
    },
    {
     "name": "stdout",
     "output_type": "stream",
     "text": [
      "LLM: mixtral-8x7b-32768 | Request Count: 1834\n",
      "Reached 1 requests for mixtral-8x7b-32768. Waiting for 30 seconds.\n"
     ]
    },
    {
     "name": "stderr",
     "output_type": "stream",
     "text": [
      "embedding nodes:  55%|█████▍    | 3641/6648 [1:25:28<52:50,  1.05s/it]  "
     ]
    },
    {
     "name": "stdout",
     "output_type": "stream",
     "text": [
      "LLM: mixtral-8x7b-32768 | Request Count: 1835\n",
      "Reached 1 requests for mixtral-8x7b-32768. Waiting for 30 seconds.\n"
     ]
    },
    {
     "name": "stderr",
     "output_type": "stream",
     "text": [
      "embedding nodes:  55%|█████▍    | 3646/6648 [1:25:30<25:27,  1.97it/s]"
     ]
    },
    {
     "name": "stdout",
     "output_type": "stream",
     "text": [
      "LLM: mixtral-8x7b-32768 | Request Count: 1836\n",
      "Reached 1 requests for mixtral-8x7b-32768. Waiting for 30 seconds.\n",
      "LLM: mixtral-8x7b-32768 | Request Count: 1837\n",
      "Reached 1 requests for mixtral-8x7b-32768. Waiting for 30 seconds.\n"
     ]
    },
    {
     "name": "stderr",
     "output_type": "stream",
     "text": [
      "embedding nodes:  55%|█████▍    | 3648/6648 [1:25:31<27:23,  1.83it/s]"
     ]
    },
    {
     "name": "stdout",
     "output_type": "stream",
     "text": [
      "LLM: mixtral-8x7b-32768 | Request Count: 1838\n",
      "Reached 1 requests for mixtral-8x7b-32768. Waiting for 30 seconds.\n"
     ]
    },
    {
     "name": "stderr",
     "output_type": "stream",
     "text": [
      "embedding nodes:  55%|█████▍    | 3649/6648 [1:25:40<2:42:42,  3.26s/it]"
     ]
    },
    {
     "name": "stdout",
     "output_type": "stream",
     "text": [
      "LLM: mixtral-8x7b-32768 | Request Count: 1839\n",
      "Reached 1 requests for mixtral-8x7b-32768. Waiting for 30 seconds.\n"
     ]
    },
    {
     "name": "stderr",
     "output_type": "stream",
     "text": [
      "embedding nodes:  55%|█████▍    | 3650/6648 [1:25:41<2:00:26,  2.41s/it]"
     ]
    },
    {
     "name": "stdout",
     "output_type": "stream",
     "text": [
      "LLM: mixtral-8x7b-32768 | Request Count: 1840\n",
      "Reached 1 requests for mixtral-8x7b-32768. Waiting for 30 seconds.\n",
      "LLM: mixtral-8x7b-32768 | Request Count: 1841\n",
      "Reached 1 requests for mixtral-8x7b-32768. Waiting for 30 seconds.\n"
     ]
    },
    {
     "name": "stderr",
     "output_type": "stream",
     "text": [
      "embedding nodes:  55%|█████▍    | 3656/6648 [1:25:45<50:56,  1.02s/it]  "
     ]
    },
    {
     "name": "stdout",
     "output_type": "stream",
     "text": [
      "LLM: mixtral-8x7b-32768 | Request Count: 1842\n",
      "Reached 1 requests for mixtral-8x7b-32768. Waiting for 30 seconds.\n"
     ]
    },
    {
     "name": "stderr",
     "output_type": "stream",
     "text": [
      "embedding nodes:  55%|█████▌    | 3658/6648 [1:25:47<45:49,  1.09it/s]"
     ]
    },
    {
     "name": "stdout",
     "output_type": "stream",
     "text": [
      "LLM: mixtral-8x7b-32768 | Request Count: 1843\n",
      "Reached 1 requests for mixtral-8x7b-32768. Waiting for 30 seconds.\n"
     ]
    },
    {
     "name": "stderr",
     "output_type": "stream",
     "text": [
      "embedding nodes:  55%|█████▌    | 3659/6648 [1:25:50<1:12:09,  1.45s/it]"
     ]
    },
    {
     "name": "stdout",
     "output_type": "stream",
     "text": [
      "LLM: mixtral-8x7b-32768 | Request Count: 1844\n",
      "Reached 1 requests for mixtral-8x7b-32768. Waiting for 30 seconds.\n"
     ]
    },
    {
     "name": "stderr",
     "output_type": "stream",
     "text": [
      "embedding nodes:  55%|█████▌    | 3660/6648 [1:25:57<2:22:18,  2.86s/it]"
     ]
    },
    {
     "name": "stdout",
     "output_type": "stream",
     "text": [
      "LLM: mixtral-8x7b-32768 | Request Count: 1845\n",
      "Reached 1 requests for mixtral-8x7b-32768. Waiting for 30 seconds.\n"
     ]
    },
    {
     "name": "stderr",
     "output_type": "stream",
     "text": [
      "embedding nodes:  55%|█████▌    | 3661/6648 [1:25:57<1:53:49,  2.29s/it]"
     ]
    },
    {
     "name": "stdout",
     "output_type": "stream",
     "text": [
      "LLM: mixtral-8x7b-32768 | Request Count: 1846\n",
      "Reached 1 requests for mixtral-8x7b-32768. Waiting for 30 seconds.\n"
     ]
    },
    {
     "name": "stderr",
     "output_type": "stream",
     "text": [
      "embedding nodes:  55%|█████▌    | 3668/6648 [1:26:02<40:36,  1.22it/s]  "
     ]
    },
    {
     "name": "stdout",
     "output_type": "stream",
     "text": [
      "LLM: mixtral-8x7b-32768 | Request Count: 1847\n",
      "Reached 1 requests for mixtral-8x7b-32768. Waiting for 30 seconds.\n"
     ]
    },
    {
     "name": "stderr",
     "output_type": "stream",
     "text": [
      "embedding nodes:  55%|█████▌    | 3669/6648 [1:26:02<34:42,  1.43it/s]"
     ]
    },
    {
     "name": "stdout",
     "output_type": "stream",
     "text": [
      "LLM: mixtral-8x7b-32768 | Request Count: 1848\n",
      "Reached 1 requests for mixtral-8x7b-32768. Waiting for 30 seconds.\n"
     ]
    },
    {
     "name": "stderr",
     "output_type": "stream",
     "text": [
      "embedding nodes:  55%|█████▌    | 3671/6648 [1:26:03<23:43,  2.09it/s]"
     ]
    },
    {
     "name": "stdout",
     "output_type": "stream",
     "text": [
      "LLM: mixtral-8x7b-32768 | Request Count: 1849\n",
      "Reached 1 requests for mixtral-8x7b-32768. Waiting for 30 seconds.\n",
      "LLM: mixtral-8x7b-32768 | Request Count: 1850\n",
      "Reached 1 requests for mixtral-8x7b-32768. Waiting for 30 seconds.\n"
     ]
    },
    {
     "name": "stderr",
     "output_type": "stream",
     "text": [
      "embedding nodes:  55%|█████▌    | 3675/6648 [1:26:13<1:12:41,  1.47s/it]"
     ]
    },
    {
     "name": "stdout",
     "output_type": "stream",
     "text": [
      "LLM: mixtral-8x7b-32768 | Request Count: 1851\n",
      "Reached 1 requests for mixtral-8x7b-32768. Waiting for 30 seconds.\n"
     ]
    },
    {
     "name": "stderr",
     "output_type": "stream",
     "text": [
      "embedding nodes:  55%|█████▌    | 3677/6648 [1:26:13<48:28,  1.02it/s]  "
     ]
    },
    {
     "name": "stdout",
     "output_type": "stream",
     "text": [
      "LLM: mixtral-8x7b-32768 | Request Count: 1852\n",
      "Reached 1 requests for mixtral-8x7b-32768. Waiting for 30 seconds.\n",
      "LLM: mixtral-8x7b-32768 | Request Count: 1853\n",
      "Reached 1 requests for mixtral-8x7b-32768. Waiting for 30 seconds.\n"
     ]
    },
    {
     "name": "stderr",
     "output_type": "stream",
     "text": [
      "embedding nodes:  55%|█████▌    | 3679/6648 [1:26:16<53:20,  1.08s/it]  "
     ]
    },
    {
     "name": "stdout",
     "output_type": "stream",
     "text": [
      "LLM: mixtral-8x7b-32768 | Request Count: 1854\n",
      "Reached 1 requests for mixtral-8x7b-32768. Waiting for 30 seconds.\n"
     ]
    },
    {
     "name": "stderr",
     "output_type": "stream",
     "text": [
      "embedding nodes:  55%|█████▌    | 3681/6648 [1:26:17<38:18,  1.29it/s]"
     ]
    },
    {
     "name": "stdout",
     "output_type": "stream",
     "text": [
      "LLM: mixtral-8x7b-32768 | Request Count: 1855\n",
      "Reached 1 requests for mixtral-8x7b-32768. Waiting for 30 seconds.\n"
     ]
    },
    {
     "name": "stderr",
     "output_type": "stream",
     "text": [
      "embedding nodes:  55%|█████▌    | 3683/6648 [1:26:21<1:04:41,  1.31s/it]"
     ]
    },
    {
     "name": "stdout",
     "output_type": "stream",
     "text": [
      "LLM: mixtral-8x7b-32768 | Request Count: 1856\n",
      "Reached 1 requests for mixtral-8x7b-32768. Waiting for 30 seconds.\n"
     ]
    },
    {
     "name": "stderr",
     "output_type": "stream",
     "text": [
      "embedding nodes:  55%|█████▌    | 3687/6648 [1:26:28<1:01:28,  1.25s/it]"
     ]
    },
    {
     "name": "stdout",
     "output_type": "stream",
     "text": [
      "LLM: mixtral-8x7b-32768 | Request Count: 1857\n",
      "Reached 1 requests for mixtral-8x7b-32768. Waiting for 30 seconds.\n",
      "LLM: mixtral-8x7b-32768 | Request Count: 1858\n",
      "Reached 1 requests for mixtral-8x7b-32768. Waiting for 30 seconds.\n"
     ]
    },
    {
     "name": "stderr",
     "output_type": "stream",
     "text": [
      "embedding nodes:  55%|█████▌    | 3689/6648 [1:26:32<1:15:17,  1.53s/it]"
     ]
    },
    {
     "name": "stdout",
     "output_type": "stream",
     "text": [
      "LLM: mixtral-8x7b-32768 | Request Count: 1859\n",
      "Reached 1 requests for mixtral-8x7b-32768. Waiting for 30 seconds.\n"
     ]
    },
    {
     "name": "stderr",
     "output_type": "stream",
     "text": [
      "embedding nodes:  56%|█████▌    | 3692/6648 [1:26:33<38:14,  1.29it/s]  "
     ]
    },
    {
     "name": "stdout",
     "output_type": "stream",
     "text": [
      "LLM: mixtral-8x7b-32768 | Request Count: 1860\n",
      "Reached 1 requests for mixtral-8x7b-32768. Waiting for 30 seconds.\n"
     ]
    },
    {
     "name": "stderr",
     "output_type": "stream",
     "text": [
      "embedding nodes:  56%|█████▌    | 3693/6648 [1:26:35<57:06,  1.16s/it]"
     ]
    },
    {
     "name": "stdout",
     "output_type": "stream",
     "text": [
      "LLM: mixtral-8x7b-32768 | Request Count: 1861\n",
      "Reached 1 requests for mixtral-8x7b-32768. Waiting for 30 seconds.\n"
     ]
    },
    {
     "name": "stderr",
     "output_type": "stream",
     "text": [
      "embedding nodes:  56%|█████▌    | 3695/6648 [1:26:36<43:38,  1.13it/s]"
     ]
    },
    {
     "name": "stdout",
     "output_type": "stream",
     "text": [
      "LLM: mixtral-8x7b-32768 | Request Count: 1862\n",
      "Reached 1 requests for mixtral-8x7b-32768. Waiting for 30 seconds.\n"
     ]
    },
    {
     "name": "stderr",
     "output_type": "stream",
     "text": [
      "embedding nodes:  56%|█████▌    | 3699/6648 [1:26:44<59:28,  1.21s/it]  "
     ]
    },
    {
     "name": "stdout",
     "output_type": "stream",
     "text": [
      "LLM: mixtral-8x7b-32768 | Request Count: 1863\n",
      "Reached 1 requests for mixtral-8x7b-32768. Waiting for 30 seconds.\n"
     ]
    },
    {
     "name": "stderr",
     "output_type": "stream",
     "text": [
      "embedding nodes:  56%|█████▌    | 3700/6648 [1:26:45<56:35,  1.15s/it]"
     ]
    },
    {
     "name": "stdout",
     "output_type": "stream",
     "text": [
      "LLM: mixtral-8x7b-32768 | Request Count: 1864\n",
      "Reached 1 requests for mixtral-8x7b-32768. Waiting for 30 seconds.\n"
     ]
    },
    {
     "name": "stderr",
     "output_type": "stream",
     "text": [
      "embedding nodes:  56%|█████▌    | 3701/6648 [1:26:46<44:37,  1.10it/s]"
     ]
    },
    {
     "name": "stdout",
     "output_type": "stream",
     "text": [
      "LLM: mixtral-8x7b-32768 | Request Count: 1865\n",
      "Reached 1 requests for mixtral-8x7b-32768. Waiting for 30 seconds.\n"
     ]
    },
    {
     "name": "stderr",
     "output_type": "stream",
     "text": [
      "embedding nodes:  56%|█████▌    | 3704/6648 [1:26:47<30:21,  1.62it/s]"
     ]
    },
    {
     "name": "stdout",
     "output_type": "stream",
     "text": [
      "LLM: mixtral-8x7b-32768 | Request Count: 1866\n",
      "Reached 1 requests for mixtral-8x7b-32768. Waiting for 30 seconds.\n"
     ]
    },
    {
     "name": "stderr",
     "output_type": "stream",
     "text": [
      "embedding nodes:  56%|█████▌    | 3706/6648 [1:26:48<26:08,  1.88it/s]"
     ]
    },
    {
     "name": "stdout",
     "output_type": "stream",
     "text": [
      "LLM: mixtral-8x7b-32768 | Request Count: 1867\n",
      "Reached 1 requests for mixtral-8x7b-32768. Waiting for 30 seconds.\n"
     ]
    },
    {
     "name": "stderr",
     "output_type": "stream",
     "text": [
      "embedding nodes:  56%|█████▌    | 3707/6648 [1:26:51<1:03:13,  1.29s/it]"
     ]
    },
    {
     "name": "stdout",
     "output_type": "stream",
     "text": [
      "LLM: mixtral-8x7b-32768 | Request Count: 1868\n",
      "Reached 1 requests for mixtral-8x7b-32768. Waiting for 30 seconds.\n"
     ]
    },
    {
     "name": "stderr",
     "output_type": "stream",
     "text": [
      "embedding nodes:  56%|█████▌    | 3712/6648 [1:27:00<1:03:48,  1.30s/it]"
     ]
    },
    {
     "name": "stdout",
     "output_type": "stream",
     "text": [
      "LLM: mixtral-8x7b-32768 | Request Count: 1869\n",
      "Reached 1 requests for mixtral-8x7b-32768. Waiting for 30 seconds.\n",
      "LLM: mixtral-8x7b-32768 | Request Count: 1870\n",
      "Reached 1 requests for mixtral-8x7b-32768. Waiting for 30 seconds.\n"
     ]
    },
    {
     "name": "stderr",
     "output_type": "stream",
     "text": [
      "embedding nodes:  56%|█████▌    | 3713/6648 [1:27:02<1:08:06,  1.39s/it]"
     ]
    },
    {
     "name": "stdout",
     "output_type": "stream",
     "text": [
      "LLM: mixtral-8x7b-32768 | Request Count: 1871\n",
      "Reached 1 requests for mixtral-8x7b-32768. Waiting for 30 seconds.\n"
     ]
    },
    {
     "name": "stderr",
     "output_type": "stream",
     "text": [
      "embedding nodes:  56%|█████▌    | 3714/6648 [1:27:03<1:02:28,  1.28s/it]"
     ]
    },
    {
     "name": "stdout",
     "output_type": "stream",
     "text": [
      "LLM: mixtral-8x7b-32768 | Request Count: 1872\n",
      "Reached 1 requests for mixtral-8x7b-32768. Waiting for 30 seconds.\n"
     ]
    },
    {
     "name": "stderr",
     "output_type": "stream",
     "text": [
      "embedding nodes:  56%|█████▌    | 3715/6648 [1:27:05<1:13:36,  1.51s/it]"
     ]
    },
    {
     "name": "stdout",
     "output_type": "stream",
     "text": [
      "LLM: mixtral-8x7b-32768 | Request Count: 1873\n",
      "Reached 1 requests for mixtral-8x7b-32768. Waiting for 30 seconds.\n"
     ]
    },
    {
     "name": "stderr",
     "output_type": "stream",
     "text": [
      "embedding nodes:  56%|█████▌    | 3716/6648 [1:27:06<1:07:48,  1.39s/it]"
     ]
    },
    {
     "name": "stdout",
     "output_type": "stream",
     "text": [
      "LLM: mixtral-8x7b-32768 | Request Count: 1874\n",
      "Reached 1 requests for mixtral-8x7b-32768. Waiting for 30 seconds.\n"
     ]
    },
    {
     "name": "stderr",
     "output_type": "stream",
     "text": [
      "embedding nodes:  56%|█████▌    | 3725/6648 [1:27:17<26:14,  1.86it/s]  "
     ]
    },
    {
     "name": "stdout",
     "output_type": "stream",
     "text": [
      "LLM: mixtral-8x7b-32768 | Request Count: 1875\n",
      "Reached 1 requests for mixtral-8x7b-32768. Waiting for 30 seconds.\n",
      "LLM: mixtral-8x7b-32768 | Request Count: 1876\n",
      "Reached 1 requests for mixtral-8x7b-32768. Waiting for 30 seconds.\n"
     ]
    },
    {
     "name": "stderr",
     "output_type": "stream",
     "text": [
      "embedding nodes:  56%|█████▌    | 3727/6648 [1:27:18<22:25,  2.17it/s]"
     ]
    },
    {
     "name": "stdout",
     "output_type": "stream",
     "text": [
      "LLM: mixtral-8x7b-32768 | Request Count: 1877\n",
      "Reached 1 requests for mixtral-8x7b-32768. Waiting for 30 seconds.\n"
     ]
    },
    {
     "name": "stderr",
     "output_type": "stream",
     "text": [
      "embedding nodes:  56%|█████▌    | 3728/6648 [1:27:18<20:49,  2.34it/s]"
     ]
    },
    {
     "name": "stdout",
     "output_type": "stream",
     "text": [
      "LLM: mixtral-8x7b-32768 | Request Count: 1878\n",
      "Reached 1 requests for mixtral-8x7b-32768. Waiting for 30 seconds.\n",
      "LLM: mixtral-8x7b-32768 | Request Count: 1879\n",
      "Reached 1 requests for mixtral-8x7b-32768. Waiting for 30 seconds.\n"
     ]
    },
    {
     "name": "stderr",
     "output_type": "stream",
     "text": [
      "embedding nodes:  56%|█████▌    | 3730/6648 [1:27:21<39:39,  1.23it/s]"
     ]
    },
    {
     "name": "stdout",
     "output_type": "stream",
     "text": [
      "LLM: mixtral-8x7b-32768 | Request Count: 1880\n",
      "Reached 1 requests for mixtral-8x7b-32768. Waiting for 30 seconds.\n"
     ]
    },
    {
     "name": "stderr",
     "output_type": "stream",
     "text": [
      "embedding nodes:  56%|█████▌    | 3737/6648 [1:27:32<30:00,  1.62it/s]  "
     ]
    },
    {
     "name": "stdout",
     "output_type": "stream",
     "text": [
      "LLM: mixtral-8x7b-32768 | Request Count: 1881\n",
      "Reached 1 requests for mixtral-8x7b-32768. Waiting for 30 seconds.\n",
      "LLM: mixtral-8x7b-32768 | Request Count: 1882\n",
      "Reached 1 requests for mixtral-8x7b-32768. Waiting for 30 seconds.\n"
     ]
    },
    {
     "name": "stderr",
     "output_type": "stream",
     "text": [
      "embedding nodes:  56%|█████▌    | 3738/6648 [1:27:33<29:13,  1.66it/s]"
     ]
    },
    {
     "name": "stdout",
     "output_type": "stream",
     "text": [
      "LLM: mixtral-8x7b-32768 | Request Count: 1883\n",
      "Reached 1 requests for mixtral-8x7b-32768. Waiting for 30 seconds.\n",
      "LLM: mixtral-8x7b-32768 | Request Count: 1884\n",
      "Reached 1 requests for mixtral-8x7b-32768. Waiting for 30 seconds.\n"
     ]
    },
    {
     "name": "stderr",
     "output_type": "stream",
     "text": [
      "embedding nodes:  56%|█████▋    | 3742/6648 [1:27:36<33:22,  1.45it/s]"
     ]
    },
    {
     "name": "stdout",
     "output_type": "stream",
     "text": [
      "LLM: mixtral-8x7b-32768 | Request Count: 1885\n",
      "Reached 1 requests for mixtral-8x7b-32768. Waiting for 30 seconds.\n",
      "LLM: mixtral-8x7b-32768 | Request Count: 1886\n",
      "Reached 1 requests for mixtral-8x7b-32768. Waiting for 30 seconds.\n"
     ]
    },
    {
     "name": "stderr",
     "output_type": "stream",
     "text": [
      "embedding nodes:  56%|█████▋    | 3747/6648 [1:27:48<1:13:50,  1.53s/it]"
     ]
    },
    {
     "name": "stdout",
     "output_type": "stream",
     "text": [
      "LLM: mixtral-8x7b-32768 | Request Count: 1887\n",
      "Reached 1 requests for mixtral-8x7b-32768. Waiting for 30 seconds.\n"
     ]
    },
    {
     "name": "stderr",
     "output_type": "stream",
     "text": [
      "embedding nodes:  56%|█████▋    | 3749/6648 [1:27:49<49:49,  1.03s/it]  "
     ]
    },
    {
     "name": "stdout",
     "output_type": "stream",
     "text": [
      "LLM: mixtral-8x7b-32768 | Request Count: 1888\n",
      "Reached 1 requests for mixtral-8x7b-32768. Waiting for 30 seconds.\n"
     ]
    },
    {
     "name": "stderr",
     "output_type": "stream",
     "text": [
      "embedding nodes:  56%|█████▋    | 3751/6648 [1:27:49<36:17,  1.33it/s]"
     ]
    },
    {
     "name": "stdout",
     "output_type": "stream",
     "text": [
      "LLM: mixtral-8x7b-32768 | Request Count: 1889\n",
      "Reached 1 requests for mixtral-8x7b-32768. Waiting for 30 seconds.\n"
     ]
    },
    {
     "name": "stderr",
     "output_type": "stream",
     "text": [
      "embedding nodes:  56%|█████▋    | 3752/6648 [1:27:50<35:17,  1.37it/s]"
     ]
    },
    {
     "name": "stdout",
     "output_type": "stream",
     "text": [
      "LLM: mixtral-8x7b-32768 | Request Count: 1890\n",
      "Reached 1 requests for mixtral-8x7b-32768. Waiting for 30 seconds.\n",
      "LLM: mixtral-8x7b-32768 | Request Count: 1891\n",
      "Reached 1 requests for mixtral-8x7b-32768. Waiting for 30 seconds.\n"
     ]
    },
    {
     "name": "stderr",
     "output_type": "stream",
     "text": [
      "embedding nodes:  56%|█████▋    | 3754/6648 [1:27:51<33:13,  1.45it/s]"
     ]
    },
    {
     "name": "stdout",
     "output_type": "stream",
     "text": [
      "LLM: mixtral-8x7b-32768 | Request Count: 1892\n",
      "Reached 1 requests for mixtral-8x7b-32768. Waiting for 30 seconds.\n"
     ]
    },
    {
     "name": "stderr",
     "output_type": "stream",
     "text": [
      "embedding nodes:  57%|█████▋    | 3762/6648 [1:28:06<44:19,  1.09it/s]  "
     ]
    },
    {
     "name": "stdout",
     "output_type": "stream",
     "text": [
      "LLM: mixtral-8x7b-32768 | Request Count: 1893\n",
      "Reached 1 requests for mixtral-8x7b-32768. Waiting for 30 seconds.\n",
      "LLM: mixtral-8x7b-32768 | Request Count: 1894\n",
      "Reached 1 requests for mixtral-8x7b-32768. Waiting for 30 seconds.\n",
      "LLM: mixtral-8x7b-32768 | Request Count: 1895\n",
      "Reached 1 requests for mixtral-8x7b-32768. Waiting for 30 seconds.\n"
     ]
    },
    {
     "name": "stderr",
     "output_type": "stream",
     "text": [
      "embedding nodes:  57%|█████▋    | 3765/6648 [1:28:09<45:29,  1.06it/s]"
     ]
    },
    {
     "name": "stdout",
     "output_type": "stream",
     "text": [
      "LLM: mixtral-8x7b-32768 | Request Count: 1896\n",
      "Reached 1 requests for mixtral-8x7b-32768. Waiting for 30 seconds.\n",
      "LLM: mixtral-8x7b-32768 | Request Count: 1897\n",
      "Reached 1 requests for mixtral-8x7b-32768. Waiting for 30 seconds.\n"
     ]
    },
    {
     "name": "stderr",
     "output_type": "stream",
     "text": [
      "embedding nodes:  57%|█████▋    | 3767/6648 [1:28:09<35:17,  1.36it/s]"
     ]
    },
    {
     "name": "stdout",
     "output_type": "stream",
     "text": [
      "LLM: mixtral-8x7b-32768 | Request Count: 1898\n",
      "Reached 1 requests for mixtral-8x7b-32768. Waiting for 30 seconds.\n"
     ]
    },
    {
     "name": "stderr",
     "output_type": "stream",
     "text": [
      "embedding nodes:  57%|█████▋    | 3768/6648 [1:28:18<1:40:26,  2.09s/it]"
     ]
    },
    {
     "name": "stdout",
     "output_type": "stream",
     "text": [
      "LLM: mixtral-8x7b-32768 | Request Count: 1899\n",
      "Reached 1 requests for mixtral-8x7b-32768. Waiting for 30 seconds.\n"
     ]
    },
    {
     "name": "stderr",
     "output_type": "stream",
     "text": [
      "embedding nodes:  57%|█████▋    | 3774/6648 [1:28:20<32:17,  1.48it/s]  "
     ]
    },
    {
     "name": "stdout",
     "output_type": "stream",
     "text": [
      "LLM: mixtral-8x7b-32768 | Request Count: 1900\n",
      "Reached 1 requests for mixtral-8x7b-32768. Waiting for 30 seconds.\n"
     ]
    },
    {
     "name": "stderr",
     "output_type": "stream",
     "text": [
      "embedding nodes:  57%|█████▋    | 3775/6648 [1:28:21<33:00,  1.45it/s]"
     ]
    },
    {
     "name": "stdout",
     "output_type": "stream",
     "text": [
      "LLM: mixtral-8x7b-32768 | Request Count: 1901\n",
      "Reached 1 requests for mixtral-8x7b-32768. Waiting for 30 seconds.\n"
     ]
    },
    {
     "name": "stderr",
     "output_type": "stream",
     "text": [
      "embedding nodes:  57%|█████▋    | 3777/6648 [1:28:21<22:29,  2.13it/s]"
     ]
    },
    {
     "name": "stdout",
     "output_type": "stream",
     "text": [
      "LLM: mixtral-8x7b-32768 | Request Count: 1902\n",
      "Reached 1 requests for mixtral-8x7b-32768. Waiting for 30 seconds.\n",
      "LLM: mixtral-8x7b-32768 | Request Count: 1903\n",
      "Reached 1 requests for mixtral-8x7b-32768. Waiting for 30 seconds.\n",
      "LLM: mixtral-8x7b-32768 | Request Count: 1904\n",
      "Reached 1 requests for mixtral-8x7b-32768. Waiting for 30 seconds.\n"
     ]
    },
    {
     "name": "stderr",
     "output_type": "stream",
     "text": [
      "embedding nodes:  57%|█████▋    | 3785/6648 [1:28:39<53:16,  1.12s/it]  "
     ]
    },
    {
     "name": "stdout",
     "output_type": "stream",
     "text": [
      "LLM: mixtral-8x7b-32768 | Request Count: 1905\n",
      "Reached 1 requests for mixtral-8x7b-32768. Waiting for 30 seconds.\n",
      "LLM: mixtral-8x7b-32768 | Request Count: 1906\n",
      "Reached 1 requests for mixtral-8x7b-32768. Waiting for 30 seconds.\n",
      "LLM: mixtral-8x7b-32768 | Request Count: 1907\n",
      "Reached 1 requests for mixtral-8x7b-32768. Waiting for 30 seconds.\n"
     ]
    },
    {
     "name": "stderr",
     "output_type": "stream",
     "text": [
      "embedding nodes:  57%|█████▋    | 3786/6648 [1:28:39<47:22,  1.01it/s]"
     ]
    },
    {
     "name": "stdout",
     "output_type": "stream",
     "text": [
      "LLM: mixtral-8x7b-32768 | Request Count: 1908\n",
      "Reached 1 requests for mixtral-8x7b-32768. Waiting for 30 seconds.\n"
     ]
    },
    {
     "name": "stderr",
     "output_type": "stream",
     "text": [
      "embedding nodes:  57%|█████▋    | 3789/6648 [1:28:40<26:08,  1.82it/s]"
     ]
    },
    {
     "name": "stdout",
     "output_type": "stream",
     "text": [
      "LLM: mixtral-8x7b-32768 | Request Count: 1909\n",
      "Reached 1 requests for mixtral-8x7b-32768. Waiting for 30 seconds.\n",
      "LLM: mixtral-8x7b-32768 | Request Count: 1910\n",
      "Reached 1 requests for mixtral-8x7b-32768. Waiting for 30 seconds.\n"
     ]
    },
    {
     "name": "stderr",
     "output_type": "stream",
     "text": [
      "embedding nodes:  57%|█████▋    | 3794/6648 [1:28:52<53:06,  1.12s/it]  "
     ]
    },
    {
     "name": "stdout",
     "output_type": "stream",
     "text": [
      "LLM: mixtral-8x7b-32768 | Request Count: 1911\n",
      "Reached 1 requests for mixtral-8x7b-32768. Waiting for 30 seconds.\n"
     ]
    },
    {
     "name": "stderr",
     "output_type": "stream",
     "text": [
      "embedding nodes:  57%|█████▋    | 3796/6648 [1:28:54<59:39,  1.25s/it]"
     ]
    },
    {
     "name": "stdout",
     "output_type": "stream",
     "text": [
      "LLM: mixtral-8x7b-32768 | Request Count: 1912\n",
      "Reached 1 requests for mixtral-8x7b-32768. Waiting for 30 seconds.\n"
     ]
    },
    {
     "name": "stderr",
     "output_type": "stream",
     "text": [
      "embedding nodes:  57%|█████▋    | 3798/6648 [1:28:59<1:17:07,  1.62s/it]"
     ]
    },
    {
     "name": "stdout",
     "output_type": "stream",
     "text": [
      "LLM: mixtral-8x7b-32768 | Request Count: 1913\n",
      "Reached 1 requests for mixtral-8x7b-32768. Waiting for 30 seconds.\n",
      "LLM: mixtral-8x7b-32768 | Request Count: 1914\n",
      "Reached 1 requests for mixtral-8x7b-32768. Waiting for 30 seconds.\n",
      "LLM: mixtral-8x7b-32768 | Request Count: 1915\n",
      "Reached 1 requests for mixtral-8x7b-32768. Waiting for 30 seconds.\n"
     ]
    },
    {
     "name": "stderr",
     "output_type": "stream",
     "text": [
      "embedding nodes:  57%|█████▋    | 3806/6648 [1:29:09<45:16,  1.05it/s]  "
     ]
    },
    {
     "name": "stdout",
     "output_type": "stream",
     "text": [
      "LLM: mixtral-8x7b-32768 | Request Count: 1916\n",
      "Reached 1 requests for mixtral-8x7b-32768. Waiting for 30 seconds.\n"
     ]
    },
    {
     "name": "stderr",
     "output_type": "stream",
     "text": [
      "embedding nodes:  57%|█████▋    | 3808/6648 [1:29:10<29:35,  1.60it/s]"
     ]
    },
    {
     "name": "stdout",
     "output_type": "stream",
     "text": [
      "LLM: mixtral-8x7b-32768 | Request Count: 1917\n",
      "Reached 1 requests for mixtral-8x7b-32768. Waiting for 30 seconds.\n",
      "LLM: mixtral-8x7b-32768 | Request Count: 1918\n",
      "Reached 1 requests for mixtral-8x7b-32768. Waiting for 30 seconds.\n"
     ]
    },
    {
     "name": "stderr",
     "output_type": "stream",
     "text": [
      "embedding nodes:  57%|█████▋    | 3812/6648 [1:29:14<36:34,  1.29it/s]  "
     ]
    },
    {
     "name": "stdout",
     "output_type": "stream",
     "text": [
      "LLM: mixtral-8x7b-32768 | Request Count: 1919\n",
      "Reached 1 requests for mixtral-8x7b-32768. Waiting for 30 seconds.\n"
     ]
    },
    {
     "name": "stderr",
     "output_type": "stream",
     "text": [
      "embedding nodes:  57%|█████▋    | 3814/6648 [1:29:19<1:02:29,  1.32s/it]"
     ]
    },
    {
     "name": "stdout",
     "output_type": "stream",
     "text": [
      "LLM: mixtral-8x7b-32768 | Request Count: 1920\n",
      "Reached 1 requests for mixtral-8x7b-32768. Waiting for 30 seconds.\n",
      "LLM: mixtral-8x7b-32768 | Request Count: 1921\n",
      "Reached 1 requests for mixtral-8x7b-32768. Waiting for 30 seconds.\n",
      "LLM: mixtral-8x7b-32768 | Request Count: 1922\n",
      "Reached 1 requests for mixtral-8x7b-32768. Waiting for 30 seconds.\n"
     ]
    },
    {
     "name": "stderr",
     "output_type": "stream",
     "text": [
      "embedding nodes:  57%|█████▋    | 3819/6648 [1:29:29<1:32:28,  1.96s/it]"
     ]
    },
    {
     "name": "stdout",
     "output_type": "stream",
     "text": [
      "LLM: mixtral-8x7b-32768 | Request Count: 1923\n",
      "Reached 1 requests for mixtral-8x7b-32768. Waiting for 30 seconds.\n",
      "LLM: mixtral-8x7b-32768 | Request Count: 1924\n",
      "Reached 1 requests for mixtral-8x7b-32768. Waiting for 30 seconds.\n",
      "LLM: mixtral-8x7b-32768 | Request Count: 1925\n",
      "Reached 1 requests for mixtral-8x7b-32768. Waiting for 30 seconds.\n"
     ]
    },
    {
     "name": "stderr",
     "output_type": "stream",
     "text": [
      "embedding nodes:  58%|█████▊    | 3826/6648 [1:29:40<1:05:04,  1.38s/it]"
     ]
    },
    {
     "name": "stdout",
     "output_type": "stream",
     "text": [
      "LLM: mixtral-8x7b-32768 | Request Count: 1926\n",
      "Reached 1 requests for mixtral-8x7b-32768. Waiting for 30 seconds.\n",
      "LLM: mixtral-8x7b-32768 | Request Count: 1927\n",
      "Reached 1 requests for mixtral-8x7b-32768. Waiting for 30 seconds.\n"
     ]
    },
    {
     "name": "stderr",
     "output_type": "stream",
     "text": [
      "embedding nodes:  58%|█████▊    | 3827/6648 [1:29:42<1:18:04,  1.66s/it]"
     ]
    },
    {
     "name": "stdout",
     "output_type": "stream",
     "text": [
      "LLM: mixtral-8x7b-32768 | Request Count: 1928\n",
      "Reached 1 requests for mixtral-8x7b-32768. Waiting for 30 seconds.\n"
     ]
    },
    {
     "name": "stderr",
     "output_type": "stream",
     "text": [
      "embedding nodes:  58%|█████▊    | 3828/6648 [1:29:44<1:19:27,  1.69s/it]"
     ]
    },
    {
     "name": "stdout",
     "output_type": "stream",
     "text": [
      "LLM: mixtral-8x7b-32768 | Request Count: 1929\n",
      "Reached 1 requests for mixtral-8x7b-32768. Waiting for 30 seconds.\n"
     ]
    },
    {
     "name": "stderr",
     "output_type": "stream",
     "text": [
      "embedding nodes:  58%|█████▊    | 3829/6648 [1:29:44<1:00:11,  1.28s/it]"
     ]
    },
    {
     "name": "stdout",
     "output_type": "stream",
     "text": [
      "LLM: mixtral-8x7b-32768 | Request Count: 1930\n",
      "Reached 1 requests for mixtral-8x7b-32768. Waiting for 30 seconds.\n"
     ]
    },
    {
     "name": "stderr",
     "output_type": "stream",
     "text": [
      "embedding nodes:  58%|█████▊    | 3830/6648 [1:29:46<1:06:50,  1.42s/it]"
     ]
    },
    {
     "name": "stdout",
     "output_type": "stream",
     "text": [
      "LLM: mixtral-8x7b-32768 | Request Count: 1931\n",
      "Reached 1 requests for mixtral-8x7b-32768. Waiting for 30 seconds.\n"
     ]
    },
    {
     "name": "stderr",
     "output_type": "stream",
     "text": [
      "embedding nodes:  58%|█████▊    | 3839/6648 [1:30:00<54:43,  1.17s/it]  "
     ]
    },
    {
     "name": "stdout",
     "output_type": "stream",
     "text": [
      "LLM: mixtral-8x7b-32768 | Request Count: 1932\n",
      "Reached 1 requests for mixtral-8x7b-32768. Waiting for 30 seconds.\n",
      "LLM: mixtral-8x7b-32768 | Request Count: 1933\n",
      "Reached 1 requests for mixtral-8x7b-32768. Waiting for 30 seconds.\n"
     ]
    },
    {
     "name": "stderr",
     "output_type": "stream",
     "text": [
      "embedding nodes:  58%|█████▊    | 3840/6648 [1:30:05<1:36:52,  2.07s/it]"
     ]
    },
    {
     "name": "stdout",
     "output_type": "stream",
     "text": [
      "LLM: mixtral-8x7b-32768 | Request Count: 1934\n",
      "Reached 1 requests for mixtral-8x7b-32768. Waiting for 30 seconds.\n",
      "LLM: mixtral-8x7b-32768 | Request Count: 1935\n",
      "Reached 1 requests for mixtral-8x7b-32768. Waiting for 30 seconds.\n"
     ]
    },
    {
     "name": "stderr",
     "output_type": "stream",
     "text": [
      "embedding nodes:  58%|█████▊    | 3842/6648 [1:30:06<1:04:30,  1.38s/it]"
     ]
    },
    {
     "name": "stdout",
     "output_type": "stream",
     "text": [
      "LLM: mixtral-8x7b-32768 | Request Count: 1936\n",
      "Reached 1 requests for mixtral-8x7b-32768. Waiting for 30 seconds.\n"
     ]
    },
    {
     "name": "stderr",
     "output_type": "stream",
     "text": [
      "embedding nodes:  58%|█████▊    | 3843/6648 [1:30:06<56:48,  1.22s/it]  "
     ]
    },
    {
     "name": "stdout",
     "output_type": "stream",
     "text": [
      "LLM: mixtral-8x7b-32768 | Request Count: 1937\n",
      "Reached 1 requests for mixtral-8x7b-32768. Waiting for 30 seconds.\n"
     ]
    },
    {
     "name": "stderr",
     "output_type": "stream",
     "text": [
      "embedding nodes:  58%|█████▊    | 3850/6648 [1:30:14<41:25,  1.13it/s]  "
     ]
    },
    {
     "name": "stdout",
     "output_type": "stream",
     "text": [
      "LLM: mixtral-8x7b-32768 | Request Count: 1938\n",
      "Reached 1 requests for mixtral-8x7b-32768. Waiting for 30 seconds.\n",
      "LLM: mixtral-8x7b-32768 | Request Count: 1939\n",
      "Reached 1 requests for mixtral-8x7b-32768. Waiting for 30 seconds.\n"
     ]
    },
    {
     "name": "stderr",
     "output_type": "stream",
     "text": [
      "embedding nodes:  58%|█████▊    | 3851/6648 [1:30:16<52:24,  1.12s/it]"
     ]
    },
    {
     "name": "stdout",
     "output_type": "stream",
     "text": [
      "LLM: mixtral-8x7b-32768 | Request Count: 1940\n",
      "Reached 1 requests for mixtral-8x7b-32768. Waiting for 30 seconds.\n"
     ]
    },
    {
     "name": "stderr",
     "output_type": "stream",
     "text": [
      "embedding nodes:  58%|█████▊    | 3852/6648 [1:30:24<2:15:40,  2.91s/it]"
     ]
    },
    {
     "name": "stdout",
     "output_type": "stream",
     "text": [
      "LLM: mixtral-8x7b-32768 | Request Count: 1941\n",
      "Reached 1 requests for mixtral-8x7b-32768. Waiting for 30 seconds.\n"
     ]
    },
    {
     "name": "stderr",
     "output_type": "stream",
     "text": [
      "embedding nodes:  58%|█████▊    | 3853/6648 [1:30:24<1:40:31,  2.16s/it]"
     ]
    },
    {
     "name": "stdout",
     "output_type": "stream",
     "text": [
      "LLM: mixtral-8x7b-32768 | Request Count: 1942\n",
      "Reached 1 requests for mixtral-8x7b-32768. Waiting for 30 seconds.\n"
     ]
    },
    {
     "name": "stderr",
     "output_type": "stream",
     "text": [
      "embedding nodes:  58%|█████▊    | 3854/6648 [1:30:24<1:16:58,  1.65s/it]"
     ]
    },
    {
     "name": "stdout",
     "output_type": "stream",
     "text": [
      "LLM: mixtral-8x7b-32768 | Request Count: 1943\n",
      "Reached 1 requests for mixtral-8x7b-32768. Waiting for 30 seconds.\n"
     ]
    },
    {
     "name": "stderr",
     "output_type": "stream",
     "text": [
      "embedding nodes:  58%|█████▊    | 3861/6648 [1:30:38<1:03:51,  1.37s/it]"
     ]
    },
    {
     "name": "stdout",
     "output_type": "stream",
     "text": [
      "LLM: mixtral-8x7b-32768 | Request Count: 1944\n",
      "Reached 1 requests for mixtral-8x7b-32768. Waiting for 30 seconds.\n",
      "LLM: mixtral-8x7b-32768 | Request Count: 1945\n",
      "Reached 1 requests for mixtral-8x7b-32768. Waiting for 30 seconds.\n"
     ]
    },
    {
     "name": "stderr",
     "output_type": "stream",
     "text": [
      "embedding nodes:  58%|█████▊    | 3863/6648 [1:30:42<1:20:53,  1.74s/it]"
     ]
    },
    {
     "name": "stdout",
     "output_type": "stream",
     "text": [
      "LLM: mixtral-8x7b-32768 | Request Count: 1946\n",
      "Reached 1 requests for mixtral-8x7b-32768. Waiting for 30 seconds.\n"
     ]
    },
    {
     "name": "stderr",
     "output_type": "stream",
     "text": [
      "embedding nodes:  58%|█████▊    | 3867/6648 [1:30:45<52:43,  1.14s/it]  "
     ]
    },
    {
     "name": "stdout",
     "output_type": "stream",
     "text": [
      "LLM: mixtral-8x7b-32768 | Request Count: 1947\n",
      "Reached 1 requests for mixtral-8x7b-32768. Waiting for 30 seconds.\n",
      "LLM: mixtral-8x7b-32768 | Request Count: 1948\n",
      "Reached 1 requests for mixtral-8x7b-32768. Waiting for 30 seconds.\n"
     ]
    },
    {
     "name": "stderr",
     "output_type": "stream",
     "text": [
      "embedding nodes:  58%|█████▊    | 3869/6648 [1:30:46<45:12,  1.02it/s]"
     ]
    },
    {
     "name": "stdout",
     "output_type": "stream",
     "text": [
      "LLM: mixtral-8x7b-32768 | Request Count: 1949LLM: mixtral-8x7b-32768 | Request Count: 1950\n",
      "Reached 1 requests for mixtral-8x7b-32768. Waiting for 30 seconds.\n",
      "\n",
      "Reached 1 requests for mixtral-8x7b-32768. Waiting for 30 seconds.\n",
      "LLM: mixtral-8x7b-32768 | Request Count: 1951\n",
      "Reached 1 requests for mixtral-8x7b-32768. Waiting for 30 seconds.\n",
      "LLM: mixtral-8x7b-32768 | Request Count: 1952\n",
      "Reached 1 requests for mixtral-8x7b-32768. Waiting for 30 seconds.\n"
     ]
    },
    {
     "name": "stderr",
     "output_type": "stream",
     "text": [
      "embedding nodes:  58%|█████▊    | 3881/6648 [1:31:02<51:27,  1.12s/it]  "
     ]
    },
    {
     "name": "stdout",
     "output_type": "stream",
     "text": [
      "LLM: mixtral-8x7b-32768 | Request Count: 1953\n",
      "Reached 1 requests for mixtral-8x7b-32768. Waiting for 30 seconds.\n",
      "LLM: mixtral-8x7b-32768 | Request Count: 1954\n",
      "Reached 1 requests for mixtral-8x7b-32768. Waiting for 30 seconds.\n"
     ]
    },
    {
     "name": "stderr",
     "output_type": "stream",
     "text": [
      "embedding nodes:  58%|█████▊    | 3882/6648 [1:31:05<1:12:54,  1.58s/it]"
     ]
    },
    {
     "name": "stdout",
     "output_type": "stream",
     "text": [
      "LLM: mixtral-8x7b-32768 | Request Count: 1955\n",
      "Reached 1 requests for mixtral-8x7b-32768. Waiting for 30 seconds.\n"
     ]
    },
    {
     "name": "stderr",
     "output_type": "stream",
     "text": [
      "embedding nodes:  58%|█████▊    | 3883/6648 [1:31:08<1:28:03,  1.91s/it]"
     ]
    },
    {
     "name": "stdout",
     "output_type": "stream",
     "text": [
      "LLM: mixtral-8x7b-32768 | Request Count: 1956\n",
      "Reached 1 requests for mixtral-8x7b-32768. Waiting for 30 seconds.\n",
      "LLM: mixtral-8x7b-32768 | Request Count: 1957\n",
      "Reached 1 requests for mixtral-8x7b-32768. Waiting for 30 seconds.\n"
     ]
    },
    {
     "name": "stderr",
     "output_type": "stream",
     "text": [
      "embedding nodes:  58%|█████▊    | 3885/6648 [1:31:12<1:34:08,  2.04s/it]"
     ]
    },
    {
     "name": "stdout",
     "output_type": "stream",
     "text": [
      "LLM: mixtral-8x7b-32768 | Request Count: 1958\n",
      "Reached 1 requests for mixtral-8x7b-32768. Waiting for 30 seconds.\n"
     ]
    },
    {
     "name": "stderr",
     "output_type": "stream",
     "text": [
      "embedding nodes:  58%|█████▊    | 3889/6648 [1:31:16<50:14,  1.09s/it]  "
     ]
    },
    {
     "name": "stdout",
     "output_type": "stream",
     "text": [
      "LLM: mixtral-8x7b-32768 | Request Count: 1959\n",
      "Reached 1 requests for mixtral-8x7b-32768. Waiting for 30 seconds.\n",
      "LLM: mixtral-8x7b-32768 | Request Count: 1960\n",
      "Reached 1 requests for mixtral-8x7b-32768. Waiting for 30 seconds.\n"
     ]
    },
    {
     "name": "stderr",
     "output_type": "stream",
     "text": [
      "embedding nodes:  59%|█████▊    | 3893/6648 [1:31:17<24:50,  1.85it/s]"
     ]
    },
    {
     "name": "stdout",
     "output_type": "stream",
     "text": [
      "LLM: mixtral-8x7b-32768 | Request Count: 1961\n",
      "Reached 1 requests for mixtral-8x7b-32768. Waiting for 30 seconds.\n"
     ]
    },
    {
     "name": "stderr",
     "output_type": "stream",
     "text": [
      "embedding nodes:  59%|█████▊    | 3895/6648 [1:31:18<26:12,  1.75it/s]"
     ]
    },
    {
     "name": "stdout",
     "output_type": "stream",
     "text": [
      "LLM: mixtral-8x7b-32768 | Request Count: 1962\n",
      "Reached 1 requests for mixtral-8x7b-32768. Waiting for 30 seconds.\n",
      "LLM: mixtral-8x7b-32768 | Request Count: 1963\n",
      "Reached 1 requests for mixtral-8x7b-32768. Waiting for 30 seconds.\n"
     ]
    },
    {
     "name": "stderr",
     "output_type": "stream",
     "text": [
      "embedding nodes:  59%|█████▊    | 3897/6648 [1:31:19<23:47,  1.93it/s]"
     ]
    },
    {
     "name": "stdout",
     "output_type": "stream",
     "text": [
      "LLM: mixtral-8x7b-32768 | Request Count: 1964\n",
      "Reached 1 requests for mixtral-8x7b-32768. Waiting for 30 seconds.\n"
     ]
    },
    {
     "name": "stderr",
     "output_type": "stream",
     "text": [
      "embedding nodes:  59%|█████▉    | 3907/6648 [1:31:38<35:33,  1.28it/s]  "
     ]
    },
    {
     "name": "stdout",
     "output_type": "stream",
     "text": [
      "LLM: mixtral-8x7b-32768 | Request Count: 1965\n",
      "Reached 1 requests for mixtral-8x7b-32768. Waiting for 30 seconds.\n",
      "LLM: mixtral-8x7b-32768 | Request Count: 1966\n",
      "Reached 1 requests for mixtral-8x7b-32768. Waiting for 30 seconds.\n"
     ]
    },
    {
     "name": "stderr",
     "output_type": "stream",
     "text": [
      "embedding nodes:  59%|█████▉    | 3909/6648 [1:31:41<41:51,  1.09it/s]"
     ]
    },
    {
     "name": "stdout",
     "output_type": "stream",
     "text": [
      "LLM: mixtral-8x7b-32768 | Request Count: 1967\n",
      "Reached 1 requests for mixtral-8x7b-32768. Waiting for 30 seconds.\n",
      "LLM: mixtral-8x7b-32768 | Request Count: 1968\n",
      "Reached 1 requests for mixtral-8x7b-32768. Waiting for 30 seconds.\n",
      "LLM: mixtral-8x7b-32768 | Request Count: 1969\n",
      "Reached 1 requests for mixtral-8x7b-32768. Waiting for 30 seconds.\n"
     ]
    },
    {
     "name": "stderr",
     "output_type": "stream",
     "text": [
      "embedding nodes:  59%|█████▉    | 3911/6648 [1:31:42<41:16,  1.11it/s]"
     ]
    },
    {
     "name": "stdout",
     "output_type": "stream",
     "text": [
      "LLM: mixtral-8x7b-32768 | Request Count: 1970\n",
      "Reached 1 requests for mixtral-8x7b-32768. Waiting for 30 seconds.\n"
     ]
    },
    {
     "name": "stderr",
     "output_type": "stream",
     "text": [
      "embedding nodes:  59%|█████▉    | 3920/6648 [1:31:49<22:29,  2.02it/s]  "
     ]
    },
    {
     "name": "stdout",
     "output_type": "stream",
     "text": [
      "LLM: mixtral-8x7b-32768 | Request Count: 1971\n",
      "Reached 1 requests for mixtral-8x7b-32768. Waiting for 30 seconds.\n",
      "LLM: mixtral-8x7b-32768 | Request Count: 1972\n",
      "Reached 1 requests for mixtral-8x7b-32768. Waiting for 30 seconds.\n",
      "LLM: mixtral-8x7b-32768 | Request Count: 1973\n",
      "Reached 1 requests for mixtral-8x7b-32768. Waiting for 30 seconds.\n"
     ]
    },
    {
     "name": "stderr",
     "output_type": "stream",
     "text": [
      "embedding nodes:  59%|█████▉    | 3921/6648 [1:31:51<31:36,  1.44it/s]"
     ]
    },
    {
     "name": "stdout",
     "output_type": "stream",
     "text": [
      "LLM: mixtral-8x7b-32768 | Request Count: 1974\n",
      "Reached 1 requests for mixtral-8x7b-32768. Waiting for 30 seconds.\n",
      "LLM: mixtral-8x7b-32768 | Request Count: 1975\n",
      "Reached 1 requests for mixtral-8x7b-32768. Waiting for 30 seconds.\n",
      "LLM: mixtral-8x7b-32768 | Request Count: 1976\n",
      "Reached 1 requests for mixtral-8x7b-32768. Waiting for 30 seconds.\n"
     ]
    },
    {
     "name": "stderr",
     "output_type": "stream",
     "text": [
      "embedding nodes:  59%|█████▉    | 3928/6648 [1:32:11<1:09:28,  1.53s/it]"
     ]
    },
    {
     "name": "stdout",
     "output_type": "stream",
     "text": [
      "LLM: mixtral-8x7b-32768 | Request Count: 1977\n",
      "Reached 1 requests for mixtral-8x7b-32768. Waiting for 30 seconds.\n",
      "LLM: mixtral-8x7b-32768 | Request Count: 1978\n",
      "Reached 1 requests for mixtral-8x7b-32768. Waiting for 30 seconds.\n"
     ]
    },
    {
     "name": "stderr",
     "output_type": "stream",
     "text": [
      "embedding nodes:  59%|█████▉    | 3931/6648 [1:32:12<50:59,  1.13s/it]  "
     ]
    },
    {
     "name": "stdout",
     "output_type": "stream",
     "text": [
      "LLM: mixtral-8x7b-32768 | Request Count: 1979\n",
      "Reached 1 requests for mixtral-8x7b-32768. Waiting for 30 seconds.\n"
     ]
    },
    {
     "name": "stderr",
     "output_type": "stream",
     "text": [
      "embedding nodes:  59%|█████▉    | 3932/6648 [1:32:14<54:27,  1.20s/it]"
     ]
    },
    {
     "name": "stdout",
     "output_type": "stream",
     "text": [
      "LLM: mixtral-8x7b-32768 | Request Count: 1980\n",
      "Reached 1 requests for mixtral-8x7b-32768. Waiting for 30 seconds.\n"
     ]
    },
    {
     "name": "stderr",
     "output_type": "stream",
     "text": [
      "embedding nodes:  59%|█████▉    | 3933/6648 [1:32:16<1:01:39,  1.36s/it]"
     ]
    },
    {
     "name": "stdout",
     "output_type": "stream",
     "text": [
      "LLM: mixtral-8x7b-32768 | Request Count: 1981\n",
      "Reached 1 requests for mixtral-8x7b-32768. Waiting for 30 seconds.\n",
      "LLM: mixtral-8x7b-32768 | Request Count: 1982\n",
      "Reached 1 requests for mixtral-8x7b-32768. Waiting for 30 seconds.\n"
     ]
    },
    {
     "name": "stderr",
     "output_type": "stream",
     "text": [
      "embedding nodes:  59%|█████▉    | 3938/6648 [1:32:21<50:26,  1.12s/it]  "
     ]
    },
    {
     "name": "stdout",
     "output_type": "stream",
     "text": [
      "LLM: mixtral-8x7b-32768 | Request Count: 1983\n",
      "Reached 1 requests for mixtral-8x7b-32768. Waiting for 30 seconds.\n",
      "LLM: mixtral-8x7b-32768 | Request Count: 1984\n",
      "Reached 1 requests for mixtral-8x7b-32768. Waiting for 30 seconds.\n"
     ]
    },
    {
     "name": "stderr",
     "output_type": "stream",
     "text": [
      "embedding nodes:  59%|█████▉    | 3940/6648 [1:32:23<51:52,  1.15s/it]"
     ]
    },
    {
     "name": "stdout",
     "output_type": "stream",
     "text": [
      "LLM: mixtral-8x7b-32768 | Request Count: 1985\n",
      "Reached 1 requests for mixtral-8x7b-32768. Waiting for 30 seconds.\n",
      "LLM: mixtral-8x7b-32768 | Request Count: 1986\n",
      "Reached 1 requests for mixtral-8x7b-32768. Waiting for 30 seconds.\n",
      "LLM: mixtral-8x7b-32768 | Request Count: 1987\n",
      "Reached 1 requests for mixtral-8x7b-32768. Waiting for 30 seconds.\n"
     ]
    },
    {
     "name": "stderr",
     "output_type": "stream",
     "text": [
      "embedding nodes:  59%|█████▉    | 3943/6648 [1:32:24<34:36,  1.30it/s]"
     ]
    },
    {
     "name": "stdout",
     "output_type": "stream",
     "text": [
      "LLM: mixtral-8x7b-32768 | Request Count: 1988\n",
      "Reached 1 requests for mixtral-8x7b-32768. Waiting for 30 seconds.\n"
     ]
    },
    {
     "name": "stderr",
     "output_type": "stream",
     "text": [
      "embedding nodes:  59%|█████▉    | 3950/6648 [1:32:44<1:01:09,  1.36s/it]"
     ]
    },
    {
     "name": "stdout",
     "output_type": "stream",
     "text": [
      "LLM: mixtral-8x7b-32768 | Request Count: 1989\n",
      "Reached 1 requests for mixtral-8x7b-32768. Waiting for 30 seconds.\n"
     ]
    },
    {
     "name": "stderr",
     "output_type": "stream",
     "text": [
      "embedding nodes:  59%|█████▉    | 3951/6648 [1:32:45<52:36,  1.17s/it]  "
     ]
    },
    {
     "name": "stdout",
     "output_type": "stream",
     "text": [
      "LLM: mixtral-8x7b-32768 | Request Count: 1990\n",
      "Reached 1 requests for mixtral-8x7b-32768. Waiting for 30 seconds.\n",
      "LLM: mixtral-8x7b-32768 | Request Count: 1991\n",
      "Reached 1 requests for mixtral-8x7b-32768. Waiting for 30 seconds.\n"
     ]
    },
    {
     "name": "stderr",
     "output_type": "stream",
     "text": [
      "embedding nodes:  59%|█████▉    | 3953/6648 [1:32:45<35:57,  1.25it/s]"
     ]
    },
    {
     "name": "stdout",
     "output_type": "stream",
     "text": [
      "LLM: mixtral-8x7b-32768 | Request Count: 1992\n",
      "Reached 1 requests for mixtral-8x7b-32768. Waiting for 30 seconds.\n"
     ]
    },
    {
     "name": "stderr",
     "output_type": "stream",
     "text": [
      "embedding nodes:  59%|█████▉    | 3954/6648 [1:32:46<35:25,  1.27it/s]"
     ]
    },
    {
     "name": "stdout",
     "output_type": "stream",
     "text": [
      "LLM: mixtral-8x7b-32768 | Request Count: 1993\n",
      "Reached 1 requests for mixtral-8x7b-32768. Waiting for 30 seconds.\n"
     ]
    },
    {
     "name": "stderr",
     "output_type": "stream",
     "text": [
      "embedding nodes:  60%|█████▉    | 3958/6648 [1:32:48<29:45,  1.51it/s]"
     ]
    },
    {
     "name": "stdout",
     "output_type": "stream",
     "text": [
      "LLM: mixtral-8x7b-32768 | Request Count: 1994\n",
      "Reached 1 requests for mixtral-8x7b-32768. Waiting for 30 seconds.\n",
      "LLM: mixtral-8x7b-32768 | Request Count: 1995\n",
      "Reached 1 requests for mixtral-8x7b-32768. Waiting for 30 seconds.\n"
     ]
    },
    {
     "name": "stderr",
     "output_type": "stream",
     "text": [
      "embedding nodes:  60%|█████▉    | 3961/6648 [1:32:53<51:23,  1.15s/it]  "
     ]
    },
    {
     "name": "stdout",
     "output_type": "stream",
     "text": [
      "LLM: mixtral-8x7b-32768 | Request Count: 1996LLM: mixtral-8x7b-32768 | Request Count: 1997\n",
      "Reached 1 requests for mixtral-8x7b-32768. Waiting for 30 seconds.\n",
      "\n",
      "Reached 1 requests for mixtral-8x7b-32768. Waiting for 30 seconds.\n"
     ]
    },
    {
     "name": "stderr",
     "output_type": "stream",
     "text": [
      "embedding nodes:  60%|█████▉    | 3965/6648 [1:32:55<33:49,  1.32it/s]"
     ]
    },
    {
     "name": "stdout",
     "output_type": "stream",
     "text": [
      "LLM: mixtral-8x7b-32768 | Request Count: 1998\n",
      "Reached 1 requests for mixtral-8x7b-32768. Waiting for 30 seconds.\n"
     ]
    },
    {
     "name": "stderr",
     "output_type": "stream",
     "text": [
      "embedding nodes:  60%|█████▉    | 3968/6648 [1:33:03<1:28:42,  1.99s/it]"
     ]
    },
    {
     "name": "stdout",
     "output_type": "stream",
     "text": [
      "LLM: mixtral-8x7b-32768 | Request Count: 1999\n",
      "Reached 1 requests for mixtral-8x7b-32768. Waiting for 30 seconds.\n"
     ]
    },
    {
     "name": "stderr",
     "output_type": "stream",
     "text": [
      "embedding nodes:  60%|█████▉    | 3969/6648 [1:33:04<1:23:50,  1.88s/it]"
     ]
    },
    {
     "name": "stdout",
     "output_type": "stream",
     "text": [
      "LLM: mixtral-8x7b-32768 | Request Count: 2000\n",
      "Reached 1 requests for mixtral-8x7b-32768. Waiting for 30 seconds.\n"
     ]
    },
    {
     "name": "stderr",
     "output_type": "stream",
     "text": [
      "embedding nodes:  60%|█████▉    | 3971/6648 [1:33:15<2:17:23,  3.08s/it]"
     ]
    },
    {
     "name": "stdout",
     "output_type": "stream",
     "text": [
      "LLM: mixtral-8x7b-32768 | Request Count: 2001\n",
      "Reached 1 requests for mixtral-8x7b-32768. Waiting for 30 seconds.\n"
     ]
    },
    {
     "name": "stderr",
     "output_type": "stream",
     "text": [
      "embedding nodes:  60%|█████▉    | 3975/6648 [1:33:18<1:16:35,  1.72s/it]"
     ]
    },
    {
     "name": "stdout",
     "output_type": "stream",
     "text": [
      "LLM: mixtral-8x7b-32768 | Request Count: 2002\n",
      "Reached 1 requests for mixtral-8x7b-32768. Waiting for 30 seconds.\n"
     ]
    },
    {
     "name": "stderr",
     "output_type": "stream",
     "text": [
      "embedding nodes:  60%|█████▉    | 3976/6648 [1:33:20<1:24:20,  1.89s/it]"
     ]
    },
    {
     "name": "stdout",
     "output_type": "stream",
     "text": [
      "LLM: mixtral-8x7b-32768 | Request Count: 2003\n",
      "Reached 1 requests for mixtral-8x7b-32768. Waiting for 30 seconds.\n",
      "LLM: mixtral-8x7b-32768 | Request Count: 2004\n",
      "Reached 1 requests for mixtral-8x7b-32768. Waiting for 30 seconds.\n"
     ]
    },
    {
     "name": "stderr",
     "output_type": "stream",
     "text": [
      "embedding nodes:  60%|█████▉    | 3981/6648 [1:33:23<48:10,  1.08s/it]  "
     ]
    },
    {
     "name": "stdout",
     "output_type": "stream",
     "text": [
      "LLM: mixtral-8x7b-32768 | Request Count: 2005\n",
      "Reached 1 requests for mixtral-8x7b-32768. Waiting for 30 seconds.\n",
      "LLM: mixtral-8x7b-32768 | Request Count: 2006\n",
      "Reached 1 requests for mixtral-8x7b-32768. Waiting for 30 seconds.\n"
     ]
    },
    {
     "name": "stderr",
     "output_type": "stream",
     "text": [
      "embedding nodes:  60%|█████▉    | 3983/6648 [1:33:25<41:44,  1.06it/s]"
     ]
    },
    {
     "name": "stdout",
     "output_type": "stream",
     "text": [
      "LLM: mixtral-8x7b-32768 | Request Count: 2007\n",
      "Reached 1 requests for mixtral-8x7b-32768. Waiting for 30 seconds.\n"
     ]
    },
    {
     "name": "stderr",
     "output_type": "stream",
     "text": [
      "embedding nodes:  60%|█████▉    | 3987/6648 [1:33:30<1:00:15,  1.36s/it]"
     ]
    },
    {
     "name": "stdout",
     "output_type": "stream",
     "text": [
      "LLM: mixtral-8x7b-32768 | Request Count: 2008\n",
      "Reached 1 requests for mixtral-8x7b-32768. Waiting for 30 seconds.\n",
      "LLM: mixtral-8x7b-32768 | Request Count: 2009\n",
      "Reached 1 requests for mixtral-8x7b-32768. Waiting for 30 seconds.\n",
      "LLM: mixtral-8x7b-32768 | Request Count: 2010\n",
      "Reached 1 requests for mixtral-8x7b-32768. Waiting for 30 seconds.\n"
     ]
    },
    {
     "name": "stderr",
     "output_type": "stream",
     "text": [
      "embedding nodes:  60%|██████    | 3993/6648 [1:33:37<1:04:50,  1.47s/it]"
     ]
    },
    {
     "name": "stdout",
     "output_type": "stream",
     "text": [
      "LLM: mixtral-8x7b-32768 | Request Count: 2011\n",
      "Reached 1 requests for mixtral-8x7b-32768. Waiting for 30 seconds.\n"
     ]
    },
    {
     "name": "stderr",
     "output_type": "stream",
     "text": [
      "embedding nodes:  60%|██████    | 3994/6648 [1:33:39<1:00:55,  1.38s/it]"
     ]
    },
    {
     "name": "stdout",
     "output_type": "stream",
     "text": [
      "LLM: mixtral-8x7b-32768 | Request Count: 2012\n",
      "Reached 1 requests for mixtral-8x7b-32768. Waiting for 30 seconds.\n"
     ]
    },
    {
     "name": "stderr",
     "output_type": "stream",
     "text": [
      "embedding nodes:  60%|██████    | 3995/6648 [1:33:45<1:55:44,  2.62s/it]"
     ]
    },
    {
     "name": "stdout",
     "output_type": "stream",
     "text": [
      "LLM: mixtral-8x7b-32768 | Request Count: 2013\n",
      "Reached 1 requests for mixtral-8x7b-32768. Waiting for 30 seconds.\n"
     ]
    },
    {
     "name": "stderr",
     "output_type": "stream",
     "text": [
      "embedding nodes:  60%|██████    | 4001/6648 [1:33:51<40:02,  1.10it/s]  "
     ]
    },
    {
     "name": "stdout",
     "output_type": "stream",
     "text": [
      "LLM: mixtral-8x7b-32768 | Request Count: 2014\n",
      "Reached 1 requests for mixtral-8x7b-32768. Waiting for 30 seconds.\n",
      "LLM: mixtral-8x7b-32768 | Request Count: 2015\n",
      "Reached 1 requests for mixtral-8x7b-32768. Waiting for 30 seconds.\n"
     ]
    },
    {
     "name": "stderr",
     "output_type": "stream",
     "text": [
      "embedding nodes:  60%|██████    | 4002/6648 [1:33:52<37:18,  1.18it/s]"
     ]
    },
    {
     "name": "stdout",
     "output_type": "stream",
     "text": [
      "LLM: mixtral-8x7b-32768 | Request Count: 2016\n",
      "Reached 1 requests for mixtral-8x7b-32768. Waiting for 30 seconds.\n"
     ]
    },
    {
     "name": "stderr",
     "output_type": "stream",
     "text": [
      "embedding nodes:  60%|██████    | 4003/6648 [1:33:53<45:32,  1.03s/it]"
     ]
    },
    {
     "name": "stdout",
     "output_type": "stream",
     "text": [
      "LLM: mixtral-8x7b-32768 | Request Count: 2017\n",
      "Reached 1 requests for mixtral-8x7b-32768. Waiting for 30 seconds.\n",
      "LLM: mixtral-8x7b-32768 | Request Count: 2018\n",
      "Reached 1 requests for mixtral-8x7b-32768. Waiting for 30 seconds.\n"
     ]
    },
    {
     "name": "stderr",
     "output_type": "stream",
     "text": [
      "embedding nodes:  60%|██████    | 4005/6648 [1:33:55<39:56,  1.10it/s]"
     ]
    },
    {
     "name": "stdout",
     "output_type": "stream",
     "text": [
      "LLM: mixtral-8x7b-32768 | Request Count: 2019\n",
      "Reached 1 requests for mixtral-8x7b-32768. Waiting for 30 seconds.\n"
     ]
    },
    {
     "name": "stderr",
     "output_type": "stream",
     "text": [
      "embedding nodes:  60%|██████    | 4011/6648 [1:34:03<42:02,  1.05it/s]  "
     ]
    },
    {
     "name": "stdout",
     "output_type": "stream",
     "text": [
      "LLM: mixtral-8x7b-32768 | Request Count: 2020\n",
      "Reached 1 requests for mixtral-8x7b-32768. Waiting for 30 seconds.\n"
     ]
    },
    {
     "name": "stderr",
     "output_type": "stream",
     "text": [
      "embedding nodes:  60%|██████    | 4012/6648 [1:34:04<45:23,  1.03s/it]"
     ]
    },
    {
     "name": "stdout",
     "output_type": "stream",
     "text": [
      "LLM: mixtral-8x7b-32768 | Request Count: 2021\n",
      "Reached 1 requests for mixtral-8x7b-32768. Waiting for 30 seconds.\n",
      "LLM: mixtral-8x7b-32768 | Request Count: 2022\n",
      "Reached 1 requests for mixtral-8x7b-32768. Waiting for 30 seconds.\n"
     ]
    },
    {
     "name": "stderr",
     "output_type": "stream",
     "text": [
      "embedding nodes:  60%|██████    | 4014/6648 [1:34:08<56:57,  1.30s/it]"
     ]
    },
    {
     "name": "stdout",
     "output_type": "stream",
     "text": [
      "LLM: mixtral-8x7b-32768 | Request Count: 2023\n",
      "Reached 1 requests for mixtral-8x7b-32768. Waiting for 30 seconds.\n"
     ]
    },
    {
     "name": "stderr",
     "output_type": "stream",
     "text": [
      "embedding nodes:  60%|██████    | 4015/6648 [1:34:09<55:12,  1.26s/it]"
     ]
    },
    {
     "name": "stdout",
     "output_type": "stream",
     "text": [
      "LLM: mixtral-8x7b-32768 | Request Count: 2024\n",
      "Reached 1 requests for mixtral-8x7b-32768. Waiting for 30 seconds.\n"
     ]
    },
    {
     "name": "stderr",
     "output_type": "stream",
     "text": [
      "embedding nodes:  60%|██████    | 4022/6648 [1:34:22<48:44,  1.11s/it]  "
     ]
    },
    {
     "name": "stdout",
     "output_type": "stream",
     "text": [
      "LLM: mixtral-8x7b-32768 | Request Count: 2025\n",
      "Reached 1 requests for mixtral-8x7b-32768. Waiting for 30 seconds.\n"
     ]
    },
    {
     "name": "stderr",
     "output_type": "stream",
     "text": [
      "embedding nodes:  61%|██████    | 4023/6648 [1:34:23<49:28,  1.13s/it]"
     ]
    },
    {
     "name": "stdout",
     "output_type": "stream",
     "text": [
      "LLM: mixtral-8x7b-32768 | Request Count: 2026\n",
      "Reached 1 requests for mixtral-8x7b-32768. Waiting for 30 seconds.\n"
     ]
    },
    {
     "name": "stderr",
     "output_type": "stream",
     "text": [
      "embedding nodes:  61%|██████    | 4024/6648 [1:34:23<39:54,  1.10it/s]"
     ]
    },
    {
     "name": "stdout",
     "output_type": "stream",
     "text": [
      "LLM: mixtral-8x7b-32768 | Request Count: 2027\n",
      "Reached 1 requests for mixtral-8x7b-32768. Waiting for 30 seconds.\n",
      "LLM: mixtral-8x7b-32768 | Request Count: 2028\n",
      "Reached 1 requests for mixtral-8x7b-32768. Waiting for 30 seconds.\n"
     ]
    },
    {
     "name": "stderr",
     "output_type": "stream",
     "text": [
      "embedding nodes:  61%|██████    | 4026/6648 [1:34:24<25:48,  1.69it/s]"
     ]
    },
    {
     "name": "stdout",
     "output_type": "stream",
     "text": [
      "LLM: mixtral-8x7b-32768 | Request Count: 2029\n",
      "Reached 1 requests for mixtral-8x7b-32768. Waiting for 30 seconds.\n"
     ]
    },
    {
     "name": "stderr",
     "output_type": "stream",
     "text": [
      "embedding nodes:  61%|██████    | 4030/6648 [1:34:27<31:23,  1.39it/s]"
     ]
    },
    {
     "name": "stdout",
     "output_type": "stream",
     "text": [
      "LLM: mixtral-8x7b-32768 | Request Count: 2030\n",
      "Reached 1 requests for mixtral-8x7b-32768. Waiting for 30 seconds.\n"
     ]
    },
    {
     "name": "stderr",
     "output_type": "stream",
     "text": [
      "embedding nodes:  61%|██████    | 4031/6648 [1:34:30<57:49,  1.33s/it]"
     ]
    },
    {
     "name": "stdout",
     "output_type": "stream",
     "text": [
      "LLM: mixtral-8x7b-32768 | Request Count: 2031\n",
      "Reached 1 requests for mixtral-8x7b-32768. Waiting for 30 seconds.\n"
     ]
    },
    {
     "name": "stderr",
     "output_type": "stream",
     "text": [
      "embedding nodes:  61%|██████    | 4032/6648 [1:34:33<1:18:41,  1.80s/it]"
     ]
    },
    {
     "name": "stdout",
     "output_type": "stream",
     "text": [
      "LLM: mixtral-8x7b-32768 | Request Count: 2032\n",
      "Reached 1 requests for mixtral-8x7b-32768. Waiting for 30 seconds.\n"
     ]
    },
    {
     "name": "stderr",
     "output_type": "stream",
     "text": [
      "embedding nodes:  61%|██████    | 4033/6648 [1:34:34<1:06:28,  1.53s/it]"
     ]
    },
    {
     "name": "stdout",
     "output_type": "stream",
     "text": [
      "LLM: mixtral-8x7b-32768 | Request Count: 2033\n",
      "Reached 1 requests for mixtral-8x7b-32768. Waiting for 30 seconds.\n",
      "LLM: mixtral-8x7b-32768 | Request Count: 2034\n",
      "Reached 1 requests for mixtral-8x7b-32768. Waiting for 30 seconds.\n"
     ]
    },
    {
     "name": "stderr",
     "output_type": "stream",
     "text": [
      "embedding nodes:  61%|██████    | 4042/6648 [1:34:42<27:24,  1.58it/s]  "
     ]
    },
    {
     "name": "stdout",
     "output_type": "stream",
     "text": [
      "LLM: mixtral-8x7b-32768 | Request Count: 2035\n",
      "Reached 1 requests for mixtral-8x7b-32768. Waiting for 30 seconds.\n",
      "LLM: mixtral-8x7b-32768 | Request Count: 2036\n",
      "Reached 1 requests for mixtral-8x7b-32768. Waiting for 30 seconds.\n"
     ]
    },
    {
     "name": "stderr",
     "output_type": "stream",
     "text": [
      "embedding nodes:  61%|██████    | 4043/6648 [1:34:52<2:33:35,  3.54s/it]"
     ]
    },
    {
     "name": "stdout",
     "output_type": "stream",
     "text": [
      "LLM: mixtral-8x7b-32768 | Request Count: 2037\n",
      "Reached 1 requests for mixtral-8x7b-32768. Waiting for 30 seconds.\n"
     ]
    },
    {
     "name": "stderr",
     "output_type": "stream",
     "text": [
      "embedding nodes:  61%|██████    | 4044/6648 [1:34:53<1:58:30,  2.73s/it]"
     ]
    },
    {
     "name": "stdout",
     "output_type": "stream",
     "text": [
      "LLM: mixtral-8x7b-32768 | Request Count: 2038\n",
      "Reached 1 requests for mixtral-8x7b-32768. Waiting for 30 seconds.\n"
     ]
    },
    {
     "name": "stderr",
     "output_type": "stream",
     "text": [
      "embedding nodes:  61%|██████    | 4045/6648 [1:34:53<1:28:17,  2.04s/it]"
     ]
    },
    {
     "name": "stdout",
     "output_type": "stream",
     "text": [
      "LLM: mixtral-8x7b-32768 | Request Count: 2039\n",
      "Reached 1 requests for mixtral-8x7b-32768. Waiting for 30 seconds.\n",
      "LLM: mixtral-8x7b-32768 | Request Count: 2040\n",
      "Reached 1 requests for mixtral-8x7b-32768. Waiting for 30 seconds.\n"
     ]
    },
    {
     "name": "stderr",
     "output_type": "stream",
     "text": [
      "embedding nodes:  61%|██████    | 4054/6648 [1:35:04<48:23,  1.12s/it]  "
     ]
    },
    {
     "name": "stdout",
     "output_type": "stream",
     "text": [
      "LLM: mixtral-8x7b-32768 | Request Count: 2041\n",
      "Reached 1 requests for mixtral-8x7b-32768. Waiting for 30 seconds.\n",
      "LLM: mixtral-8x7b-32768 | Request Count: 2042\n",
      "Reached 1 requests for mixtral-8x7b-32768. Waiting for 30 seconds.\n"
     ]
    },
    {
     "name": "stderr",
     "output_type": "stream",
     "text": [
      "embedding nodes:  61%|██████    | 4056/6648 [1:35:07<56:42,  1.31s/it]"
     ]
    },
    {
     "name": "stdout",
     "output_type": "stream",
     "text": [
      "LLM: mixtral-8x7b-32768 | Request Count: 2043\n",
      "Reached 1 requests for mixtral-8x7b-32768. Waiting for 30 seconds.\n",
      "LLM: mixtral-8x7b-32768 | Request Count: 2044\n",
      "Reached 1 requests for mixtral-8x7b-32768. Waiting for 30 seconds.\n"
     ]
    },
    {
     "name": "stderr",
     "output_type": "stream",
     "text": [
      "embedding nodes:  61%|██████    | 4058/6648 [1:35:08<41:07,  1.05it/s]"
     ]
    },
    {
     "name": "stdout",
     "output_type": "stream",
     "text": [
      "LLM: mixtral-8x7b-32768 | Request Count: 2045\n",
      "Reached 1 requests for mixtral-8x7b-32768. Waiting for 30 seconds.\n"
     ]
    },
    {
     "name": "stderr",
     "output_type": "stream",
     "text": [
      "embedding nodes:  61%|██████    | 4059/6648 [1:35:08<37:42,  1.14it/s]"
     ]
    },
    {
     "name": "stdout",
     "output_type": "stream",
     "text": [
      "LLM: mixtral-8x7b-32768 | Request Count: 2046\n",
      "Reached 1 requests for mixtral-8x7b-32768. Waiting for 30 seconds.\n"
     ]
    },
    {
     "name": "stderr",
     "output_type": "stream",
     "text": [
      "embedding nodes:  61%|██████    | 4066/6648 [1:35:17<39:59,  1.08it/s]  "
     ]
    },
    {
     "name": "stdout",
     "output_type": "stream",
     "text": [
      "LLM: mixtral-8x7b-32768 | Request Count: 2047\n",
      "Reached 1 requests for mixtral-8x7b-32768. Waiting for 30 seconds.\n",
      "LLM: mixtral-8x7b-32768 | Request Count: 2048\n",
      "Reached 1 requests for mixtral-8x7b-32768. Waiting for 30 seconds.\n"
     ]
    },
    {
     "name": "stderr",
     "output_type": "stream",
     "text": [
      "embedding nodes:  61%|██████    | 4067/6648 [1:35:22<1:20:34,  1.87s/it]"
     ]
    },
    {
     "name": "stdout",
     "output_type": "stream",
     "text": [
      "LLM: mixtral-8x7b-32768 | Request Count: 2049\n",
      "Reached 1 requests for mixtral-8x7b-32768. Waiting for 30 seconds.\n"
     ]
    },
    {
     "name": "stderr",
     "output_type": "stream",
     "text": [
      "embedding nodes:  61%|██████    | 4068/6648 [1:35:23<1:08:40,  1.60s/it]"
     ]
    },
    {
     "name": "stdout",
     "output_type": "stream",
     "text": [
      "LLM: mixtral-8x7b-32768 | Request Count: 2050\n",
      "Reached 1 requests for mixtral-8x7b-32768. Waiting for 30 seconds.\n"
     ]
    },
    {
     "name": "stderr",
     "output_type": "stream",
     "text": [
      "embedding nodes:  61%|██████    | 4069/6648 [1:35:23<54:26,  1.27s/it]  "
     ]
    },
    {
     "name": "stdout",
     "output_type": "stream",
     "text": [
      "LLM: mixtral-8x7b-32768 | Request Count: 2051\n",
      "Reached 1 requests for mixtral-8x7b-32768. Waiting for 30 seconds.\n",
      "LLM: mixtral-8x7b-32768 | Request Count: 2052\n",
      "Reached 1 requests for mixtral-8x7b-32768. Waiting for 30 seconds.\n"
     ]
    },
    {
     "name": "stderr",
     "output_type": "stream",
     "text": [
      "embedding nodes:  61%|██████▏   | 4080/6648 [1:35:38<25:34,  1.67it/s]  "
     ]
    },
    {
     "name": "stdout",
     "output_type": "stream",
     "text": [
      "LLM: mixtral-8x7b-32768 | Request Count: 2053\n",
      "Reached 1 requests for mixtral-8x7b-32768. Waiting for 30 seconds.\n",
      "LLM: mixtral-8x7b-32768 | Request Count: 2054\n",
      "Reached 1 requests for mixtral-8x7b-32768. Waiting for 30 seconds.\n"
     ]
    },
    {
     "name": "stderr",
     "output_type": "stream",
     "text": [
      "embedding nodes:  61%|██████▏   | 4081/6648 [1:35:38<21:34,  1.98it/s]"
     ]
    },
    {
     "name": "stdout",
     "output_type": "stream",
     "text": [
      "LLM: mixtral-8x7b-32768 | Request Count: 2055\n",
      "Reached 1 requests for mixtral-8x7b-32768. Waiting for 30 seconds.\n"
     ]
    },
    {
     "name": "stderr",
     "output_type": "stream",
     "text": [
      "embedding nodes:  61%|██████▏   | 4083/6648 [1:35:39<23:28,  1.82it/s]"
     ]
    },
    {
     "name": "stdout",
     "output_type": "stream",
     "text": [
      "LLM: mixtral-8x7b-32768 | Request Count: 2056\n",
      "Reached 1 requests for mixtral-8x7b-32768. Waiting for 30 seconds.\n",
      "LLM: mixtral-8x7b-32768 | Request Count: 2057\n",
      "Reached 1 requests for mixtral-8x7b-32768. Waiting for 30 seconds.\n"
     ]
    },
    {
     "name": "stderr",
     "output_type": "stream",
     "text": [
      "embedding nodes:  61%|██████▏   | 4085/6648 [1:35:40<19:13,  2.22it/s]"
     ]
    },
    {
     "name": "stdout",
     "output_type": "stream",
     "text": [
      "LLM: mixtral-8x7b-32768 | Request Count: 2058\n",
      "Reached 1 requests for mixtral-8x7b-32768. Waiting for 30 seconds.\n"
     ]
    },
    {
     "name": "stderr",
     "output_type": "stream",
     "text": [
      "embedding nodes:  62%|██████▏   | 4090/6648 [1:35:53<1:03:57,  1.50s/it]"
     ]
    },
    {
     "name": "stdout",
     "output_type": "stream",
     "text": [
      "LLM: mixtral-8x7b-32768 | Request Count: 2059\n",
      "Reached 1 requests for mixtral-8x7b-32768. Waiting for 30 seconds.\n",
      "LLM: mixtral-8x7b-32768 | Request Count: 2060\n",
      "Reached 1 requests for mixtral-8x7b-32768. Waiting for 30 seconds.\n"
     ]
    },
    {
     "name": "stderr",
     "output_type": "stream",
     "text": [
      "embedding nodes:  62%|██████▏   | 4092/6648 [1:35:59<1:33:34,  2.20s/it]"
     ]
    },
    {
     "name": "stdout",
     "output_type": "stream",
     "text": [
      "LLM: mixtral-8x7b-32768 | Request Count: 2061\n",
      "Reached 1 requests for mixtral-8x7b-32768. Waiting for 30 seconds.\n",
      "LLM: mixtral-8x7b-32768 | Request Count: 2062\n",
      "Reached 1 requests for mixtral-8x7b-32768. Waiting for 30 seconds.\n"
     ]
    },
    {
     "name": "stderr",
     "output_type": "stream",
     "text": [
      "embedding nodes:  62%|██████▏   | 4094/6648 [1:36:02<1:17:52,  1.83s/it]"
     ]
    },
    {
     "name": "stdout",
     "output_type": "stream",
     "text": [
      "LLM: mixtral-8x7b-32768 | Request Count: 2063\n",
      "Reached 1 requests for mixtral-8x7b-32768. Waiting for 30 seconds.\n"
     ]
    },
    {
     "name": "stderr",
     "output_type": "stream",
     "text": [
      "embedding nodes:  62%|██████▏   | 4098/6648 [1:36:08<1:03:22,  1.49s/it]"
     ]
    },
    {
     "name": "stdout",
     "output_type": "stream",
     "text": [
      "LLM: mixtral-8x7b-32768 | Request Count: 2064\n",
      "Reached 1 requests for mixtral-8x7b-32768. Waiting for 30 seconds.\n"
     ]
    },
    {
     "name": "stderr",
     "output_type": "stream",
     "text": [
      "embedding nodes:  62%|██████▏   | 4102/6648 [1:36:10<33:02,  1.28it/s]  "
     ]
    },
    {
     "name": "stdout",
     "output_type": "stream",
     "text": [
      "LLM: mixtral-8x7b-32768 | Request Count: 2065\n",
      "Reached 1 requests for mixtral-8x7b-32768. Waiting for 30 seconds.\n",
      "LLM: mixtral-8x7b-32768 | Request Count: 2066\n",
      "Reached 1 requests for mixtral-8x7b-32768. Waiting for 30 seconds.\n"
     ]
    },
    {
     "name": "stderr",
     "output_type": "stream",
     "text": [
      "embedding nodes:  62%|██████▏   | 4103/6648 [1:36:13<58:13,  1.37s/it]"
     ]
    },
    {
     "name": "stdout",
     "output_type": "stream",
     "text": [
      "LLM: mixtral-8x7b-32768 | Request Count: 2067\n",
      "Reached 1 requests for mixtral-8x7b-32768. Waiting for 30 seconds.\n"
     ]
    },
    {
     "name": "stderr",
     "output_type": "stream",
     "text": [
      "embedding nodes:  62%|██████▏   | 4104/6648 [1:36:13<46:07,  1.09s/it]"
     ]
    },
    {
     "name": "stdout",
     "output_type": "stream",
     "text": [
      "LLM: mixtral-8x7b-32768 | Request Count: 2068\n",
      "Reached 1 requests for mixtral-8x7b-32768. Waiting for 30 seconds.\n",
      "LLM: mixtral-8x7b-32768 | Request Count: 2069\n",
      "Reached 1 requests for mixtral-8x7b-32768. Waiting for 30 seconds.\n",
      "LLM: mixtral-8x7b-32768 | Request Count: 2070\n",
      "Reached 1 requests for mixtral-8x7b-32768. Waiting for 30 seconds.\n"
     ]
    },
    {
     "name": "stderr",
     "output_type": "stream",
     "text": [
      "embedding nodes:  62%|██████▏   | 4113/6648 [1:36:35<1:18:20,  1.85s/it]"
     ]
    },
    {
     "name": "stdout",
     "output_type": "stream",
     "text": [
      "LLM: mixtral-8x7b-32768 | Request Count: 2071\n",
      "Reached 1 requests for mixtral-8x7b-32768. Waiting for 30 seconds.\n"
     ]
    },
    {
     "name": "stderr",
     "output_type": "stream",
     "text": [
      "embedding nodes:  62%|██████▏   | 4114/6648 [1:36:38<1:24:24,  2.00s/it]"
     ]
    },
    {
     "name": "stdout",
     "output_type": "stream",
     "text": [
      "LLM: mixtral-8x7b-32768 | Request Count: 2072\n",
      "Reached 1 requests for mixtral-8x7b-32768. Waiting for 30 seconds.\n"
     ]
    },
    {
     "name": "stderr",
     "output_type": "stream",
     "text": [
      "embedding nodes:  62%|██████▏   | 4115/6648 [1:36:40<1:28:57,  2.11s/it]"
     ]
    },
    {
     "name": "stdout",
     "output_type": "stream",
     "text": [
      "LLM: mixtral-8x7b-32768 | Request Count: 2073\n",
      "Reached 1 requests for mixtral-8x7b-32768. Waiting for 30 seconds.\n",
      "LLM: mixtral-8x7b-32768 | Request Count: 2074\n",
      "Reached 1 requests for mixtral-8x7b-32768. Waiting for 30 seconds.\n"
     ]
    },
    {
     "name": "stderr",
     "output_type": "stream",
     "text": [
      "embedding nodes:  62%|██████▏   | 4117/6648 [1:36:43<1:19:31,  1.89s/it]"
     ]
    },
    {
     "name": "stdout",
     "output_type": "stream",
     "text": [
      "LLM: mixtral-8x7b-32768 | Request Count: 2075\n",
      "Reached 1 requests for mixtral-8x7b-32768. Waiting for 30 seconds.\n"
     ]
    },
    {
     "name": "stderr",
     "output_type": "stream",
     "text": [
      "embedding nodes:  62%|██████▏   | 4123/6648 [1:36:49<1:08:42,  1.63s/it]"
     ]
    },
    {
     "name": "stdout",
     "output_type": "stream",
     "text": [
      "LLM: mixtral-8x7b-32768 | Request Count: 2076\n",
      "Reached 1 requests for mixtral-8x7b-32768. Waiting for 30 seconds.\n"
     ]
    },
    {
     "name": "stderr",
     "output_type": "stream",
     "text": [
      "embedding nodes:  62%|██████▏   | 4124/6648 [1:36:52<1:27:32,  2.08s/it]"
     ]
    },
    {
     "name": "stdout",
     "output_type": "stream",
     "text": [
      "LLM: mixtral-8x7b-32768 | Request Count: 2077\n",
      "Reached 1 requests for mixtral-8x7b-32768. Waiting for 30 seconds.\n"
     ]
    },
    {
     "name": "stderr",
     "output_type": "stream",
     "text": [
      "embedding nodes:  62%|██████▏   | 4125/6648 [1:36:59<2:16:19,  3.24s/it]"
     ]
    },
    {
     "name": "stdout",
     "output_type": "stream",
     "text": [
      "LLM: mixtral-8x7b-32768 | Request Count: 2078\n",
      "Reached 1 requests for mixtral-8x7b-32768. Waiting for 30 seconds.\n",
      "LLM: mixtral-8x7b-32768 | Request Count: 2079\n",
      "Reached 1 requests for mixtral-8x7b-32768. Waiting for 30 seconds.\n"
     ]
    },
    {
     "name": "stderr",
     "output_type": "stream",
     "text": [
      "embedding nodes:  62%|██████▏   | 4131/6648 [1:37:08<1:32:06,  2.20s/it]"
     ]
    },
    {
     "name": "stdout",
     "output_type": "stream",
     "text": [
      "LLM: mixtral-8x7b-32768 | Request Count: 2080\n",
      "Reached 1 requests for mixtral-8x7b-32768. Waiting for 30 seconds.\n"
     ]
    },
    {
     "name": "stderr",
     "output_type": "stream",
     "text": [
      "embedding nodes:  62%|██████▏   | 4132/6648 [1:37:10<1:33:31,  2.23s/it]"
     ]
    },
    {
     "name": "stdout",
     "output_type": "stream",
     "text": [
      "LLM: mixtral-8x7b-32768 | Request Count: 2081\n",
      "Reached 1 requests for mixtral-8x7b-32768. Waiting for 30 seconds.\n",
      "LLM: mixtral-8x7b-32768 | Request Count: 2082\n",
      "Reached 1 requests for mixtral-8x7b-32768. Waiting for 30 seconds.\n"
     ]
    },
    {
     "name": "stderr",
     "output_type": "stream",
     "text": [
      "embedding nodes:  62%|██████▏   | 4134/6648 [1:37:13<1:23:24,  1.99s/it]"
     ]
    },
    {
     "name": "stdout",
     "output_type": "stream",
     "text": [
      "LLM: mixtral-8x7b-32768 | Request Count: 2083\n",
      "Reached 1 requests for mixtral-8x7b-32768. Waiting for 30 seconds.\n"
     ]
    },
    {
     "name": "stderr",
     "output_type": "stream",
     "text": [
      "embedding nodes:  62%|██████▏   | 4135/6648 [1:37:16<1:23:56,  2.00s/it]"
     ]
    },
    {
     "name": "stdout",
     "output_type": "stream",
     "text": [
      "LLM: mixtral-8x7b-32768 | Request Count: 2084\n",
      "Reached 1 requests for mixtral-8x7b-32768. Waiting for 30 seconds.\n"
     ]
    },
    {
     "name": "stderr",
     "output_type": "stream",
     "text": [
      "embedding nodes:  62%|██████▏   | 4141/6648 [1:37:29<2:00:15,  2.88s/it]"
     ]
    },
    {
     "name": "stdout",
     "output_type": "stream",
     "text": [
      "LLM: mixtral-8x7b-32768 | Request Count: 2085\n",
      "Reached 1 requests for mixtral-8x7b-32768. Waiting for 30 seconds.\n",
      "LLM: mixtral-8x7b-32768 | Request Count: 2086\n",
      "Reached 1 requests for mixtral-8x7b-32768. Waiting for 30 seconds.\n"
     ]
    },
    {
     "name": "stderr",
     "output_type": "stream",
     "text": [
      "embedding nodes:  62%|██████▏   | 4143/6648 [1:37:30<1:13:24,  1.76s/it]"
     ]
    },
    {
     "name": "stdout",
     "output_type": "stream",
     "text": [
      "LLM: mixtral-8x7b-32768 | Request Count: 2087\n",
      "Reached 1 requests for mixtral-8x7b-32768. Waiting for 30 seconds.\n"
     ]
    },
    {
     "name": "stderr",
     "output_type": "stream",
     "text": [
      "embedding nodes:  62%|██████▏   | 4144/6648 [1:37:30<1:04:38,  1.55s/it]"
     ]
    },
    {
     "name": "stdout",
     "output_type": "stream",
     "text": [
      "LLM: mixtral-8x7b-32768 | Request Count: 2088\n",
      "Reached 1 requests for mixtral-8x7b-32768. Waiting for 30 seconds.\n"
     ]
    },
    {
     "name": "stderr",
     "output_type": "stream",
     "text": [
      "embedding nodes:  62%|██████▏   | 4151/6648 [1:37:44<1:21:51,  1.97s/it]"
     ]
    },
    {
     "name": "stdout",
     "output_type": "stream",
     "text": [
      "LLM: mixtral-8x7b-32768 | Request Count: 2089LLM: mixtral-8x7b-32768 | Request Count: 2090\n",
      "Reached 1 requests for mixtral-8x7b-32768. Waiting for 30 seconds.\n",
      "\n",
      "Reached 1 requests for mixtral-8x7b-32768. Waiting for 30 seconds.\n"
     ]
    },
    {
     "name": "stderr",
     "output_type": "stream",
     "text": [
      "embedding nodes:  62%|██████▏   | 4153/6648 [1:37:46<54:53,  1.32s/it]  "
     ]
    },
    {
     "name": "stdout",
     "output_type": "stream",
     "text": [
      "LLM: mixtral-8x7b-32768 | Request Count: 2091\n",
      "Reached 1 requests for mixtral-8x7b-32768. Waiting for 30 seconds.\n"
     ]
    },
    {
     "name": "stderr",
     "output_type": "stream",
     "text": [
      "embedding nodes:  62%|██████▏   | 4154/6648 [1:37:50<1:29:01,  2.14s/it]"
     ]
    },
    {
     "name": "stdout",
     "output_type": "stream",
     "text": [
      "LLM: mixtral-8x7b-32768 | Request Count: 2092\n",
      "Reached 1 requests for mixtral-8x7b-32768. Waiting for 30 seconds.\n"
     ]
    },
    {
     "name": "stderr",
     "output_type": "stream",
     "text": [
      "embedding nodes:  62%|██████▎   | 4155/6648 [1:37:51<1:19:39,  1.92s/it]"
     ]
    },
    {
     "name": "stdout",
     "output_type": "stream",
     "text": [
      "LLM: mixtral-8x7b-32768 | Request Count: 2093\n",
      "Reached 1 requests for mixtral-8x7b-32768. Waiting for 30 seconds.\n"
     ]
    },
    {
     "name": "stderr",
     "output_type": "stream",
     "text": [
      "embedding nodes:  63%|██████▎   | 4156/6648 [1:37:55<1:41:56,  2.45s/it]"
     ]
    },
    {
     "name": "stdout",
     "output_type": "stream",
     "text": [
      "LLM: mixtral-8x7b-32768 | Request Count: 2094\n",
      "Reached 1 requests for mixtral-8x7b-32768. Waiting for 30 seconds.\n"
     ]
    },
    {
     "name": "stderr",
     "output_type": "stream",
     "text": [
      "embedding nodes:  63%|██████▎   | 4162/6648 [1:38:01<49:15,  1.19s/it]  "
     ]
    },
    {
     "name": "stdout",
     "output_type": "stream",
     "text": [
      "LLM: mixtral-8x7b-32768 | Request Count: 2095\n",
      "Reached 1 requests for mixtral-8x7b-32768. Waiting for 30 seconds.\n",
      "LLM: mixtral-8x7b-32768 | Request Count: 2096\n",
      "Reached 1 requests for mixtral-8x7b-32768. Waiting for 30 seconds.\n"
     ]
    },
    {
     "name": "stderr",
     "output_type": "stream",
     "text": [
      "embedding nodes:  63%|██████▎   | 4163/6648 [1:38:05<1:27:32,  2.11s/it]"
     ]
    },
    {
     "name": "stdout",
     "output_type": "stream",
     "text": [
      "LLM: mixtral-8x7b-32768 | Request Count: 2097\n",
      "Reached 1 requests for mixtral-8x7b-32768. Waiting for 30 seconds.\n"
     ]
    },
    {
     "name": "stderr",
     "output_type": "stream",
     "text": [
      "embedding nodes:  63%|██████▎   | 4164/6648 [1:38:09<1:43:58,  2.51s/it]"
     ]
    },
    {
     "name": "stdout",
     "output_type": "stream",
     "text": [
      "LLM: mixtral-8x7b-32768 | Request Count: 2098\n",
      "Reached 1 requests for mixtral-8x7b-32768. Waiting for 30 seconds.\n"
     ]
    },
    {
     "name": "stderr",
     "output_type": "stream",
     "text": [
      "embedding nodes:  63%|██████▎   | 4165/6648 [1:38:11<1:40:00,  2.42s/it]"
     ]
    },
    {
     "name": "stdout",
     "output_type": "stream",
     "text": [
      "LLM: mixtral-8x7b-32768 | Request Count: 2099\n",
      "Reached 1 requests for mixtral-8x7b-32768. Waiting for 30 seconds.\n"
     ]
    },
    {
     "name": "stderr",
     "output_type": "stream",
     "text": [
      "embedding nodes:  63%|██████▎   | 4170/6648 [1:38:16<46:39,  1.13s/it]  "
     ]
    },
    {
     "name": "stdout",
     "output_type": "stream",
     "text": [
      "LLM: mixtral-8x7b-32768 | Request Count: 2100\n",
      "Reached 1 requests for mixtral-8x7b-32768. Waiting for 30 seconds.\n"
     ]
    },
    {
     "name": "stderr",
     "output_type": "stream",
     "text": [
      "embedding nodes:  63%|██████▎   | 4174/6648 [1:38:20<38:08,  1.08it/s]  "
     ]
    },
    {
     "name": "stdout",
     "output_type": "stream",
     "text": [
      "LLM: mixtral-8x7b-32768 | Request Count: 2101\n",
      "Reached 1 requests for mixtral-8x7b-32768. Waiting for 30 seconds.\n",
      "LLM: mixtral-8x7b-32768 | Request Count: 2102\n",
      "Reached 1 requests for mixtral-8x7b-32768. Waiting for 30 seconds.\n"
     ]
    },
    {
     "name": "stderr",
     "output_type": "stream",
     "text": [
      "embedding nodes:  63%|██████▎   | 4175/6648 [1:38:21<41:25,  1.01s/it]"
     ]
    },
    {
     "name": "stdout",
     "output_type": "stream",
     "text": [
      "LLM: mixtral-8x7b-32768 | Request Count: 2103\n",
      "Reached 1 requests for mixtral-8x7b-32768. Waiting for 30 seconds.\n"
     ]
    },
    {
     "name": "stderr",
     "output_type": "stream",
     "text": [
      "embedding nodes:  63%|██████▎   | 4179/6648 [1:38:31<1:31:23,  2.22s/it]"
     ]
    },
    {
     "name": "stdout",
     "output_type": "stream",
     "text": [
      "LLM: mixtral-8x7b-32768 | Request Count: 2104LLM: mixtral-8x7b-32768 | Request Count: 2105\n",
      "Reached 1 requests for mixtral-8x7b-32768. Waiting for 30 seconds.\n",
      "\n",
      "Reached 1 requests for mixtral-8x7b-32768. Waiting for 30 seconds.\n"
     ]
    },
    {
     "name": "stderr",
     "output_type": "stream",
     "text": [
      "embedding nodes:  63%|██████▎   | 4183/6648 [1:38:36<1:00:07,  1.46s/it]"
     ]
    },
    {
     "name": "stdout",
     "output_type": "stream",
     "text": [
      "LLM: mixtral-8x7b-32768 | Request Count: 2106\n",
      "Reached 1 requests for mixtral-8x7b-32768. Waiting for 30 seconds.\n"
     ]
    },
    {
     "name": "stderr",
     "output_type": "stream",
     "text": [
      "embedding nodes:  63%|██████▎   | 4185/6648 [1:38:39<1:08:27,  1.67s/it]"
     ]
    },
    {
     "name": "stdout",
     "output_type": "stream",
     "text": [
      "LLM: mixtral-8x7b-32768 | Request Count: 2107\n",
      "Reached 1 requests for mixtral-8x7b-32768. Waiting for 30 seconds.\n"
     ]
    },
    {
     "name": "stderr",
     "output_type": "stream",
     "text": [
      "embedding nodes:  63%|██████▎   | 4186/6648 [1:38:41<1:13:03,  1.78s/it]"
     ]
    },
    {
     "name": "stdout",
     "output_type": "stream",
     "text": [
      "LLM: mixtral-8x7b-32768 | Request Count: 2108\n",
      "Reached 1 requests for mixtral-8x7b-32768. Waiting for 30 seconds.\n"
     ]
    },
    {
     "name": "stderr",
     "output_type": "stream",
     "text": [
      "embedding nodes:  63%|██████▎   | 4189/6648 [1:38:45<51:39,  1.26s/it]  "
     ]
    },
    {
     "name": "stdout",
     "output_type": "stream",
     "text": [
      "LLM: mixtral-8x7b-32768 | Request Count: 2109\n",
      "Reached 1 requests for mixtral-8x7b-32768. Waiting for 30 seconds.\n"
     ]
    },
    {
     "name": "stderr",
     "output_type": "stream",
     "text": [
      "embedding nodes:  63%|██████▎   | 4191/6648 [1:38:50<1:17:01,  1.88s/it]"
     ]
    },
    {
     "name": "stdout",
     "output_type": "stream",
     "text": [
      "LLM: mixtral-8x7b-32768 | Request Count: 2110\n",
      "Reached 1 requests for mixtral-8x7b-32768. Waiting for 30 seconds.\n",
      "LLM: mixtral-8x7b-32768 | Request Count: 2111\n",
      "Reached 1 requests for mixtral-8x7b-32768. Waiting for 30 seconds.\n"
     ]
    },
    {
     "name": "stderr",
     "output_type": "stream",
     "text": [
      "embedding nodes:  63%|██████▎   | 4195/6648 [1:38:51<36:40,  1.11it/s]  "
     ]
    },
    {
     "name": "stdout",
     "output_type": "stream",
     "text": [
      "LLM: mixtral-8x7b-32768 | Request Count: 2112\n",
      "Reached 1 requests for mixtral-8x7b-32768. Waiting for 30 seconds.\n",
      "LLM: mixtral-8x7b-32768 | Request Count: 2113\n",
      "Reached 1 requests for mixtral-8x7b-32768. Waiting for 30 seconds.\n",
      "LLM: mixtral-8x7b-32768 | Request Count: 2114\n",
      "Reached 1 requests for mixtral-8x7b-32768. Waiting for 30 seconds.\n",
      "LLM: mixtral-8x7b-32768 | Request Count: 2115\n",
      "Reached 1 requests for mixtral-8x7b-32768. Waiting for 30 seconds.\n"
     ]
    },
    {
     "name": "stderr",
     "output_type": "stream",
     "text": [
      "embedding nodes:  63%|██████▎   | 4203/6648 [1:39:05<41:40,  1.02s/it]  "
     ]
    },
    {
     "name": "stdout",
     "output_type": "stream",
     "text": [
      "LLM: mixtral-8x7b-32768 | Request Count: 2116\n",
      "Reached 1 requests for mixtral-8x7b-32768. Waiting for 30 seconds.\n"
     ]
    },
    {
     "name": "stderr",
     "output_type": "stream",
     "text": [
      "embedding nodes:  63%|██████▎   | 4205/6648 [1:39:07<35:27,  1.15it/s]"
     ]
    },
    {
     "name": "stdout",
     "output_type": "stream",
     "text": [
      "LLM: mixtral-8x7b-32768 | Request Count: 2117\n",
      "Reached 1 requests for mixtral-8x7b-32768. Waiting for 30 seconds.\n",
      "LLM: mixtral-8x7b-32768 | Request Count: 2118\n",
      "Reached 1 requests for mixtral-8x7b-32768. Waiting for 30 seconds.\n",
      "LLM: mixtral-8x7b-32768 | Request Count: 2119\n",
      "Reached 1 requests for mixtral-8x7b-32768. Waiting for 30 seconds.\n"
     ]
    },
    {
     "name": "stderr",
     "output_type": "stream",
     "text": [
      "embedding nodes:  63%|██████▎   | 4206/6648 [1:39:11<1:14:51,  1.84s/it]"
     ]
    },
    {
     "name": "stdout",
     "output_type": "stream",
     "text": [
      "LLM: mixtral-8x7b-32768 | Request Count: 2120\n",
      "Reached 1 requests for mixtral-8x7b-32768. Waiting for 30 seconds.\n"
     ]
    },
    {
     "name": "stderr",
     "output_type": "stream",
     "text": [
      "embedding nodes:  63%|██████▎   | 4210/6648 [1:39:20<1:07:24,  1.66s/it]"
     ]
    },
    {
     "name": "stdout",
     "output_type": "stream",
     "text": [
      "LLM: mixtral-8x7b-32768 | Request Count: 2121\n",
      "Reached 1 requests for mixtral-8x7b-32768. Waiting for 30 seconds.\n"
     ]
    },
    {
     "name": "stderr",
     "output_type": "stream",
     "text": [
      "embedding nodes:  63%|██████▎   | 4213/6648 [1:39:21<32:30,  1.25it/s]  "
     ]
    },
    {
     "name": "stdout",
     "output_type": "stream",
     "text": [
      "LLM: mixtral-8x7b-32768 | Request Count: 2122\n",
      "Reached 1 requests for mixtral-8x7b-32768. Waiting for 30 seconds.\n",
      "LLM: mixtral-8x7b-32768 | Request Count: 2123\n",
      "Reached 1 requests for mixtral-8x7b-32768. Waiting for 30 seconds.\n",
      "LLM: mixtral-8x7b-32768 | Request Count: 2124\n",
      "Reached 1 requests for mixtral-8x7b-32768. Waiting for 30 seconds.\n",
      "LLM: mixtral-8x7b-32768 | Request Count: 2125\n",
      "Reached 1 requests for mixtral-8x7b-32768. Waiting for 30 seconds.\n"
     ]
    },
    {
     "name": "stderr",
     "output_type": "stream",
     "text": [
      "embedding nodes:  63%|██████▎   | 4221/6648 [1:39:34<1:08:59,  1.71s/it]"
     ]
    },
    {
     "name": "stdout",
     "output_type": "stream",
     "text": [
      "LLM: mixtral-8x7b-32768 | Request Count: 2126\n",
      "Reached 1 requests for mixtral-8x7b-32768. Waiting for 30 seconds.\n",
      "LLM: mixtral-8x7b-32768 | Request Count: 2127\n",
      "Reached 1 requests for mixtral-8x7b-32768. Waiting for 30 seconds.\n"
     ]
    },
    {
     "name": "stderr",
     "output_type": "stream",
     "text": [
      "embedding nodes:  64%|██████▎   | 4223/6648 [1:39:36<57:04,  1.41s/it]  "
     ]
    },
    {
     "name": "stdout",
     "output_type": "stream",
     "text": [
      "LLM: mixtral-8x7b-32768 | Request Count: 2128\n",
      "Reached 1 requests for mixtral-8x7b-32768. Waiting for 30 seconds.\n"
     ]
    },
    {
     "name": "stderr",
     "output_type": "stream",
     "text": [
      "embedding nodes:  64%|██████▎   | 4225/6648 [1:39:37<43:07,  1.07s/it]"
     ]
    },
    {
     "name": "stdout",
     "output_type": "stream",
     "text": [
      "LLM: mixtral-8x7b-32768 | Request Count: 2129\n",
      "Reached 1 requests for mixtral-8x7b-32768. Waiting for 30 seconds.\n",
      "LLM: mixtral-8x7b-32768 | Request Count: 2130\n",
      "Reached 1 requests for mixtral-8x7b-32768. Waiting for 30 seconds.\n"
     ]
    },
    {
     "name": "stderr",
     "output_type": "stream",
     "text": [
      "embedding nodes:  64%|██████▎   | 4226/6648 [1:39:39<54:14,  1.34s/it]"
     ]
    },
    {
     "name": "stdout",
     "output_type": "stream",
     "text": [
      "LLM: mixtral-8x7b-32768 | Request Count: 2131\n",
      "Reached 1 requests for mixtral-8x7b-32768. Waiting for 30 seconds.\n"
     ]
    },
    {
     "name": "stderr",
     "output_type": "stream",
     "text": [
      "embedding nodes:  64%|██████▎   | 4235/6648 [1:39:51<41:09,  1.02s/it]  "
     ]
    },
    {
     "name": "stdout",
     "output_type": "stream",
     "text": [
      "LLM: mixtral-8x7b-32768 | Request Count: 2132\n",
      "Reached 1 requests for mixtral-8x7b-32768. Waiting for 30 seconds.\n",
      "LLM: mixtral-8x7b-32768 | Request Count: 2133\n",
      "Reached 1 requests for mixtral-8x7b-32768. Waiting for 30 seconds.\n"
     ]
    },
    {
     "name": "stderr",
     "output_type": "stream",
     "text": [
      "embedding nodes:  64%|██████▎   | 4237/6648 [1:39:51<23:52,  1.68it/s]"
     ]
    },
    {
     "name": "stdout",
     "output_type": "stream",
     "text": [
      "LLM: mixtral-8x7b-32768 | Request Count: 2134\n",
      "Reached 1 requests for mixtral-8x7b-32768. Waiting for 30 seconds.\n"
     ]
    },
    {
     "name": "stderr",
     "output_type": "stream",
     "text": [
      "embedding nodes:  64%|██████▍   | 4241/6648 [1:39:58<45:42,  1.14s/it]  "
     ]
    },
    {
     "name": "stdout",
     "output_type": "stream",
     "text": [
      "LLM: mixtral-8x7b-32768 | Request Count: 2135\n",
      "Reached 1 requests for mixtral-8x7b-32768. Waiting for 30 seconds.\n",
      "LLM: mixtral-8x7b-32768 | Request Count: 2136\n",
      "Reached 1 requests for mixtral-8x7b-32768. Waiting for 30 seconds.\n",
      "LLM: mixtral-8x7b-32768 | Request Count: 2137\n",
      "Reached 1 requests for mixtral-8x7b-32768. Waiting for 30 seconds.\n"
     ]
    },
    {
     "name": "stderr",
     "output_type": "stream",
     "text": [
      "embedding nodes:  64%|██████▍   | 4246/6648 [1:40:07<46:40,  1.17s/it]  "
     ]
    },
    {
     "name": "stdout",
     "output_type": "stream",
     "text": [
      "LLM: mixtral-8x7b-32768 | Request Count: 2138\n",
      "Reached 1 requests for mixtral-8x7b-32768. Waiting for 30 seconds.\n",
      "LLM: mixtral-8x7b-32768 | Request Count: 2139\n",
      "Reached 1 requests for mixtral-8x7b-32768. Waiting for 30 seconds.\n"
     ]
    },
    {
     "name": "stderr",
     "output_type": "stream",
     "text": [
      "embedding nodes:  64%|██████▍   | 4247/6648 [1:40:09<57:16,  1.43s/it]"
     ]
    },
    {
     "name": "stdout",
     "output_type": "stream",
     "text": [
      "LLM: mixtral-8x7b-32768 | Request Count: 2140\n",
      "Reached 1 requests for mixtral-8x7b-32768. Waiting for 30 seconds.\n"
     ]
    },
    {
     "name": "stderr",
     "output_type": "stream",
     "text": [
      "embedding nodes:  64%|██████▍   | 4253/6648 [1:40:17<48:21,  1.21s/it]  "
     ]
    },
    {
     "name": "stdout",
     "output_type": "stream",
     "text": [
      "LLM: mixtral-8x7b-32768 | Request Count: 2141\n",
      "Reached 1 requests for mixtral-8x7b-32768. Waiting for 30 seconds.\n",
      "LLM: mixtral-8x7b-32768 | Request Count: 2142\n",
      "Reached 1 requests for mixtral-8x7b-32768. Waiting for 30 seconds.\n",
      "LLM: mixtral-8x7b-32768 | Request Count: 2143\n",
      "Reached 1 requests for mixtral-8x7b-32768. Waiting for 30 seconds.\n"
     ]
    },
    {
     "name": "stderr",
     "output_type": "stream",
     "text": [
      "embedding nodes:  64%|██████▍   | 4257/6648 [1:40:25<1:18:16,  1.96s/it]"
     ]
    },
    {
     "name": "stdout",
     "output_type": "stream",
     "text": [
      "LLM: mixtral-8x7b-32768 | Request Count: 2144\n",
      "Reached 1 requests for mixtral-8x7b-32768. Waiting for 30 seconds.\n",
      "LLM: mixtral-8x7b-32768 | Request Count: 2145\n",
      "Reached 1 requests for mixtral-8x7b-32768. Waiting for 30 seconds.\n",
      "LLM: mixtral-8x7b-32768 | Request Count: 2146\n",
      "Reached 1 requests for mixtral-8x7b-32768. Waiting for 30 seconds.\n"
     ]
    },
    {
     "name": "stderr",
     "output_type": "stream",
     "text": [
      "embedding nodes:  64%|██████▍   | 4263/6648 [1:40:31<50:16,  1.26s/it]  "
     ]
    },
    {
     "name": "stdout",
     "output_type": "stream",
     "text": [
      "LLM: mixtral-8x7b-32768 | Request Count: 2147\n",
      "Reached 1 requests for mixtral-8x7b-32768. Waiting for 30 seconds.\n",
      "LLM: mixtral-8x7b-32768 | Request Count: 2148\n",
      "Reached 1 requests for mixtral-8x7b-32768. Waiting for 30 seconds.\n",
      "LLM: mixtral-8x7b-32768 | Request Count: 2149\n",
      "Reached 1 requests for mixtral-8x7b-32768. Waiting for 30 seconds.\n"
     ]
    },
    {
     "name": "stderr",
     "output_type": "stream",
     "text": [
      "embedding nodes:  64%|██████▍   | 4270/6648 [1:40:41<47:57,  1.21s/it]  "
     ]
    },
    {
     "name": "stdout",
     "output_type": "stream",
     "text": [
      "LLM: mixtral-8x7b-32768 | Request Count: 2150\n",
      "Reached 1 requests for mixtral-8x7b-32768. Waiting for 30 seconds.\n",
      "LLM: mixtral-8x7b-32768 | Request Count: 2151\n",
      "Reached 1 requests for mixtral-8x7b-32768. Waiting for 30 seconds.\n"
     ]
    },
    {
     "name": "stderr",
     "output_type": "stream",
     "text": [
      "embedding nodes:  64%|██████▍   | 4271/6648 [1:40:44<1:04:26,  1.63s/it]"
     ]
    },
    {
     "name": "stdout",
     "output_type": "stream",
     "text": [
      "LLM: mixtral-8x7b-32768 | Request Count: 2152\n",
      "Reached 1 requests for mixtral-8x7b-32768. Waiting for 30 seconds.\n"
     ]
    },
    {
     "name": "stderr",
     "output_type": "stream",
     "text": [
      "embedding nodes:  64%|██████▍   | 4272/6648 [1:40:47<1:17:05,  1.95s/it]"
     ]
    },
    {
     "name": "stdout",
     "output_type": "stream",
     "text": [
      "LLM: mixtral-8x7b-32768 | Request Count: 2153\n",
      "Reached 1 requests for mixtral-8x7b-32768. Waiting for 30 seconds.\n"
     ]
    },
    {
     "name": "stderr",
     "output_type": "stream",
     "text": [
      "embedding nodes:  64%|██████▍   | 4275/6648 [1:40:53<1:35:50,  2.42s/it]"
     ]
    },
    {
     "name": "stdout",
     "output_type": "stream",
     "text": [
      "LLM: mixtral-8x7b-32768 | Request Count: 2154\n",
      "Reached 1 requests for mixtral-8x7b-32768. Waiting for 30 seconds.\n"
     ]
    },
    {
     "name": "stderr",
     "output_type": "stream",
     "text": [
      "embedding nodes:  64%|██████▍   | 4277/6648 [1:40:56<1:15:41,  1.92s/it]"
     ]
    },
    {
     "name": "stdout",
     "output_type": "stream",
     "text": [
      "LLM: mixtral-8x7b-32768 | Request Count: 2155\n",
      "Reached 1 requests for mixtral-8x7b-32768. Waiting for 30 seconds.\n"
     ]
    },
    {
     "name": "stderr",
     "output_type": "stream",
     "text": [
      "embedding nodes:  64%|██████▍   | 4280/6648 [1:41:01<1:12:57,  1.85s/it]"
     ]
    },
    {
     "name": "stdout",
     "output_type": "stream",
     "text": [
      "LLM: mixtral-8x7b-32768 | Request Count: 2156\n",
      "Reached 1 requests for mixtral-8x7b-32768. Waiting for 30 seconds.\n",
      "LLM: mixtral-8x7b-32768 | Request Count: 2157\n",
      "Reached 1 requests for mixtral-8x7b-32768. Waiting for 30 seconds.\n"
     ]
    },
    {
     "name": "stderr",
     "output_type": "stream",
     "text": [
      "embedding nodes:  64%|██████▍   | 4283/6648 [1:41:03<56:14,  1.43s/it]  "
     ]
    },
    {
     "name": "stdout",
     "output_type": "stream",
     "text": [
      "LLM: mixtral-8x7b-32768 | Request Count: 2158\n",
      "Reached 1 requests for mixtral-8x7b-32768. Waiting for 30 seconds.\n"
     ]
    },
    {
     "name": "stderr",
     "output_type": "stream",
     "text": [
      "embedding nodes:  64%|██████▍   | 4284/6648 [1:41:06<1:01:09,  1.55s/it]"
     ]
    },
    {
     "name": "stdout",
     "output_type": "stream",
     "text": [
      "LLM: mixtral-8x7b-32768 | Request Count: 2159\n",
      "Reached 1 requests for mixtral-8x7b-32768. Waiting for 30 seconds.\n"
     ]
    },
    {
     "name": "stderr",
     "output_type": "stream",
     "text": [
      "embedding nodes:  64%|██████▍   | 4285/6648 [1:41:06<52:50,  1.34s/it]  "
     ]
    },
    {
     "name": "stdout",
     "output_type": "stream",
     "text": [
      "LLM: mixtral-8x7b-32768 | Request Count: 2160\n",
      "Reached 1 requests for mixtral-8x7b-32768. Waiting for 30 seconds.\n"
     ]
    },
    {
     "name": "stderr",
     "output_type": "stream",
     "text": [
      "embedding nodes:  64%|██████▍   | 4286/6648 [1:41:09<1:08:47,  1.75s/it]"
     ]
    },
    {
     "name": "stdout",
     "output_type": "stream",
     "text": [
      "LLM: mixtral-8x7b-32768 | Request Count: 2161\n",
      "Reached 1 requests for mixtral-8x7b-32768. Waiting for 30 seconds.\n"
     ]
    },
    {
     "name": "stderr",
     "output_type": "stream",
     "text": [
      "embedding nodes:  65%|██████▍   | 4294/6648 [1:41:24<1:07:48,  1.73s/it]"
     ]
    },
    {
     "name": "stdout",
     "output_type": "stream",
     "text": [
      "LLM: mixtral-8x7b-32768 | Request Count: 2162\n",
      "Reached 1 requests for mixtral-8x7b-32768. Waiting for 30 seconds.\n",
      "LLM: mixtral-8x7b-32768 | Request Count: 2163\n",
      "Reached 1 requests for mixtral-8x7b-32768. Waiting for 30 seconds.\n",
      "LLM: mixtral-8x7b-32768 | Request Count: 2164\n",
      "Reached 1 requests for mixtral-8x7b-32768. Waiting for 30 seconds.\n"
     ]
    },
    {
     "name": "stderr",
     "output_type": "stream",
     "text": [
      "embedding nodes:  65%|██████▍   | 4296/6648 [1:41:28<1:12:46,  1.86s/it]"
     ]
    },
    {
     "name": "stdout",
     "output_type": "stream",
     "text": [
      "LLM: mixtral-8x7b-32768 | Request Count: 2165\n",
      "Reached 1 requests for mixtral-8x7b-32768. Waiting for 30 seconds.\n"
     ]
    },
    {
     "name": "stderr",
     "output_type": "stream",
     "text": [
      "embedding nodes:  65%|██████▍   | 4297/6648 [1:41:28<58:50,  1.50s/it]  "
     ]
    },
    {
     "name": "stdout",
     "output_type": "stream",
     "text": [
      "LLM: mixtral-8x7b-32768 | Request Count: 2166\n",
      "Reached 1 requests for mixtral-8x7b-32768. Waiting for 30 seconds.\n"
     ]
    },
    {
     "name": "stderr",
     "output_type": "stream",
     "text": [
      "embedding nodes:  65%|██████▍   | 4298/6648 [1:41:29<44:59,  1.15s/it]"
     ]
    },
    {
     "name": "stdout",
     "output_type": "stream",
     "text": [
      "LLM: mixtral-8x7b-32768 | Request Count: 2167\n",
      "Reached 1 requests for mixtral-8x7b-32768. Waiting for 30 seconds.\n"
     ]
    },
    {
     "name": "stderr",
     "output_type": "stream",
     "text": [
      "embedding nodes:  65%|██████▍   | 4305/6648 [1:41:53<3:28:03,  5.33s/it]"
     ]
    },
    {
     "name": "stdout",
     "output_type": "stream",
     "text": [
      "LLM: mixtral-8x7b-32768 | Request Count: 2169LLM: mixtral-8x7b-32768 | Request Count: 2168\n",
      "Reached 1 requests for mixtral-8x7b-32768. Waiting for 30 seconds.\n",
      "\n",
      "Reached 1 requests for mixtral-8x7b-32768. Waiting for 30 seconds.\n"
     ]
    },
    {
     "name": "stderr",
     "output_type": "stream",
     "text": [
      "embedding nodes:  65%|██████▍   | 4308/6648 [1:41:54<1:32:35,  2.37s/it]"
     ]
    },
    {
     "name": "stdout",
     "output_type": "stream",
     "text": [
      "LLM: mixtral-8x7b-32768 | Request Count: 2170\n",
      "Reached 1 requests for mixtral-8x7b-32768. Waiting for 30 seconds.\n"
     ]
    },
    {
     "name": "stderr",
     "output_type": "stream",
     "text": [
      "embedding nodes:  65%|██████▍   | 4310/6648 [1:41:56<1:05:56,  1.69s/it]"
     ]
    },
    {
     "name": "stdout",
     "output_type": "stream",
     "text": [
      "LLM: mixtral-8x7b-32768 | Request Count: 2171\n",
      "Reached 1 requests for mixtral-8x7b-32768. Waiting for 30 seconds.\n",
      "LLM: mixtral-8x7b-32768 | Request Count: 2172\n",
      "Reached 1 requests for mixtral-8x7b-32768. Waiting for 30 seconds.\n"
     ]
    },
    {
     "name": "stderr",
     "output_type": "stream",
     "text": [
      "embedding nodes:  65%|██████▍   | 4313/6648 [1:41:58<44:13,  1.14s/it]  "
     ]
    },
    {
     "name": "stdout",
     "output_type": "stream",
     "text": [
      "LLM: mixtral-8x7b-32768 | Request Count: 2173\n",
      "Reached 1 requests for mixtral-8x7b-32768. Waiting for 30 seconds.\n"
     ]
    },
    {
     "name": "stderr",
     "output_type": "stream",
     "text": [
      "embedding nodes:  65%|██████▍   | 4317/6648 [1:42:15<2:50:11,  4.38s/it]"
     ]
    },
    {
     "name": "stdout",
     "output_type": "stream",
     "text": [
      "LLM: mixtral-8x7b-32768 | Request Count: 2174\n",
      "Reached 1 requests for mixtral-8x7b-32768. Waiting for 30 seconds.\n",
      "LLM: mixtral-8x7b-32768 | Request Count: 2175\n",
      "Reached 1 requests for mixtral-8x7b-32768. Waiting for 30 seconds.\n"
     ]
    },
    {
     "name": "stderr",
     "output_type": "stream",
     "text": [
      "embedding nodes:  65%|██████▍   | 4319/6648 [1:42:16<1:51:24,  2.87s/it]"
     ]
    },
    {
     "name": "stdout",
     "output_type": "stream",
     "text": [
      "LLM: mixtral-8x7b-32768 | Request Count: 2176\n",
      "Reached 1 requests for mixtral-8x7b-32768. Waiting for 30 seconds.\n"
     ]
    },
    {
     "name": "stderr",
     "output_type": "stream",
     "text": [
      "embedding nodes:  65%|██████▌   | 4323/6648 [1:42:23<1:15:58,  1.96s/it]"
     ]
    },
    {
     "name": "stdout",
     "output_type": "stream",
     "text": [
      "LLM: mixtral-8x7b-32768 | Request Count: 2177\n",
      "Reached 1 requests for mixtral-8x7b-32768. Waiting for 30 seconds.\n",
      "LLM: mixtral-8x7b-32768 | Request Count: 2178\n",
      "Reached 1 requests for mixtral-8x7b-32768. Waiting for 30 seconds.\n",
      "LLM: mixtral-8x7b-32768 | Request Count: 2179\n",
      "Reached 1 requests for mixtral-8x7b-32768. Waiting for 30 seconds.\n"
     ]
    },
    {
     "name": "stderr",
     "output_type": "stream",
     "text": [
      "embedding nodes:  65%|██████▌   | 4326/6648 [1:42:26<55:33,  1.44s/it]  "
     ]
    },
    {
     "name": "stdout",
     "output_type": "stream",
     "text": [
      "LLM: mixtral-8x7b-32768 | Request Count: 2180\n",
      "Reached 1 requests for mixtral-8x7b-32768. Waiting for 30 seconds.\n"
     ]
    },
    {
     "name": "stderr",
     "output_type": "stream",
     "text": [
      "embedding nodes:  65%|██████▌   | 4327/6648 [1:42:26<43:10,  1.12s/it]"
     ]
    },
    {
     "name": "stdout",
     "output_type": "stream",
     "text": [
      "LLM: mixtral-8x7b-32768 | Request Count: 2181\n",
      "Reached 1 requests for mixtral-8x7b-32768. Waiting for 30 seconds.\n",
      "LLM: mixtral-8x7b-32768 | Request Count: 2182\n",
      "Reached 1 requests for mixtral-8x7b-32768. Waiting for 30 seconds.\n"
     ]
    },
    {
     "name": "stderr",
     "output_type": "stream",
     "text": [
      "embedding nodes:  65%|██████▌   | 4339/6648 [1:42:56<46:53,  1.22s/it]  "
     ]
    },
    {
     "name": "stdout",
     "output_type": "stream",
     "text": [
      "LLM: mixtral-8x7b-32768 | Request Count: 2183LLM: mixtral-8x7b-32768 | Request Count: 2184\n",
      "Reached 1 requests for mixtral-8x7b-32768. Waiting for 30 seconds.\n",
      "\n",
      "Reached 1 requests for mixtral-8x7b-32768. Waiting for 30 seconds.\n"
     ]
    },
    {
     "name": "stderr",
     "output_type": "stream",
     "text": [
      "embedding nodes:  65%|██████▌   | 4340/6648 [1:42:58<52:29,  1.36s/it]"
     ]
    },
    {
     "name": "stdout",
     "output_type": "stream",
     "text": [
      "LLM: mixtral-8x7b-32768 | Request Count: 2185\n",
      "Reached 1 requests for mixtral-8x7b-32768. Waiting for 30 seconds.\n",
      "LLM: mixtral-8x7b-32768 | Request Count: 2186\n",
      "Reached 1 requests for mixtral-8x7b-32768. Waiting for 30 seconds.\n",
      "LLM: mixtral-8x7b-32768 | Request Count: 2187\n",
      "Reached 1 requests for mixtral-8x7b-32768. Waiting for 30 seconds.\n"
     ]
    },
    {
     "name": "stderr",
     "output_type": "stream",
     "text": [
      "embedding nodes:  65%|██████▌   | 4344/6648 [1:43:21<2:10:26,  3.40s/it]"
     ]
    },
    {
     "name": "stdout",
     "output_type": "stream",
     "text": [
      "LLM: mixtral-8x7b-32768 | Request Count: 2188\n",
      "Reached 1 requests for mixtral-8x7b-32768. Waiting for 30 seconds.\n"
     ]
    },
    {
     "name": "stderr",
     "output_type": "stream",
     "text": [
      "embedding nodes:  65%|██████▌   | 4349/6648 [1:43:29<1:15:12,  1.96s/it]"
     ]
    },
    {
     "name": "stdout",
     "output_type": "stream",
     "text": [
      "LLM: mixtral-8x7b-32768 | Request Count: 2189LLM: mixtral-8x7b-32768 | Request Count: 2190\n",
      "Reached 1 requests for mixtral-8x7b-32768. Waiting for 30 seconds.\n",
      "\n",
      "Reached 1 requests for mixtral-8x7b-32768. Waiting for 30 seconds.\n"
     ]
    },
    {
     "name": "stderr",
     "output_type": "stream",
     "text": [
      "embedding nodes:  65%|██████▌   | 4350/6648 [1:43:31<1:09:55,  1.83s/it]"
     ]
    },
    {
     "name": "stdout",
     "output_type": "stream",
     "text": [
      "LLM: mixtral-8x7b-32768 | Request Count: 2191\n",
      "Reached 1 requests for mixtral-8x7b-32768. Waiting for 30 seconds.\n"
     ]
    },
    {
     "name": "stderr",
     "output_type": "stream",
     "text": [
      "embedding nodes:  65%|██████▌   | 4352/6648 [1:43:31<45:43,  1.20s/it]  "
     ]
    },
    {
     "name": "stdout",
     "output_type": "stream",
     "text": [
      "LLM: mixtral-8x7b-32768 | Request Count: 2192\n",
      "Reached 1 requests for mixtral-8x7b-32768. Waiting for 30 seconds.\n",
      "LLM: mixtral-8x7b-32768 | Request Count: 2193\n",
      "Reached 1 requests for mixtral-8x7b-32768. Waiting for 30 seconds.\n",
      "LLM: mixtral-8x7b-32768 | Request Count: 2194\n",
      "Reached 1 requests for mixtral-8x7b-32768. Waiting for 30 seconds.\n"
     ]
    },
    {
     "name": "stderr",
     "output_type": "stream",
     "text": [
      "embedding nodes:  66%|██████▌   | 4360/6648 [1:43:57<1:24:15,  2.21s/it]"
     ]
    },
    {
     "name": "stdout",
     "output_type": "stream",
     "text": [
      "LLM: mixtral-8x7b-32768 | Request Count: 2195\n",
      "Reached 1 requests for mixtral-8x7b-32768. Waiting for 30 seconds.\n",
      "LLM: mixtral-8x7b-32768 | Request Count: 2196\n",
      "Reached 1 requests for mixtral-8x7b-32768. Waiting for 30 seconds.\n"
     ]
    },
    {
     "name": "stderr",
     "output_type": "stream",
     "text": [
      "embedding nodes:  66%|██████▌   | 4361/6648 [1:44:00<1:28:29,  2.32s/it]"
     ]
    },
    {
     "name": "stdout",
     "output_type": "stream",
     "text": [
      "LLM: mixtral-8x7b-32768 | Request Count: 2197\n",
      "Reached 1 requests for mixtral-8x7b-32768. Waiting for 30 seconds.\n",
      "LLM: mixtral-8x7b-32768 | Request Count: 2198\n",
      "Reached 1 requests for mixtral-8x7b-32768. Waiting for 30 seconds.\n"
     ]
    },
    {
     "name": "stderr",
     "output_type": "stream",
     "text": [
      "embedding nodes:  66%|██████▌   | 4363/6648 [1:44:01<1:04:09,  1.68s/it]"
     ]
    },
    {
     "name": "stdout",
     "output_type": "stream",
     "text": [
      "LLM: mixtral-8x7b-32768 | Request Count: 2199\n",
      "Reached 1 requests for mixtral-8x7b-32768. Waiting for 30 seconds.\n",
      "LLM: mixtral-8x7b-32768 | Request Count: 2200\n",
      "Reached 1 requests for mixtral-8x7b-32768. Waiting for 30 seconds.\n"
     ]
    },
    {
     "name": "stderr",
     "output_type": "stream",
     "text": [
      "embedding nodes:  66%|██████▌   | 4371/6648 [1:44:28<2:08:22,  3.38s/it]"
     ]
    },
    {
     "name": "stdout",
     "output_type": "stream",
     "text": [
      "LLM: mixtral-8x7b-32768 | Request Count: 2201\n",
      "Reached 1 requests for mixtral-8x7b-32768. Waiting for 30 seconds.\n",
      "LLM: mixtral-8x7b-32768 | Request Count: 2202\n",
      "Reached 1 requests for mixtral-8x7b-32768. Waiting for 30 seconds.\n",
      "LLM: mixtral-8x7b-32768 | Request Count: 2203\n",
      "Reached 1 requests for mixtral-8x7b-32768. Waiting for 30 seconds.\n"
     ]
    },
    {
     "name": "stderr",
     "output_type": "stream",
     "text": [
      "embedding nodes:  66%|██████▌   | 4377/6648 [1:44:42<1:55:18,  3.05s/it]"
     ]
    },
    {
     "name": "stdout",
     "output_type": "stream",
     "text": [
      "LLM: mixtral-8x7b-32768 | Request Count: 2204\n",
      "Reached 1 requests for mixtral-8x7b-32768. Waiting for 30 seconds.\n",
      "LLM: mixtral-8x7b-32768 | Request Count: 2205\n",
      "Reached 1 requests for mixtral-8x7b-32768. Waiting for 30 seconds.\n",
      "LLM: mixtral-8x7b-32768 | Request Count: 2206\n",
      "Reached 1 requests for mixtral-8x7b-32768. Waiting for 30 seconds.\n"
     ]
    },
    {
     "name": "stderr",
     "output_type": "stream",
     "text": [
      "embedding nodes:  66%|██████▌   | 4383/6648 [1:44:57<1:36:55,  2.57s/it]"
     ]
    },
    {
     "name": "stdout",
     "output_type": "stream",
     "text": [
      "LLM: mixtral-8x7b-32768 | Request Count: 2207\n",
      "Reached 1 requests for mixtral-8x7b-32768. Waiting for 30 seconds.\n"
     ]
    },
    {
     "name": "stderr",
     "output_type": "stream",
     "text": [
      "embedding nodes:  66%|██████▌   | 4384/6648 [1:44:58<1:24:26,  2.24s/it]"
     ]
    },
    {
     "name": "stdout",
     "output_type": "stream",
     "text": [
      "LLM: mixtral-8x7b-32768 | Request Count: 2208\n",
      "Reached 1 requests for mixtral-8x7b-32768. Waiting for 30 seconds.\n"
     ]
    },
    {
     "name": "stderr",
     "output_type": "stream",
     "text": [
      "embedding nodes:  66%|██████▌   | 4385/6648 [1:45:00<1:21:20,  2.16s/it]"
     ]
    },
    {
     "name": "stdout",
     "output_type": "stream",
     "text": [
      "LLM: mixtral-8x7b-32768 | Request Count: 2209\n",
      "Reached 1 requests for mixtral-8x7b-32768. Waiting for 30 seconds.\n"
     ]
    },
    {
     "name": "stderr",
     "output_type": "stream",
     "text": [
      "embedding nodes:  66%|██████▌   | 4386/6648 [1:45:05<1:48:14,  2.87s/it]"
     ]
    },
    {
     "name": "stdout",
     "output_type": "stream",
     "text": [
      "LLM: mixtral-8x7b-32768 | Request Count: 2210\n",
      "Reached 1 requests for mixtral-8x7b-32768. Waiting for 30 seconds.\n",
      "LLM: mixtral-8x7b-32768 | Request Count: 2211\n",
      "Reached 1 requests for mixtral-8x7b-32768. Waiting for 30 seconds.\n",
      "LLM: mixtral-8x7b-32768 | Request Count: 2212\n",
      "Reached 1 requests for mixtral-8x7b-32768. Waiting for 30 seconds.\n"
     ]
    },
    {
     "name": "stderr",
     "output_type": "stream",
     "text": [
      "embedding nodes:  66%|██████▌   | 4396/6648 [1:45:29<1:34:23,  2.51s/it]"
     ]
    },
    {
     "name": "stdout",
     "output_type": "stream",
     "text": [
      "LLM: mixtral-8x7b-32768 | Request Count: 2213\n",
      "Reached 1 requests for mixtral-8x7b-32768. Waiting for 30 seconds.\n",
      "LLM: mixtral-8x7b-32768 | Request Count: 2214\n",
      "Reached 1 requests for mixtral-8x7b-32768. Waiting for 30 seconds.\n"
     ]
    },
    {
     "name": "stderr",
     "output_type": "stream",
     "text": [
      "embedding nodes:  66%|██████▌   | 4397/6648 [1:45:30<1:21:22,  2.17s/it]"
     ]
    },
    {
     "name": "stdout",
     "output_type": "stream",
     "text": [
      "LLM: mixtral-8x7b-32768 | Request Count: 2215\n",
      "Reached 1 requests for mixtral-8x7b-32768. Waiting for 30 seconds.\n"
     ]
    },
    {
     "name": "stderr",
     "output_type": "stream",
     "text": [
      "embedding nodes:  66%|██████▌   | 4398/6648 [1:45:35<1:53:35,  3.03s/it]"
     ]
    },
    {
     "name": "stdout",
     "output_type": "stream",
     "text": [
      "LLM: mixtral-8x7b-32768 | Request Count: 2216\n",
      "Reached 1 requests for mixtral-8x7b-32768. Waiting for 30 seconds.\n",
      "LLM: mixtral-8x7b-32768 | Request Count: 2217\n",
      "Reached 1 requests for mixtral-8x7b-32768. Waiting for 30 seconds.\n"
     ]
    },
    {
     "name": "stderr",
     "output_type": "stream",
     "text": [
      "embedding nodes:  66%|██████▋   | 4406/6648 [1:45:44<55:13,  1.48s/it]  "
     ]
    },
    {
     "name": "stdout",
     "output_type": "stream",
     "text": [
      "LLM: mixtral-8x7b-32768 | Request Count: 2218\n",
      "Reached 1 requests for mixtral-8x7b-32768. Waiting for 30 seconds.\n",
      "LLM: mixtral-8x7b-32768 | Request Count: 2219LLM: mixtral-8x7b-32768 | Request Count: 2220\n",
      "Reached 1 requests for mixtral-8x7b-32768. Waiting for 30 seconds.\n",
      "\n",
      "Reached 1 requests for mixtral-8x7b-32768. Waiting for 30 seconds.\n",
      "LLM: mixtral-8x7b-32768 | Request Count: 2221\n",
      "Reached 1 requests for mixtral-8x7b-32768. Waiting for 30 seconds.\n",
      "LLM: mixtral-8x7b-32768 | Request Count: 2222\n",
      "Reached 1 requests for mixtral-8x7b-32768. Waiting for 30 seconds.\n"
     ]
    },
    {
     "name": "stderr",
     "output_type": "stream",
     "text": [
      "embedding nodes:  66%|██████▋   | 4415/6648 [1:46:04<56:17,  1.51s/it]  "
     ]
    },
    {
     "name": "stdout",
     "output_type": "stream",
     "text": [
      "LLM: mixtral-8x7b-32768 | Request Count: 2223\n",
      "Reached 1 requests for mixtral-8x7b-32768. Waiting for 30 seconds.\n"
     ]
    },
    {
     "name": "stderr",
     "output_type": "stream",
     "text": [
      "embedding nodes:  66%|██████▋   | 4416/6648 [1:46:05<59:45,  1.61s/it]"
     ]
    },
    {
     "name": "stdout",
     "output_type": "stream",
     "text": [
      "LLM: mixtral-8x7b-32768 | Request Count: 2224\n",
      "Reached 1 requests for mixtral-8x7b-32768. Waiting for 30 seconds.\n",
      "LLM: mixtral-8x7b-32768 | Request Count: 2225\n",
      "Reached 1 requests for mixtral-8x7b-32768. Waiting for 30 seconds.\n"
     ]
    },
    {
     "name": "stderr",
     "output_type": "stream",
     "text": [
      "embedding nodes:  66%|██████▋   | 4418/6648 [1:46:14<1:43:39,  2.79s/it]"
     ]
    },
    {
     "name": "stdout",
     "output_type": "stream",
     "text": [
      "LLM: mixtral-8x7b-32768 | Request Count: 2226\n",
      "Reached 1 requests for mixtral-8x7b-32768. Waiting for 30 seconds.\n",
      "LLM: mixtral-8x7b-32768 | Request Count: 2227\n",
      "Reached 1 requests for mixtral-8x7b-32768. Waiting for 30 seconds.\n"
     ]
    },
    {
     "name": "stderr",
     "output_type": "stream",
     "text": [
      "embedding nodes:  67%|██████▋   | 4424/6648 [1:46:29<1:38:12,  2.65s/it]"
     ]
    },
    {
     "name": "stdout",
     "output_type": "stream",
     "text": [
      "LLM: mixtral-8x7b-32768 | Request Count: 2228LLM: mixtral-8x7b-32768 | Request Count: 2229\n",
      "Reached 1 requests for mixtral-8x7b-32768. Waiting for 30 seconds.\n",
      "\n",
      "Reached 1 requests for mixtral-8x7b-32768. Waiting for 30 seconds.\n",
      "LLM: mixtral-8x7b-32768 | Request Count: 2230\n",
      "Reached 1 requests for mixtral-8x7b-32768. Waiting for 30 seconds.\n"
     ]
    },
    {
     "name": "stderr",
     "output_type": "stream",
     "text": [
      "embedding nodes:  67%|██████▋   | 4428/6648 [1:46:35<1:11:45,  1.94s/it]"
     ]
    },
    {
     "name": "stdout",
     "output_type": "stream",
     "text": [
      "LLM: mixtral-8x7b-32768 | Request Count: 2231\n",
      "Reached 1 requests for mixtral-8x7b-32768. Waiting for 30 seconds.\n",
      "LLM: mixtral-8x7b-32768 | Request Count: 2232\n",
      "Reached 1 requests for mixtral-8x7b-32768. Waiting for 30 seconds.\n",
      "LLM: mixtral-8x7b-32768 | Request Count: 2233\n",
      "Reached 1 requests for mixtral-8x7b-32768. Waiting for 30 seconds.\n"
     ]
    },
    {
     "name": "stderr",
     "output_type": "stream",
     "text": [
      "embedding nodes:  67%|██████▋   | 4437/6648 [1:46:56<1:54:08,  3.10s/it]"
     ]
    },
    {
     "name": "stdout",
     "output_type": "stream",
     "text": [
      "LLM: mixtral-8x7b-32768 | Request Count: 2234\n",
      "Reached 1 requests for mixtral-8x7b-32768. Waiting for 30 seconds.\n"
     ]
    },
    {
     "name": "stderr",
     "output_type": "stream",
     "text": [
      "embedding nodes:  67%|██████▋   | 4438/6648 [1:47:01<2:11:18,  3.56s/it]"
     ]
    },
    {
     "name": "stdout",
     "output_type": "stream",
     "text": [
      "LLM: mixtral-8x7b-32768 | Request Count: 2235LLM: mixtral-8x7b-32768 | Request Count: 2236\n",
      "Reached 1 requests for mixtral-8x7b-32768. Waiting for 30 seconds.\n",
      "\n",
      "Reached 1 requests for mixtral-8x7b-32768. Waiting for 30 seconds.\n"
     ]
    },
    {
     "name": "stderr",
     "output_type": "stream",
     "text": [
      "embedding nodes:  67%|██████▋   | 4442/6648 [1:47:02<50:46,  1.38s/it]  "
     ]
    },
    {
     "name": "stdout",
     "output_type": "stream",
     "text": [
      "LLM: mixtral-8x7b-32768 | Request Count: 2237\n",
      "Reached 1 requests for mixtral-8x7b-32768. Waiting for 30 seconds.\n",
      "LLM: mixtral-8x7b-32768 | Request Count: 2238\n",
      "Reached 1 requests for mixtral-8x7b-32768. Waiting for 30 seconds.\n"
     ]
    },
    {
     "name": "stderr",
     "output_type": "stream",
     "text": [
      "embedding nodes:  67%|██████▋   | 4448/6648 [1:47:06<26:24,  1.39it/s]  "
     ]
    },
    {
     "name": "stdout",
     "output_type": "stream",
     "text": [
      "LLM: mixtral-8x7b-32768 | Request Count: 2239\n",
      "Reached 1 requests for mixtral-8x7b-32768. Waiting for 30 seconds.\n"
     ]
    },
    {
     "name": "stderr",
     "output_type": "stream",
     "text": [
      "embedding nodes:  67%|██████▋   | 4449/6648 [1:47:20<2:16:32,  3.73s/it]"
     ]
    },
    {
     "name": "stdout",
     "output_type": "stream",
     "text": [
      "LLM: mixtral-8x7b-32768 | Request Count: 2240\n",
      "Reached 1 requests for mixtral-8x7b-32768. Waiting for 30 seconds.\n"
     ]
    },
    {
     "name": "stderr",
     "output_type": "stream",
     "text": [
      "embedding nodes:  67%|██████▋   | 4451/6648 [1:47:21<1:24:56,  2.32s/it]"
     ]
    },
    {
     "name": "stdout",
     "output_type": "stream",
     "text": [
      "LLM: mixtral-8x7b-32768 | Request Count: 2241\n",
      "Reached 1 requests for mixtral-8x7b-32768. Waiting for 30 seconds.\n",
      "LLM: mixtral-8x7b-32768 | Request Count: 2242\n",
      "Reached 1 requests for mixtral-8x7b-32768. Waiting for 30 seconds.\n"
     ]
    },
    {
     "name": "stderr",
     "output_type": "stream",
     "text": [
      "embedding nodes:  67%|██████▋   | 4452/6648 [1:47:21<1:05:40,  1.79s/it]"
     ]
    },
    {
     "name": "stdout",
     "output_type": "stream",
     "text": [
      "LLM: mixtral-8x7b-32768 | Request Count: 2243\n",
      "Reached 1 requests for mixtral-8x7b-32768. Waiting for 30 seconds.\n"
     ]
    },
    {
     "name": "stderr",
     "output_type": "stream",
     "text": [
      "embedding nodes:  67%|██████▋   | 4459/6648 [1:47:32<47:17,  1.30s/it]  "
     ]
    },
    {
     "name": "stdout",
     "output_type": "stream",
     "text": [
      "LLM: mixtral-8x7b-32768 | Request Count: 2244\n",
      "Reached 1 requests for mixtral-8x7b-32768. Waiting for 30 seconds.\n"
     ]
    },
    {
     "name": "stderr",
     "output_type": "stream",
     "text": [
      "embedding nodes:  67%|██████▋   | 4460/6648 [1:47:36<1:16:20,  2.09s/it]"
     ]
    },
    {
     "name": "stdout",
     "output_type": "stream",
     "text": [
      "LLM: mixtral-8x7b-32768 | Request Count: 2245\n",
      "Reached 1 requests for mixtral-8x7b-32768. Waiting for 30 seconds.\n",
      "LLM: mixtral-8x7b-32768 | Request Count: 2246\n",
      "Reached 1 requests for mixtral-8x7b-32768. Waiting for 30 seconds.\n"
     ]
    },
    {
     "name": "stderr",
     "output_type": "stream",
     "text": [
      "embedding nodes:  67%|██████▋   | 4462/6648 [1:47:37<47:05,  1.29s/it]  "
     ]
    },
    {
     "name": "stdout",
     "output_type": "stream",
     "text": [
      "LLM: mixtral-8x7b-32768 | Request Count: 2247\n",
      "Reached 1 requests for mixtral-8x7b-32768. Waiting for 30 seconds.\n"
     ]
    },
    {
     "name": "stderr",
     "output_type": "stream",
     "text": [
      "embedding nodes:  67%|██████▋   | 4463/6648 [1:47:45<1:42:57,  2.83s/it]"
     ]
    },
    {
     "name": "stdout",
     "output_type": "stream",
     "text": [
      "LLM: mixtral-8x7b-32768 | Request Count: 2248\n",
      "Reached 1 requests for mixtral-8x7b-32768. Waiting for 30 seconds.\n"
     ]
    },
    {
     "name": "stderr",
     "output_type": "stream",
     "text": [
      "embedding nodes:  67%|██████▋   | 4467/6648 [1:47:50<50:59,  1.40s/it]  "
     ]
    },
    {
     "name": "stdout",
     "output_type": "stream",
     "text": [
      "LLM: mixtral-8x7b-32768 | Request Count: 2249\n",
      "Reached 1 requests for mixtral-8x7b-32768. Waiting for 30 seconds.\n"
     ]
    },
    {
     "name": "stderr",
     "output_type": "stream",
     "text": [
      "embedding nodes:  67%|██████▋   | 4469/6648 [1:47:51<36:18,  1.00it/s]"
     ]
    },
    {
     "name": "stdout",
     "output_type": "stream",
     "text": [
      "LLM: mixtral-8x7b-32768 | Request Count: 2250\n",
      "Reached 1 requests for mixtral-8x7b-32768. Waiting for 30 seconds.\n",
      "LLM: mixtral-8x7b-32768 | Request Count: 2251\n",
      "Reached 1 requests for mixtral-8x7b-32768. Waiting for 30 seconds.\n"
     ]
    },
    {
     "name": "stderr",
     "output_type": "stream",
     "text": [
      "embedding nodes:  67%|██████▋   | 4470/6648 [1:47:51<29:46,  1.22it/s]"
     ]
    },
    {
     "name": "stdout",
     "output_type": "stream",
     "text": [
      "LLM: mixtral-8x7b-32768 | Request Count: 2252\n",
      "Reached 1 requests for mixtral-8x7b-32768. Waiting for 30 seconds.\n"
     ]
    },
    {
     "name": "stderr",
     "output_type": "stream",
     "text": [
      "embedding nodes:  67%|██████▋   | 4471/6648 [1:48:03<2:24:06,  3.97s/it]"
     ]
    },
    {
     "name": "stdout",
     "output_type": "stream",
     "text": [
      "LLM: mixtral-8x7b-32768 | Request Count: 2253\n",
      "Reached 1 requests for mixtral-8x7b-32768. Waiting for 30 seconds.\n"
     ]
    },
    {
     "name": "stderr",
     "output_type": "stream",
     "text": [
      "embedding nodes:  67%|██████▋   | 4477/6648 [1:48:07<36:50,  1.02s/it]  "
     ]
    },
    {
     "name": "stdout",
     "output_type": "stream",
     "text": [
      "LLM: mixtral-8x7b-32768 | Request Count: 2254\n",
      "Reached 1 requests for mixtral-8x7b-32768. Waiting for 30 seconds.\n"
     ]
    },
    {
     "name": "stderr",
     "output_type": "stream",
     "text": [
      "embedding nodes:  67%|██████▋   | 4479/6648 [1:48:20<2:08:58,  3.57s/it]"
     ]
    },
    {
     "name": "stdout",
     "output_type": "stream",
     "text": [
      "LLM: mixtral-8x7b-32768 | Request Count: 2255\n",
      "Reached 1 requests for mixtral-8x7b-32768. Waiting for 30 seconds.\n",
      "LLM: mixtral-8x7b-32768 | Request Count: 2256\n",
      "Reached 1 requests for mixtral-8x7b-32768. Waiting for 30 seconds.\n",
      "LLM: mixtral-8x7b-32768 | Request Count: 2257\n",
      "Reached 1 requests for mixtral-8x7b-32768. Waiting for 30 seconds.\n"
     ]
    },
    {
     "name": "stderr",
     "output_type": "stream",
     "text": [
      "embedding nodes:  68%|██████▊   | 4488/6648 [1:48:21<23:28,  1.53it/s]  "
     ]
    },
    {
     "name": "stdout",
     "output_type": "stream",
     "text": [
      "LLM: mixtral-8x7b-32768 | Request Count: 2258\n",
      "Reached 1 requests for mixtral-8x7b-32768. Waiting for 30 seconds.\n",
      "LLM: mixtral-8x7b-32768 | Request Count: 2259\n",
      "Reached 1 requests for mixtral-8x7b-32768. Waiting for 30 seconds.\n"
     ]
    },
    {
     "name": "stderr",
     "output_type": "stream",
     "text": [
      "embedding nodes:  68%|██████▊   | 4489/6648 [1:48:33<1:41:23,  2.82s/it]"
     ]
    },
    {
     "name": "stdout",
     "output_type": "stream",
     "text": [
      "LLM: mixtral-8x7b-32768 | Request Count: 2260\n",
      "Reached 1 requests for mixtral-8x7b-32768. Waiting for 30 seconds.\n",
      "LLM: mixtral-8x7b-32768 | Request Count: 2261LLM: mixtral-8x7b-32768 | Request Count: 2262\n",
      "Reached 1 requests for mixtral-8x7b-32768. Waiting for 30 seconds.\n",
      "\n",
      "Reached 1 requests for mixtral-8x7b-32768. Waiting for 30 seconds.\n",
      "LLM: mixtral-8x7b-32768 | Request Count: 2263\n",
      "Reached 1 requests for mixtral-8x7b-32768. Waiting for 30 seconds.\n"
     ]
    },
    {
     "name": "stderr",
     "output_type": "stream",
     "text": [
      "embedding nodes:  68%|██████▊   | 4497/6648 [1:48:50<1:13:15,  2.04s/it]"
     ]
    },
    {
     "name": "stdout",
     "output_type": "stream",
     "text": [
      "LLM: mixtral-8x7b-32768 | Request Count: 2264\n",
      "Reached 1 requests for mixtral-8x7b-32768. Waiting for 30 seconds.\n",
      "LLM: mixtral-8x7b-32768 | Request Count: 2265\n",
      "Reached 1 requests for mixtral-8x7b-32768. Waiting for 30 seconds.\n"
     ]
    },
    {
     "name": "stderr",
     "output_type": "stream",
     "text": [
      "embedding nodes:  68%|██████▊   | 4499/6648 [1:48:52<55:59,  1.56s/it]  "
     ]
    },
    {
     "name": "stdout",
     "output_type": "stream",
     "text": [
      "LLM: mixtral-8x7b-32768 | Request Count: 2266\n",
      "Reached 1 requests for mixtral-8x7b-32768. Waiting for 30 seconds.\n",
      "LLM: mixtral-8x7b-32768 | Request Count: 2267\n",
      "Reached 1 requests for mixtral-8x7b-32768. Waiting for 30 seconds.\n"
     ]
    },
    {
     "name": "stderr",
     "output_type": "stream",
     "text": [
      "embedding nodes:  68%|██████▊   | 4502/6648 [1:48:56<51:34,  1.44s/it]  "
     ]
    },
    {
     "name": "stdout",
     "output_type": "stream",
     "text": [
      "LLM: mixtral-8x7b-32768 | Request Count: 2268\n",
      "Reached 1 requests for mixtral-8x7b-32768. Waiting for 30 seconds.\n",
      "LLM: mixtral-8x7b-32768 | Request Count: 2269\n",
      "Reached 1 requests for mixtral-8x7b-32768. Waiting for 30 seconds.\n"
     ]
    },
    {
     "name": "stderr",
     "output_type": "stream",
     "text": [
      "embedding nodes:  68%|██████▊   | 4510/6648 [1:49:17<1:13:48,  2.07s/it]"
     ]
    },
    {
     "name": "stdout",
     "output_type": "stream",
     "text": [
      "LLM: mixtral-8x7b-32768 | Request Count: 2270\n",
      "Reached 1 requests for mixtral-8x7b-32768. Waiting for 30 seconds.\n",
      "LLM: mixtral-8x7b-32768 | Request Count: 2271\n",
      "Reached 1 requests for mixtral-8x7b-32768. Waiting for 30 seconds.\n"
     ]
    },
    {
     "name": "stderr",
     "output_type": "stream",
     "text": [
      "embedding nodes:  68%|██████▊   | 4511/6648 [1:49:19<1:09:44,  1.96s/it]"
     ]
    },
    {
     "name": "stdout",
     "output_type": "stream",
     "text": [
      "LLM: mixtral-8x7b-32768 | Request Count: 2272\n",
      "Reached 1 requests for mixtral-8x7b-32768. Waiting for 30 seconds.\n"
     ]
    },
    {
     "name": "stderr",
     "output_type": "stream",
     "text": [
      "embedding nodes:  68%|██████▊   | 4512/6648 [1:49:21<1:08:18,  1.92s/it]"
     ]
    },
    {
     "name": "stdout",
     "output_type": "stream",
     "text": [
      "LLM: mixtral-8x7b-32768 | Request Count: 2273\n",
      "Reached 1 requests for mixtral-8x7b-32768. Waiting for 30 seconds.\n",
      "LLM: mixtral-8x7b-32768 | Request Count: 2274\n",
      "Reached 1 requests for mixtral-8x7b-32768. Waiting for 30 seconds.\n",
      "LLM: mixtral-8x7b-32768 | Request Count: 2275\n",
      "Reached 1 requests for mixtral-8x7b-32768. Waiting for 30 seconds.\n"
     ]
    },
    {
     "name": "stderr",
     "output_type": "stream",
     "text": [
      "embedding nodes:  68%|██████▊   | 4519/6648 [1:49:26<47:56,  1.35s/it]  "
     ]
    },
    {
     "name": "stdout",
     "output_type": "stream",
     "text": [
      "LLM: mixtral-8x7b-32768 | Request Count: 2276\n",
      "Reached 1 requests for mixtral-8x7b-32768. Waiting for 30 seconds.\n"
     ]
    },
    {
     "name": "stderr",
     "output_type": "stream",
     "text": [
      "embedding nodes:  68%|██████▊   | 4521/6648 [1:49:33<1:25:13,  2.40s/it]"
     ]
    },
    {
     "name": "stdout",
     "output_type": "stream",
     "text": [
      "LLM: mixtral-8x7b-32768 | Request Count: 2277\n",
      "Reached 1 requests for mixtral-8x7b-32768. Waiting for 30 seconds.\n",
      "LLM: mixtral-8x7b-32768 | Request Count: 2278\n",
      "Reached 1 requests for mixtral-8x7b-32768. Waiting for 30 seconds.\n"
     ]
    },
    {
     "name": "stderr",
     "output_type": "stream",
     "text": [
      "embedding nodes:  68%|██████▊   | 4526/6648 [1:49:45<1:43:31,  2.93s/it]"
     ]
    },
    {
     "name": "stdout",
     "output_type": "stream",
     "text": [
      "LLM: mixtral-8x7b-32768 | Request Count: 2279\n",
      "Reached 1 requests for mixtral-8x7b-32768. Waiting for 30 seconds.\n"
     ]
    },
    {
     "name": "stderr",
     "output_type": "stream",
     "text": [
      "embedding nodes:  68%|██████▊   | 4528/6648 [1:49:48<1:25:15,  2.41s/it]"
     ]
    },
    {
     "name": "stdout",
     "output_type": "stream",
     "text": [
      "LLM: mixtral-8x7b-32768 | Request Count: 2280LLM: mixtral-8x7b-32768 | Request Count: 2281\n",
      "Reached 1 requests for mixtral-8x7b-32768. Waiting for 30 seconds.\n",
      "\n",
      "Reached 1 requests for mixtral-8x7b-32768. Waiting for 30 seconds.\n"
     ]
    },
    {
     "name": "stderr",
     "output_type": "stream",
     "text": [
      "embedding nodes:  68%|██████▊   | 4530/6648 [1:49:49<1:00:24,  1.71s/it]"
     ]
    },
    {
     "name": "stdout",
     "output_type": "stream",
     "text": [
      "LLM: mixtral-8x7b-32768 | Request Count: 2282\n",
      "Reached 1 requests for mixtral-8x7b-32768. Waiting for 30 seconds.\n"
     ]
    },
    {
     "name": "stderr",
     "output_type": "stream",
     "text": [
      "embedding nodes:  68%|██████▊   | 4531/6648 [1:49:51<1:01:53,  1.75s/it]"
     ]
    },
    {
     "name": "stdout",
     "output_type": "stream",
     "text": [
      "LLM: mixtral-8x7b-32768 | Request Count: 2283\n",
      "Reached 1 requests for mixtral-8x7b-32768. Waiting for 30 seconds.\n"
     ]
    },
    {
     "name": "stderr",
     "output_type": "stream",
     "text": [
      "embedding nodes:  68%|██████▊   | 4536/6648 [1:49:59<1:06:38,  1.89s/it]"
     ]
    },
    {
     "name": "stdout",
     "output_type": "stream",
     "text": [
      "LLM: mixtral-8x7b-32768 | Request Count: 2284\n",
      "Reached 1 requests for mixtral-8x7b-32768. Waiting for 30 seconds.\n"
     ]
    },
    {
     "name": "stderr",
     "output_type": "stream",
     "text": [
      "embedding nodes:  68%|██████▊   | 4538/6648 [1:50:03<1:03:51,  1.82s/it]"
     ]
    },
    {
     "name": "stdout",
     "output_type": "stream",
     "text": [
      "LLM: mixtral-8x7b-32768 | Request Count: 2285\n",
      "Reached 1 requests for mixtral-8x7b-32768. Waiting for 30 seconds.\n"
     ]
    },
    {
     "name": "stderr",
     "output_type": "stream",
     "text": [
      "embedding nodes:  68%|██████▊   | 4539/6648 [1:50:05<58:56,  1.68s/it]  "
     ]
    },
    {
     "name": "stdout",
     "output_type": "stream",
     "text": [
      "LLM: mixtral-8x7b-32768 | Request Count: 2286\n",
      "Reached 1 requests for mixtral-8x7b-32768. Waiting for 30 seconds.\n",
      "LLM: mixtral-8x7b-32768 | Request Count: 2287\n",
      "Reached 1 requests for mixtral-8x7b-32768. Waiting for 30 seconds.\n"
     ]
    },
    {
     "name": "stderr",
     "output_type": "stream",
     "text": [
      "embedding nodes:  68%|██████▊   | 4547/6648 [1:50:18<49:05,  1.40s/it]  "
     ]
    },
    {
     "name": "stdout",
     "output_type": "stream",
     "text": [
      "LLM: mixtral-8x7b-32768 | Request Count: 2288\n",
      "Reached 1 requests for mixtral-8x7b-32768. Waiting for 30 seconds.\n",
      "LLM: mixtral-8x7b-32768 | Request Count: 2289\n",
      "Reached 1 requests for mixtral-8x7b-32768. Waiting for 30 seconds.\n"
     ]
    },
    {
     "name": "stderr",
     "output_type": "stream",
     "text": [
      "embedding nodes:  68%|██████▊   | 4550/6648 [1:50:21<41:14,  1.18s/it]"
     ]
    },
    {
     "name": "stdout",
     "output_type": "stream",
     "text": [
      "LLM: mixtral-8x7b-32768 | Request Count: 2290\n",
      "Reached 1 requests for mixtral-8x7b-32768. Waiting for 30 seconds.\n"
     ]
    },
    {
     "name": "stderr",
     "output_type": "stream",
     "text": [
      "embedding nodes:  68%|██████▊   | 4551/6648 [1:50:22<41:26,  1.19s/it]"
     ]
    },
    {
     "name": "stdout",
     "output_type": "stream",
     "text": [
      "LLM: mixtral-8x7b-32768 | Request Count: 2291\n",
      "Reached 1 requests for mixtral-8x7b-32768. Waiting for 30 seconds.\n",
      "LLM: mixtral-8x7b-32768 | Request Count: 2292\n",
      "Reached 1 requests for mixtral-8x7b-32768. Waiting for 30 seconds.\n"
     ]
    },
    {
     "name": "stderr",
     "output_type": "stream",
     "text": [
      "embedding nodes:  68%|██████▊   | 4553/6648 [1:50:28<1:04:46,  1.86s/it]"
     ]
    },
    {
     "name": "stdout",
     "output_type": "stream",
     "text": [
      "LLM: mixtral-8x7b-32768 | Request Count: 2293\n",
      "Reached 1 requests for mixtral-8x7b-32768. Waiting for 30 seconds.\n"
     ]
    },
    {
     "name": "stderr",
     "output_type": "stream",
     "text": [
      "embedding nodes:  69%|██████▊   | 4560/6648 [1:50:35<41:17,  1.19s/it]  "
     ]
    },
    {
     "name": "stdout",
     "output_type": "stream",
     "text": [
      "LLM: mixtral-8x7b-32768 | Request Count: 2294\n",
      "Reached 1 requests for mixtral-8x7b-32768. Waiting for 30 seconds.\n"
     ]
    },
    {
     "name": "stderr",
     "output_type": "stream",
     "text": [
      "embedding nodes:  69%|██████▊   | 4562/6648 [1:50:39<47:52,  1.38s/it]"
     ]
    },
    {
     "name": "stdout",
     "output_type": "stream",
     "text": [
      "LLM: mixtral-8x7b-32768 | Request Count: 2295\n",
      "Reached 1 requests for mixtral-8x7b-32768. Waiting for 30 seconds.\n",
      "LLM: mixtral-8x7b-32768 | Request Count: 2296\n",
      "Reached 1 requests for mixtral-8x7b-32768. Waiting for 30 seconds.\n"
     ]
    },
    {
     "name": "stderr",
     "output_type": "stream",
     "text": [
      "embedding nodes:  69%|██████▊   | 4563/6648 [1:50:44<1:09:48,  2.01s/it]"
     ]
    },
    {
     "name": "stdout",
     "output_type": "stream",
     "text": [
      "LLM: mixtral-8x7b-32768 | Request Count: 2297\n",
      "Reached 1 requests for mixtral-8x7b-32768. Waiting for 30 seconds.\n",
      "LLM: mixtral-8x7b-32768 | Request Count: 2298\n",
      "Reached 1 requests for mixtral-8x7b-32768. Waiting for 30 seconds.\n",
      "LLM: mixtral-8x7b-32768 | Request Count: 2299\n",
      "Reached 1 requests for mixtral-8x7b-32768. Waiting for 30 seconds.\n"
     ]
    },
    {
     "name": "stderr",
     "output_type": "stream",
     "text": [
      "embedding nodes:  69%|██████▊   | 4569/6648 [1:50:52<53:34,  1.55s/it]  "
     ]
    },
    {
     "name": "stdout",
     "output_type": "stream",
     "text": [
      "LLM: mixtral-8x7b-32768 | Request Count: 2300\n",
      "Reached 1 requests for mixtral-8x7b-32768. Waiting for 30 seconds.\n"
     ]
    },
    {
     "name": "stderr",
     "output_type": "stream",
     "text": [
      "embedding nodes:  69%|██████▉   | 4571/6648 [1:50:54<44:48,  1.29s/it]"
     ]
    },
    {
     "name": "stdout",
     "output_type": "stream",
     "text": [
      "LLM: mixtral-8x7b-32768 | Request Count: 2301\n",
      "Reached 1 requests for mixtral-8x7b-32768. Waiting for 30 seconds.\n"
     ]
    },
    {
     "name": "stderr",
     "output_type": "stream",
     "text": [
      "embedding nodes:  69%|██████▉   | 4572/6648 [1:50:58<1:03:11,  1.83s/it]"
     ]
    },
    {
     "name": "stdout",
     "output_type": "stream",
     "text": [
      "LLM: mixtral-8x7b-32768 | Request Count: 2302\n",
      "Reached 1 requests for mixtral-8x7b-32768. Waiting for 30 seconds.\n"
     ]
    },
    {
     "name": "stderr",
     "output_type": "stream",
     "text": [
      "embedding nodes:  69%|██████▉   | 4576/6648 [1:51:07<1:18:15,  2.27s/it]"
     ]
    },
    {
     "name": "stdout",
     "output_type": "stream",
     "text": [
      "LLM: mixtral-8x7b-32768 | Request Count: 2303\n",
      "Reached 1 requests for mixtral-8x7b-32768. Waiting for 30 seconds.\n",
      "LLM: mixtral-8x7b-32768 | Request Count: 2304\n",
      "Reached 1 requests for mixtral-8x7b-32768. Waiting for 30 seconds.\n"
     ]
    },
    {
     "name": "stderr",
     "output_type": "stream",
     "text": [
      "embedding nodes:  69%|██████▉   | 4579/6648 [1:51:09<37:48,  1.10s/it]  "
     ]
    },
    {
     "name": "stdout",
     "output_type": "stream",
     "text": [
      "LLM: mixtral-8x7b-32768 | Request Count: 2305\n",
      "Reached 1 requests for mixtral-8x7b-32768. Waiting for 30 seconds.\n",
      "LLM: mixtral-8x7b-32768 | Request Count: 2306\n",
      "Reached 1 requests for mixtral-8x7b-32768. Waiting for 30 seconds.\n"
     ]
    },
    {
     "name": "stderr",
     "output_type": "stream",
     "text": [
      "embedding nodes:  69%|██████▉   | 4585/6648 [1:51:14<26:53,  1.28it/s]"
     ]
    },
    {
     "name": "stdout",
     "output_type": "stream",
     "text": [
      "LLM: mixtral-8x7b-32768 | Request Count: 2307\n",
      "Reached 1 requests for mixtral-8x7b-32768. Waiting for 30 seconds.\n",
      "LLM: mixtral-8x7b-32768 | Request Count: 2308\n",
      "Reached 1 requests for mixtral-8x7b-32768. Waiting for 30 seconds.\n",
      "LLM: mixtral-8x7b-32768 | Request Count: 2309\n",
      "Reached 1 requests for mixtral-8x7b-32768. Waiting for 30 seconds.\n"
     ]
    },
    {
     "name": "stderr",
     "output_type": "stream",
     "text": [
      "embedding nodes:  69%|██████▉   | 4586/6648 [1:51:14<25:22,  1.35it/s]"
     ]
    },
    {
     "name": "stdout",
     "output_type": "stream",
     "text": [
      "LLM: mixtral-8x7b-32768 | Request Count: 2310\n",
      "Reached 1 requests for mixtral-8x7b-32768. Waiting for 30 seconds.\n"
     ]
    },
    {
     "name": "stderr",
     "output_type": "stream",
     "text": [
      "embedding nodes:  69%|██████▉   | 4591/6648 [1:51:26<48:27,  1.41s/it]  "
     ]
    },
    {
     "name": "stdout",
     "output_type": "stream",
     "text": [
      "LLM: mixtral-8x7b-32768 | Request Count: 2311\n",
      "Reached 1 requests for mixtral-8x7b-32768. Waiting for 30 seconds.\n"
     ]
    },
    {
     "name": "stderr",
     "output_type": "stream",
     "text": [
      "embedding nodes:  69%|██████▉   | 4592/6648 [1:51:27<48:17,  1.41s/it]"
     ]
    },
    {
     "name": "stdout",
     "output_type": "stream",
     "text": [
      "LLM: mixtral-8x7b-32768 | Request Count: 2312\n",
      "Reached 1 requests for mixtral-8x7b-32768. Waiting for 30 seconds.\n"
     ]
    },
    {
     "name": "stderr",
     "output_type": "stream",
     "text": [
      "embedding nodes:  69%|██████▉   | 4594/6648 [1:51:28<29:25,  1.16it/s]"
     ]
    },
    {
     "name": "stdout",
     "output_type": "stream",
     "text": [
      "LLM: mixtral-8x7b-32768 | Request Count: 2313\n",
      "Reached 1 requests for mixtral-8x7b-32768. Waiting for 30 seconds.\n"
     ]
    },
    {
     "name": "stderr",
     "output_type": "stream",
     "text": [
      "embedding nodes:  69%|██████▉   | 4595/6648 [1:51:30<40:40,  1.19s/it]"
     ]
    },
    {
     "name": "stdout",
     "output_type": "stream",
     "text": [
      "LLM: mixtral-8x7b-32768 | Request Count: 2314\n",
      "Reached 1 requests for mixtral-8x7b-32768. Waiting for 30 seconds.\n"
     ]
    },
    {
     "name": "stderr",
     "output_type": "stream",
     "text": [
      "embedding nodes:  69%|██████▉   | 4600/6648 [1:51:44<1:13:04,  2.14s/it]"
     ]
    },
    {
     "name": "stdout",
     "output_type": "stream",
     "text": [
      "LLM: mixtral-8x7b-32768 | Request Count: 2315\n",
      "Reached 1 requests for mixtral-8x7b-32768. Waiting for 30 seconds.\n",
      "LLM: mixtral-8x7b-32768 | Request Count: 2316\n",
      "Reached 1 requests for mixtral-8x7b-32768. Waiting for 30 seconds.\n",
      "LLM: mixtral-8x7b-32768 | Request Count: 2317\n",
      "Reached 1 requests for mixtral-8x7b-32768. Waiting for 30 seconds.\n"
     ]
    },
    {
     "name": "stderr",
     "output_type": "stream",
     "text": [
      "embedding nodes:  69%|██████▉   | 4603/6648 [1:51:44<40:54,  1.20s/it]  "
     ]
    },
    {
     "name": "stdout",
     "output_type": "stream",
     "text": [
      "LLM: mixtral-8x7b-32768 | Request Count: 2318\n",
      "Reached 1 requests for mixtral-8x7b-32768. Waiting for 30 seconds.\n"
     ]
    },
    {
     "name": "stderr",
     "output_type": "stream",
     "text": [
      "embedding nodes:  69%|██████▉   | 4607/6648 [1:51:56<1:08:14,  2.01s/it]"
     ]
    },
    {
     "name": "stdout",
     "output_type": "stream",
     "text": [
      "LLM: mixtral-8x7b-32768 | Request Count: 2319\n",
      "Reached 1 requests for mixtral-8x7b-32768. Waiting for 30 seconds.\n"
     ]
    },
    {
     "name": "stderr",
     "output_type": "stream",
     "text": [
      "embedding nodes:  69%|██████▉   | 4608/6648 [1:51:57<1:03:09,  1.86s/it]"
     ]
    },
    {
     "name": "stdout",
     "output_type": "stream",
     "text": [
      "LLM: mixtral-8x7b-32768 | Request Count: 2320\n",
      "Reached 1 requests for mixtral-8x7b-32768. Waiting for 30 seconds.\n"
     ]
    },
    {
     "name": "stderr",
     "output_type": "stream",
     "text": [
      "embedding nodes:  69%|██████▉   | 4609/6648 [1:51:58<48:44,  1.43s/it]  "
     ]
    },
    {
     "name": "stdout",
     "output_type": "stream",
     "text": [
      "LLM: mixtral-8x7b-32768 | Request Count: 2321\n",
      "Reached 1 requests for mixtral-8x7b-32768. Waiting for 30 seconds.\n"
     ]
    },
    {
     "name": "stderr",
     "output_type": "stream",
     "text": [
      "embedding nodes:  69%|██████▉   | 4610/6648 [1:52:00<56:20,  1.66s/it]"
     ]
    },
    {
     "name": "stdout",
     "output_type": "stream",
     "text": [
      "LLM: mixtral-8x7b-32768 | Request Count: 2322\n",
      "Reached 1 requests for mixtral-8x7b-32768. Waiting for 30 seconds.\n"
     ]
    },
    {
     "name": "stderr",
     "output_type": "stream",
     "text": [
      "embedding nodes:  69%|██████▉   | 4615/6648 [1:52:14<1:52:27,  3.32s/it]"
     ]
    },
    {
     "name": "stdout",
     "output_type": "stream",
     "text": [
      "LLM: mixtral-8x7b-32768 | Request Count: 2323\n",
      "Reached 1 requests for mixtral-8x7b-32768. Waiting for 30 seconds.\n"
     ]
    },
    {
     "name": "stderr",
     "output_type": "stream",
     "text": [
      "embedding nodes:  69%|██████▉   | 4618/6648 [1:52:14<52:46,  1.56s/it]  "
     ]
    },
    {
     "name": "stdout",
     "output_type": "stream",
     "text": [
      "LLM: mixtral-8x7b-32768 | Request Count: 2324\n",
      "Reached 1 requests for mixtral-8x7b-32768. Waiting for 30 seconds.\n"
     ]
    },
    {
     "name": "stderr",
     "output_type": "stream",
     "text": [
      "embedding nodes:  69%|██████▉   | 4619/6648 [1:52:21<1:33:06,  2.75s/it]"
     ]
    },
    {
     "name": "stdout",
     "output_type": "stream",
     "text": [
      "LLM: mixtral-8x7b-32768 | Request Count: 2325\n",
      "Reached 1 requests for mixtral-8x7b-32768. Waiting for 30 seconds.\n",
      "LLM: mixtral-8x7b-32768 | Request Count: 2326\n",
      "Reached 1 requests for mixtral-8x7b-32768. Waiting for 30 seconds.\n"
     ]
    },
    {
     "name": "stderr",
     "output_type": "stream",
     "text": [
      "embedding nodes:  70%|██████▉   | 4621/6648 [1:52:21<51:10,  1.51s/it]  "
     ]
    },
    {
     "name": "stdout",
     "output_type": "stream",
     "text": [
      "LLM: mixtral-8x7b-32768 | Request Count: 2327\n",
      "Reached 1 requests for mixtral-8x7b-32768. Waiting for 30 seconds.\n"
     ]
    },
    {
     "name": "stderr",
     "output_type": "stream",
     "text": [
      "embedding nodes:  70%|██████▉   | 4625/6648 [1:52:29<57:38,  1.71s/it]  "
     ]
    },
    {
     "name": "stdout",
     "output_type": "stream",
     "text": [
      "LLM: mixtral-8x7b-32768 | Request Count: 2328\n",
      "Reached 1 requests for mixtral-8x7b-32768. Waiting for 30 seconds.\n"
     ]
    },
    {
     "name": "stderr",
     "output_type": "stream",
     "text": [
      "embedding nodes:  70%|██████▉   | 4627/6648 [1:52:30<33:43,  1.00s/it]"
     ]
    },
    {
     "name": "stdout",
     "output_type": "stream",
     "text": [
      "LLM: mixtral-8x7b-32768 | Request Count: 2329\n",
      "Reached 1 requests for mixtral-8x7b-32768. Waiting for 30 seconds.\n"
     ]
    },
    {
     "name": "stderr",
     "output_type": "stream",
     "text": [
      "embedding nodes:  70%|██████▉   | 4628/6648 [1:52:44<2:20:04,  4.16s/it]"
     ]
    },
    {
     "name": "stdout",
     "output_type": "stream",
     "text": [
      "LLM: mixtral-8x7b-32768 | Request Count: 2330\n",
      "Reached 1 requests for mixtral-8x7b-32768. Waiting for 30 seconds.\n"
     ]
    },
    {
     "name": "stderr",
     "output_type": "stream",
     "text": [
      "embedding nodes:  70%|██████▉   | 4633/6648 [1:52:49<1:08:34,  2.04s/it]"
     ]
    },
    {
     "name": "stdout",
     "output_type": "stream",
     "text": [
      "LLM: mixtral-8x7b-32768 | Request Count: 2331\n",
      "Reached 1 requests for mixtral-8x7b-32768. Waiting for 30 seconds.\n"
     ]
    },
    {
     "name": "stderr",
     "output_type": "stream",
     "text": [
      "embedding nodes:  70%|██████▉   | 4635/6648 [1:52:51<47:31,  1.42s/it]  "
     ]
    },
    {
     "name": "stdout",
     "output_type": "stream",
     "text": [
      "LLM: mixtral-8x7b-32768 | Request Count: 2332\n",
      "Reached 1 requests for mixtral-8x7b-32768. Waiting for 30 seconds.\n",
      "LLM: mixtral-8x7b-32768 | Request Count: 2333\n",
      "Reached 1 requests for mixtral-8x7b-32768. Waiting for 30 seconds.\n"
     ]
    },
    {
     "name": "stderr",
     "output_type": "stream",
     "text": [
      "embedding nodes:  70%|██████▉   | 4636/6648 [1:52:51<38:31,  1.15s/it]"
     ]
    },
    {
     "name": "stdout",
     "output_type": "stream",
     "text": [
      "LLM: mixtral-8x7b-32768 | Request Count: 2334\n",
      "Reached 1 requests for mixtral-8x7b-32768. Waiting for 30 seconds.\n"
     ]
    },
    {
     "name": "stderr",
     "output_type": "stream",
     "text": [
      "embedding nodes:  70%|██████▉   | 4640/6648 [1:53:08<2:08:32,  3.84s/it]"
     ]
    },
    {
     "name": "stdout",
     "output_type": "stream",
     "text": [
      "LLM: mixtral-8x7b-32768 | Request Count: 2335\n",
      "Reached 1 requests for mixtral-8x7b-32768. Waiting for 30 seconds.\n",
      "LLM: mixtral-8x7b-32768 | Request Count: 2336\n",
      "Reached 1 requests for mixtral-8x7b-32768. Waiting for 30 seconds.\n"
     ]
    },
    {
     "name": "stderr",
     "output_type": "stream",
     "text": [
      "embedding nodes:  70%|██████▉   | 4642/6648 [1:53:13<1:47:33,  3.22s/it]"
     ]
    },
    {
     "name": "stdout",
     "output_type": "stream",
     "text": [
      "LLM: mixtral-8x7b-32768 | Request Count: 2337\n",
      "Reached 1 requests for mixtral-8x7b-32768. Waiting for 30 seconds.\n"
     ]
    },
    {
     "name": "stderr",
     "output_type": "stream",
     "text": [
      "embedding nodes:  70%|██████▉   | 4643/6648 [1:53:14<1:29:54,  2.69s/it]"
     ]
    },
    {
     "name": "stdout",
     "output_type": "stream",
     "text": [
      "LLM: mixtral-8x7b-32768 | Request Count: 2338\n",
      "Reached 1 requests for mixtral-8x7b-32768. Waiting for 30 seconds.\n"
     ]
    },
    {
     "name": "stderr",
     "output_type": "stream",
     "text": [
      "embedding nodes:  70%|██████▉   | 4649/6648 [1:53:21<29:48,  1.12it/s]  "
     ]
    },
    {
     "name": "stdout",
     "output_type": "stream",
     "text": [
      "LLM: mixtral-8x7b-32768 | Request Count: 2339\n",
      "Reached 1 requests for mixtral-8x7b-32768. Waiting for 30 seconds.\n",
      "LLM: mixtral-8x7b-32768 | Request Count: 2340\n",
      "Reached 1 requests for mixtral-8x7b-32768. Waiting for 30 seconds.\n",
      "LLM: mixtral-8x7b-32768 | Request Count: 2341\n",
      "Reached 1 requests for mixtral-8x7b-32768. Waiting for 30 seconds.\n"
     ]
    },
    {
     "name": "stderr",
     "output_type": "stream",
     "text": [
      "embedding nodes:  70%|██████▉   | 4652/6648 [1:53:41<2:02:58,  3.70s/it]"
     ]
    },
    {
     "name": "stdout",
     "output_type": "stream",
     "text": [
      "LLM: mixtral-8x7b-32768 | Request Count: 2342\n",
      "Reached 1 requests for mixtral-8x7b-32768. Waiting for 30 seconds.\n"
     ]
    },
    {
     "name": "stderr",
     "output_type": "stream",
     "text": [
      "embedding nodes:  70%|██████▉   | 4653/6648 [1:53:41<1:35:43,  2.88s/it]"
     ]
    },
    {
     "name": "stdout",
     "output_type": "stream",
     "text": [
      "LLM: mixtral-8x7b-32768 | Request Count: 2343\n",
      "Reached 1 requests for mixtral-8x7b-32768. Waiting for 30 seconds.\n"
     ]
    },
    {
     "name": "stderr",
     "output_type": "stream",
     "text": [
      "embedding nodes:  70%|███████   | 4658/6648 [1:53:44<33:32,  1.01s/it]  "
     ]
    },
    {
     "name": "stdout",
     "output_type": "stream",
     "text": [
      "LLM: mixtral-8x7b-32768 | Request Count: 2344\n",
      "Reached 1 requests for mixtral-8x7b-32768. Waiting for 30 seconds.\n"
     ]
    },
    {
     "name": "stderr",
     "output_type": "stream",
     "text": [
      "embedding nodes:  70%|███████   | 4659/6648 [1:53:52<1:24:17,  2.54s/it]"
     ]
    },
    {
     "name": "stdout",
     "output_type": "stream",
     "text": [
      "LLM: mixtral-8x7b-32768 | Request Count: 2345\n",
      "Reached 1 requests for mixtral-8x7b-32768. Waiting for 30 seconds.\n"
     ]
    },
    {
     "name": "stderr",
     "output_type": "stream",
     "text": [
      "embedding nodes:  70%|███████   | 4660/6648 [1:53:54<1:23:44,  2.53s/it]"
     ]
    },
    {
     "name": "stdout",
     "output_type": "stream",
     "text": [
      "LLM: mixtral-8x7b-32768 | Request Count: 2346\n",
      "Reached 1 requests for mixtral-8x7b-32768. Waiting for 30 seconds.\n"
     ]
    },
    {
     "name": "stderr",
     "output_type": "stream",
     "text": [
      "embedding nodes:  70%|███████   | 4661/6648 [1:54:00<1:49:34,  3.31s/it]"
     ]
    },
    {
     "name": "stdout",
     "output_type": "stream",
     "text": [
      "LLM: mixtral-8x7b-32768 | Request Count: 2347\n",
      "Reached 1 requests for mixtral-8x7b-32768. Waiting for 30 seconds.\n"
     ]
    },
    {
     "name": "stderr",
     "output_type": "stream",
     "text": [
      "embedding nodes:  70%|███████   | 4662/6648 [1:54:00<1:24:12,  2.54s/it]"
     ]
    },
    {
     "name": "stdout",
     "output_type": "stream",
     "text": [
      "LLM: mixtral-8x7b-32768 | Request Count: 2348\n",
      "Reached 1 requests for mixtral-8x7b-32768. Waiting for 30 seconds.\n"
     ]
    },
    {
     "name": "stderr",
     "output_type": "stream",
     "text": [
      "embedding nodes:  70%|███████   | 4667/6648 [1:54:08<1:00:39,  1.84s/it]"
     ]
    },
    {
     "name": "stdout",
     "output_type": "stream",
     "text": [
      "LLM: mixtral-8x7b-32768 | Request Count: 2349\n",
      "Reached 1 requests for mixtral-8x7b-32768. Waiting for 30 seconds.\n"
     ]
    },
    {
     "name": "stderr",
     "output_type": "stream",
     "text": [
      "embedding nodes:  70%|███████   | 4668/6648 [1:54:11<1:11:31,  2.17s/it]"
     ]
    },
    {
     "name": "stdout",
     "output_type": "stream",
     "text": [
      "LLM: mixtral-8x7b-32768 | Request Count: 2350\n",
      "Reached 1 requests for mixtral-8x7b-32768. Waiting for 30 seconds.\n"
     ]
    },
    {
     "name": "stderr",
     "output_type": "stream",
     "text": [
      "embedding nodes:  70%|███████   | 4669/6648 [1:54:11<54:59,  1.67s/it]  "
     ]
    },
    {
     "name": "stdout",
     "output_type": "stream",
     "text": [
      "LLM: mixtral-8x7b-32768 | Request Count: 2351\n",
      "Reached 1 requests for mixtral-8x7b-32768. Waiting for 30 seconds.\n"
     ]
    },
    {
     "name": "stderr",
     "output_type": "stream",
     "text": [
      "embedding nodes:  70%|███████   | 4670/6648 [1:54:14<1:01:13,  1.86s/it]"
     ]
    },
    {
     "name": "stdout",
     "output_type": "stream",
     "text": [
      "LLM: mixtral-8x7b-32768 | Request Count: 2352\n",
      "Reached 1 requests for mixtral-8x7b-32768. Waiting for 30 seconds.\n"
     ]
    },
    {
     "name": "stderr",
     "output_type": "stream",
     "text": [
      "embedding nodes:  70%|███████   | 4672/6648 [1:54:16<51:43,  1.57s/it]  "
     ]
    },
    {
     "name": "stdout",
     "output_type": "stream",
     "text": [
      "LLM: mixtral-8x7b-32768 | Request Count: 2353\n",
      "Reached 1 requests for mixtral-8x7b-32768. Waiting for 30 seconds.\n"
     ]
    },
    {
     "name": "stderr",
     "output_type": "stream",
     "text": [
      "embedding nodes:  70%|███████   | 4674/6648 [1:54:22<1:13:33,  2.24s/it]"
     ]
    },
    {
     "name": "stdout",
     "output_type": "stream",
     "text": [
      "LLM: mixtral-8x7b-32768 | Request Count: 2354\n",
      "Reached 1 requests for mixtral-8x7b-32768. Waiting for 30 seconds.\n"
     ]
    },
    {
     "name": "stderr",
     "output_type": "stream",
     "text": [
      "embedding nodes:  70%|███████   | 4679/6648 [1:54:39<2:14:10,  4.09s/it]"
     ]
    },
    {
     "name": "stdout",
     "output_type": "stream",
     "text": [
      "LLM: mixtral-8x7b-32768 | Request Count: 2355\n",
      "Reached 1 requests for mixtral-8x7b-32768. Waiting for 30 seconds.\n"
     ]
    },
    {
     "name": "stderr",
     "output_type": "stream",
     "text": [
      "embedding nodes:  70%|███████   | 4680/6648 [1:54:41<1:46:07,  3.24s/it]"
     ]
    },
    {
     "name": "stdout",
     "output_type": "stream",
     "text": [
      "LLM: mixtral-8x7b-32768 | Request Count: 2356\n",
      "Reached 1 requests for mixtral-8x7b-32768. Waiting for 30 seconds.\n"
     ]
    },
    {
     "name": "stderr",
     "output_type": "stream",
     "text": [
      "embedding nodes:  70%|███████   | 4681/6648 [1:54:41<1:17:08,  2.35s/it]"
     ]
    },
    {
     "name": "stdout",
     "output_type": "stream",
     "text": [
      "LLM: mixtral-8x7b-32768 | Request Count: 2357\n",
      "Reached 1 requests for mixtral-8x7b-32768. Waiting for 30 seconds.\n"
     ]
    },
    {
     "name": "stderr",
     "output_type": "stream",
     "text": [
      "embedding nodes:  70%|███████   | 4682/6648 [1:54:41<57:24,  1.75s/it]  "
     ]
    },
    {
     "name": "stdout",
     "output_type": "stream",
     "text": [
      "LLM: mixtral-8x7b-32768 | Request Count: 2358\n",
      "Reached 1 requests for mixtral-8x7b-32768. Waiting for 30 seconds.\n"
     ]
    },
    {
     "name": "stderr",
     "output_type": "stream",
     "text": [
      "embedding nodes:  71%|███████   | 4687/6648 [1:54:49<59:29,  1.82s/it]"
     ]
    },
    {
     "name": "stdout",
     "output_type": "stream",
     "text": [
      "LLM: mixtral-8x7b-32768 | Request Count: 2359\n",
      "Reached 1 requests for mixtral-8x7b-32768. Waiting for 30 seconds.\n"
     ]
    },
    {
     "name": "stderr",
     "output_type": "stream",
     "text": [
      "embedding nodes:  71%|███████   | 4688/6648 [1:54:53<1:20:07,  2.45s/it]"
     ]
    },
    {
     "name": "stdout",
     "output_type": "stream",
     "text": [
      "LLM: mixtral-8x7b-32768 | Request Count: 2360\n",
      "Reached 1 requests for mixtral-8x7b-32768. Waiting for 30 seconds.\n"
     ]
    },
    {
     "name": "stderr",
     "output_type": "stream",
     "text": [
      "embedding nodes:  71%|███████   | 4689/6648 [1:55:03<2:37:46,  4.83s/it]"
     ]
    },
    {
     "name": "stdout",
     "output_type": "stream",
     "text": [
      "LLM: mixtral-8x7b-32768 | Request Count: 2361\n",
      "Reached 1 requests for mixtral-8x7b-32768. Waiting for 30 seconds.\n",
      "LLM: mixtral-8x7b-32768 | Request Count: 2362\n",
      "Reached 1 requests for mixtral-8x7b-32768. Waiting for 30 seconds.\n"
     ]
    },
    {
     "name": "stderr",
     "output_type": "stream",
     "text": [
      "embedding nodes:  71%|███████   | 4696/6648 [1:55:19<1:38:54,  3.04s/it]"
     ]
    },
    {
     "name": "stdout",
     "output_type": "stream",
     "text": [
      "LLM: mixtral-8x7b-32768 | Request Count: 2363\n",
      "Reached 1 requests for mixtral-8x7b-32768. Waiting for 30 seconds.\n"
     ]
    },
    {
     "name": "stderr",
     "output_type": "stream",
     "text": [
      "embedding nodes:  71%|███████   | 4697/6648 [1:55:20<1:20:37,  2.48s/it]"
     ]
    },
    {
     "name": "stdout",
     "output_type": "stream",
     "text": [
      "LLM: mixtral-8x7b-32768 | Request Count: 2364\n",
      "Reached 1 requests for mixtral-8x7b-32768. Waiting for 30 seconds.\n"
     ]
    },
    {
     "name": "stderr",
     "output_type": "stream",
     "text": [
      "embedding nodes:  71%|███████   | 4698/6648 [1:55:22<1:21:26,  2.51s/it]"
     ]
    },
    {
     "name": "stdout",
     "output_type": "stream",
     "text": [
      "LLM: mixtral-8x7b-32768 | Request Count: 2365\n",
      "Reached 1 requests for mixtral-8x7b-32768. Waiting for 30 seconds.\n"
     ]
    },
    {
     "name": "stderr",
     "output_type": "stream",
     "text": [
      "embedding nodes:  71%|███████   | 4699/6648 [1:55:27<1:41:56,  3.14s/it]"
     ]
    },
    {
     "name": "stdout",
     "output_type": "stream",
     "text": [
      "LLM: mixtral-8x7b-32768 | Request Count: 2366\n",
      "Reached 1 requests for mixtral-8x7b-32768. Waiting for 30 seconds.\n"
     ]
    },
    {
     "name": "stderr",
     "output_type": "stream",
     "text": [
      "embedding nodes:  71%|███████   | 4705/6648 [1:55:35<36:24,  1.12s/it]  "
     ]
    },
    {
     "name": "stdout",
     "output_type": "stream",
     "text": [
      "LLM: mixtral-8x7b-32768 | Request Count: 2367\n",
      "Reached 1 requests for mixtral-8x7b-32768. Waiting for 30 seconds.\n"
     ]
    },
    {
     "name": "stderr",
     "output_type": "stream",
     "text": [
      "embedding nodes:  71%|███████   | 4706/6648 [1:55:44<1:49:34,  3.39s/it]"
     ]
    },
    {
     "name": "stdout",
     "output_type": "stream",
     "text": [
      "LLM: mixtral-8x7b-32768 | Request Count: 2368\n",
      "Reached 1 requests for mixtral-8x7b-32768. Waiting for 30 seconds.\n",
      "LLM: mixtral-8x7b-32768 | Request Count: 2369\n",
      "Reached 1 requests for mixtral-8x7b-32768. Waiting for 30 seconds.\n",
      "LLM: mixtral-8x7b-32768 | Request Count: 2370\n",
      "Reached 1 requests for mixtral-8x7b-32768. Waiting for 30 seconds.\n"
     ]
    },
    {
     "name": "stderr",
     "output_type": "stream",
     "text": [
      "embedding nodes:  71%|███████   | 4714/6648 [1:55:53<30:11,  1.07it/s]  "
     ]
    },
    {
     "name": "stdout",
     "output_type": "stream",
     "text": [
      "LLM: mixtral-8x7b-32768 | Request Count: 2371\n",
      "Reached 1 requests for mixtral-8x7b-32768. Waiting for 30 seconds.\n",
      "LLM: mixtral-8x7b-32768 | Request Count: 2372\n",
      "Reached 1 requests for mixtral-8x7b-32768. Waiting for 30 seconds.\n"
     ]
    },
    {
     "name": "stderr",
     "output_type": "stream",
     "text": [
      "embedding nodes:  71%|███████   | 4715/6648 [1:55:57<54:42,  1.70s/it]"
     ]
    },
    {
     "name": "stdout",
     "output_type": "stream",
     "text": [
      "LLM: mixtral-8x7b-32768 | Request Count: 2373\n",
      "Reached 1 requests for mixtral-8x7b-32768. Waiting for 30 seconds.\n"
     ]
    },
    {
     "name": "stderr",
     "output_type": "stream",
     "text": [
      "embedding nodes:  71%|███████   | 4717/6648 [1:56:05<1:15:50,  2.36s/it]"
     ]
    },
    {
     "name": "stdout",
     "output_type": "stream",
     "text": [
      "LLM: mixtral-8x7b-32768 | Request Count: 2374\n",
      "Reached 1 requests for mixtral-8x7b-32768. Waiting for 30 seconds.\n",
      "LLM: mixtral-8x7b-32768 | Request Count: 2375\n",
      "Reached 1 requests for mixtral-8x7b-32768. Waiting for 30 seconds.\n"
     ]
    },
    {
     "name": "stderr",
     "output_type": "stream",
     "text": [
      "embedding nodes:  71%|███████   | 4718/6648 [1:56:07<1:14:29,  2.32s/it]"
     ]
    },
    {
     "name": "stdout",
     "output_type": "stream",
     "text": [
      "LLM: mixtral-8x7b-32768 | Request Count: 2376\n",
      "Reached 1 requests for mixtral-8x7b-32768. Waiting for 30 seconds.\n"
     ]
    },
    {
     "name": "stderr",
     "output_type": "stream",
     "text": [
      "embedding nodes:  71%|███████   | 4723/6648 [1:56:19<1:27:30,  2.73s/it]"
     ]
    },
    {
     "name": "stdout",
     "output_type": "stream",
     "text": [
      "LLM: mixtral-8x7b-32768 | Request Count: 2377\n",
      "Reached 1 requests for mixtral-8x7b-32768. Waiting for 30 seconds.\n"
     ]
    },
    {
     "name": "stderr",
     "output_type": "stream",
     "text": [
      "embedding nodes:  71%|███████   | 4724/6648 [1:56:24<1:48:00,  3.37s/it]"
     ]
    },
    {
     "name": "stdout",
     "output_type": "stream",
     "text": [
      "LLM: mixtral-8x7b-32768 | Request Count: 2378\n",
      "Reached 1 requests for mixtral-8x7b-32768. Waiting for 30 seconds.\n",
      "LLM: mixtral-8x7b-32768 | Request Count: 2379\n",
      "Reached 1 requests for mixtral-8x7b-32768. Waiting for 30 seconds.\n"
     ]
    },
    {
     "name": "stderr",
     "output_type": "stream",
     "text": [
      "embedding nodes:  71%|███████   | 4726/6648 [1:56:26<1:16:12,  2.38s/it]"
     ]
    },
    {
     "name": "stdout",
     "output_type": "stream",
     "text": [
      "LLM: mixtral-8x7b-32768 | Request Count: 2380\n",
      "Reached 1 requests for mixtral-8x7b-32768. Waiting for 30 seconds.\n",
      "LLM: mixtral-8x7b-32768 | Request Count: 2381\n",
      "Reached 1 requests for mixtral-8x7b-32768. Waiting for 30 seconds.\n"
     ]
    },
    {
     "name": "stderr",
     "output_type": "stream",
     "text": [
      "embedding nodes:  71%|███████   | 4731/6648 [1:56:35<1:08:23,  2.14s/it]"
     ]
    },
    {
     "name": "stdout",
     "output_type": "stream",
     "text": [
      "LLM: mixtral-8x7b-32768 | Request Count: 2382\n",
      "Reached 1 requests for mixtral-8x7b-32768. Waiting for 30 seconds.\n"
     ]
    },
    {
     "name": "stderr",
     "output_type": "stream",
     "text": [
      "embedding nodes:  71%|███████   | 4733/6648 [1:56:37<55:05,  1.73s/it]  "
     ]
    },
    {
     "name": "stdout",
     "output_type": "stream",
     "text": [
      "LLM: mixtral-8x7b-32768 | Request Count: 2383\n",
      "Reached 1 requests for mixtral-8x7b-32768. Waiting for 30 seconds.\n"
     ]
    },
    {
     "name": "stderr",
     "output_type": "stream",
     "text": [
      "embedding nodes:  71%|███████   | 4734/6648 [1:56:39<57:13,  1.79s/it]"
     ]
    },
    {
     "name": "stdout",
     "output_type": "stream",
     "text": [
      "LLM: mixtral-8x7b-32768 | Request Count: 2384\n",
      "Reached 1 requests for mixtral-8x7b-32768. Waiting for 30 seconds.\n"
     ]
    },
    {
     "name": "stderr",
     "output_type": "stream",
     "text": [
      "embedding nodes:  71%|███████   | 4735/6648 [1:56:45<1:26:44,  2.72s/it]"
     ]
    },
    {
     "name": "stdout",
     "output_type": "stream",
     "text": [
      "LLM: mixtral-8x7b-32768 | Request Count: 2385\n",
      "Reached 1 requests for mixtral-8x7b-32768. Waiting for 30 seconds.\n"
     ]
    },
    {
     "name": "stderr",
     "output_type": "stream",
     "text": [
      "embedding nodes:  71%|███████   | 4736/6648 [1:56:46<1:12:58,  2.29s/it]"
     ]
    },
    {
     "name": "stdout",
     "output_type": "stream",
     "text": [
      "LLM: mixtral-8x7b-32768 | Request Count: 2386\n",
      "Reached 1 requests for mixtral-8x7b-32768. Waiting for 30 seconds.\n"
     ]
    },
    {
     "name": "stderr",
     "output_type": "stream",
     "text": [
      "embedding nodes:  71%|███████▏  | 4744/6648 [1:57:06<1:30:04,  2.84s/it]"
     ]
    },
    {
     "name": "stdout",
     "output_type": "stream",
     "text": [
      "LLM: mixtral-8x7b-32768 | Request Count: 2387\n",
      "Reached 1 requests for mixtral-8x7b-32768. Waiting for 30 seconds.\n"
     ]
    },
    {
     "name": "stderr",
     "output_type": "stream",
     "text": [
      "embedding nodes:  71%|███████▏  | 4745/6648 [1:57:07<1:14:37,  2.35s/it]"
     ]
    },
    {
     "name": "stdout",
     "output_type": "stream",
     "text": [
      "LLM: mixtral-8x7b-32768 | Request Count: 2388\n",
      "Reached 1 requests for mixtral-8x7b-32768. Waiting for 30 seconds.\n"
     ]
    },
    {
     "name": "stderr",
     "output_type": "stream",
     "text": [
      "embedding nodes:  71%|███████▏  | 4746/6648 [1:57:09<1:12:49,  2.30s/it]"
     ]
    },
    {
     "name": "stdout",
     "output_type": "stream",
     "text": [
      "LLM: mixtral-8x7b-32768 | Request Count: 2389\n",
      "Reached 1 requests for mixtral-8x7b-32768. Waiting for 30 seconds.\n"
     ]
    },
    {
     "name": "stderr",
     "output_type": "stream",
     "text": [
      "embedding nodes:  71%|███████▏  | 4749/6648 [1:57:11<39:29,  1.25s/it]  "
     ]
    },
    {
     "name": "stdout",
     "output_type": "stream",
     "text": [
      "LLM: mixtral-8x7b-32768 | Request Count: 2390\n",
      "Reached 1 requests for mixtral-8x7b-32768. Waiting for 30 seconds.\n"
     ]
    },
    {
     "name": "stderr",
     "output_type": "stream",
     "text": [
      "embedding nodes:  71%|███████▏  | 4753/6648 [1:57:19<54:32,  1.73s/it]"
     ]
    },
    {
     "name": "stdout",
     "output_type": "stream",
     "text": [
      "LLM: mixtral-8x7b-32768 | Request Count: 2391\n",
      "Reached 1 requests for mixtral-8x7b-32768. Waiting for 30 seconds.\n"
     ]
    },
    {
     "name": "stderr",
     "output_type": "stream",
     "text": [
      "embedding nodes:  72%|███████▏  | 4754/6648 [1:57:32<2:37:04,  4.98s/it]"
     ]
    },
    {
     "name": "stdout",
     "output_type": "stream",
     "text": [
      "LLM: mixtral-8x7b-32768 | Request Count: 2392\n",
      "Reached 1 requests for mixtral-8x7b-32768. Waiting for 30 seconds.\n"
     ]
    },
    {
     "name": "stderr",
     "output_type": "stream",
     "text": [
      "embedding nodes:  72%|███████▏  | 4755/6648 [1:57:36<2:32:19,  4.83s/it]"
     ]
    },
    {
     "name": "stdout",
     "output_type": "stream",
     "text": [
      "LLM: mixtral-8x7b-32768 | Request Count: 2393\n",
      "Reached 1 requests for mixtral-8x7b-32768. Waiting for 30 seconds.\n",
      "LLM: mixtral-8x7b-32768 | Request Count: 2394\n",
      "Reached 1 requests for mixtral-8x7b-32768. Waiting for 30 seconds.\n"
     ]
    },
    {
     "name": "stderr",
     "output_type": "stream",
     "text": [
      "embedding nodes:  72%|███████▏  | 4760/6648 [1:57:39<55:08,  1.75s/it]  "
     ]
    },
    {
     "name": "stdout",
     "output_type": "stream",
     "text": [
      "LLM: mixtral-8x7b-32768 | Request Count: 2395\n",
      "Reached 1 requests for mixtral-8x7b-32768. Waiting for 30 seconds.\n",
      "LLM: mixtral-8x7b-32768 | Request Count: 2396\n",
      "Reached 1 requests for mixtral-8x7b-32768. Waiting for 30 seconds.\n"
     ]
    },
    {
     "name": "stderr",
     "output_type": "stream",
     "text": [
      "embedding nodes:  72%|███████▏  | 4762/6648 [1:57:49<1:39:22,  3.16s/it]"
     ]
    },
    {
     "name": "stdout",
     "output_type": "stream",
     "text": [
      "LLM: mixtral-8x7b-32768 | Request Count: 2397\n",
      "Reached 1 requests for mixtral-8x7b-32768. Waiting for 30 seconds.\n"
     ]
    },
    {
     "name": "stderr",
     "output_type": "stream",
     "text": [
      "embedding nodes:  72%|███████▏  | 4763/6648 [1:57:56<2:13:47,  4.26s/it]"
     ]
    },
    {
     "name": "stdout",
     "output_type": "stream",
     "text": [
      "LLM: mixtral-8x7b-32768 | Request Count: 2398\n",
      "Reached 1 requests for mixtral-8x7b-32768. Waiting for 30 seconds.\n"
     ]
    },
    {
     "name": "stderr",
     "output_type": "stream",
     "text": [
      "embedding nodes:  72%|███████▏  | 4768/6648 [1:58:06<1:25:59,  2.74s/it]"
     ]
    },
    {
     "name": "stdout",
     "output_type": "stream",
     "text": [
      "LLM: mixtral-8x7b-32768 | Request Count: 2399\n",
      "Reached 1 requests for mixtral-8x7b-32768. Waiting for 30 seconds.\n",
      "LLM: mixtral-8x7b-32768 | Request Count: 2400\n",
      "Reached 1 requests for mixtral-8x7b-32768. Waiting for 30 seconds.\n"
     ]
    },
    {
     "name": "stderr",
     "output_type": "stream",
     "text": [
      "embedding nodes:  72%|███████▏  | 4770/6648 [1:58:09<1:07:09,  2.15s/it]"
     ]
    },
    {
     "name": "stdout",
     "output_type": "stream",
     "text": [
      "LLM: mixtral-8x7b-32768 | Request Count: 2401\n",
      "Reached 1 requests for mixtral-8x7b-32768. Waiting for 30 seconds.\n"
     ]
    },
    {
     "name": "stderr",
     "output_type": "stream",
     "text": [
      "embedding nodes:  72%|███████▏  | 4771/6648 [1:58:11<1:04:43,  2.07s/it]"
     ]
    },
    {
     "name": "stdout",
     "output_type": "stream",
     "text": [
      "LLM: mixtral-8x7b-32768 | Request Count: 2402\n",
      "Reached 1 requests for mixtral-8x7b-32768. Waiting for 30 seconds.\n"
     ]
    },
    {
     "name": "stderr",
     "output_type": "stream",
     "text": [
      "embedding nodes:  72%|███████▏  | 4775/6648 [1:58:25<1:29:57,  2.88s/it]"
     ]
    },
    {
     "name": "stdout",
     "output_type": "stream",
     "text": [
      "LLM: mixtral-8x7b-32768 | Request Count: 2403\n",
      "Reached 1 requests for mixtral-8x7b-32768. Waiting for 30 seconds.\n"
     ]
    },
    {
     "name": "stderr",
     "output_type": "stream",
     "text": [
      "embedding nodes:  72%|███████▏  | 4776/6648 [1:58:26<1:11:18,  2.29s/it]"
     ]
    },
    {
     "name": "stdout",
     "output_type": "stream",
     "text": [
      "LLM: mixtral-8x7b-32768 | Request Count: 2404\n",
      "Reached 1 requests for mixtral-8x7b-32768. Waiting for 30 seconds.\n",
      "LLM: mixtral-8x7b-32768 | Request Count: 2405\n",
      "Reached 1 requests for mixtral-8x7b-32768. Waiting for 30 seconds.\n"
     ]
    },
    {
     "name": "stderr",
     "output_type": "stream",
     "text": [
      "embedding nodes:  72%|███████▏  | 4777/6648 [1:58:28<1:06:28,  2.13s/it]"
     ]
    },
    {
     "name": "stdout",
     "output_type": "stream",
     "text": [
      "LLM: mixtral-8x7b-32768 | Request Count: 2406\n",
      "Reached 1 requests for mixtral-8x7b-32768. Waiting for 30 seconds.\n"
     ]
    },
    {
     "name": "stderr",
     "output_type": "stream",
     "text": [
      "embedding nodes:  72%|███████▏  | 4782/6648 [1:58:47<1:45:35,  3.40s/it]"
     ]
    },
    {
     "name": "stdout",
     "output_type": "stream",
     "text": [
      "LLM: mixtral-8x7b-32768 | Request Count: 2407\n",
      "Reached 1 requests for mixtral-8x7b-32768. Waiting for 30 seconds.\n"
     ]
    },
    {
     "name": "stderr",
     "output_type": "stream",
     "text": [
      "embedding nodes:  72%|███████▏  | 4783/6648 [1:58:56<2:36:16,  5.03s/it]"
     ]
    },
    {
     "name": "stdout",
     "output_type": "stream",
     "text": [
      "LLM: mixtral-8x7b-32768 | Request Count: 2408\n",
      "Reached 1 requests for mixtral-8x7b-32768. Waiting for 30 seconds.\n"
     ]
    },
    {
     "name": "stderr",
     "output_type": "stream",
     "text": [
      "embedding nodes:  72%|███████▏  | 4785/6648 [1:58:57<1:25:12,  2.74s/it]"
     ]
    },
    {
     "name": "stdout",
     "output_type": "stream",
     "text": [
      "LLM: mixtral-8x7b-32768 | Request Count: 2409\n",
      "Reached 1 requests for mixtral-8x7b-32768. Waiting for 30 seconds.\n"
     ]
    },
    {
     "name": "stderr",
     "output_type": "stream",
     "text": [
      "embedding nodes:  72%|███████▏  | 4786/6648 [1:58:57<1:01:54,  1.99s/it]"
     ]
    },
    {
     "name": "stdout",
     "output_type": "stream",
     "text": [
      "LLM: mixtral-8x7b-32768 | Request Count: 2410\n",
      "Reached 1 requests for mixtral-8x7b-32768. Waiting for 30 seconds.\n"
     ]
    },
    {
     "name": "stderr",
     "output_type": "stream",
     "text": [
      "embedding nodes:  72%|███████▏  | 4792/6648 [1:59:18<1:31:33,  2.96s/it]"
     ]
    },
    {
     "name": "stdout",
     "output_type": "stream",
     "text": [
      "LLM: mixtral-8x7b-32768 | Request Count: 2411\n",
      "Reached 1 requests for mixtral-8x7b-32768. Waiting for 30 seconds.\n"
     ]
    },
    {
     "name": "stderr",
     "output_type": "stream",
     "text": [
      "embedding nodes:  72%|███████▏  | 4793/6648 [1:59:25<2:14:20,  4.35s/it]"
     ]
    },
    {
     "name": "stdout",
     "output_type": "stream",
     "text": [
      "LLM: mixtral-8x7b-32768 | Request Count: 2412\n",
      "Reached 1 requests for mixtral-8x7b-32768. Waiting for 30 seconds.\n"
     ]
    },
    {
     "name": "stderr",
     "output_type": "stream",
     "text": [
      "embedding nodes:  72%|███████▏  | 4794/6648 [1:59:25<1:36:45,  3.13s/it]"
     ]
    },
    {
     "name": "stdout",
     "output_type": "stream",
     "text": [
      "LLM: mixtral-8x7b-32768 | Request Count: 2413\n",
      "Reached 1 requests for mixtral-8x7b-32768. Waiting for 30 seconds.\n"
     ]
    },
    {
     "name": "stderr",
     "output_type": "stream",
     "text": [
      "embedding nodes:  72%|███████▏  | 4795/6648 [1:59:26<1:14:27,  2.41s/it]"
     ]
    },
    {
     "name": "stdout",
     "output_type": "stream",
     "text": [
      "LLM: mixtral-8x7b-32768 | Request Count: 2414\n",
      "Reached 1 requests for mixtral-8x7b-32768. Waiting for 30 seconds.\n"
     ]
    },
    {
     "name": "stderr",
     "output_type": "stream",
     "text": [
      "embedding nodes:  72%|███████▏  | 4800/6648 [1:59:34<51:58,  1.69s/it]  "
     ]
    },
    {
     "name": "stdout",
     "output_type": "stream",
     "text": [
      "LLM: mixtral-8x7b-32768 | Request Count: 2415\n",
      "Reached 1 requests for mixtral-8x7b-32768. Waiting for 30 seconds.\n"
     ]
    },
    {
     "name": "stderr",
     "output_type": "stream",
     "text": [
      "embedding nodes:  72%|███████▏  | 4801/6648 [1:59:39<1:22:00,  2.66s/it]"
     ]
    },
    {
     "name": "stdout",
     "output_type": "stream",
     "text": [
      "LLM: mixtral-8x7b-32768 | Request Count: 2416\n",
      "Reached 1 requests for mixtral-8x7b-32768. Waiting for 30 seconds.\n"
     ]
    },
    {
     "name": "stderr",
     "output_type": "stream",
     "text": [
      "embedding nodes:  72%|███████▏  | 4802/6648 [1:59:40<1:02:11,  2.02s/it]"
     ]
    },
    {
     "name": "stdout",
     "output_type": "stream",
     "text": [
      "LLM: mixtral-8x7b-32768 | Request Count: 2417\n",
      "Reached 1 requests for mixtral-8x7b-32768. Waiting for 30 seconds.\n"
     ]
    },
    {
     "name": "stderr",
     "output_type": "stream",
     "text": [
      "embedding nodes:  72%|███████▏  | 4803/6648 [1:59:48<1:55:44,  3.76s/it]"
     ]
    },
    {
     "name": "stdout",
     "output_type": "stream",
     "text": [
      "LLM: mixtral-8x7b-32768 | Request Count: 2418\n",
      "Reached 1 requests for mixtral-8x7b-32768. Waiting for 30 seconds.\n"
     ]
    },
    {
     "name": "stderr",
     "output_type": "stream",
     "text": [
      "embedding nodes:  72%|███████▏  | 4806/6648 [1:59:51<1:06:44,  2.17s/it]"
     ]
    },
    {
     "name": "stdout",
     "output_type": "stream",
     "text": [
      "LLM: mixtral-8x7b-32768 | Request Count: 2419\n",
      "Reached 1 requests for mixtral-8x7b-32768. Waiting for 30 seconds.\n"
     ]
    },
    {
     "name": "stderr",
     "output_type": "stream",
     "text": [
      "embedding nodes:  72%|███████▏  | 4808/6648 [1:59:55<1:04:10,  2.09s/it]"
     ]
    },
    {
     "name": "stdout",
     "output_type": "stream",
     "text": [
      "LLM: mixtral-8x7b-32768 | Request Count: 2420\n",
      "Reached 1 requests for mixtral-8x7b-32768. Waiting for 30 seconds.\n"
     ]
    },
    {
     "name": "stderr",
     "output_type": "stream",
     "text": [
      "embedding nodes:  72%|███████▏  | 4809/6648 [1:59:55<52:29,  1.71s/it]  "
     ]
    },
    {
     "name": "stdout",
     "output_type": "stream",
     "text": [
      "LLM: mixtral-8x7b-32768 | Request Count: 2421\n",
      "Reached 1 requests for mixtral-8x7b-32768. Waiting for 30 seconds.\n"
     ]
    },
    {
     "name": "stderr",
     "output_type": "stream",
     "text": [
      "embedding nodes:  72%|███████▏  | 4810/6648 [1:59:56<44:23,  1.45s/it]"
     ]
    },
    {
     "name": "stdout",
     "output_type": "stream",
     "text": [
      "LLM: mixtral-8x7b-32768 | Request Count: 2422\n",
      "Reached 1 requests for mixtral-8x7b-32768. Waiting for 30 seconds.\n"
     ]
    },
    {
     "name": "stderr",
     "output_type": "stream",
     "text": [
      "embedding nodes:  72%|███████▏  | 4811/6648 [2:00:03<1:27:20,  2.85s/it]"
     ]
    },
    {
     "name": "stdout",
     "output_type": "stream",
     "text": [
      "LLM: mixtral-8x7b-32768 | Request Count: 2423\n",
      "Reached 1 requests for mixtral-8x7b-32768. Waiting for 30 seconds.\n"
     ]
    },
    {
     "name": "stderr",
     "output_type": "stream",
     "text": [
      "embedding nodes:  72%|███████▏  | 4817/6648 [2:00:10<40:46,  1.34s/it]  "
     ]
    },
    {
     "name": "stdout",
     "output_type": "stream",
     "text": [
      "LLM: mixtral-8x7b-32768 | Request Count: 2424\n",
      "Reached 1 requests for mixtral-8x7b-32768. Waiting for 30 seconds.\n"
     ]
    },
    {
     "name": "stderr",
     "output_type": "stream",
     "text": [
      "embedding nodes:  72%|███████▏  | 4819/6648 [2:00:22<1:45:53,  3.47s/it]"
     ]
    },
    {
     "name": "stdout",
     "output_type": "stream",
     "text": [
      "LLM: mixtral-8x7b-32768 | Request Count: 2425\n",
      "Reached 1 requests for mixtral-8x7b-32768. Waiting for 30 seconds.\n",
      "LLM: mixtral-8x7b-32768 | Request Count: 2426\n",
      "Reached 1 requests for mixtral-8x7b-32768. Waiting for 30 seconds.\n"
     ]
    },
    {
     "name": "stderr",
     "output_type": "stream",
     "text": [
      "embedding nodes:  73%|███████▎  | 4822/6648 [2:00:22<46:16,  1.52s/it]  "
     ]
    },
    {
     "name": "stdout",
     "output_type": "stream",
     "text": [
      "LLM: mixtral-8x7b-32768 | Request Count: 2427\n",
      "Reached 1 requests for mixtral-8x7b-32768. Waiting for 30 seconds.\n"
     ]
    },
    {
     "name": "stderr",
     "output_type": "stream",
     "text": [
      "embedding nodes:  73%|███████▎  | 4828/6648 [2:00:26<20:41,  1.47it/s]"
     ]
    },
    {
     "name": "stdout",
     "output_type": "stream",
     "text": [
      "LLM: mixtral-8x7b-32768 | Request Count: 2428\n",
      "Reached 1 requests for mixtral-8x7b-32768. Waiting for 30 seconds.\n",
      "LLM: mixtral-8x7b-32768 | Request Count: 2429\n",
      "Reached 1 requests for mixtral-8x7b-32768. Waiting for 30 seconds.\n"
     ]
    },
    {
     "name": "stderr",
     "output_type": "stream",
     "text": [
      "embedding nodes:  73%|███████▎  | 4829/6648 [2:00:33<1:11:13,  2.35s/it]"
     ]
    },
    {
     "name": "stdout",
     "output_type": "stream",
     "text": [
      "LLM: mixtral-8x7b-32768 | Request Count: 2430\n",
      "Reached 1 requests for mixtral-8x7b-32768. Waiting for 30 seconds.\n"
     ]
    },
    {
     "name": "stderr",
     "output_type": "stream",
     "text": [
      "embedding nodes:  73%|███████▎  | 4830/6648 [2:00:35<1:03:43,  2.10s/it]"
     ]
    },
    {
     "name": "stdout",
     "output_type": "stream",
     "text": [
      "LLM: mixtral-8x7b-32768 | Request Count: 2431\n",
      "Reached 1 requests for mixtral-8x7b-32768. Waiting for 30 seconds.\n"
     ]
    },
    {
     "name": "stderr",
     "output_type": "stream",
     "text": [
      "embedding nodes:  73%|███████▎  | 4831/6648 [2:00:35<51:24,  1.70s/it]  "
     ]
    },
    {
     "name": "stdout",
     "output_type": "stream",
     "text": [
      "LLM: mixtral-8x7b-32768 | Request Count: 2432\n",
      "Reached 1 requests for mixtral-8x7b-32768. Waiting for 30 seconds.\n"
     ]
    },
    {
     "name": "stderr",
     "output_type": "stream",
     "text": [
      "embedding nodes:  73%|███████▎  | 4832/6648 [2:00:36<41:14,  1.36s/it]"
     ]
    },
    {
     "name": "stdout",
     "output_type": "stream",
     "text": [
      "LLM: mixtral-8x7b-32768 | Request Count: 2433\n",
      "Reached 1 requests for mixtral-8x7b-32768. Waiting for 30 seconds.\n"
     ]
    },
    {
     "name": "stderr",
     "output_type": "stream",
     "text": [
      "embedding nodes:  73%|███████▎  | 4837/6648 [2:00:48<1:17:26,  2.57s/it]"
     ]
    },
    {
     "name": "stdout",
     "output_type": "stream",
     "text": [
      "LLM: mixtral-8x7b-32768 | Request Count: 2434\n",
      "Reached 1 requests for mixtral-8x7b-32768. Waiting for 30 seconds.\n"
     ]
    },
    {
     "name": "stderr",
     "output_type": "stream",
     "text": [
      "embedding nodes:  73%|███████▎  | 4838/6648 [2:00:49<1:08:22,  2.27s/it]"
     ]
    },
    {
     "name": "stdout",
     "output_type": "stream",
     "text": [
      "LLM: mixtral-8x7b-32768 | Request Count: 2435\n",
      "Reached 1 requests for mixtral-8x7b-32768. Waiting for 30 seconds.\n",
      "LLM: mixtral-8x7b-32768 | Request Count: 2436\n",
      "Reached 1 requests for mixtral-8x7b-32768. Waiting for 30 seconds.\n"
     ]
    },
    {
     "name": "stderr",
     "output_type": "stream",
     "text": [
      "embedding nodes:  73%|███████▎  | 4840/6648 [2:00:52<53:16,  1.77s/it]  "
     ]
    },
    {
     "name": "stdout",
     "output_type": "stream",
     "text": [
      "LLM: mixtral-8x7b-32768 | Request Count: 2437\n",
      "Reached 1 requests for mixtral-8x7b-32768. Waiting for 30 seconds.\n",
      "LLM: mixtral-8x7b-32768 | Request Count: 2438\n",
      "Reached 1 requests for mixtral-8x7b-32768. Waiting for 30 seconds.\n"
     ]
    },
    {
     "name": "stderr",
     "output_type": "stream",
     "text": [
      "embedding nodes:  73%|███████▎  | 4847/6648 [2:01:02<46:48,  1.56s/it]"
     ]
    },
    {
     "name": "stdout",
     "output_type": "stream",
     "text": [
      "LLM: mixtral-8x7b-32768 | Request Count: 2439\n",
      "Reached 1 requests for mixtral-8x7b-32768. Waiting for 30 seconds.\n"
     ]
    },
    {
     "name": "stderr",
     "output_type": "stream",
     "text": [
      "embedding nodes:  73%|███████▎  | 4849/6648 [2:01:03<34:12,  1.14s/it]"
     ]
    },
    {
     "name": "stdout",
     "output_type": "stream",
     "text": [
      "LLM: mixtral-8x7b-32768 | Request Count: 2440\n",
      "Reached 1 requests for mixtral-8x7b-32768. Waiting for 30 seconds.\n"
     ]
    },
    {
     "name": "stderr",
     "output_type": "stream",
     "text": [
      "embedding nodes:  73%|███████▎  | 4850/6648 [2:01:05<36:29,  1.22s/it]"
     ]
    },
    {
     "name": "stdout",
     "output_type": "stream",
     "text": [
      "LLM: mixtral-8x7b-32768 | Request Count: 2441\n",
      "Reached 1 requests for mixtral-8x7b-32768. Waiting for 30 seconds.\n"
     ]
    },
    {
     "name": "stderr",
     "output_type": "stream",
     "text": [
      "embedding nodes:  73%|███████▎  | 4851/6648 [2:01:05<32:17,  1.08s/it]"
     ]
    },
    {
     "name": "stdout",
     "output_type": "stream",
     "text": [
      "LLM: mixtral-8x7b-32768 | Request Count: 2442\n",
      "Reached 1 requests for mixtral-8x7b-32768. Waiting for 30 seconds.\n"
     ]
    },
    {
     "name": "stderr",
     "output_type": "stream",
     "text": [
      "embedding nodes:  73%|███████▎  | 4852/6648 [2:01:06<28:36,  1.05it/s]"
     ]
    },
    {
     "name": "stdout",
     "output_type": "stream",
     "text": [
      "LLM: mixtral-8x7b-32768 | Request Count: 2443\n",
      "Reached 1 requests for mixtral-8x7b-32768. Waiting for 30 seconds.\n"
     ]
    },
    {
     "name": "stderr",
     "output_type": "stream",
     "text": [
      "embedding nodes:  73%|███████▎  | 4855/6648 [2:01:13<58:55,  1.97s/it]"
     ]
    },
    {
     "name": "stdout",
     "output_type": "stream",
     "text": [
      "LLM: mixtral-8x7b-32768 | Request Count: 2444\n",
      "Reached 1 requests for mixtral-8x7b-32768. Waiting for 30 seconds.\n"
     ]
    },
    {
     "name": "stderr",
     "output_type": "stream",
     "text": [
      "embedding nodes:  73%|███████▎  | 4857/6648 [2:01:19<1:06:24,  2.22s/it]"
     ]
    },
    {
     "name": "stdout",
     "output_type": "stream",
     "text": [
      "LLM: mixtral-8x7b-32768 | Request Count: 2445\n",
      "Reached 1 requests for mixtral-8x7b-32768. Waiting for 30 seconds.\n"
     ]
    },
    {
     "name": "stderr",
     "output_type": "stream",
     "text": [
      "embedding nodes:  73%|███████▎  | 4858/6648 [2:01:19<56:01,  1.88s/it]  "
     ]
    },
    {
     "name": "stdout",
     "output_type": "stream",
     "text": [
      "LLM: mixtral-8x7b-32768 | Request Count: 2446\n",
      "Reached 1 requests for mixtral-8x7b-32768. Waiting for 30 seconds.\n",
      "LLM: mixtral-8x7b-32768 | Request Count: 2447\n",
      "Reached 1 requests for mixtral-8x7b-32768. Waiting for 30 seconds.\n"
     ]
    },
    {
     "name": "stderr",
     "output_type": "stream",
     "text": [
      "embedding nodes:  73%|███████▎  | 4860/6648 [2:01:20<37:35,  1.26s/it]"
     ]
    },
    {
     "name": "stdout",
     "output_type": "stream",
     "text": [
      "LLM: mixtral-8x7b-32768 | Request Count: 2448\n",
      "Reached 1 requests for mixtral-8x7b-32768. Waiting for 30 seconds.\n"
     ]
    },
    {
     "name": "stderr",
     "output_type": "stream",
     "text": [
      "embedding nodes:  73%|███████▎  | 4868/6648 [2:01:35<40:48,  1.38s/it]  "
     ]
    },
    {
     "name": "stdout",
     "output_type": "stream",
     "text": [
      "LLM: mixtral-8x7b-32768 | Request Count: 2449\n",
      "Reached 1 requests for mixtral-8x7b-32768. Waiting for 30 seconds.\n",
      "LLM: mixtral-8x7b-32768 | Request Count: 2450\n",
      "Reached 1 requests for mixtral-8x7b-32768. Waiting for 30 seconds.\n"
     ]
    },
    {
     "name": "stderr",
     "output_type": "stream",
     "text": [
      "embedding nodes:  73%|███████▎  | 4869/6648 [2:01:36<34:38,  1.17s/it]"
     ]
    },
    {
     "name": "stdout",
     "output_type": "stream",
     "text": [
      "LLM: mixtral-8x7b-32768 | Request Count: 2451\n",
      "Reached 1 requests for mixtral-8x7b-32768. Waiting for 30 seconds.\n"
     ]
    },
    {
     "name": "stderr",
     "output_type": "stream",
     "text": [
      "embedding nodes:  73%|███████▎  | 4871/6648 [2:01:40<43:46,  1.48s/it]"
     ]
    },
    {
     "name": "stdout",
     "output_type": "stream",
     "text": [
      "LLM: mixtral-8x7b-32768 | Request Count: 2452\n",
      "Reached 1 requests for mixtral-8x7b-32768. Waiting for 30 seconds.\n"
     ]
    },
    {
     "name": "stderr",
     "output_type": "stream",
     "text": [
      "embedding nodes:  73%|███████▎  | 4872/6648 [2:01:43<56:37,  1.91s/it]"
     ]
    },
    {
     "name": "stdout",
     "output_type": "stream",
     "text": [
      "LLM: mixtral-8x7b-32768 | Request Count: 2453\n",
      "Reached 1 requests for mixtral-8x7b-32768. Waiting for 30 seconds.\n",
      "LLM: mixtral-8x7b-32768 | Request Count: 2454\n",
      "Reached 1 requests for mixtral-8x7b-32768. Waiting for 30 seconds.\n"
     ]
    },
    {
     "name": "stderr",
     "output_type": "stream",
     "text": [
      "embedding nodes:  73%|███████▎  | 4878/6648 [2:01:50<32:23,  1.10s/it]  "
     ]
    },
    {
     "name": "stdout",
     "output_type": "stream",
     "text": [
      "LLM: mixtral-8x7b-32768 | Request Count: 2455\n",
      "Reached 1 requests for mixtral-8x7b-32768. Waiting for 30 seconds.\n"
     ]
    },
    {
     "name": "stderr",
     "output_type": "stream",
     "text": [
      "embedding nodes:  73%|███████▎  | 4880/6648 [2:01:56<53:54,  1.83s/it]"
     ]
    },
    {
     "name": "stdout",
     "output_type": "stream",
     "text": [
      "LLM: mixtral-8x7b-32768 | Request Count: 2456\n",
      "Reached 1 requests for mixtral-8x7b-32768. Waiting for 30 seconds.\n"
     ]
    },
    {
     "name": "stderr",
     "output_type": "stream",
     "text": [
      "embedding nodes:  73%|███████▎  | 4881/6648 [2:02:02<1:21:28,  2.77s/it]"
     ]
    },
    {
     "name": "stdout",
     "output_type": "stream",
     "text": [
      "LLM: mixtral-8x7b-32768 | Request Count: 2457\n",
      "Reached 1 requests for mixtral-8x7b-32768. Waiting for 30 seconds.\n",
      "LLM: mixtral-8x7b-32768 | Request Count: 2458\n",
      "Reached 1 requests for mixtral-8x7b-32768. Waiting for 30 seconds.\n"
     ]
    },
    {
     "name": "stderr",
     "output_type": "stream",
     "text": [
      "embedding nodes:  73%|███████▎  | 4883/6648 [2:02:03<52:21,  1.78s/it]  "
     ]
    },
    {
     "name": "stdout",
     "output_type": "stream",
     "text": [
      "LLM: mixtral-8x7b-32768 | Request Count: 2459\n",
      "Reached 1 requests for mixtral-8x7b-32768. Waiting for 30 seconds.\n"
     ]
    },
    {
     "name": "stderr",
     "output_type": "stream",
     "text": [
      "embedding nodes:  74%|███████▎  | 4888/6648 [2:02:10<46:57,  1.60s/it]  "
     ]
    },
    {
     "name": "stdout",
     "output_type": "stream",
     "text": [
      "LLM: mixtral-8x7b-32768 | Request Count: 2460\n",
      "Reached 1 requests for mixtral-8x7b-32768. Waiting for 30 seconds.\n",
      "LLM: mixtral-8x7b-32768 | Request Count: 2461\n",
      "Reached 1 requests for mixtral-8x7b-32768. Waiting for 30 seconds.\n"
     ]
    },
    {
     "name": "stderr",
     "output_type": "stream",
     "text": [
      "embedding nodes:  74%|███████▎  | 4891/6648 [2:02:18<1:03:56,  2.18s/it]"
     ]
    },
    {
     "name": "stdout",
     "output_type": "stream",
     "text": [
      "LLM: mixtral-8x7b-32768 | Request Count: 2462\n",
      "Reached 1 requests for mixtral-8x7b-32768. Waiting for 30 seconds.\n",
      "LLM: mixtral-8x7b-32768 | Request Count: 2463\n",
      "Reached 1 requests for mixtral-8x7b-32768. Waiting for 30 seconds.\n"
     ]
    },
    {
     "name": "stderr",
     "output_type": "stream",
     "text": [
      "embedding nodes:  74%|███████▎  | 4897/6648 [2:02:26<47:50,  1.64s/it]  "
     ]
    },
    {
     "name": "stdout",
     "output_type": "stream",
     "text": [
      "LLM: mixtral-8x7b-32768 | Request Count: 2464\n",
      "Reached 1 requests for mixtral-8x7b-32768. Waiting for 30 seconds.\n"
     ]
    },
    {
     "name": "stderr",
     "output_type": "stream",
     "text": [
      "embedding nodes:  74%|███████▎  | 4898/6648 [2:02:32<1:25:52,  2.94s/it]"
     ]
    },
    {
     "name": "stdout",
     "output_type": "stream",
     "text": [
      "LLM: mixtral-8x7b-32768 | Request Count: 2465\n",
      "Reached 1 requests for mixtral-8x7b-32768. Waiting for 30 seconds.\n",
      "LLM: mixtral-8x7b-32768 | Request Count: 2466\n",
      "Reached 1 requests for mixtral-8x7b-32768. Waiting for 30 seconds.\n"
     ]
    },
    {
     "name": "stderr",
     "output_type": "stream",
     "text": [
      "embedding nodes:  74%|███████▎  | 4900/6648 [2:02:33<46:17,  1.59s/it]  "
     ]
    },
    {
     "name": "stdout",
     "output_type": "stream",
     "text": [
      "LLM: mixtral-8x7b-32768 | Request Count: 2467\n",
      "Reached 1 requests for mixtral-8x7b-32768. Waiting for 30 seconds.\n"
     ]
    },
    {
     "name": "stderr",
     "output_type": "stream",
     "text": [
      "embedding nodes:  74%|███████▎  | 4901/6648 [2:02:36<58:26,  2.01s/it]"
     ]
    },
    {
     "name": "stdout",
     "output_type": "stream",
     "text": [
      "LLM: mixtral-8x7b-32768 | Request Count: 2468\n",
      "Reached 1 requests for mixtral-8x7b-32768. Waiting for 30 seconds.\n"
     ]
    },
    {
     "name": "stderr",
     "output_type": "stream",
     "text": [
      "embedding nodes:  74%|███████▍  | 4907/6648 [2:02:48<1:01:42,  2.13s/it]"
     ]
    },
    {
     "name": "stdout",
     "output_type": "stream",
     "text": [
      "LLM: mixtral-8x7b-32768 | Request Count: 2469\n",
      "Reached 1 requests for mixtral-8x7b-32768. Waiting for 30 seconds.\n",
      "LLM: mixtral-8x7b-32768 | Request Count: 2470\n",
      "Reached 1 requests for mixtral-8x7b-32768. Waiting for 30 seconds.\n"
     ]
    },
    {
     "name": "stderr",
     "output_type": "stream",
     "text": [
      "embedding nodes:  74%|███████▍  | 4909/6648 [2:02:51<58:23,  2.01s/it]  "
     ]
    },
    {
     "name": "stdout",
     "output_type": "stream",
     "text": [
      "LLM: mixtral-8x7b-32768 | Request Count: 2471\n",
      "Reached 1 requests for mixtral-8x7b-32768. Waiting for 30 seconds.\n"
     ]
    },
    {
     "name": "stderr",
     "output_type": "stream",
     "text": [
      "embedding nodes:  74%|███████▍  | 4910/6648 [2:02:52<48:42,  1.68s/it]"
     ]
    },
    {
     "name": "stdout",
     "output_type": "stream",
     "text": [
      "LLM: mixtral-8x7b-32768 | Request Count: 2472\n",
      "Reached 1 requests for mixtral-8x7b-32768. Waiting for 30 seconds.\n"
     ]
    },
    {
     "name": "stderr",
     "output_type": "stream",
     "text": [
      "embedding nodes:  74%|███████▍  | 4915/6648 [2:03:02<1:02:30,  2.16s/it]"
     ]
    },
    {
     "name": "stdout",
     "output_type": "stream",
     "text": [
      "LLM: mixtral-8x7b-32768 | Request Count: 2473\n",
      "Reached 1 requests for mixtral-8x7b-32768. Waiting for 30 seconds.\n",
      "LLM: mixtral-8x7b-32768 | Request Count: 2474\n",
      "Reached 1 requests for mixtral-8x7b-32768. Waiting for 30 seconds.\n"
     ]
    },
    {
     "name": "stderr",
     "output_type": "stream",
     "text": [
      "embedding nodes:  74%|███████▍  | 4918/6648 [2:03:06<48:11,  1.67s/it]  "
     ]
    },
    {
     "name": "stdout",
     "output_type": "stream",
     "text": [
      "LLM: mixtral-8x7b-32768 | Request Count: 2475\n",
      "Reached 1 requests for mixtral-8x7b-32768. Waiting for 30 seconds.\n"
     ]
    },
    {
     "name": "stderr",
     "output_type": "stream",
     "text": [
      "embedding nodes:  74%|███████▍  | 4919/6648 [2:03:09<57:53,  2.01s/it]"
     ]
    },
    {
     "name": "stdout",
     "output_type": "stream",
     "text": [
      "LLM: mixtral-8x7b-32768 | Request Count: 2476\n",
      "Reached 1 requests for mixtral-8x7b-32768. Waiting for 30 seconds.\n"
     ]
    },
    {
     "name": "stderr",
     "output_type": "stream",
     "text": [
      "embedding nodes:  74%|███████▍  | 4920/6648 [2:03:12<1:06:36,  2.31s/it]"
     ]
    },
    {
     "name": "stdout",
     "output_type": "stream",
     "text": [
      "LLM: mixtral-8x7b-32768 | Request Count: 2477\n",
      "Reached 1 requests for mixtral-8x7b-32768. Waiting for 30 seconds.\n"
     ]
    },
    {
     "name": "stderr",
     "output_type": "stream",
     "text": [
      "embedding nodes:  74%|███████▍  | 4922/6648 [2:03:15<59:21,  2.06s/it]  "
     ]
    },
    {
     "name": "stdout",
     "output_type": "stream",
     "text": [
      "LLM: mixtral-8x7b-32768 | Request Count: 2478\n",
      "Reached 1 requests for mixtral-8x7b-32768. Waiting for 30 seconds.\n"
     ]
    },
    {
     "name": "stderr",
     "output_type": "stream",
     "text": [
      "embedding nodes:  74%|███████▍  | 4927/6648 [2:03:22<42:03,  1.47s/it]"
     ]
    },
    {
     "name": "stdout",
     "output_type": "stream",
     "text": [
      "LLM: mixtral-8x7b-32768 | Request Count: 2479\n",
      "Reached 1 requests for mixtral-8x7b-32768. Waiting for 30 seconds.\n"
     ]
    },
    {
     "name": "stderr",
     "output_type": "stream",
     "text": [
      "embedding nodes:  74%|███████▍  | 4928/6648 [2:03:25<53:16,  1.86s/it]"
     ]
    },
    {
     "name": "stdout",
     "output_type": "stream",
     "text": [
      "LLM: mixtral-8x7b-32768 | Request Count: 2480\n",
      "Reached 1 requests for mixtral-8x7b-32768. Waiting for 30 seconds.\n"
     ]
    },
    {
     "name": "stderr",
     "output_type": "stream",
     "text": [
      "embedding nodes:  74%|███████▍  | 4929/6648 [2:03:28<1:08:44,  2.40s/it]"
     ]
    },
    {
     "name": "stdout",
     "output_type": "stream",
     "text": [
      "LLM: mixtral-8x7b-32768 | Request Count: 2481\n",
      "Reached 1 requests for mixtral-8x7b-32768. Waiting for 30 seconds.\n"
     ]
    },
    {
     "name": "stderr",
     "output_type": "stream",
     "text": [
      "embedding nodes:  74%|███████▍  | 4930/6648 [2:03:29<54:21,  1.90s/it]  "
     ]
    },
    {
     "name": "stdout",
     "output_type": "stream",
     "text": [
      "LLM: mixtral-8x7b-32768 | Request Count: 2482\n",
      "Reached 1 requests for mixtral-8x7b-32768. Waiting for 30 seconds.\n"
     ]
    },
    {
     "name": "stderr",
     "output_type": "stream",
     "text": [
      "embedding nodes:  74%|███████▍  | 4931/6648 [2:03:31<56:34,  1.98s/it]"
     ]
    },
    {
     "name": "stdout",
     "output_type": "stream",
     "text": [
      "LLM: mixtral-8x7b-32768 | Request Count: 2483\n",
      "Reached 1 requests for mixtral-8x7b-32768. Waiting for 30 seconds.\n"
     ]
    },
    {
     "name": "stderr",
     "output_type": "stream",
     "text": [
      "embedding nodes:  74%|███████▍  | 4937/6648 [2:03:42<58:36,  2.06s/it]"
     ]
    },
    {
     "name": "stdout",
     "output_type": "stream",
     "text": [
      "LLM: mixtral-8x7b-32768 | Request Count: 2484\n",
      "Reached 1 requests for mixtral-8x7b-32768. Waiting for 30 seconds.\n"
     ]
    },
    {
     "name": "stderr",
     "output_type": "stream",
     "text": [
      "embedding nodes:  74%|███████▍  | 4938/6648 [2:03:45<1:08:43,  2.41s/it]"
     ]
    },
    {
     "name": "stdout",
     "output_type": "stream",
     "text": [
      "LLM: mixtral-8x7b-32768 | Request Count: 2485\n",
      "Reached 1 requests for mixtral-8x7b-32768. Waiting for 30 seconds.\n"
     ]
    },
    {
     "name": "stderr",
     "output_type": "stream",
     "text": [
      "embedding nodes:  74%|███████▍  | 4939/6648 [2:03:53<1:54:59,  4.04s/it]"
     ]
    },
    {
     "name": "stdout",
     "output_type": "stream",
     "text": [
      "LLM: mixtral-8x7b-32768 | Request Count: 2486\n",
      "Reached 1 requests for mixtral-8x7b-32768. Waiting for 30 seconds.\n"
     ]
    },
    {
     "name": "stderr",
     "output_type": "stream",
     "text": [
      "embedding nodes:  74%|███████▍  | 4940/6648 [2:03:55<1:34:45,  3.33s/it]"
     ]
    },
    {
     "name": "stdout",
     "output_type": "stream",
     "text": [
      "LLM: mixtral-8x7b-32768 | Request Count: 2487\n",
      "Reached 1 requests for mixtral-8x7b-32768. Waiting for 30 seconds.\n"
     ]
    },
    {
     "name": "stderr",
     "output_type": "stream",
     "text": [
      "embedding nodes:  74%|███████▍  | 4946/6648 [2:04:01<37:46,  1.33s/it]  "
     ]
    },
    {
     "name": "stdout",
     "output_type": "stream",
     "text": [
      "LLM: mixtral-8x7b-32768 | Request Count: 2488\n",
      "Reached 1 requests for mixtral-8x7b-32768. Waiting for 30 seconds.\n",
      "LLM: mixtral-8x7b-32768 | Request Count: 2489\n",
      "Reached 1 requests for mixtral-8x7b-32768. Waiting for 30 seconds.\n"
     ]
    },
    {
     "name": "stderr",
     "output_type": "stream",
     "text": [
      "embedding nodes:  74%|███████▍  | 4947/6648 [2:04:01<29:59,  1.06s/it]"
     ]
    },
    {
     "name": "stdout",
     "output_type": "stream",
     "text": [
      "LLM: mixtral-8x7b-32768 | Request Count: 2490\n",
      "Reached 1 requests for mixtral-8x7b-32768. Waiting for 30 seconds.\n"
     ]
    },
    {
     "name": "stderr",
     "output_type": "stream",
     "text": [
      "embedding nodes:  74%|███████▍  | 4948/6648 [2:04:05<54:40,  1.93s/it]"
     ]
    },
    {
     "name": "stdout",
     "output_type": "stream",
     "text": [
      "LLM: mixtral-8x7b-32768 | Request Count: 2491\n",
      "Reached 1 requests for mixtral-8x7b-32768. Waiting for 30 seconds.\n"
     ]
    },
    {
     "name": "stderr",
     "output_type": "stream",
     "text": [
      "embedding nodes:  74%|███████▍  | 4949/6648 [2:04:12<1:32:01,  3.25s/it]"
     ]
    },
    {
     "name": "stdout",
     "output_type": "stream",
     "text": [
      "LLM: mixtral-8x7b-32768 | Request Count: 2492\n",
      "Reached 1 requests for mixtral-8x7b-32768. Waiting for 30 seconds.\n"
     ]
    },
    {
     "name": "stderr",
     "output_type": "stream",
     "text": [
      "embedding nodes:  75%|███████▍  | 4955/6648 [2:04:23<1:09:31,  2.46s/it]"
     ]
    },
    {
     "name": "stdout",
     "output_type": "stream",
     "text": [
      "LLM: mixtral-8x7b-32768 | Request Count: 2493\n",
      "Reached 1 requests for mixtral-8x7b-32768. Waiting for 30 seconds.\n",
      "LLM: mixtral-8x7b-32768 | Request Count: 2494\n",
      "Reached 1 requests for mixtral-8x7b-32768. Waiting for 30 seconds.\n"
     ]
    },
    {
     "name": "stderr",
     "output_type": "stream",
     "text": [
      "embedding nodes:  75%|███████▍  | 4956/6648 [2:04:25<1:05:41,  2.33s/it]"
     ]
    },
    {
     "name": "stdout",
     "output_type": "stream",
     "text": [
      "LLM: mixtral-8x7b-32768 | Request Count: 2495\n",
      "Reached 1 requests for mixtral-8x7b-32768. Waiting for 30 seconds.\n",
      "LLM: mixtral-8x7b-32768 | Request Count: 2496\n",
      "Reached 1 requests for mixtral-8x7b-32768. Waiting for 30 seconds.\n"
     ]
    },
    {
     "name": "stderr",
     "output_type": "stream",
     "text": [
      "embedding nodes:  75%|███████▍  | 4962/6648 [2:04:45<1:25:58,  3.06s/it]"
     ]
    },
    {
     "name": "stdout",
     "output_type": "stream",
     "text": [
      "LLM: mixtral-8x7b-32768 | Request Count: 2497\n",
      "Reached 1 requests for mixtral-8x7b-32768. Waiting for 30 seconds.\n",
      "LLM: mixtral-8x7b-32768 | Request Count: 2498\n",
      "Reached 1 requests for mixtral-8x7b-32768. Waiting for 30 seconds.\n"
     ]
    },
    {
     "name": "stderr",
     "output_type": "stream",
     "text": [
      "embedding nodes:  75%|███████▍  | 4966/6648 [2:04:50<54:25,  1.94s/it]  "
     ]
    },
    {
     "name": "stdout",
     "output_type": "stream",
     "text": [
      "LLM: mixtral-8x7b-32768 | Request Count: 2499\n",
      "Reached 1 requests for mixtral-8x7b-32768. Waiting for 30 seconds.\n"
     ]
    },
    {
     "name": "stderr",
     "output_type": "stream",
     "text": [
      "embedding nodes:  75%|███████▍  | 4967/6648 [2:04:53<1:00:39,  2.17s/it]"
     ]
    },
    {
     "name": "stdout",
     "output_type": "stream",
     "text": [
      "LLM: mixtral-8x7b-32768 | Request Count: 2500\n",
      "Reached 1 requests for mixtral-8x7b-32768. Waiting for 30 seconds.\n",
      "LLM: mixtral-8x7b-32768 | Request Count: 2501\n",
      "Reached 1 requests for mixtral-8x7b-32768. Waiting for 30 seconds.\n"
     ]
    },
    {
     "name": "stderr",
     "output_type": "stream",
     "text": [
      "embedding nodes:  75%|███████▍  | 4969/6648 [2:05:00<1:16:59,  2.75s/it]"
     ]
    },
    {
     "name": "stdout",
     "output_type": "stream",
     "text": [
      "LLM: mixtral-8x7b-32768 | Request Count: 2502\n",
      "Reached 1 requests for mixtral-8x7b-32768. Waiting for 30 seconds.\n"
     ]
    },
    {
     "name": "stderr",
     "output_type": "stream",
     "text": [
      "embedding nodes:  75%|███████▍  | 4975/6648 [2:05:07<39:17,  1.41s/it]  "
     ]
    },
    {
     "name": "stdout",
     "output_type": "stream",
     "text": [
      "LLM: mixtral-8x7b-32768 | Request Count: 2503\n",
      "Reached 1 requests for mixtral-8x7b-32768. Waiting for 30 seconds.\n"
     ]
    },
    {
     "name": "stderr",
     "output_type": "stream",
     "text": [
      "embedding nodes:  75%|███████▍  | 4976/6648 [2:05:18<1:55:52,  4.16s/it]"
     ]
    },
    {
     "name": "stdout",
     "output_type": "stream",
     "text": [
      "LLM: mixtral-8x7b-32768 | Request Count: 2505LLM: mixtral-8x7b-32768 | Request Count: 2504\n",
      "Reached 1 requests for mixtral-8x7b-32768. Waiting for 30 seconds.\n",
      "\n",
      "Reached 1 requests for mixtral-8x7b-32768. Waiting for 30 seconds.\n"
     ]
    },
    {
     "name": "stderr",
     "output_type": "stream",
     "text": [
      "embedding nodes:  75%|███████▍  | 4978/6648 [2:05:20<1:18:08,  2.81s/it]"
     ]
    },
    {
     "name": "stdout",
     "output_type": "stream",
     "text": [
      "LLM: mixtral-8x7b-32768 | Request Count: 2506\n",
      "Reached 1 requests for mixtral-8x7b-32768. Waiting for 30 seconds.\n"
     ]
    },
    {
     "name": "stderr",
     "output_type": "stream",
     "text": [
      "embedding nodes:  75%|███████▍  | 4979/6648 [2:05:23<1:19:21,  2.85s/it]"
     ]
    },
    {
     "name": "stdout",
     "output_type": "stream",
     "text": [
      "LLM: mixtral-8x7b-32768 | Request Count: 2507\n",
      "Reached 1 requests for mixtral-8x7b-32768. Waiting for 30 seconds.\n"
     ]
    },
    {
     "name": "stderr",
     "output_type": "stream",
     "text": [
      "embedding nodes:  75%|███████▌  | 4986/6648 [2:05:40<1:09:09,  2.50s/it]"
     ]
    },
    {
     "name": "stdout",
     "output_type": "stream",
     "text": [
      "LLM: mixtral-8x7b-32768 | Request Count: 2508\n",
      "Reached 1 requests for mixtral-8x7b-32768. Waiting for 30 seconds.\n",
      "LLM: mixtral-8x7b-32768 | Request Count: 2509\n",
      "Reached 1 requests for mixtral-8x7b-32768. Waiting for 30 seconds.\n"
     ]
    },
    {
     "name": "stderr",
     "output_type": "stream",
     "text": [
      "embedding nodes:  75%|███████▌  | 4988/6648 [2:05:48<1:24:35,  3.06s/it]"
     ]
    },
    {
     "name": "stdout",
     "output_type": "stream",
     "text": [
      "LLM: mixtral-8x7b-32768 | Request Count: 2510\n",
      "Reached 1 requests for mixtral-8x7b-32768. Waiting for 30 seconds.\n",
      "LLM: mixtral-8x7b-32768 | Request Count: 2511\n",
      "Reached 1 requests for mixtral-8x7b-32768. Waiting for 30 seconds.\n"
     ]
    },
    {
     "name": "stderr",
     "output_type": "stream",
     "text": [
      "embedding nodes:  75%|███████▌  | 4990/6648 [2:05:50<1:05:26,  2.37s/it]"
     ]
    },
    {
     "name": "stdout",
     "output_type": "stream",
     "text": [
      "LLM: mixtral-8x7b-32768 | Request Count: 2512\n",
      "Reached 1 requests for mixtral-8x7b-32768. Waiting for 30 seconds.\n"
     ]
    },
    {
     "name": "stderr",
     "output_type": "stream",
     "text": [
      "embedding nodes:  75%|███████▌  | 4991/6648 [2:05:53<1:09:50,  2.53s/it]"
     ]
    },
    {
     "name": "stdout",
     "output_type": "stream",
     "text": [
      "LLM: mixtral-8x7b-32768 | Request Count: 2513\n",
      "Reached 1 requests for mixtral-8x7b-32768. Waiting for 30 seconds.\n"
     ]
    },
    {
     "name": "stderr",
     "output_type": "stream",
     "text": [
      "embedding nodes:  75%|███████▌  | 4998/6648 [2:06:11<37:02,  1.35s/it]  "
     ]
    },
    {
     "name": "stdout",
     "output_type": "stream",
     "text": [
      "LLM: mixtral-8x7b-32768 | Request Count: 2514\n",
      "Reached 1 requests for mixtral-8x7b-32768. Waiting for 30 seconds.\n"
     ]
    },
    {
     "name": "stderr",
     "output_type": "stream",
     "text": [
      "embedding nodes:  75%|███████▌  | 4999/6648 [2:06:18<1:13:53,  2.69s/it]"
     ]
    },
    {
     "name": "stdout",
     "output_type": "stream",
     "text": [
      "LLM: mixtral-8x7b-32768 | Request Count: 2515LLM: mixtral-8x7b-32768 | Request Count: 2516\n",
      "Reached 1 requests for mixtral-8x7b-32768. Waiting for 30 seconds.\n",
      "\n",
      "Reached 1 requests for mixtral-8x7b-32768. Waiting for 30 seconds.\n"
     ]
    },
    {
     "name": "stderr",
     "output_type": "stream",
     "text": [
      "embedding nodes:  75%|███████▌  | 5000/6648 [2:06:18<57:11,  2.08s/it]  "
     ]
    },
    {
     "name": "stdout",
     "output_type": "stream",
     "text": [
      "LLM: mixtral-8x7b-32768 | Request Count: 2517\n",
      "Reached 1 requests for mixtral-8x7b-32768. Waiting for 30 seconds.\n"
     ]
    },
    {
     "name": "stderr",
     "output_type": "stream",
     "text": [
      "embedding nodes:  75%|███████▌  | 5001/6648 [2:06:20<56:44,  2.07s/it]"
     ]
    },
    {
     "name": "stdout",
     "output_type": "stream",
     "text": [
      "LLM: mixtral-8x7b-32768 | Request Count: 2518\n",
      "Reached 1 requests for mixtral-8x7b-32768. Waiting for 30 seconds.\n"
     ]
    },
    {
     "name": "stderr",
     "output_type": "stream",
     "text": [
      "embedding nodes:  75%|███████▌  | 5008/6648 [2:06:44<55:16,  2.02s/it]  "
     ]
    },
    {
     "name": "stdout",
     "output_type": "stream",
     "text": [
      "LLM: mixtral-8x7b-32768 | Request Count: 2519\n",
      "Reached 1 requests for mixtral-8x7b-32768. Waiting for 30 seconds.\n",
      "LLM: mixtral-8x7b-32768 | Request Count: 2520\n",
      "Reached 1 requests for mixtral-8x7b-32768. Waiting for 30 seconds.\n",
      "LLM: mixtral-8x7b-32768 | Request Count: 2521\n",
      "Reached 1 requests for mixtral-8x7b-32768. Waiting for 30 seconds.\n",
      "LLM: mixtral-8x7b-32768 | Request Count: 2522\n",
      "Reached 1 requests for mixtral-8x7b-32768. Waiting for 30 seconds.\n"
     ]
    },
    {
     "name": "stderr",
     "output_type": "stream",
     "text": [
      "embedding nodes:  75%|███████▌  | 5010/6648 [2:06:48<52:17,  1.92s/it]"
     ]
    },
    {
     "name": "stdout",
     "output_type": "stream",
     "text": [
      "LLM: mixtral-8x7b-32768 | Request Count: 2523LLM: mixtral-8x7b-32768 | Request Count: 2524\n",
      "Reached 1 requests for mixtral-8x7b-32768. Waiting for 30 seconds.\n",
      "\n",
      "Reached 1 requests for mixtral-8x7b-32768. Waiting for 30 seconds.\n"
     ]
    },
    {
     "name": "stderr",
     "output_type": "stream",
     "text": [
      "embedding nodes:  75%|███████▌  | 5016/6648 [2:07:08<1:39:08,  3.64s/it]"
     ]
    },
    {
     "name": "stdout",
     "output_type": "stream",
     "text": [
      "LLM: mixtral-8x7b-32768 | Request Count: 2525\n",
      "Reached 1 requests for mixtral-8x7b-32768. Waiting for 30 seconds.\n"
     ]
    },
    {
     "name": "stderr",
     "output_type": "stream",
     "text": [
      "embedding nodes:  75%|███████▌  | 5018/6648 [2:07:13<1:27:26,  3.22s/it]"
     ]
    },
    {
     "name": "stdout",
     "output_type": "stream",
     "text": [
      "LLM: mixtral-8x7b-32768 | Request Count: 2526\n",
      "Reached 1 requests for mixtral-8x7b-32768. Waiting for 30 seconds.\n"
     ]
    },
    {
     "name": "stderr",
     "output_type": "stream",
     "text": [
      "embedding nodes:  75%|███████▌  | 5019/6648 [2:07:14<1:10:02,  2.58s/it]"
     ]
    },
    {
     "name": "stdout",
     "output_type": "stream",
     "text": [
      "LLM: mixtral-8x7b-32768 | Request Count: 2527\n",
      "Reached 1 requests for mixtral-8x7b-32768. Waiting for 30 seconds.\n"
     ]
    },
    {
     "name": "stderr",
     "output_type": "stream",
     "text": [
      "embedding nodes:  76%|███████▌  | 5020/6648 [2:07:14<57:27,  2.12s/it]  "
     ]
    },
    {
     "name": "stdout",
     "output_type": "stream",
     "text": [
      "LLM: mixtral-8x7b-32768 | Request Count: 2528\n",
      "Reached 1 requests for mixtral-8x7b-32768. Waiting for 30 seconds.\n",
      "LLM: mixtral-8x7b-32768 | Request Count: 2529\n",
      "Reached 1 requests for mixtral-8x7b-32768. Waiting for 30 seconds.\n"
     ]
    },
    {
     "name": "stderr",
     "output_type": "stream",
     "text": [
      "embedding nodes:  76%|███████▌  | 5025/6648 [2:07:18<28:45,  1.06s/it]"
     ]
    },
    {
     "name": "stdout",
     "output_type": "stream",
     "text": [
      "LLM: mixtral-8x7b-32768 | Request Count: 2530\n",
      "Reached 1 requests for mixtral-8x7b-32768. Waiting for 30 seconds.\n"
     ]
    },
    {
     "name": "stderr",
     "output_type": "stream",
     "text": [
      "embedding nodes:  76%|███████▌  | 5027/6648 [2:07:28<1:06:51,  2.47s/it]"
     ]
    },
    {
     "name": "stdout",
     "output_type": "stream",
     "text": [
      "LLM: mixtral-8x7b-32768 | Request Count: 2531\n",
      "Reached 1 requests for mixtral-8x7b-32768. Waiting for 30 seconds.\n",
      "LLM: mixtral-8x7b-32768 | Request Count: 2532\n",
      "Reached 1 requests for mixtral-8x7b-32768. Waiting for 30 seconds.\n"
     ]
    },
    {
     "name": "stderr",
     "output_type": "stream",
     "text": [
      "embedding nodes:  76%|███████▌  | 5029/6648 [2:07:31<58:28,  2.17s/it]  "
     ]
    },
    {
     "name": "stdout",
     "output_type": "stream",
     "text": [
      "LLM: mixtral-8x7b-32768 | Request Count: 2533\n",
      "Reached 1 requests for mixtral-8x7b-32768. Waiting for 30 seconds.\n",
      "LLM: mixtral-8x7b-32768 | Request Count: 2534\n",
      "Reached 1 requests for mixtral-8x7b-32768. Waiting for 30 seconds.\n"
     ]
    },
    {
     "name": "stderr",
     "output_type": "stream",
     "text": [
      "embedding nodes:  76%|███████▌  | 5037/6648 [2:07:44<43:14,  1.61s/it]"
     ]
    },
    {
     "name": "stdout",
     "output_type": "stream",
     "text": [
      "LLM: mixtral-8x7b-32768 | Request Count: 2535\n",
      "Reached 1 requests for mixtral-8x7b-32768. Waiting for 30 seconds.\n"
     ]
    },
    {
     "name": "stderr",
     "output_type": "stream",
     "text": [
      "embedding nodes:  76%|███████▌  | 5039/6648 [2:07:44<29:41,  1.11s/it]"
     ]
    },
    {
     "name": "stdout",
     "output_type": "stream",
     "text": [
      "LLM: mixtral-8x7b-32768 | Request Count: 2536\n",
      "Reached 1 requests for mixtral-8x7b-32768. Waiting for 30 seconds.\n",
      "LLM: mixtral-8x7b-32768 | Request Count: 2537\n",
      "Reached 1 requests for mixtral-8x7b-32768. Waiting for 30 seconds.\n"
     ]
    },
    {
     "name": "stderr",
     "output_type": "stream",
     "text": [
      "embedding nodes:  76%|███████▌  | 5040/6648 [2:07:46<34:42,  1.30s/it]"
     ]
    },
    {
     "name": "stdout",
     "output_type": "stream",
     "text": [
      "LLM: mixtral-8x7b-32768 | Request Count: 2538\n",
      "Reached 1 requests for mixtral-8x7b-32768. Waiting for 30 seconds.\n",
      "LLM: mixtral-8x7b-32768 | Request Count: 2539\n",
      "Reached 1 requests for mixtral-8x7b-32768. Waiting for 30 seconds.\n"
     ]
    },
    {
     "name": "stderr",
     "output_type": "stream",
     "text": [
      "embedding nodes:  76%|███████▌  | 5045/6648 [2:07:52<32:37,  1.22s/it]"
     ]
    },
    {
     "name": "stdout",
     "output_type": "stream",
     "text": [
      "LLM: mixtral-8x7b-32768 | Request Count: 2540\n",
      "Reached 1 requests for mixtral-8x7b-32768. Waiting for 30 seconds.\n"
     ]
    },
    {
     "name": "stderr",
     "output_type": "stream",
     "text": [
      "embedding nodes:  76%|███████▌  | 5046/6648 [2:07:53<34:58,  1.31s/it]"
     ]
    },
    {
     "name": "stdout",
     "output_type": "stream",
     "text": [
      "LLM: mixtral-8x7b-32768 | Request Count: 2541\n",
      "Reached 1 requests for mixtral-8x7b-32768. Waiting for 30 seconds.\n"
     ]
    },
    {
     "name": "stderr",
     "output_type": "stream",
     "text": [
      "embedding nodes:  76%|███████▌  | 5048/6648 [2:07:58<48:08,  1.81s/it]"
     ]
    },
    {
     "name": "stdout",
     "output_type": "stream",
     "text": [
      "LLM: mixtral-8x7b-32768 | Request Count: 2542\n",
      "Reached 1 requests for mixtral-8x7b-32768. Waiting for 30 seconds.\n"
     ]
    },
    {
     "name": "stderr",
     "output_type": "stream",
     "text": [
      "embedding nodes:  76%|███████▌  | 5050/6648 [2:08:01<48:11,  1.81s/it]"
     ]
    },
    {
     "name": "stdout",
     "output_type": "stream",
     "text": [
      "LLM: mixtral-8x7b-32768 | Request Count: 2543\n",
      "Reached 1 requests for mixtral-8x7b-32768. Waiting for 30 seconds.\n"
     ]
    },
    {
     "name": "stderr",
     "output_type": "stream",
     "text": [
      "embedding nodes:  76%|███████▌  | 5053/6648 [2:08:05<48:05,  1.81s/it]"
     ]
    },
    {
     "name": "stdout",
     "output_type": "stream",
     "text": [
      "LLM: mixtral-8x7b-32768 | Request Count: 2544\n",
      "Reached 1 requests for mixtral-8x7b-32768. Waiting for 30 seconds.\n",
      "LLM: mixtral-8x7b-32768 | Request Count: 2545\n",
      "Reached 1 requests for mixtral-8x7b-32768. Waiting for 30 seconds.\n"
     ]
    },
    {
     "name": "stderr",
     "output_type": "stream",
     "text": [
      "embedding nodes:  76%|███████▌  | 5060/6648 [2:08:18<26:45,  1.01s/it]  "
     ]
    },
    {
     "name": "stdout",
     "output_type": "stream",
     "text": [
      "LLM: mixtral-8x7b-32768 | Request Count: 2546\n",
      "Reached 1 requests for mixtral-8x7b-32768. Waiting for 30 seconds.\n",
      "LLM: mixtral-8x7b-32768 | Request Count: 2547\n",
      "Reached 1 requests for mixtral-8x7b-32768. Waiting for 30 seconds.\n",
      "LLM: mixtral-8x7b-32768 | Request Count: 2548\n",
      "Reached 1 requests for mixtral-8x7b-32768. Waiting for 30 seconds.\n"
     ]
    },
    {
     "name": "stderr",
     "output_type": "stream",
     "text": [
      "embedding nodes:  76%|███████▌  | 5062/6648 [2:08:23<44:28,  1.68s/it]"
     ]
    },
    {
     "name": "stdout",
     "output_type": "stream",
     "text": [
      "LLM: mixtral-8x7b-32768 | Request Count: 2549\n",
      "Reached 1 requests for mixtral-8x7b-32768. Waiting for 30 seconds.\n"
     ]
    },
    {
     "name": "stderr",
     "output_type": "stream",
     "text": [
      "embedding nodes:  76%|███████▌  | 5063/6648 [2:08:28<1:04:17,  2.43s/it]"
     ]
    },
    {
     "name": "stdout",
     "output_type": "stream",
     "text": [
      "LLM: mixtral-8x7b-32768 | Request Count: 2550\n",
      "Reached 1 requests for mixtral-8x7b-32768. Waiting for 30 seconds.\n"
     ]
    },
    {
     "name": "stderr",
     "output_type": "stream",
     "text": [
      "embedding nodes:  76%|███████▌  | 5064/6648 [2:08:31<1:09:56,  2.65s/it]"
     ]
    },
    {
     "name": "stdout",
     "output_type": "stream",
     "text": [
      "LLM: mixtral-8x7b-32768 | Request Count: 2551\n",
      "Reached 1 requests for mixtral-8x7b-32768. Waiting for 30 seconds.\n"
     ]
    },
    {
     "name": "stderr",
     "output_type": "stream",
     "text": [
      "embedding nodes:  76%|███████▋  | 5071/6648 [2:08:50<1:25:39,  3.26s/it]"
     ]
    },
    {
     "name": "stdout",
     "output_type": "stream",
     "text": [
      "LLM: mixtral-8x7b-32768 | Request Count: 2552\n",
      "Reached 1 requests for mixtral-8x7b-32768. Waiting for 30 seconds.\n",
      "LLM: mixtral-8x7b-32768 | Request Count: 2553\n",
      "Reached 1 requests for mixtral-8x7b-32768. Waiting for 30 seconds.\n"
     ]
    },
    {
     "name": "stderr",
     "output_type": "stream",
     "text": [
      "embedding nodes:  76%|███████▋  | 5073/6648 [2:08:52<1:01:17,  2.34s/it]"
     ]
    },
    {
     "name": "stdout",
     "output_type": "stream",
     "text": [
      "LLM: mixtral-8x7b-32768 | Request Count: 2554\n",
      "Reached 1 requests for mixtral-8x7b-32768. Waiting for 30 seconds.\n"
     ]
    },
    {
     "name": "stderr",
     "output_type": "stream",
     "text": [
      "embedding nodes:  76%|███████▋  | 5077/6648 [2:08:53<24:32,  1.07it/s]  "
     ]
    },
    {
     "name": "stdout",
     "output_type": "stream",
     "text": [
      "LLM: mixtral-8x7b-32768 | Request Count: 2555\n",
      "Reached 1 requests for mixtral-8x7b-32768. Waiting for 30 seconds.\n"
     ]
    },
    {
     "name": "stderr",
     "output_type": "stream",
     "text": [
      "embedding nodes:  76%|███████▋  | 5079/6648 [2:08:53<17:26,  1.50it/s]"
     ]
    },
    {
     "name": "stdout",
     "output_type": "stream",
     "text": [
      "LLM: mixtral-8x7b-32768 | Request Count: 2556\n",
      "Reached 1 requests for mixtral-8x7b-32768. Waiting for 30 seconds.\n"
     ]
    },
    {
     "name": "stderr",
     "output_type": "stream",
     "text": [
      "embedding nodes:  76%|███████▋  | 5080/6648 [2:08:58<42:23,  1.62s/it]"
     ]
    },
    {
     "name": "stdout",
     "output_type": "stream",
     "text": [
      "LLM: mixtral-8x7b-32768 | Request Count: 2557\n",
      "Reached 1 requests for mixtral-8x7b-32768. Waiting for 30 seconds.\n"
     ]
    },
    {
     "name": "stderr",
     "output_type": "stream",
     "text": [
      "embedding nodes:  76%|███████▋  | 5081/6648 [2:09:01<53:16,  2.04s/it]"
     ]
    },
    {
     "name": "stdout",
     "output_type": "stream",
     "text": [
      "LLM: mixtral-8x7b-32768 | Request Count: 2558\n",
      "Reached 1 requests for mixtral-8x7b-32768. Waiting for 30 seconds.\n"
     ]
    },
    {
     "name": "stderr",
     "output_type": "stream",
     "text": [
      "embedding nodes:  77%|███████▋  | 5086/6648 [2:09:12<46:43,  1.79s/it]  "
     ]
    },
    {
     "name": "stdout",
     "output_type": "stream",
     "text": [
      "LLM: mixtral-8x7b-32768 | Request Count: 2559\n",
      "Reached 1 requests for mixtral-8x7b-32768. Waiting for 30 seconds.\n",
      "LLM: mixtral-8x7b-32768 | Request Count: 2560\n",
      "Reached 1 requests for mixtral-8x7b-32768. Waiting for 30 seconds.\n"
     ]
    },
    {
     "name": "stderr",
     "output_type": "stream",
     "text": [
      "embedding nodes:  77%|███████▋  | 5087/6648 [2:09:20<1:34:39,  3.64s/it]"
     ]
    },
    {
     "name": "stdout",
     "output_type": "stream",
     "text": [
      "LLM: mixtral-8x7b-32768 | Request Count: 2561\n",
      "Reached 1 requests for mixtral-8x7b-32768. Waiting for 30 seconds.\n",
      "LLM: mixtral-8x7b-32768 | Request Count: 2562\n",
      "Reached 1 requests for mixtral-8x7b-32768. Waiting for 30 seconds.\n",
      "LLM: mixtral-8x7b-32768 | Request Count: 2563\n",
      "Reached 1 requests for mixtral-8x7b-32768. Waiting for 30 seconds.\n"
     ]
    },
    {
     "name": "stderr",
     "output_type": "stream",
     "text": [
      "embedding nodes:  77%|███████▋  | 5095/6648 [2:09:29<36:34,  1.41s/it]  "
     ]
    },
    {
     "name": "stdout",
     "output_type": "stream",
     "text": [
      "LLM: mixtral-8x7b-32768 | Request Count: 2564\n",
      "Reached 1 requests for mixtral-8x7b-32768. Waiting for 30 seconds.\n"
     ]
    },
    {
     "name": "stderr",
     "output_type": "stream",
     "text": [
      "embedding nodes:  77%|███████▋  | 5097/6648 [2:09:42<1:49:08,  4.22s/it]"
     ]
    },
    {
     "name": "stdout",
     "output_type": "stream",
     "text": [
      "LLM: mixtral-8x7b-32768 | Request Count: 2565\n",
      "Reached 1 requests for mixtral-8x7b-32768. Waiting for 30 seconds.\n",
      "LLM: mixtral-8x7b-32768 | Request Count: 2566\n",
      "Reached 1 requests for mixtral-8x7b-32768. Waiting for 30 seconds.\n"
     ]
    },
    {
     "name": "stderr",
     "output_type": "stream",
     "text": [
      "embedding nodes:  77%|███████▋  | 5099/6648 [2:09:45<1:16:58,  2.98s/it]"
     ]
    },
    {
     "name": "stdout",
     "output_type": "stream",
     "text": [
      "LLM: mixtral-8x7b-32768 | Request Count: 2567\n",
      "Reached 1 requests for mixtral-8x7b-32768. Waiting for 30 seconds.\n"
     ]
    },
    {
     "name": "stderr",
     "output_type": "stream",
     "text": [
      "embedding nodes:  77%|███████▋  | 5104/6648 [2:09:49<33:49,  1.31s/it]  "
     ]
    },
    {
     "name": "stdout",
     "output_type": "stream",
     "text": [
      "LLM: mixtral-8x7b-32768 | Request Count: 2568\n",
      "Reached 1 requests for mixtral-8x7b-32768. Waiting for 30 seconds.\n",
      "LLM: mixtral-8x7b-32768 | Request Count: 2569\n",
      "Reached 1 requests for mixtral-8x7b-32768. Waiting for 30 seconds.\n",
      "LLM: mixtral-8x7b-32768 | Request Count: 2570\n",
      "Reached 1 requests for mixtral-8x7b-32768. Waiting for 30 seconds.\n",
      "LLM: mixtral-8x7b-32768 | Request Count: 2571\n",
      "Reached 1 requests for mixtral-8x7b-32768. Waiting for 30 seconds.\n",
      "LLM: mixtral-8x7b-32768 | Request Count: 2572\n",
      "Reached 1 requests for mixtral-8x7b-32768. Waiting for 30 seconds.\n"
     ]
    },
    {
     "name": "stderr",
     "output_type": "stream",
     "text": [
      "embedding nodes:  77%|███████▋  | 5110/6648 [2:10:01<43:03,  1.68s/it]"
     ]
    },
    {
     "name": "stdout",
     "output_type": "stream",
     "text": [
      "LLM: mixtral-8x7b-32768 | Request Count: 2573\n",
      "Reached 1 requests for mixtral-8x7b-32768. Waiting for 30 seconds.\n"
     ]
    },
    {
     "name": "stderr",
     "output_type": "stream",
     "text": [
      "embedding nodes:  77%|███████▋  | 5114/6648 [2:10:12<53:07,  2.08s/it]  "
     ]
    },
    {
     "name": "stdout",
     "output_type": "stream",
     "text": [
      "LLM: mixtral-8x7b-32768 | Request Count: 2574\n",
      "Reached 1 requests for mixtral-8x7b-32768. Waiting for 30 seconds.\n"
     ]
    },
    {
     "name": "stderr",
     "output_type": "stream",
     "text": [
      "embedding nodes:  77%|███████▋  | 5116/6648 [2:10:15<47:41,  1.87s/it]"
     ]
    },
    {
     "name": "stdout",
     "output_type": "stream",
     "text": [
      "LLM: mixtral-8x7b-32768 | Request Count: 2575\n",
      "Reached 1 requests for mixtral-8x7b-32768. Waiting for 30 seconds.\n"
     ]
    },
    {
     "name": "stderr",
     "output_type": "stream",
     "text": [
      "embedding nodes:  77%|███████▋  | 5117/6648 [2:10:15<39:13,  1.54s/it]"
     ]
    },
    {
     "name": "stdout",
     "output_type": "stream",
     "text": [
      "LLM: mixtral-8x7b-32768 | Request Count: 2576\n",
      "Reached 1 requests for mixtral-8x7b-32768. Waiting for 30 seconds.\n"
     ]
    },
    {
     "name": "stderr",
     "output_type": "stream",
     "text": [
      "embedding nodes:  77%|███████▋  | 5118/6648 [2:10:20<56:32,  2.22s/it]"
     ]
    },
    {
     "name": "stdout",
     "output_type": "stream",
     "text": [
      "LLM: mixtral-8x7b-32768 | Request Count: 2577\n",
      "Reached 1 requests for mixtral-8x7b-32768. Waiting for 30 seconds.\n",
      "LLM: mixtral-8x7b-32768 | Request Count: 2578\n",
      "Reached 1 requests for mixtral-8x7b-32768. Waiting for 30 seconds.\n"
     ]
    },
    {
     "name": "stderr",
     "output_type": "stream",
     "text": [
      "embedding nodes:  77%|███████▋  | 5126/6648 [2:10:31<57:56,  2.28s/it]"
     ]
    },
    {
     "name": "stdout",
     "output_type": "stream",
     "text": [
      "LLM: mixtral-8x7b-32768 | Request Count: 2579\n",
      "Reached 1 requests for mixtral-8x7b-32768. Waiting for 30 seconds.\n"
     ]
    },
    {
     "name": "stderr",
     "output_type": "stream",
     "text": [
      "embedding nodes:  77%|███████▋  | 5127/6648 [2:10:39<1:29:32,  3.53s/it]"
     ]
    },
    {
     "name": "stdout",
     "output_type": "stream",
     "text": [
      "LLM: mixtral-8x7b-32768 | Request Count: 2580\n",
      "Reached 1 requests for mixtral-8x7b-32768. Waiting for 30 seconds.\n",
      "LLM: mixtral-8x7b-32768 | Request Count: 2581\n",
      "Reached 1 requests for mixtral-8x7b-32768. Waiting for 30 seconds.\n",
      "LLM: mixtral-8x7b-32768 | Request Count: 2582\n",
      "Reached 1 requests for mixtral-8x7b-32768. Waiting for 30 seconds.\n"
     ]
    },
    {
     "name": "stderr",
     "output_type": "stream",
     "text": [
      "embedding nodes:  77%|███████▋  | 5130/6648 [2:10:39<47:09,  1.86s/it]  "
     ]
    },
    {
     "name": "stdout",
     "output_type": "stream",
     "text": [
      "LLM: mixtral-8x7b-32768 | Request Count: 2583\n",
      "Reached 1 requests for mixtral-8x7b-32768. Waiting for 30 seconds.\n"
     ]
    },
    {
     "name": "stderr",
     "output_type": "stream",
     "text": [
      "embedding nodes:  77%|███████▋  | 5135/6648 [2:10:45<35:28,  1.41s/it]"
     ]
    },
    {
     "name": "stdout",
     "output_type": "stream",
     "text": [
      "LLM: mixtral-8x7b-32768 | Request Count: 2584\n",
      "Reached 1 requests for mixtral-8x7b-32768. Waiting for 30 seconds.\n"
     ]
    },
    {
     "name": "stderr",
     "output_type": "stream",
     "text": [
      "embedding nodes:  77%|███████▋  | 5136/6648 [2:10:50<57:41,  2.29s/it]"
     ]
    },
    {
     "name": "stdout",
     "output_type": "stream",
     "text": [
      "LLM: mixtral-8x7b-32768 | Request Count: 2585\n",
      "Reached 1 requests for mixtral-8x7b-32768. Waiting for 30 seconds.\n",
      "LLM: mixtral-8x7b-32768 | Request Count: 2586\n",
      "Reached 1 requests for mixtral-8x7b-32768. Waiting for 30 seconds.\n"
     ]
    },
    {
     "name": "stderr",
     "output_type": "stream",
     "text": [
      "embedding nodes:  77%|███████▋  | 5138/6648 [2:10:53<48:17,  1.92s/it]"
     ]
    },
    {
     "name": "stdout",
     "output_type": "stream",
     "text": [
      "LLM: mixtral-8x7b-32768 | Request Count: 2587\n",
      "Reached 1 requests for mixtral-8x7b-32768. Waiting for 30 seconds.\n",
      "LLM: mixtral-8x7b-32768 | Request Count: 2588\n",
      "Reached 1 requests for mixtral-8x7b-32768. Waiting for 30 seconds.\n"
     ]
    },
    {
     "name": "stderr",
     "output_type": "stream",
     "text": [
      "embedding nodes:  77%|███████▋  | 5146/6648 [2:11:09<38:31,  1.54s/it]  "
     ]
    },
    {
     "name": "stdout",
     "output_type": "stream",
     "text": [
      "LLM: mixtral-8x7b-32768 | Request Count: 2589\n",
      "Reached 1 requests for mixtral-8x7b-32768. Waiting for 30 seconds.\n",
      "LLM: mixtral-8x7b-32768 | Request Count: 2590\n",
      "Reached 1 requests for mixtral-8x7b-32768. Waiting for 30 seconds.\n"
     ]
    },
    {
     "name": "stderr",
     "output_type": "stream",
     "text": [
      "embedding nodes:  77%|███████▋  | 5149/6648 [2:11:14<41:01,  1.64s/it]"
     ]
    },
    {
     "name": "stdout",
     "output_type": "stream",
     "text": [
      "LLM: mixtral-8x7b-32768 | Request Count: 2591\n",
      "Reached 1 requests for mixtral-8x7b-32768. Waiting for 30 seconds.\n"
     ]
    },
    {
     "name": "stderr",
     "output_type": "stream",
     "text": [
      "embedding nodes:  77%|███████▋  | 5150/6648 [2:11:16<39:14,  1.57s/it]"
     ]
    },
    {
     "name": "stdout",
     "output_type": "stream",
     "text": [
      "LLM: mixtral-8x7b-32768 | Request Count: 2592\n",
      "Reached 1 requests for mixtral-8x7b-32768. Waiting for 30 seconds.\n"
     ]
    },
    {
     "name": "stderr",
     "output_type": "stream",
     "text": [
      "embedding nodes:  77%|███████▋  | 5152/6648 [2:11:18<32:45,  1.31s/it]"
     ]
    },
    {
     "name": "stdout",
     "output_type": "stream",
     "text": [
      "LLM: mixtral-8x7b-32768 | Request Count: 2593\n",
      "Reached 1 requests for mixtral-8x7b-32768. Waiting for 30 seconds.\n",
      "LLM: mixtral-8x7b-32768 | Request Count: 2594\n",
      "Reached 1 requests for mixtral-8x7b-32768. Waiting for 30 seconds.\n"
     ]
    },
    {
     "name": "stderr",
     "output_type": "stream",
     "text": [
      "embedding nodes:  78%|███████▊  | 5157/6648 [2:11:23<26:04,  1.05s/it]"
     ]
    },
    {
     "name": "stdout",
     "output_type": "stream",
     "text": [
      "LLM: mixtral-8x7b-32768 | Request Count: 2595\n",
      "Reached 1 requests for mixtral-8x7b-32768. Waiting for 30 seconds.\n",
      "LLM: mixtral-8x7b-32768 | Request Count: 2596\n",
      "Reached 1 requests for mixtral-8x7b-32768. Waiting for 30 seconds.\n"
     ]
    },
    {
     "name": "stderr",
     "output_type": "stream",
     "text": [
      "embedding nodes:  78%|███████▊  | 5159/6648 [2:11:34<1:14:30,  3.00s/it]"
     ]
    },
    {
     "name": "stdout",
     "output_type": "stream",
     "text": [
      "LLM: mixtral-8x7b-32768 | Request Count: 2597\n",
      "Reached 1 requests for mixtral-8x7b-32768. Waiting for 30 seconds.\n",
      "LLM: mixtral-8x7b-32768 | Request Count: 2598\n",
      "Reached 1 requests for mixtral-8x7b-32768. Waiting for 30 seconds.\n"
     ]
    },
    {
     "name": "stderr",
     "output_type": "stream",
     "text": [
      "embedding nodes:  78%|███████▊  | 5161/6648 [2:11:35<47:48,  1.93s/it]  "
     ]
    },
    {
     "name": "stdout",
     "output_type": "stream",
     "text": [
      "LLM: mixtral-8x7b-32768 | Request Count: 2599\n",
      "Reached 1 requests for mixtral-8x7b-32768. Waiting for 30 seconds.\n"
     ]
    },
    {
     "name": "stderr",
     "output_type": "stream",
     "text": [
      "embedding nodes:  78%|███████▊  | 5162/6648 [2:11:36<41:56,  1.69s/it]"
     ]
    },
    {
     "name": "stdout",
     "output_type": "stream",
     "text": [
      "LLM: mixtral-8x7b-32768 | Request Count: 2600\n",
      "Reached 1 requests for mixtral-8x7b-32768. Waiting for 30 seconds.\n"
     ]
    },
    {
     "name": "stderr",
     "output_type": "stream",
     "text": [
      "embedding nodes:  78%|███████▊  | 5169/6648 [2:11:54<1:02:00,  2.52s/it]"
     ]
    },
    {
     "name": "stdout",
     "output_type": "stream",
     "text": [
      "LLM: mixtral-8x7b-32768 | Request Count: 2601\n",
      "Reached 1 requests for mixtral-8x7b-32768. Waiting for 30 seconds.\n"
     ]
    },
    {
     "name": "stderr",
     "output_type": "stream",
     "text": [
      "embedding nodes:  78%|███████▊  | 5170/6648 [2:11:54<48:02,  1.95s/it]  "
     ]
    },
    {
     "name": "stdout",
     "output_type": "stream",
     "text": [
      "LLM: mixtral-8x7b-32768 | Request Count: 2602\n",
      "Reached 1 requests for mixtral-8x7b-32768. Waiting for 30 seconds.\n"
     ]
    },
    {
     "name": "stderr",
     "output_type": "stream",
     "text": [
      "embedding nodes:  78%|███████▊  | 5171/6648 [2:11:59<1:07:41,  2.75s/it]"
     ]
    },
    {
     "name": "stdout",
     "output_type": "stream",
     "text": [
      "LLM: mixtral-8x7b-32768 | Request Count: 2603\n",
      "Reached 1 requests for mixtral-8x7b-32768. Waiting for 30 seconds.\n"
     ]
    },
    {
     "name": "stderr",
     "output_type": "stream",
     "text": [
      "embedding nodes:  78%|███████▊  | 5174/6648 [2:12:04<52:50,  2.15s/it]  "
     ]
    },
    {
     "name": "stdout",
     "output_type": "stream",
     "text": [
      "LLM: mixtral-8x7b-32768 | Request Count: 2604\n",
      "Reached 1 requests for mixtral-8x7b-32768. Waiting for 30 seconds.\n"
     ]
    },
    {
     "name": "stderr",
     "output_type": "stream",
     "text": [
      "embedding nodes:  78%|███████▊  | 5176/6648 [2:12:05<31:54,  1.30s/it]"
     ]
    },
    {
     "name": "stdout",
     "output_type": "stream",
     "text": [
      "LLM: mixtral-8x7b-32768 | Request Count: 2605\n",
      "Reached 1 requests for mixtral-8x7b-32768. Waiting for 30 seconds.\n"
     ]
    },
    {
     "name": "stderr",
     "output_type": "stream",
     "text": [
      "embedding nodes:  78%|███████▊  | 5179/6648 [2:12:07<19:07,  1.28it/s]"
     ]
    },
    {
     "name": "stdout",
     "output_type": "stream",
     "text": [
      "LLM: mixtral-8x7b-32768 | Request Count: 2606\n",
      "Reached 1 requests for mixtral-8x7b-32768. Waiting for 30 seconds.\n"
     ]
    },
    {
     "name": "stderr",
     "output_type": "stream",
     "text": [
      "embedding nodes:  78%|███████▊  | 5181/6648 [2:12:23<1:57:06,  4.79s/it]"
     ]
    },
    {
     "name": "stdout",
     "output_type": "stream",
     "text": [
      "LLM: mixtral-8x7b-32768 | Request Count: 2607\n",
      "Reached 1 requests for mixtral-8x7b-32768. Waiting for 30 seconds.\n"
     ]
    },
    {
     "name": "stderr",
     "output_type": "stream",
     "text": [
      "embedding nodes:  78%|███████▊  | 5182/6648 [2:12:23<1:27:08,  3.57s/it]"
     ]
    },
    {
     "name": "stdout",
     "output_type": "stream",
     "text": [
      "LLM: mixtral-8x7b-32768 | Request Count: 2608\n",
      "Reached 1 requests for mixtral-8x7b-32768. Waiting for 30 seconds.\n",
      "LLM: mixtral-8x7b-32768 | Request Count: 2609\n",
      "Reached 1 requests for mixtral-8x7b-32768. Waiting for 30 seconds.\n"
     ]
    },
    {
     "name": "stderr",
     "output_type": "stream",
     "text": [
      "embedding nodes:  78%|███████▊  | 5188/6648 [2:12:28<30:36,  1.26s/it]  "
     ]
    },
    {
     "name": "stdout",
     "output_type": "stream",
     "text": [
      "LLM: mixtral-8x7b-32768 | Request Count: 2610\n",
      "Reached 1 requests for mixtral-8x7b-32768. Waiting for 30 seconds.\n",
      "LLM: mixtral-8x7b-32768 | Request Count: 2611\n",
      "Reached 1 requests for mixtral-8x7b-32768. Waiting for 30 seconds.\n"
     ]
    },
    {
     "name": "stderr",
     "output_type": "stream",
     "text": [
      "embedding nodes:  78%|███████▊  | 5189/6648 [2:12:29<31:32,  1.30s/it]"
     ]
    },
    {
     "name": "stdout",
     "output_type": "stream",
     "text": [
      "LLM: mixtral-8x7b-32768 | Request Count: 2612\n",
      "Reached 1 requests for mixtral-8x7b-32768. Waiting for 30 seconds.\n"
     ]
    },
    {
     "name": "stderr",
     "output_type": "stream",
     "text": [
      "embedding nodes:  78%|███████▊  | 5190/6648 [2:12:35<1:00:20,  2.48s/it]"
     ]
    },
    {
     "name": "stdout",
     "output_type": "stream",
     "text": [
      "LLM: mixtral-8x7b-32768 | Request Count: 2613\n",
      "Reached 1 requests for mixtral-8x7b-32768. Waiting for 30 seconds.\n"
     ]
    },
    {
     "name": "stderr",
     "output_type": "stream",
     "text": [
      "embedding nodes:  78%|███████▊  | 5191/6648 [2:12:35<48:35,  2.00s/it]  "
     ]
    },
    {
     "name": "stdout",
     "output_type": "stream",
     "text": [
      "LLM: mixtral-8x7b-32768 | Request Count: 2614\n",
      "Reached 1 requests for mixtral-8x7b-32768. Waiting for 30 seconds.\n"
     ]
    },
    {
     "name": "stderr",
     "output_type": "stream",
     "text": [
      "embedding nodes:  78%|███████▊  | 5192/6648 [2:12:37<43:04,  1.78s/it]"
     ]
    },
    {
     "name": "stdout",
     "output_type": "stream",
     "text": [
      "LLM: mixtral-8x7b-32768 | Request Count: 2615\n",
      "Reached 1 requests for mixtral-8x7b-32768. Waiting for 30 seconds.\n"
     ]
    },
    {
     "name": "stderr",
     "output_type": "stream",
     "text": [
      "embedding nodes:  78%|███████▊  | 5200/6648 [2:12:58<49:28,  2.05s/it]  "
     ]
    },
    {
     "name": "stdout",
     "output_type": "stream",
     "text": [
      "LLM: mixtral-8x7b-32768 | Request Count: 2616\n",
      "Reached 1 requests for mixtral-8x7b-32768. Waiting for 30 seconds.\n"
     ]
    },
    {
     "name": "stderr",
     "output_type": "stream",
     "text": [
      "embedding nodes:  78%|███████▊  | 5204/6648 [2:12:59<19:34,  1.23it/s]"
     ]
    },
    {
     "name": "stdout",
     "output_type": "stream",
     "text": [
      "LLM: mixtral-8x7b-32768 | Request Count: 2617LLM: mixtral-8x7b-32768 | Request Count: 2618\n",
      "Reached 1 requests for mixtral-8x7b-32768. Waiting for 30 seconds.\n",
      "\n",
      "Reached 1 requests for mixtral-8x7b-32768. Waiting for 30 seconds.\n"
     ]
    },
    {
     "name": "stderr",
     "output_type": "stream",
     "text": [
      "embedding nodes:  78%|███████▊  | 5205/6648 [2:13:04<48:28,  2.02s/it]"
     ]
    },
    {
     "name": "stdout",
     "output_type": "stream",
     "text": [
      "LLM: mixtral-8x7b-32768 | Request Count: 2619\n",
      "Reached 1 requests for mixtral-8x7b-32768. Waiting for 30 seconds.\n"
     ]
    },
    {
     "name": "stderr",
     "output_type": "stream",
     "text": [
      "embedding nodes:  78%|███████▊  | 5206/6648 [2:13:05<40:42,  1.69s/it]"
     ]
    },
    {
     "name": "stdout",
     "output_type": "stream",
     "text": [
      "LLM: mixtral-8x7b-32768 | Request Count: 2620\n",
      "Reached 1 requests for mixtral-8x7b-32768. Waiting for 30 seconds.\n"
     ]
    },
    {
     "name": "stderr",
     "output_type": "stream",
     "text": [
      "embedding nodes:  78%|███████▊  | 5207/6648 [2:13:07<37:01,  1.54s/it]"
     ]
    },
    {
     "name": "stdout",
     "output_type": "stream",
     "text": [
      "LLM: mixtral-8x7b-32768 | Request Count: 2621\n",
      "Reached 1 requests for mixtral-8x7b-32768. Waiting for 30 seconds.\n"
     ]
    },
    {
     "name": "stderr",
     "output_type": "stream",
     "text": [
      "embedding nodes:  78%|███████▊  | 5208/6648 [2:13:10<50:39,  2.11s/it]"
     ]
    },
    {
     "name": "stdout",
     "output_type": "stream",
     "text": [
      "LLM: mixtral-8x7b-32768 | Request Count: 2622\n",
      "Reached 1 requests for mixtral-8x7b-32768. Waiting for 30 seconds.\n"
     ]
    },
    {
     "name": "stderr",
     "output_type": "stream",
     "text": [
      "embedding nodes:  78%|███████▊  | 5213/6648 [2:13:13<21:40,  1.10it/s]"
     ]
    },
    {
     "name": "stdout",
     "output_type": "stream",
     "text": [
      "LLM: mixtral-8x7b-32768 | Request Count: 2623\n",
      "Reached 1 requests for mixtral-8x7b-32768. Waiting for 30 seconds.\n"
     ]
    },
    {
     "name": "stderr",
     "output_type": "stream",
     "text": [
      "embedding nodes:  78%|███████▊  | 5214/6648 [2:13:28<1:53:46,  4.76s/it]"
     ]
    },
    {
     "name": "stdout",
     "output_type": "stream",
     "text": [
      "LLM: mixtral-8x7b-32768 | Request Count: 2624\n",
      "Reached 1 requests for mixtral-8x7b-32768. Waiting for 30 seconds.\n"
     ]
    },
    {
     "name": "stderr",
     "output_type": "stream",
     "text": [
      "embedding nodes:  78%|███████▊  | 5215/6648 [2:13:30<1:33:49,  3.93s/it]"
     ]
    },
    {
     "name": "stdout",
     "output_type": "stream",
     "text": [
      "LLM: mixtral-8x7b-32768 | Request Count: 2625\n",
      "Reached 1 requests for mixtral-8x7b-32768. Waiting for 30 seconds.\n",
      "LLM: mixtral-8x7b-32768 | Request Count: 2626\n",
      "Reached 1 requests for mixtral-8x7b-32768. Waiting for 30 seconds.\n",
      "LLM: mixtral-8x7b-32768 | Request Count: 2627\n",
      "Reached 1 requests for mixtral-8x7b-32768. Waiting for 30 seconds.\n"
     ]
    },
    {
     "name": "stderr",
     "output_type": "stream",
     "text": [
      "embedding nodes:  79%|███████▊  | 5223/6648 [2:13:37<31:52,  1.34s/it]  "
     ]
    },
    {
     "name": "stdout",
     "output_type": "stream",
     "text": [
      "LLM: mixtral-8x7b-32768 | Request Count: 2628\n",
      "Reached 1 requests for mixtral-8x7b-32768. Waiting for 30 seconds.\n"
     ]
    },
    {
     "name": "stderr",
     "output_type": "stream",
     "text": [
      "embedding nodes:  79%|███████▊  | 5224/6648 [2:13:40<47:04,  1.98s/it]"
     ]
    },
    {
     "name": "stdout",
     "output_type": "stream",
     "text": [
      "LLM: mixtral-8x7b-32768 | Request Count: 2629\n",
      "Reached 1 requests for mixtral-8x7b-32768. Waiting for 30 seconds.\n"
     ]
    },
    {
     "name": "stderr",
     "output_type": "stream",
     "text": [
      "embedding nodes:  79%|███████▊  | 5225/6648 [2:13:44<56:52,  2.40s/it]"
     ]
    },
    {
     "name": "stdout",
     "output_type": "stream",
     "text": [
      "LLM: mixtral-8x7b-32768 | Request Count: 2630\n",
      "Reached 1 requests for mixtral-8x7b-32768. Waiting for 30 seconds.\n"
     ]
    },
    {
     "name": "stderr",
     "output_type": "stream",
     "text": [
      "embedding nodes:  79%|███████▊  | 5226/6648 [2:13:45<52:35,  2.22s/it]"
     ]
    },
    {
     "name": "stdout",
     "output_type": "stream",
     "text": [
      "LLM: mixtral-8x7b-32768 | Request Count: 2631\n",
      "Reached 1 requests for mixtral-8x7b-32768. Waiting for 30 seconds.\n"
     ]
    },
    {
     "name": "stderr",
     "output_type": "stream",
     "text": [
      "embedding nodes:  79%|███████▊  | 5230/6648 [2:13:51<36:04,  1.53s/it]"
     ]
    },
    {
     "name": "stdout",
     "output_type": "stream",
     "text": [
      "LLM: mixtral-8x7b-32768 | Request Count: 2632\n",
      "Reached 1 requests for mixtral-8x7b-32768. Waiting for 30 seconds.\n"
     ]
    },
    {
     "name": "stderr",
     "output_type": "stream",
     "text": [
      "embedding nodes:  79%|███████▊  | 5231/6648 [2:13:58<1:13:44,  3.12s/it]"
     ]
    },
    {
     "name": "stdout",
     "output_type": "stream",
     "text": [
      "LLM: mixtral-8x7b-32768 | Request Count: 2633\n",
      "Reached 1 requests for mixtral-8x7b-32768. Waiting for 30 seconds.\n"
     ]
    },
    {
     "name": "stderr",
     "output_type": "stream",
     "text": [
      "embedding nodes:  79%|███████▊  | 5232/6648 [2:13:58<53:57,  2.29s/it]  "
     ]
    },
    {
     "name": "stdout",
     "output_type": "stream",
     "text": [
      "LLM: mixtral-8x7b-32768 | Request Count: 2634\n",
      "Reached 1 requests for mixtral-8x7b-32768. Waiting for 30 seconds.\n"
     ]
    },
    {
     "name": "stderr",
     "output_type": "stream",
     "text": [
      "embedding nodes:  79%|███████▊  | 5233/6648 [2:13:59<42:57,  1.82s/it]"
     ]
    },
    {
     "name": "stdout",
     "output_type": "stream",
     "text": [
      "LLM: mixtral-8x7b-32768 | Request Count: 2635\n",
      "Reached 1 requests for mixtral-8x7b-32768. Waiting for 30 seconds.\n"
     ]
    },
    {
     "name": "stderr",
     "output_type": "stream",
     "text": [
      "embedding nodes:  79%|███████▉  | 5236/6648 [2:14:00<20:39,  1.14it/s]"
     ]
    },
    {
     "name": "stdout",
     "output_type": "stream",
     "text": [
      "LLM: mixtral-8x7b-32768 | Request Count: 2636\n",
      "Reached 1 requests for mixtral-8x7b-32768. Waiting for 30 seconds.\n"
     ]
    },
    {
     "name": "stderr",
     "output_type": "stream",
     "text": [
      "embedding nodes:  79%|███████▉  | 5241/6648 [2:14:09<27:17,  1.16s/it]"
     ]
    },
    {
     "name": "stdout",
     "output_type": "stream",
     "text": [
      "LLM: mixtral-8x7b-32768 | Request Count: 2637\n",
      "Reached 1 requests for mixtral-8x7b-32768. Waiting for 30 seconds.\n"
     ]
    },
    {
     "name": "stderr",
     "output_type": "stream",
     "text": [
      "embedding nodes:  79%|███████▉  | 5242/6648 [2:14:10<28:17,  1.21s/it]"
     ]
    },
    {
     "name": "stdout",
     "output_type": "stream",
     "text": [
      "LLM: mixtral-8x7b-32768 | Request Count: 2638\n",
      "Reached 1 requests for mixtral-8x7b-32768. Waiting for 30 seconds.\n"
     ]
    },
    {
     "name": "stderr",
     "output_type": "stream",
     "text": [
      "embedding nodes:  79%|███████▉  | 5243/6648 [2:14:14<43:48,  1.87s/it]"
     ]
    },
    {
     "name": "stdout",
     "output_type": "stream",
     "text": [
      "LLM: mixtral-8x7b-32768 | Request Count: 2639\n",
      "Reached 1 requests for mixtral-8x7b-32768. Waiting for 30 seconds.\n"
     ]
    },
    {
     "name": "stderr",
     "output_type": "stream",
     "text": [
      "embedding nodes:  79%|███████▉  | 5244/6648 [2:14:15<43:09,  1.84s/it]"
     ]
    },
    {
     "name": "stdout",
     "output_type": "stream",
     "text": [
      "LLM: mixtral-8x7b-32768 | Request Count: 2640\n",
      "Reached 1 requests for mixtral-8x7b-32768. Waiting for 30 seconds.\n"
     ]
    },
    {
     "name": "stderr",
     "output_type": "stream",
     "text": [
      "embedding nodes:  79%|███████▉  | 5245/6648 [2:14:19<53:42,  2.30s/it]"
     ]
    },
    {
     "name": "stdout",
     "output_type": "stream",
     "text": [
      "LLM: mixtral-8x7b-32768 | Request Count: 2641\n",
      "Reached 1 requests for mixtral-8x7b-32768. Waiting for 30 seconds.\n"
     ]
    },
    {
     "name": "stderr",
     "output_type": "stream",
     "text": [
      "embedding nodes:  79%|███████▉  | 5252/6648 [2:14:29<29:56,  1.29s/it]  "
     ]
    },
    {
     "name": "stdout",
     "output_type": "stream",
     "text": [
      "LLM: mixtral-8x7b-32768 | Request Count: 2642\n",
      "Reached 1 requests for mixtral-8x7b-32768. Waiting for 30 seconds.\n"
     ]
    },
    {
     "name": "stderr",
     "output_type": "stream",
     "text": [
      "embedding nodes:  79%|███████▉  | 5253/6648 [2:14:30<25:15,  1.09s/it]"
     ]
    },
    {
     "name": "stdout",
     "output_type": "stream",
     "text": [
      "LLM: mixtral-8x7b-32768 | Request Count: 2643\n",
      "Reached 1 requests for mixtral-8x7b-32768. Waiting for 30 seconds.\n"
     ]
    },
    {
     "name": "stderr",
     "output_type": "stream",
     "text": [
      "embedding nodes:  79%|███████▉  | 5254/6648 [2:14:31<28:11,  1.21s/it]"
     ]
    },
    {
     "name": "stdout",
     "output_type": "stream",
     "text": [
      "LLM: mixtral-8x7b-32768 | Request Count: 2644\n",
      "Reached 1 requests for mixtral-8x7b-32768. Waiting for 30 seconds.\n"
     ]
    },
    {
     "name": "stderr",
     "output_type": "stream",
     "text": [
      "embedding nodes:  79%|███████▉  | 5255/6648 [2:14:32<24:58,  1.08s/it]"
     ]
    },
    {
     "name": "stdout",
     "output_type": "stream",
     "text": [
      "LLM: mixtral-8x7b-32768 | Request Count: 2645\n",
      "Reached 1 requests for mixtral-8x7b-32768. Waiting for 30 seconds.\n"
     ]
    },
    {
     "name": "stderr",
     "output_type": "stream",
     "text": [
      "embedding nodes:  79%|███████▉  | 5259/6648 [2:14:40<31:15,  1.35s/it]"
     ]
    },
    {
     "name": "stdout",
     "output_type": "stream",
     "text": [
      "LLM: mixtral-8x7b-32768 | Request Count: 2646\n",
      "Reached 1 requests for mixtral-8x7b-32768. Waiting for 30 seconds.\n"
     ]
    },
    {
     "name": "stderr",
     "output_type": "stream",
     "text": [
      "embedding nodes:  79%|███████▉  | 5260/6648 [2:14:42<35:39,  1.54s/it]"
     ]
    },
    {
     "name": "stdout",
     "output_type": "stream",
     "text": [
      "LLM: mixtral-8x7b-32768 | Request Count: 2647\n",
      "Reached 1 requests for mixtral-8x7b-32768. Waiting for 30 seconds.\n"
     ]
    },
    {
     "name": "stderr",
     "output_type": "stream",
     "text": [
      "embedding nodes:  79%|███████▉  | 5261/6648 [2:14:44<36:02,  1.56s/it]"
     ]
    },
    {
     "name": "stdout",
     "output_type": "stream",
     "text": [
      "LLM: mixtral-8x7b-32768 | Request Count: 2648\n",
      "Reached 1 requests for mixtral-8x7b-32768. Waiting for 30 seconds.\n"
     ]
    },
    {
     "name": "stderr",
     "output_type": "stream",
     "text": [
      "embedding nodes:  79%|███████▉  | 5262/6648 [2:14:45<37:25,  1.62s/it]"
     ]
    },
    {
     "name": "stdout",
     "output_type": "stream",
     "text": [
      "LLM: mixtral-8x7b-32768 | Request Count: 2649\n",
      "Reached 1 requests for mixtral-8x7b-32768. Waiting for 30 seconds.\n"
     ]
    },
    {
     "name": "stderr",
     "output_type": "stream",
     "text": [
      "embedding nodes:  79%|███████▉  | 5263/6648 [2:14:49<48:36,  2.11s/it]"
     ]
    },
    {
     "name": "stdout",
     "output_type": "stream",
     "text": [
      "LLM: mixtral-8x7b-32768 | Request Count: 2650\n",
      "Reached 1 requests for mixtral-8x7b-32768. Waiting for 30 seconds.\n"
     ]
    },
    {
     "name": "stderr",
     "output_type": "stream",
     "text": [
      "embedding nodes:  79%|███████▉  | 5270/6648 [2:15:00<29:47,  1.30s/it]  "
     ]
    },
    {
     "name": "stdout",
     "output_type": "stream",
     "text": [
      "LLM: mixtral-8x7b-32768 | Request Count: 2651\n",
      "Reached 1 requests for mixtral-8x7b-32768. Waiting for 30 seconds.\n"
     ]
    },
    {
     "name": "stderr",
     "output_type": "stream",
     "text": [
      "embedding nodes:  79%|███████▉  | 5271/6648 [2:15:02<31:46,  1.38s/it]"
     ]
    },
    {
     "name": "stdout",
     "output_type": "stream",
     "text": [
      "LLM: mixtral-8x7b-32768 | Request Count: 2652\n",
      "Reached 1 requests for mixtral-8x7b-32768. Waiting for 30 seconds.\n"
     ]
    },
    {
     "name": "stderr",
     "output_type": "stream",
     "text": [
      "embedding nodes:  79%|███████▉  | 5272/6648 [2:15:02<26:55,  1.17s/it]"
     ]
    },
    {
     "name": "stdout",
     "output_type": "stream",
     "text": [
      "LLM: mixtral-8x7b-32768 | Request Count: 2653\n",
      "Reached 1 requests for mixtral-8x7b-32768. Waiting for 30 seconds.\n"
     ]
    },
    {
     "name": "stderr",
     "output_type": "stream",
     "text": [
      "embedding nodes:  79%|███████▉  | 5273/6648 [2:15:04<31:34,  1.38s/it]"
     ]
    },
    {
     "name": "stdout",
     "output_type": "stream",
     "text": [
      "LLM: mixtral-8x7b-32768 | Request Count: 2654\n",
      "Reached 1 requests for mixtral-8x7b-32768. Waiting for 30 seconds.\n"
     ]
    },
    {
     "name": "stderr",
     "output_type": "stream",
     "text": [
      "embedding nodes:  79%|███████▉  | 5274/6648 [2:15:10<1:04:04,  2.80s/it]"
     ]
    },
    {
     "name": "stdout",
     "output_type": "stream",
     "text": [
      "LLM: mixtral-8x7b-32768 | Request Count: 2655\n",
      "Reached 1 requests for mixtral-8x7b-32768. Waiting for 30 seconds.\n"
     ]
    },
    {
     "name": "stderr",
     "output_type": "stream",
     "text": [
      "embedding nodes:  79%|███████▉  | 5278/6648 [2:15:12<27:50,  1.22s/it]  "
     ]
    },
    {
     "name": "stdout",
     "output_type": "stream",
     "text": [
      "LLM: mixtral-8x7b-32768 | Request Count: 2656\n",
      "Reached 1 requests for mixtral-8x7b-32768. Waiting for 30 seconds.\n"
     ]
    },
    {
     "name": "stderr",
     "output_type": "stream",
     "text": [
      "embedding nodes:  79%|███████▉  | 5279/6648 [2:15:14<30:02,  1.32s/it]"
     ]
    },
    {
     "name": "stdout",
     "output_type": "stream",
     "text": [
      "LLM: mixtral-8x7b-32768 | Request Count: 2657\n",
      "Reached 1 requests for mixtral-8x7b-32768. Waiting for 30 seconds.\n"
     ]
    },
    {
     "name": "stderr",
     "output_type": "stream",
     "text": [
      "embedding nodes:  79%|███████▉  | 5280/6648 [2:15:15<33:05,  1.45s/it]"
     ]
    },
    {
     "name": "stdout",
     "output_type": "stream",
     "text": [
      "LLM: mixtral-8x7b-32768 | Request Count: 2658\n",
      "Reached 1 requests for mixtral-8x7b-32768. Waiting for 30 seconds.\n"
     ]
    },
    {
     "name": "stderr",
     "output_type": "stream",
     "text": [
      "embedding nodes:  79%|███████▉  | 5282/6648 [2:15:19<32:46,  1.44s/it]"
     ]
    },
    {
     "name": "stdout",
     "output_type": "stream",
     "text": [
      "LLM: mixtral-8x7b-32768 | Request Count: 2659\n",
      "Reached 1 requests for mixtral-8x7b-32768. Waiting for 30 seconds.\n"
     ]
    },
    {
     "name": "stderr",
     "output_type": "stream",
     "text": [
      "embedding nodes:  79%|███████▉  | 5283/6648 [2:15:19<23:57,  1.05s/it]"
     ]
    },
    {
     "name": "stdout",
     "output_type": "stream",
     "text": [
      "LLM: mixtral-8x7b-32768 | Request Count: 2660\n",
      "Reached 1 requests for mixtral-8x7b-32768. Waiting for 30 seconds.\n"
     ]
    },
    {
     "name": "stderr",
     "output_type": "stream",
     "text": [
      "embedding nodes:  80%|███████▉  | 5291/6648 [2:15:32<23:53,  1.06s/it]"
     ]
    },
    {
     "name": "stdout",
     "output_type": "stream",
     "text": [
      "LLM: mixtral-8x7b-32768 | Request Count: 2661\n",
      "Reached 1 requests for mixtral-8x7b-32768. Waiting for 30 seconds.\n",
      "LLM: mixtral-8x7b-32768 | Request Count: 2662\n",
      "Reached 1 requests for mixtral-8x7b-32768. Waiting for 30 seconds.\n"
     ]
    },
    {
     "name": "stderr",
     "output_type": "stream",
     "text": [
      "embedding nodes:  80%|███████▉  | 5292/6648 [2:15:34<29:35,  1.31s/it]"
     ]
    },
    {
     "name": "stdout",
     "output_type": "stream",
     "text": [
      "LLM: mixtral-8x7b-32768 | Request Count: 2663\n",
      "Reached 1 requests for mixtral-8x7b-32768. Waiting for 30 seconds.\n"
     ]
    },
    {
     "name": "stderr",
     "output_type": "stream",
     "text": [
      "embedding nodes:  80%|███████▉  | 5293/6648 [2:15:38<47:58,  2.12s/it]"
     ]
    },
    {
     "name": "stdout",
     "output_type": "stream",
     "text": [
      "LLM: mixtral-8x7b-32768 | Request Count: 2664\n",
      "Reached 1 requests for mixtral-8x7b-32768. Waiting for 30 seconds.\n",
      "LLM: mixtral-8x7b-32768 | Request Count: 2665\n",
      "Reached 1 requests for mixtral-8x7b-32768. Waiting for 30 seconds.\n"
     ]
    },
    {
     "name": "stderr",
     "output_type": "stream",
     "text": [
      "embedding nodes:  80%|███████▉  | 5295/6648 [2:15:41<36:39,  1.63s/it]"
     ]
    },
    {
     "name": "stdout",
     "output_type": "stream",
     "text": [
      "LLM: mixtral-8x7b-32768 | Request Count: 2666\n",
      "Reached 1 requests for mixtral-8x7b-32768. Waiting for 30 seconds.\n"
     ]
    },
    {
     "name": "stderr",
     "output_type": "stream",
     "text": [
      "embedding nodes:  80%|███████▉  | 5301/6648 [2:15:49<26:24,  1.18s/it]"
     ]
    },
    {
     "name": "stdout",
     "output_type": "stream",
     "text": [
      "LLM: mixtral-8x7b-32768 | Request Count: 2667\n",
      "Reached 1 requests for mixtral-8x7b-32768. Waiting for 30 seconds.\n"
     ]
    },
    {
     "name": "stderr",
     "output_type": "stream",
     "text": [
      "embedding nodes:  80%|███████▉  | 5302/6648 [2:16:02<1:44:44,  4.67s/it]"
     ]
    },
    {
     "name": "stdout",
     "output_type": "stream",
     "text": [
      "LLM: mixtral-8x7b-32768 | Request Count: 2669LLM: mixtral-8x7b-32768 | Request Count: 2668\n",
      "Reached 1 requests for mixtral-8x7b-32768. Waiting for 30 seconds.\n",
      "\n",
      "Reached 1 requests for mixtral-8x7b-32768. Waiting for 30 seconds.\n"
     ]
    },
    {
     "name": "stderr",
     "output_type": "stream",
     "text": [
      "embedding nodes:  80%|███████▉  | 5305/6648 [2:16:02<43:59,  1.97s/it]  "
     ]
    },
    {
     "name": "stdout",
     "output_type": "stream",
     "text": [
      "LLM: mixtral-8x7b-32768 | Request Count: 2670\n",
      "Reached 1 requests for mixtral-8x7b-32768. Waiting for 30 seconds.\n",
      "LLM: mixtral-8x7b-32768 | Request Count: 2671\n",
      "Reached 1 requests for mixtral-8x7b-32768. Waiting for 30 seconds.\n"
     ]
    },
    {
     "name": "stderr",
     "output_type": "stream",
     "text": [
      "embedding nodes:  80%|███████▉  | 5312/6648 [2:16:13<32:27,  1.46s/it]"
     ]
    },
    {
     "name": "stdout",
     "output_type": "stream",
     "text": [
      "LLM: mixtral-8x7b-32768 | Request Count: 2672\n",
      "Reached 1 requests for mixtral-8x7b-32768. Waiting for 30 seconds.\n",
      "LLM: mixtral-8x7b-32768 | Request Count: 2673\n",
      "Reached 1 requests for mixtral-8x7b-32768. Waiting for 30 seconds.\n"
     ]
    },
    {
     "name": "stderr",
     "output_type": "stream",
     "text": [
      "embedding nodes:  80%|███████▉  | 5314/6648 [2:16:30<1:51:13,  5.00s/it]"
     ]
    },
    {
     "name": "stdout",
     "output_type": "stream",
     "text": [
      "LLM: mixtral-8x7b-32768 | Request Count: 2674\n",
      "Reached 1 requests for mixtral-8x7b-32768. Waiting for 30 seconds.\n",
      "LLM: mixtral-8x7b-32768 | Request Count: 2675\n",
      "Reached 1 requests for mixtral-8x7b-32768. Waiting for 30 seconds.\n"
     ]
    },
    {
     "name": "stderr",
     "output_type": "stream",
     "text": [
      "embedding nodes:  80%|████████  | 5322/6648 [2:16:33<21:07,  1.05it/s]  "
     ]
    },
    {
     "name": "stdout",
     "output_type": "stream",
     "text": [
      "LLM: mixtral-8x7b-32768 | Request Count: 2676\n",
      "Reached 1 requests for mixtral-8x7b-32768. Waiting for 30 seconds.\n",
      "LLM: mixtral-8x7b-32768 | Request Count: 2677\n",
      "Reached 1 requests for mixtral-8x7b-32768. Waiting for 30 seconds.\n"
     ]
    },
    {
     "name": "stderr",
     "output_type": "stream",
     "text": [
      "embedding nodes:  80%|████████  | 5323/6648 [2:16:36<28:58,  1.31s/it]"
     ]
    },
    {
     "name": "stdout",
     "output_type": "stream",
     "text": [
      "LLM: mixtral-8x7b-32768 | Request Count: 2678\n",
      "Reached 1 requests for mixtral-8x7b-32768. Waiting for 30 seconds.\n"
     ]
    },
    {
     "name": "stderr",
     "output_type": "stream",
     "text": [
      "embedding nodes:  80%|████████  | 5324/6648 [2:16:43<57:53,  2.62s/it]"
     ]
    },
    {
     "name": "stdout",
     "output_type": "stream",
     "text": [
      "LLM: mixtral-8x7b-32768 | Request Count: 2679\n",
      "Reached 1 requests for mixtral-8x7b-32768. Waiting for 30 seconds.\n"
     ]
    }
   ],
   "source": [
    "import time\n",
    "from ragas.testset.generator import TestsetGenerator\n",
    "from ragas.testset.evolutions import simple, reasoning, multi_context\n",
    "import groq\n",
    "\n",
    "# Initialize the generator\n",
    "generator = TestsetGenerator.from_langchain(\n",
    "    generator_llm,\n",
    "    critic_llm,\n",
    "    embeddings\n",
    ")\n",
    "\n",
    "# Change resulting question type distribution\n",
    "distributions = {\n",
    "    simple: 0.5,\n",
    "    multi_context: 0.4,\n",
    "    reasoning: 0.1\n",
    "}\n",
    "\n",
    "# Generate testset with retries\n",
    "testset = generator.generate_with_langchain_docs(docs, 6000, distributions)\n",
    "print(testset)\n"
   ]
  },
  {
   "cell_type": "code",
   "execution_count": null,
   "metadata": {},
   "outputs": [],
   "source": []
  }
 ],
 "metadata": {
  "kernelspec": {
   "display_name": "temp-env",
   "language": "python",
   "name": "python3"
  },
  "language_info": {
   "codemirror_mode": {
    "name": "ipython",
    "version": 3
   },
   "file_extension": ".py",
   "mimetype": "text/x-python",
   "name": "python",
   "nbconvert_exporter": "python",
   "pygments_lexer": "ipython3",
   "version": "3.11.9"
  }
 },
 "nbformat": 4,
 "nbformat_minor": 2
}
